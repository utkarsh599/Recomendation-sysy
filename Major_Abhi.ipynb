{
  "nbformat": 4,
  "nbformat_minor": 0,
  "metadata": {
    "colab": {
      "name": "Major.ipynb",
      "provenance": [],
      "collapsed_sections": [],
      "include_colab_link": true
    },
    "kernelspec": {
      "name": "python3",
      "display_name": "Python 3"
    },
    "accelerator": "GPU"
  },
  "cells": [
    {
      "cell_type": "markdown",
      "metadata": {
        "id": "view-in-github",
        "colab_type": "text"
      },
      "source": [
        "<a href=\"https://colab.research.google.com/github/utkarsh599/Recomendation-sysy/blob/master/Major_Abhi.ipynb\" target=\"_parent\"><img src=\"https://colab.research.google.com/assets/colab-badge.svg\" alt=\"Open In Colab\"/></a>"
      ]
    },
    {
      "cell_type": "code",
      "metadata": {
        "id": "f-2t8wwQwqzn",
        "colab_type": "code",
        "outputId": "0e455813-27c3-4fe7-a901-bae71532342d",
        "colab": {
          "base_uri": "https://localhost:8080/",
          "height": 202
        }
      },
      "source": [
        "%pip install spark"
      ],
      "execution_count": 0,
      "outputs": [
        {
          "output_type": "stream",
          "text": [
            "Collecting spark\n",
            "\u001b[?25l  Downloading https://files.pythonhosted.org/packages/59/7c/81b89b63927d7b24be7cbd61eabf90a28458bac90ff12531edd56d76ad61/spark-0.2.1.tar.gz (41kB)\n",
            "\r\u001b[K     |████████                        | 10kB 18.3MB/s eta 0:00:01\r\u001b[K     |████████████████                | 20kB 1.7MB/s eta 0:00:01\r\u001b[K     |████████████████████████        | 30kB 2.5MB/s eta 0:00:01\r\u001b[K     |████████████████████████████████| 40kB 3.3MB/s eta 0:00:01\r\u001b[K     |████████████████████████████████| 51kB 2.7MB/s \n",
            "\u001b[?25hBuilding wheels for collected packages: spark\n",
            "  Building wheel for spark (setup.py) ... \u001b[?25l\u001b[?25hdone\n",
            "  Created wheel for spark: filename=spark-0.2.1-cp36-none-any.whl size=58741 sha256=33bf871fc4a5656ade3e808ae8c38f4ef998d98dbb6ce46bc13d9c05e2ec0439\n",
            "  Stored in directory: /root/.cache/pip/wheels/57/a3/24/7c4c81b1cc5e82ad386965d2808543c4f5306b759da26e5629\n",
            "Successfully built spark\n",
            "Installing collected packages: spark\n",
            "Successfully installed spark-0.2.1\n"
          ],
          "name": "stdout"
        }
      ]
    },
    {
      "cell_type": "code",
      "metadata": {
        "id": "B-X1OO6iwytJ",
        "colab_type": "code",
        "colab": {}
      },
      "source": [
        "#import spark\n",
        "import nltk\n",
        "import spacy\n",
        "import pandas as pd\n",
        "import sklearn"
      ],
      "execution_count": 0,
      "outputs": []
    },
    {
      "cell_type": "code",
      "metadata": {
        "id": "D6A2KPPDw7aG",
        "colab_type": "code",
        "outputId": "12ea9cfd-c39a-47e1-efc8-928d51882281",
        "colab": {
          "resources": {
            "http://localhost:8080/nbextensions/google.colab/files.js": {
              "data": "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",
              "ok": true,
              "headers": [
                [
                  "content-type",
                  "application/javascript"
                ]
              ],
              "status": 200,
              "status_text": "OK"
            }
          },
          "base_uri": "https://localhost:8080/",
          "height": 254
        }
      },
      "source": [
        "from google.colab import files\n",
        "Uploaded=files.upload()"
      ],
      "execution_count": 7,
      "outputs": [
        {
          "output_type": "display_data",
          "data": {
            "text/html": [
              "\n",
              "     <input type=\"file\" id=\"files-7383e12f-4f02-4167-b063-6ad6292f4f99\" name=\"files[]\" multiple disabled />\n",
              "     <output id=\"result-7383e12f-4f02-4167-b063-6ad6292f4f99\">\n",
              "      Upload widget is only available when the cell has been executed in the\n",
              "      current browser session. Please rerun this cell to enable.\n",
              "      </output>\n",
              "      <script src=\"/nbextensions/google.colab/files.js\"></script> "
            ],
            "text/plain": [
              "<IPython.core.display.HTML object>"
            ]
          },
          "metadata": {
            "tags": []
          }
        },
        {
          "output_type": "stream",
          "text": [
            "Saving GB_category_id.json to GB_category_id (1).json\n",
            "Saving GBcomments.csv to GBcomments (1).csv\n",
            "Saving GBvideos.csv to GBvideos (1).csv\n",
            "Saving US_category_id.json to US_category_id (1).json\n",
            "Saving UScomments.csv to UScomments (1).csv\n",
            "Saving USvideos.csv to USvideos (1).csv\n"
          ],
          "name": "stdout"
        }
      ]
    },
    {
      "cell_type": "code",
      "metadata": {
        "id": "gMge8RpLxEG3",
        "colab_type": "code",
        "outputId": "8d271033-1338-4bb0-bfeb-01c06421cdb6",
        "colab": {
          "base_uri": "https://localhost:8080/",
          "height": 222
        }
      },
      "source": [
        "import io\n",
        "GB_category_id=pd.read_json(io.BytesIO(Uploaded[\"GB_category_id.json\"]))\n",
        "GBcomments=pd.read_csv(io.BytesIO(Uploaded[\"GBcomments.csv\"]),error_bad_lines=False)\n",
        "GBvideos=pd.read_csv(io.BytesIO(Uploaded[\"GBvideos.csv\"]),error_bad_lines=False)\n",
        "US_category_id=pd.read_json(io.BytesIO(Uploaded[\"US_category_id.json\"]))\n",
        "UScomments=pd.read_csv(io.BytesIO(Uploaded[\"UScomments.csv\"]),error_bad_lines=False)\n",
        "USvideos=pd.read_csv(io.BytesIO(Uploaded[\"USvideos.csv\"]),error_bad_lines=False)\n",
        "\n"
      ],
      "execution_count": 9,
      "outputs": [
        {
          "output_type": "stream",
          "text": [
            "b'Skipping line 113225: expected 4 fields, saw 5\\n'\n",
            "b'Skipping line 158379: expected 4 fields, saw 7\\nSkipping line 241590: expected 4 fields, saw 5\\nSkipping line 245637: expected 4 fields, saw 7\\n'\n",
            "b'Skipping line 521402: expected 4 fields, saw 5\\n'\n",
            "b'Skipping line 2398: expected 11 fields, saw 21\\nSkipping line 2797: expected 11 fields, saw 21\\n'\n",
            "b'Skipping line 41589: expected 4 fields, saw 11\\nSkipping line 51628: expected 4 fields, saw 7\\nSkipping line 114465: expected 4 fields, saw 5\\n'\n",
            "b'Skipping line 142496: expected 4 fields, saw 8\\nSkipping line 189732: expected 4 fields, saw 6\\nSkipping line 245218: expected 4 fields, saw 7\\n'\n",
            "b'Skipping line 388430: expected 4 fields, saw 5\\n'\n",
            "/usr/local/lib/python3.6/dist-packages/IPython/core/interactiveshell.py:2718: DtypeWarning: Columns (2,3) have mixed types. Specify dtype option on import or set low_memory=False.\n",
            "  interactivity=interactivity, compiler=compiler, result=result)\n",
            "b'Skipping line 2401: expected 11 fields, saw 21\\nSkipping line 2800: expected 11 fields, saw 21\\nSkipping line 5297: expected 11 fields, saw 12\\nSkipping line 5299: expected 11 fields, saw 12\\nSkipping line 5300: expected 11 fields, saw 12\\nSkipping line 5301: expected 11 fields, saw 12\\n'\n"
          ],
          "name": "stderr"
        }
      ]
    },
    {
      "cell_type": "code",
      "metadata": {
        "id": "w82m8iHG9H_M",
        "colab_type": "code",
        "outputId": "df938453-a62f-46f1-a49a-bf985c743cb7",
        "colab": {
          "base_uri": "https://localhost:8080/",
          "height": 206
        }
      },
      "source": [
        "GBcomments.head()"
      ],
      "execution_count": 10,
      "outputs": [
        {
          "output_type": "execute_result",
          "data": {
            "text/html": [
              "<div>\n",
              "<style scoped>\n",
              "    .dataframe tbody tr th:only-of-type {\n",
              "        vertical-align: middle;\n",
              "    }\n",
              "\n",
              "    .dataframe tbody tr th {\n",
              "        vertical-align: top;\n",
              "    }\n",
              "\n",
              "    .dataframe thead th {\n",
              "        text-align: right;\n",
              "    }\n",
              "</style>\n",
              "<table border=\"1\" class=\"dataframe\">\n",
              "  <thead>\n",
              "    <tr style=\"text-align: right;\">\n",
              "      <th></th>\n",
              "      <th>video_id</th>\n",
              "      <th>comment_text</th>\n",
              "      <th>likes</th>\n",
              "      <th>replies</th>\n",
              "    </tr>\n",
              "  </thead>\n",
              "  <tbody>\n",
              "    <tr>\n",
              "      <th>0</th>\n",
              "      <td>jt2OHQh0HoQ</td>\n",
              "      <td>It's more accurate to call it the M+ (1000) be...</td>\n",
              "      <td>0</td>\n",
              "      <td>0</td>\n",
              "    </tr>\n",
              "    <tr>\n",
              "      <th>1</th>\n",
              "      <td>jt2OHQh0HoQ</td>\n",
              "      <td>To be there with a samsung phone\\n😂😂😂</td>\n",
              "      <td>1</td>\n",
              "      <td>0</td>\n",
              "    </tr>\n",
              "    <tr>\n",
              "      <th>2</th>\n",
              "      <td>jt2OHQh0HoQ</td>\n",
              "      <td>Thank gosh, a place I can watch it without hav...</td>\n",
              "      <td>0</td>\n",
              "      <td>0</td>\n",
              "    </tr>\n",
              "    <tr>\n",
              "      <th>3</th>\n",
              "      <td>jt2OHQh0HoQ</td>\n",
              "      <td>What happened to the home button on the iPhone...</td>\n",
              "      <td>0</td>\n",
              "      <td>0</td>\n",
              "    </tr>\n",
              "    <tr>\n",
              "      <th>4</th>\n",
              "      <td>jt2OHQh0HoQ</td>\n",
              "      <td>Power is the disease.  Care is the cure.  Keep...</td>\n",
              "      <td>0</td>\n",
              "      <td>0</td>\n",
              "    </tr>\n",
              "  </tbody>\n",
              "</table>\n",
              "</div>"
            ],
            "text/plain": [
              "      video_id  ... replies\n",
              "0  jt2OHQh0HoQ  ...       0\n",
              "1  jt2OHQh0HoQ  ...       0\n",
              "2  jt2OHQh0HoQ  ...       0\n",
              "3  jt2OHQh0HoQ  ...       0\n",
              "4  jt2OHQh0HoQ  ...       0\n",
              "\n",
              "[5 rows x 4 columns]"
            ]
          },
          "metadata": {
            "tags": []
          },
          "execution_count": 10
        }
      ]
    },
    {
      "cell_type": "code",
      "metadata": {
        "id": "Bv6G7t1SYsQD",
        "colab_type": "code",
        "outputId": "6a206750-8efe-4212-e189-58a96eb563d1",
        "colab": {
          "base_uri": "https://localhost:8080/",
          "height": 54
        }
      },
      "source": [
        "%pip install pyspark"
      ],
      "execution_count": 0,
      "outputs": [
        {
          "output_type": "stream",
          "text": [
            "Requirement already satisfied: pyspark in /usr/local/lib/python3.6/dist-packages (2.4.4)\n",
            "Requirement already satisfied: py4j==0.10.7 in /usr/local/lib/python3.6/dist-packages (from pyspark) (0.10.7)\n"
          ],
          "name": "stdout"
        }
      ]
    },
    {
      "cell_type": "code",
      "metadata": {
        "id": "rCFt5Uw1aTW9",
        "colab_type": "code",
        "colab": {}
      },
      "source": [
        "#import os\n",
        "#os.environ('JAVA_HOME')\n",
        "import os       #importing os to set environment variable\n",
        "#def install_java():\n",
        "#  !apt-get install -y openjdk-8-jdk-headless -qq > /dev/null      #install openjdk\n",
        "#  os.environ[\"JAVA_HOME\"] = \"/usr/lib/jvm/java-8-openjdk-amd64\"     #set environment variable\n",
        "#  !java -version       #check java version\n",
        "#install_java()"
      ],
      "execution_count": 0,
      "outputs": []
    },
    {
      "cell_type": "code",
      "metadata": {
        "id": "wPOD2xYclzr9",
        "colab_type": "code",
        "colab": {}
      },
      "source": [
        "!apt-get install openjdk-8-jdk-headless -qq > /dev/null"
      ],
      "execution_count": 0,
      "outputs": []
    },
    {
      "cell_type": "code",
      "metadata": {
        "id": "P6Co4_CTVGA5",
        "colab_type": "code",
        "colab": {}
      },
      "source": [
        "#import os\n",
        "os.environ[\"JAVA_HOME\"] = \"/usr/lib/jvm/java-8-openjdk-amd64\"\n",
        "os.environ[\"SPARK_HOME\"] = \"/content/spark-2.4.4-bin-hadoop2.7\""
      ],
      "execution_count": 0,
      "outputs": []
    },
    {
      "cell_type": "code",
      "metadata": {
        "id": "xVGPXsaXYOTU",
        "colab_type": "code",
        "outputId": "d2fba2d9-395a-400a-8507-aeb4c118b996",
        "colab": {
          "base_uri": "https://localhost:8080/",
          "height": 395
        }
      },
      "source": [
        "from pyspark import SparkConf\n",
        "from pyspark import SparkContext\n",
        "\n",
        "conf = SparkConf()\n",
        "conf.setMaster('yarn-client')\n",
        "conf.setAppName('spark-nltk')\n",
        "sc = SparkContext(conf=conf)"
      ],
      "execution_count": 0,
      "outputs": [
        {
          "output_type": "error",
          "ename": "ModuleNotFoundError",
          "evalue": "ignored",
          "traceback": [
            "\u001b[0;31m---------------------------------------------------------------------------\u001b[0m",
            "\u001b[0;31mModuleNotFoundError\u001b[0m                       Traceback (most recent call last)",
            "\u001b[0;32m<ipython-input-7-8f8dcce7ca46>\u001b[0m in \u001b[0;36m<module>\u001b[0;34m()\u001b[0m\n\u001b[0;32m----> 1\u001b[0;31m \u001b[0;32mfrom\u001b[0m \u001b[0mpyspark\u001b[0m \u001b[0;32mimport\u001b[0m \u001b[0mSparkConf\u001b[0m\u001b[0;34m\u001b[0m\u001b[0;34m\u001b[0m\u001b[0m\n\u001b[0m\u001b[1;32m      2\u001b[0m \u001b[0;32mfrom\u001b[0m \u001b[0mpyspark\u001b[0m \u001b[0;32mimport\u001b[0m \u001b[0mSparkContext\u001b[0m\u001b[0;34m\u001b[0m\u001b[0;34m\u001b[0m\u001b[0m\n\u001b[1;32m      3\u001b[0m \u001b[0;34m\u001b[0m\u001b[0m\n\u001b[1;32m      4\u001b[0m \u001b[0mconf\u001b[0m \u001b[0;34m=\u001b[0m \u001b[0mSparkConf\u001b[0m\u001b[0;34m(\u001b[0m\u001b[0;34m)\u001b[0m\u001b[0;34m\u001b[0m\u001b[0;34m\u001b[0m\u001b[0m\n\u001b[1;32m      5\u001b[0m \u001b[0mconf\u001b[0m\u001b[0;34m.\u001b[0m\u001b[0msetMaster\u001b[0m\u001b[0;34m(\u001b[0m\u001b[0;34m'yarn-client'\u001b[0m\u001b[0;34m)\u001b[0m\u001b[0;34m\u001b[0m\u001b[0;34m\u001b[0m\u001b[0m\n",
            "\u001b[0;31mModuleNotFoundError\u001b[0m: No module named 'pyspark'",
            "",
            "\u001b[0;31m---------------------------------------------------------------------------\u001b[0;32m\nNOTE: If your import is failing due to a missing package, you can\nmanually install dependencies using either !pip or !apt.\n\nTo view examples of installing some common dependencies, click the\n\"Open Examples\" button below.\n\u001b[0;31m---------------------------------------------------------------------------\u001b[0m\n"
          ]
        }
      ]
    },
    {
      "cell_type": "code",
      "metadata": {
        "id": "bpvoqZ83Ybej",
        "colab_type": "code",
        "outputId": "33b50248-4139-4800-a1d8-65b23244f922",
        "colab": {
          "base_uri": "https://localhost:8080/",
          "height": 54
        }
      },
      "source": [
        "from nltk.tokenize import RegexpTokenizer\n",
        "from nltk.corpus import stopwords\n",
        "nltk.download('stopwords')\n",
        "stop = stopwords.words('english')"
      ],
      "execution_count": 0,
      "outputs": [
        {
          "output_type": "stream",
          "text": [
            "[nltk_data] Downloading package stopwords to /root/nltk_data...\n",
            "[nltk_data]   Unzipping corpora/stopwords.zip.\n"
          ],
          "name": "stdout"
        }
      ]
    },
    {
      "cell_type": "code",
      "metadata": {
        "id": "He0BbXOgQ5hF",
        "colab_type": "code",
        "outputId": "cda7970b-02d6-43b2-90cb-1974960a368c",
        "colab": {
          "base_uri": "https://localhost:8080/",
          "height": 91
        }
      },
      "source": [
        "print(GBcomments.shape)\n",
        "print(UScomments.shape)\n",
        "print(GBvideos.shape)\n",
        "print(USvideos.shape)"
      ],
      "execution_count": 11,
      "outputs": [
        {
          "output_type": "stream",
          "text": [
            "(718452, 4)\n",
            "(691400, 4)\n",
            "(7993, 11)\n",
            "(7992, 11)\n"
          ],
          "name": "stdout"
        }
      ]
    },
    {
      "cell_type": "code",
      "metadata": {
        "id": "zSU6qlBFJn3p",
        "colab_type": "code",
        "colab": {}
      },
      "source": [
        "Comments=pd.concat([GBcomments,UScomments],ignore_index=True)\n",
        "Videos=pd.concat([GBvideos,USvideos],ignore_index=True)"
      ],
      "execution_count": 0,
      "outputs": []
    },
    {
      "cell_type": "code",
      "metadata": {
        "id": "Fzq6zmt-Jdeh",
        "colab_type": "code",
        "colab": {}
      },
      "source": [
        "Comments.dropna(inplace=True)\n",
        "Videos.dropna(inplace=True)"
      ],
      "execution_count": 0,
      "outputs": []
    },
    {
      "cell_type": "code",
      "metadata": {
        "id": "sYZzflCQSkab",
        "colab_type": "code",
        "outputId": "e242ef1d-1547-4d1c-fc9f-a7c6ca005b3b",
        "colab": {
          "base_uri": "https://localhost:8080/",
          "height": 54
        }
      },
      "source": [
        "print(Comments.shape)\n",
        "print(Videos.shape)"
      ],
      "execution_count": 14,
      "outputs": [
        {
          "output_type": "stream",
          "text": [
            "(1409799, 4)\n",
            "(15985, 11)\n"
          ],
          "name": "stdout"
        }
      ]
    },
    {
      "cell_type": "code",
      "metadata": {
        "id": "lwIO9lzYOhkD",
        "colab_type": "code",
        "colab": {}
      },
      "source": [
        "Comments.comment_text=Comments.comment_text.astype(str)"
      ],
      "execution_count": 0,
      "outputs": []
    },
    {
      "cell_type": "code",
      "metadata": {
        "id": "gexerFUsJimv",
        "colab_type": "code",
        "outputId": "0fddf89e-2446-4fb4-d49a-e207a7211eab",
        "colab": {
          "base_uri": "https://localhost:8080/",
          "height": 363
        }
      },
      "source": [
        "Comments.head(10)\n"
      ],
      "execution_count": 16,
      "outputs": [
        {
          "output_type": "execute_result",
          "data": {
            "text/html": [
              "<div>\n",
              "<style scoped>\n",
              "    .dataframe tbody tr th:only-of-type {\n",
              "        vertical-align: middle;\n",
              "    }\n",
              "\n",
              "    .dataframe tbody tr th {\n",
              "        vertical-align: top;\n",
              "    }\n",
              "\n",
              "    .dataframe thead th {\n",
              "        text-align: right;\n",
              "    }\n",
              "</style>\n",
              "<table border=\"1\" class=\"dataframe\">\n",
              "  <thead>\n",
              "    <tr style=\"text-align: right;\">\n",
              "      <th></th>\n",
              "      <th>video_id</th>\n",
              "      <th>comment_text</th>\n",
              "      <th>likes</th>\n",
              "      <th>replies</th>\n",
              "    </tr>\n",
              "  </thead>\n",
              "  <tbody>\n",
              "    <tr>\n",
              "      <th>0</th>\n",
              "      <td>jt2OHQh0HoQ</td>\n",
              "      <td>It's more accurate to call it the M+ (1000) be...</td>\n",
              "      <td>0</td>\n",
              "      <td>0</td>\n",
              "    </tr>\n",
              "    <tr>\n",
              "      <th>1</th>\n",
              "      <td>jt2OHQh0HoQ</td>\n",
              "      <td>To be there with a samsung phone\\n😂😂😂</td>\n",
              "      <td>1</td>\n",
              "      <td>0</td>\n",
              "    </tr>\n",
              "    <tr>\n",
              "      <th>2</th>\n",
              "      <td>jt2OHQh0HoQ</td>\n",
              "      <td>Thank gosh, a place I can watch it without hav...</td>\n",
              "      <td>0</td>\n",
              "      <td>0</td>\n",
              "    </tr>\n",
              "    <tr>\n",
              "      <th>3</th>\n",
              "      <td>jt2OHQh0HoQ</td>\n",
              "      <td>What happened to the home button on the iPhone...</td>\n",
              "      <td>0</td>\n",
              "      <td>0</td>\n",
              "    </tr>\n",
              "    <tr>\n",
              "      <th>4</th>\n",
              "      <td>jt2OHQh0HoQ</td>\n",
              "      <td>Power is the disease.  Care is the cure.  Keep...</td>\n",
              "      <td>0</td>\n",
              "      <td>0</td>\n",
              "    </tr>\n",
              "    <tr>\n",
              "      <th>5</th>\n",
              "      <td>jt2OHQh0HoQ</td>\n",
              "      <td>Keep calm and buy iphone 8 Keep calm and buy i...</td>\n",
              "      <td>0</td>\n",
              "      <td>0</td>\n",
              "    </tr>\n",
              "    <tr>\n",
              "      <th>6</th>\n",
              "      <td>jt2OHQh0HoQ</td>\n",
              "      <td>i am a big fan of youtube and u !!!!!!!!!!!!!</td>\n",
              "      <td>0</td>\n",
              "      <td>0</td>\n",
              "    </tr>\n",
              "    <tr>\n",
              "      <th>7</th>\n",
              "      <td>jt2OHQh0HoQ</td>\n",
              "      <td>You will never find Losers who line up and pay...</td>\n",
              "      <td>0</td>\n",
              "      <td>0</td>\n",
              "    </tr>\n",
              "    <tr>\n",
              "      <th>8</th>\n",
              "      <td>jt2OHQh0HoQ</td>\n",
              "      <td>*APPLE JUST COMMENTED ON MY LAST VIDEO* I'm cr...</td>\n",
              "      <td>0</td>\n",
              "      <td>0</td>\n",
              "    </tr>\n",
              "    <tr>\n",
              "      <th>9</th>\n",
              "      <td>jt2OHQh0HoQ</td>\n",
              "      <td>I'm only here to see Emma, I love her so much!...</td>\n",
              "      <td>0</td>\n",
              "      <td>0</td>\n",
              "    </tr>\n",
              "  </tbody>\n",
              "</table>\n",
              "</div>"
            ],
            "text/plain": [
              "      video_id                                       comment_text likes replies\n",
              "0  jt2OHQh0HoQ  It's more accurate to call it the M+ (1000) be...     0       0\n",
              "1  jt2OHQh0HoQ              To be there with a samsung phone\\n😂😂😂     1       0\n",
              "2  jt2OHQh0HoQ  Thank gosh, a place I can watch it without hav...     0       0\n",
              "3  jt2OHQh0HoQ  What happened to the home button on the iPhone...     0       0\n",
              "4  jt2OHQh0HoQ  Power is the disease.  Care is the cure.  Keep...     0       0\n",
              "5  jt2OHQh0HoQ  Keep calm and buy iphone 8 Keep calm and buy i...     0       0\n",
              "6  jt2OHQh0HoQ      i am a big fan of youtube and u !!!!!!!!!!!!!     0       0\n",
              "7  jt2OHQh0HoQ  You will never find Losers who line up and pay...     0       0\n",
              "8  jt2OHQh0HoQ  *APPLE JUST COMMENTED ON MY LAST VIDEO* I'm cr...     0       0\n",
              "9  jt2OHQh0HoQ  I'm only here to see Emma, I love her so much!...     0       0"
            ]
          },
          "metadata": {
            "tags": []
          },
          "execution_count": 16
        }
      ]
    },
    {
      "cell_type": "code",
      "metadata": {
        "id": "SZyn6AKNU3VG",
        "colab_type": "code",
        "outputId": "461e8f46-5fbb-41d9-e1d6-2fdd9955448b",
        "colab": {
          "base_uri": "https://localhost:8080/",
          "height": 1000
        }
      },
      "source": [
        "Videos.head(10)"
      ],
      "execution_count": 0,
      "outputs": [
        {
          "output_type": "execute_result",
          "data": {
            "text/html": [
              "<div>\n",
              "<style scoped>\n",
              "    .dataframe tbody tr th:only-of-type {\n",
              "        vertical-align: middle;\n",
              "    }\n",
              "\n",
              "    .dataframe tbody tr th {\n",
              "        vertical-align: top;\n",
              "    }\n",
              "\n",
              "    .dataframe thead th {\n",
              "        text-align: right;\n",
              "    }\n",
              "</style>\n",
              "<table border=\"1\" class=\"dataframe\">\n",
              "  <thead>\n",
              "    <tr style=\"text-align: right;\">\n",
              "      <th></th>\n",
              "      <th>video_id</th>\n",
              "      <th>title</th>\n",
              "      <th>channel_title</th>\n",
              "      <th>category_id</th>\n",
              "      <th>tags</th>\n",
              "      <th>views</th>\n",
              "      <th>likes</th>\n",
              "      <th>dislikes</th>\n",
              "      <th>comment_total</th>\n",
              "      <th>thumbnail_link</th>\n",
              "      <th>date</th>\n",
              "    </tr>\n",
              "  </thead>\n",
              "  <tbody>\n",
              "    <tr>\n",
              "      <th>0</th>\n",
              "      <td>jt2OHQh0HoQ</td>\n",
              "      <td>Live Apple Event - Apple September Event 2017 ...</td>\n",
              "      <td>Apple Event</td>\n",
              "      <td>28</td>\n",
              "      <td>apple events|apple event|iphone 8|iphone x|iph...</td>\n",
              "      <td>7426393</td>\n",
              "      <td>78240</td>\n",
              "      <td>13548</td>\n",
              "      <td>705</td>\n",
              "      <td>https://i.ytimg.com/vi/jt2OHQh0HoQ/default_liv...</td>\n",
              "      <td>13.09</td>\n",
              "    </tr>\n",
              "    <tr>\n",
              "      <th>1</th>\n",
              "      <td>AqokkXoa7uE</td>\n",
              "      <td>Holly and Phillip Meet Samantha the Sex Robot ...</td>\n",
              "      <td>This Morning</td>\n",
              "      <td>24</td>\n",
              "      <td>this morning|interview|holly willoughby|philli...</td>\n",
              "      <td>494203</td>\n",
              "      <td>2651</td>\n",
              "      <td>1309</td>\n",
              "      <td>0</td>\n",
              "      <td>https://i.ytimg.com/vi/AqokkXoa7uE/default.jpg</td>\n",
              "      <td>13.09</td>\n",
              "    </tr>\n",
              "    <tr>\n",
              "      <th>2</th>\n",
              "      <td>YPVcg45W0z4</td>\n",
              "      <td>My DNA Test Results! I'm WHAT?!</td>\n",
              "      <td>emmablackery</td>\n",
              "      <td>24</td>\n",
              "      <td>emmablackery|emma blackery|emma|blackery|briti...</td>\n",
              "      <td>142819</td>\n",
              "      <td>13119</td>\n",
              "      <td>151</td>\n",
              "      <td>1141</td>\n",
              "      <td>https://i.ytimg.com/vi/YPVcg45W0z4/default.jpg</td>\n",
              "      <td>13.09</td>\n",
              "    </tr>\n",
              "    <tr>\n",
              "      <th>3</th>\n",
              "      <td>T_PuZBdT2iM</td>\n",
              "      <td>getting into a conversation in a language you ...</td>\n",
              "      <td>ProZD</td>\n",
              "      <td>1</td>\n",
              "      <td>skit|korean|language|conversation|esl|japanese...</td>\n",
              "      <td>1580028</td>\n",
              "      <td>65729</td>\n",
              "      <td>1529</td>\n",
              "      <td>3598</td>\n",
              "      <td>https://i.ytimg.com/vi/T_PuZBdT2iM/default.jpg</td>\n",
              "      <td>13.09</td>\n",
              "    </tr>\n",
              "    <tr>\n",
              "      <th>4</th>\n",
              "      <td>NsjsmgmbCfc</td>\n",
              "      <td>Baby Name Challenge!</td>\n",
              "      <td>Sprinkleofglitter</td>\n",
              "      <td>26</td>\n",
              "      <td>sprinkleofglitter|sprinkle of glitter|baby gli...</td>\n",
              "      <td>40592</td>\n",
              "      <td>5019</td>\n",
              "      <td>57</td>\n",
              "      <td>490</td>\n",
              "      <td>https://i.ytimg.com/vi/NsjsmgmbCfc/default.jpg</td>\n",
              "      <td>13.09</td>\n",
              "    </tr>\n",
              "    <tr>\n",
              "      <th>5</th>\n",
              "      <td>zZ2CLmvqfXg</td>\n",
              "      <td>REVEALED - FIFA 18 stats for Chelsea's Hazard,...</td>\n",
              "      <td>Rio Ferdinand Presents FIVE</td>\n",
              "      <td>24</td>\n",
              "      <td>Rio Ferdinand|Rio|Ferdinand|5 Magazine|5 Mag|#...</td>\n",
              "      <td>317696</td>\n",
              "      <td>9449</td>\n",
              "      <td>135</td>\n",
              "      <td>464</td>\n",
              "      <td>https://i.ytimg.com/vi/zZ2CLmvqfXg/default.jpg</td>\n",
              "      <td>13.09</td>\n",
              "    </tr>\n",
              "    <tr>\n",
              "      <th>6</th>\n",
              "      <td>w8fAellnPns</td>\n",
              "      <td>Juicy Chicken Breast - You Suck at Cooking (ep...</td>\n",
              "      <td>You Suck At Cooking</td>\n",
              "      <td>26</td>\n",
              "      <td>how to|cooking|recipe|kitchen|chicken|chicken ...</td>\n",
              "      <td>479291</td>\n",
              "      <td>23935</td>\n",
              "      <td>638</td>\n",
              "      <td>1941</td>\n",
              "      <td>https://i.ytimg.com/vi/w8fAellnPns/default.jpg</td>\n",
              "      <td>13.09</td>\n",
              "    </tr>\n",
              "    <tr>\n",
              "      <th>7</th>\n",
              "      <td>LcZ2AuvxXNA</td>\n",
              "      <td>Nerf Bow Trick Shots | Dude Perfect</td>\n",
              "      <td>Dude Perfect</td>\n",
              "      <td>17</td>\n",
              "      <td>dude perfect|dude perfect stereotypes|dude per...</td>\n",
              "      <td>10532409</td>\n",
              "      <td>384841</td>\n",
              "      <td>7547</td>\n",
              "      <td>23849</td>\n",
              "      <td>https://i.ytimg.com/vi/LcZ2AuvxXNA/default.jpg</td>\n",
              "      <td>13.09</td>\n",
              "    </tr>\n",
              "    <tr>\n",
              "      <th>8</th>\n",
              "      <td>lamseWekh8Y</td>\n",
              "      <td>Weekend in BRIGHTON with Mike! | Fleur De Vlog</td>\n",
              "      <td>FleurDeVlog</td>\n",
              "      <td>22</td>\n",
              "      <td>fleurdevlog|fleur de vlog|fleurdeforce|fleur d...</td>\n",
              "      <td>65453</td>\n",
              "      <td>2761</td>\n",
              "      <td>33</td>\n",
              "      <td>223</td>\n",
              "      <td>https://i.ytimg.com/vi/lamseWekh8Y/default.jpg</td>\n",
              "      <td>13.09</td>\n",
              "    </tr>\n",
              "    <tr>\n",
              "      <th>9</th>\n",
              "      <td>QBGaO89cBMI</td>\n",
              "      <td>Radiohead - Lift</td>\n",
              "      <td>Radiohead</td>\n",
              "      <td>10</td>\n",
              "      <td>radiohead|lift|ok computer|oknotok</td>\n",
              "      <td>751743</td>\n",
              "      <td>42272</td>\n",
              "      <td>358</td>\n",
              "      <td>3250</td>\n",
              "      <td>https://i.ytimg.com/vi/QBGaO89cBMI/default.jpg</td>\n",
              "      <td>13.09</td>\n",
              "    </tr>\n",
              "  </tbody>\n",
              "</table>\n",
              "</div>"
            ],
            "text/plain": [
              "      video_id  ...   date\n",
              "0  jt2OHQh0HoQ  ...  13.09\n",
              "1  AqokkXoa7uE  ...  13.09\n",
              "2  YPVcg45W0z4  ...  13.09\n",
              "3  T_PuZBdT2iM  ...  13.09\n",
              "4  NsjsmgmbCfc  ...  13.09\n",
              "5  zZ2CLmvqfXg  ...  13.09\n",
              "6  w8fAellnPns  ...  13.09\n",
              "7  LcZ2AuvxXNA  ...  13.09\n",
              "8  lamseWekh8Y  ...  13.09\n",
              "9  QBGaO89cBMI  ...  13.09\n",
              "\n",
              "[10 rows x 11 columns]"
            ]
          },
          "metadata": {
            "tags": []
          },
          "execution_count": 14
        }
      ]
    },
    {
      "cell_type": "code",
      "metadata": {
        "id": "P8blxdZ6PMxp",
        "colab_type": "code",
        "colab": {}
      },
      "source": [
        "#pip install langdetect"
      ],
      "execution_count": 0,
      "outputs": []
    },
    {
      "cell_type": "code",
      "metadata": {
        "id": "z8S_1Gm4PaIw",
        "colab_type": "code",
        "colab": {}
      },
      "source": [
        "#from langdetect import detect\n",
        "#Comments['lang']=Comments['comment_text'].apply(detect)"
      ],
      "execution_count": 0,
      "outputs": []
    },
    {
      "cell_type": "code",
      "metadata": {
        "id": "0A8Q9JIZQHbf",
        "colab_type": "code",
        "colab": {}
      },
      "source": [
        "Comments['comment_text']=Comments['comment_text'].apply(lambda x: x.lower())"
      ],
      "execution_count": 0,
      "outputs": []
    },
    {
      "cell_type": "code",
      "metadata": {
        "id": "_FWGQbMQOrSR",
        "colab_type": "code",
        "colab": {
          "base_uri": "https://localhost:8080/",
          "height": 17
        },
        "outputId": "44651f6b-7d9c-4e38-92b4-76fd9520fc9b"
      },
      "source": [
        "nlp = spacy.load(\"en_core_web_sm\")\n",
        "c=0\n",
        "tokenized_comments=[]\n",
        "for i in Comments['comment_text']:\n",
        "    doc=nlp(i)\n",
        "    for token in doc:\n",
        "        tokenized_comments.append(token.text)\n",
        "    print(c,end='\\r')\n",
        "    c+=1\n",
        "# doc = nlp(\"Apple is looking at buying U.K. startup for $1 billion\")\n",
        "# for token in doc:\n",
        "#     print(token.text)"
      ],
      "execution_count": 19,
      "outputs": [
        {
          "output_type": "stream",
          "text": [
            ""
          ],
          "name": "stdout"
        }
      ]
    },
    {
      "cell_type": "code",
      "metadata": {
        "id": "f8wwX3bcO2wp",
        "colab_type": "code",
        "colab": {
          "base_uri": "https://localhost:8080/",
          "height": 35
        },
        "outputId": "50cb2ffe-a922-40f9-c831-1fddab00dc5a"
      },
      "source": [
        "tokenized_comments[1]"
      ],
      "execution_count": 21,
      "outputs": [
        {
          "output_type": "execute_result",
          "data": {
            "text/plain": [
              "\"'s\""
            ]
          },
          "metadata": {
            "tags": []
          },
          "execution_count": 21
        }
      ]
    },
    {
      "cell_type": "code",
      "metadata": {
        "id": "3VGC8sR3QPQl",
        "colab_type": "code",
        "colab": {
          "base_uri": "https://localhost:8080/",
          "height": 35
        },
        "outputId": "69a414ca-7097-40e0-f590-ca0736cbb8bd"
      },
      "source": [
        "len(tokenized_comments)"
      ],
      "execution_count": 22,
      "outputs": [
        {
          "output_type": "execute_result",
          "data": {
            "text/plain": [
              "26033579"
            ]
          },
          "metadata": {
            "tags": []
          },
          "execution_count": 22
        }
      ]
    },
    {
      "cell_type": "code",
      "metadata": {
        "id": "rSQsEKLfXfIB",
        "colab_type": "code",
        "colab": {}
      },
      "source": [
        "sampled_df=Comments.sample(30000)"
      ],
      "execution_count": 0,
      "outputs": []
    },
    {
      "cell_type": "code",
      "metadata": {
        "id": "-wxt-fwhYFdY",
        "colab_type": "code",
        "colab": {
          "base_uri": "https://localhost:8080/",
          "height": 424
        },
        "outputId": "b056cbf6-5756-4a21-a6af-99f01bbb2db0"
      },
      "source": [
        "sampled_df"
      ],
      "execution_count": 29,
      "outputs": [
        {
          "output_type": "execute_result",
          "data": {
            "text/html": [
              "<div>\n",
              "<style scoped>\n",
              "    .dataframe tbody tr th:only-of-type {\n",
              "        vertical-align: middle;\n",
              "    }\n",
              "\n",
              "    .dataframe tbody tr th {\n",
              "        vertical-align: top;\n",
              "    }\n",
              "\n",
              "    .dataframe thead th {\n",
              "        text-align: right;\n",
              "    }\n",
              "</style>\n",
              "<table border=\"1\" class=\"dataframe\">\n",
              "  <thead>\n",
              "    <tr style=\"text-align: right;\">\n",
              "      <th></th>\n",
              "      <th>video_id</th>\n",
              "      <th>comment_text</th>\n",
              "      <th>likes</th>\n",
              "      <th>replies</th>\n",
              "    </tr>\n",
              "  </thead>\n",
              "  <tbody>\n",
              "    <tr>\n",
              "      <th>568377</th>\n",
              "      <td>3JYl1XREYLE</td>\n",
              "      <td>david: if you have ever been a kid,...\\nme: what?</td>\n",
              "      <td>0</td>\n",
              "      <td>0</td>\n",
              "    </tr>\n",
              "    <tr>\n",
              "      <th>348927</th>\n",
              "      <td>MuhbA_bB418</td>\n",
              "      <td>white boy feet videos on my channel check it o...</td>\n",
              "      <td>0</td>\n",
              "      <td>0</td>\n",
              "    </tr>\n",
              "    <tr>\n",
              "      <th>210096</th>\n",
              "      <td>uQhr1sfgJis</td>\n",
              "      <td>hahaha eddies the best</td>\n",
              "      <td>0</td>\n",
              "      <td>0</td>\n",
              "    </tr>\n",
              "    <tr>\n",
              "      <th>740977</th>\n",
              "      <td>uBGECC5U09Q</td>\n",
              "      <td>what hardcore henry or it</td>\n",
              "      <td>0</td>\n",
              "      <td>0</td>\n",
              "    </tr>\n",
              "    <tr>\n",
              "      <th>200368</th>\n",
              "      <td>yZMt87ZdUbw</td>\n",
              "      <td>smh jenny didn't realize this was a snoke orig...</td>\n",
              "      <td>0</td>\n",
              "      <td>0</td>\n",
              "    </tr>\n",
              "    <tr>\n",
              "      <th>...</th>\n",
              "      <td>...</td>\n",
              "      <td>...</td>\n",
              "      <td>...</td>\n",
              "      <td>...</td>\n",
              "    </tr>\n",
              "    <tr>\n",
              "      <th>755807</th>\n",
              "      <td>cLdxuaxaQwc</td>\n",
              "      <td>i still lave you❤️😭☝🏻</td>\n",
              "      <td>0</td>\n",
              "      <td>0</td>\n",
              "    </tr>\n",
              "    <tr>\n",
              "      <th>867672</th>\n",
              "      <td>qi2uOOAKJjY</td>\n",
              "      <td>what a great song!</td>\n",
              "      <td>0</td>\n",
              "      <td>0</td>\n",
              "    </tr>\n",
              "    <tr>\n",
              "      <th>1127306</th>\n",
              "      <td>dDiCuZTjS18</td>\n",
              "      <td>kto z polski</td>\n",
              "      <td>0</td>\n",
              "      <td>0</td>\n",
              "    </tr>\n",
              "    <tr>\n",
              "      <th>1274113</th>\n",
              "      <td>1AxLzMJIgxM</td>\n",
              "      <td>that intro is brilliant! even manages to beat ...</td>\n",
              "      <td>0</td>\n",
              "      <td>0</td>\n",
              "    </tr>\n",
              "    <tr>\n",
              "      <th>361032</th>\n",
              "      <td>q3br7KKr67o</td>\n",
              "      <td>sounds delicious.  i have pumpkin pie torani s...</td>\n",
              "      <td>0</td>\n",
              "      <td>0</td>\n",
              "    </tr>\n",
              "  </tbody>\n",
              "</table>\n",
              "<p>30000 rows × 4 columns</p>\n",
              "</div>"
            ],
            "text/plain": [
              "            video_id  ... replies\n",
              "568377   3JYl1XREYLE  ...       0\n",
              "348927   MuhbA_bB418  ...       0\n",
              "210096   uQhr1sfgJis  ...       0\n",
              "740977   uBGECC5U09Q  ...       0\n",
              "200368   yZMt87ZdUbw  ...       0\n",
              "...              ...  ...     ...\n",
              "755807   cLdxuaxaQwc  ...       0\n",
              "867672   qi2uOOAKJjY  ...       0\n",
              "1127306  dDiCuZTjS18  ...       0\n",
              "1274113  1AxLzMJIgxM  ...       0\n",
              "361032   q3br7KKr67o  ...       0\n",
              "\n",
              "[30000 rows x 4 columns]"
            ]
          },
          "metadata": {
            "tags": []
          },
          "execution_count": 29
        }
      ]
    },
    {
      "cell_type": "code",
      "metadata": {
        "id": "FJejwxwfjQeP",
        "colab_type": "code",
        "colab": {}
      },
      "source": [
        ""
      ],
      "execution_count": 0,
      "outputs": []
    },
    {
      "cell_type": "code",
      "metadata": {
        "id": "GSfUTWCojQau",
        "colab_type": "code",
        "colab": {}
      },
      "source": [
        "from spacy.lang.en.stop_words import STOP_WORDS\n",
        "\n",
        "filtered_comments=[]\n",
        "\n",
        "for i in sampled_df['comment_text']:\n",
        "  doc = nlp(i)\n",
        "  filtered_sent=[]\n",
        "  for word in doc:\n",
        "    if word.is_stop==False:\n",
        "        filtered_sent.append(word)\n",
        "  filtered_comments.append(filtered_sent)\n"
      ],
      "execution_count": 0,
      "outputs": []
    },
    {
      "cell_type": "code",
      "metadata": {
        "id": "DaSt5OO_jQWj",
        "colab_type": "code",
        "colab": {}
      },
      "source": [
        ""
      ],
      "execution_count": 0,
      "outputs": []
    },
    {
      "cell_type": "code",
      "metadata": {
        "id": "sCBeESULjQTg",
        "colab_type": "code",
        "colab": {}
      },
      "source": [
        ""
      ],
      "execution_count": 0,
      "outputs": []
    },
    {
      "cell_type": "code",
      "metadata": {
        "id": "C_IQoqXVjQRa",
        "colab_type": "code",
        "colab": {}
      },
      "source": [
        ""
      ],
      "execution_count": 0,
      "outputs": []
    },
    {
      "cell_type": "code",
      "metadata": {
        "id": "TkxU7UjdjQNp",
        "colab_type": "code",
        "colab": {}
      },
      "source": [
        ""
      ],
      "execution_count": 0,
      "outputs": []
    },
    {
      "cell_type": "code",
      "metadata": {
        "id": "Ygpq2aoIjQJ0",
        "colab_type": "code",
        "colab": {}
      },
      "source": [
        ""
      ],
      "execution_count": 0,
      "outputs": []
    },
    {
      "cell_type": "code",
      "metadata": {
        "id": "9BIltXoajQEf",
        "colab_type": "code",
        "colab": {}
      },
      "source": [
        ""
      ],
      "execution_count": 0,
      "outputs": []
    },
    {
      "cell_type": "markdown",
      "metadata": {
        "colab_type": "text",
        "id": "8wf9KcRLndlR"
      },
      "source": [
        "# Tokenization using Spacy"
      ]
    },
    {
      "cell_type": "code",
      "metadata": {
        "id": "Cs0-U2olYHOO",
        "colab_type": "code",
        "colab": {
          "base_uri": "https://localhost:8080/",
          "height": 17
        },
        "outputId": "db2f25f7-aeb2-40fe-8b38-10292947c701"
      },
      "source": [
        "nlp = spacy.load(\"en_core_web_sm\")\n",
        "c=0\n",
        "tokenized_sents=[]\n",
        "for i in sampled_df['comment_text']:\n",
        "    doc=nlp(i)\n",
        "    tokens=[]\n",
        "    for token in doc:\n",
        "      if token.is_stop==False:\n",
        "        tokens.append(token.lemma_)\n",
        "    tokenized_sents.append(tokens)\n",
        "    print(c,end='\\r')\n",
        "    c+=1"
      ],
      "execution_count": 71,
      "outputs": [
        {
          "output_type": "stream",
          "text": [
            ""
          ],
          "name": "stdout"
        }
      ]
    },
    {
      "cell_type": "code",
      "metadata": {
        "id": "jtpI45icfnmp",
        "colab_type": "code",
        "colab": {}
      },
      "source": [
        "sampled_df.drop('tokenized_comments',inplace=True,axis=1)"
      ],
      "execution_count": 0,
      "outputs": []
    },
    {
      "cell_type": "code",
      "metadata": {
        "id": "18tuhaWhbto_",
        "colab_type": "code",
        "colab": {}
      },
      "source": [
        "sampled_df['tokenized_comments']=tokenized_sents"
      ],
      "execution_count": 0,
      "outputs": []
    },
    {
      "cell_type": "code",
      "metadata": {
        "id": "T4yg1FTGfbwk",
        "colab_type": "code",
        "colab": {
          "base_uri": "https://localhost:8080/",
          "height": 424
        },
        "outputId": "13398bda-6ca1-4f23-f35c-9197babcc322"
      },
      "source": [
        "sampled_df"
      ],
      "execution_count": 74,
      "outputs": [
        {
          "output_type": "execute_result",
          "data": {
            "text/html": [
              "<div>\n",
              "<style scoped>\n",
              "    .dataframe tbody tr th:only-of-type {\n",
              "        vertical-align: middle;\n",
              "    }\n",
              "\n",
              "    .dataframe tbody tr th {\n",
              "        vertical-align: top;\n",
              "    }\n",
              "\n",
              "    .dataframe thead th {\n",
              "        text-align: right;\n",
              "    }\n",
              "</style>\n",
              "<table border=\"1\" class=\"dataframe\">\n",
              "  <thead>\n",
              "    <tr style=\"text-align: right;\">\n",
              "      <th></th>\n",
              "      <th>video_id</th>\n",
              "      <th>comment_text</th>\n",
              "      <th>likes</th>\n",
              "      <th>replies</th>\n",
              "      <th>tokenized_comments</th>\n",
              "    </tr>\n",
              "  </thead>\n",
              "  <tbody>\n",
              "    <tr>\n",
              "      <th>568377</th>\n",
              "      <td>3JYl1XREYLE</td>\n",
              "      <td>david: if you have ever been a kid,...\\nme: what?</td>\n",
              "      <td>0</td>\n",
              "      <td>0</td>\n",
              "      <td>[david, :, kid,, ..., \\nme, :, ?]</td>\n",
              "    </tr>\n",
              "    <tr>\n",
              "      <th>348927</th>\n",
              "      <td>MuhbA_bB418</td>\n",
              "      <td>white boy feet videos on my channel check it o...</td>\n",
              "      <td>0</td>\n",
              "      <td>0</td>\n",
              "      <td>[white, boy, foot, video, channel, check, !, !...</td>\n",
              "    </tr>\n",
              "    <tr>\n",
              "      <th>210096</th>\n",
              "      <td>uQhr1sfgJis</td>\n",
              "      <td>hahaha eddies the best</td>\n",
              "      <td>0</td>\n",
              "      <td>0</td>\n",
              "      <td>[hahaha, eddy, good]</td>\n",
              "    </tr>\n",
              "    <tr>\n",
              "      <th>740977</th>\n",
              "      <td>uBGECC5U09Q</td>\n",
              "      <td>what hardcore henry or it</td>\n",
              "      <td>0</td>\n",
              "      <td>0</td>\n",
              "      <td>[hardcore, henry]</td>\n",
              "    </tr>\n",
              "    <tr>\n",
              "      <th>200368</th>\n",
              "      <td>yZMt87ZdUbw</td>\n",
              "      <td>smh jenny didn't realize this was a snoke orig...</td>\n",
              "      <td>0</td>\n",
              "      <td>0</td>\n",
              "      <td>[smh, jenny, realize, snoke, origin, story, .,...</td>\n",
              "    </tr>\n",
              "    <tr>\n",
              "      <th>...</th>\n",
              "      <td>...</td>\n",
              "      <td>...</td>\n",
              "      <td>...</td>\n",
              "      <td>...</td>\n",
              "      <td>...</td>\n",
              "    </tr>\n",
              "    <tr>\n",
              "      <th>755807</th>\n",
              "      <td>cLdxuaxaQwc</td>\n",
              "      <td>i still lave you❤️😭☝🏻</td>\n",
              "      <td>0</td>\n",
              "      <td>0</td>\n",
              "      <td>[lave, ❤, ️, 😭, ☝, 🏻]</td>\n",
              "    </tr>\n",
              "    <tr>\n",
              "      <th>867672</th>\n",
              "      <td>qi2uOOAKJjY</td>\n",
              "      <td>what a great song!</td>\n",
              "      <td>0</td>\n",
              "      <td>0</td>\n",
              "      <td>[great, song, !]</td>\n",
              "    </tr>\n",
              "    <tr>\n",
              "      <th>1127306</th>\n",
              "      <td>dDiCuZTjS18</td>\n",
              "      <td>kto z polski</td>\n",
              "      <td>0</td>\n",
              "      <td>0</td>\n",
              "      <td>[kto, z, polski]</td>\n",
              "    </tr>\n",
              "    <tr>\n",
              "      <th>1274113</th>\n",
              "      <td>1AxLzMJIgxM</td>\n",
              "      <td>that intro is brilliant! even manages to beat ...</td>\n",
              "      <td>0</td>\n",
              "      <td>0</td>\n",
              "      <td>[intro, brilliant, !, manage, beat, old, frasi...</td>\n",
              "    </tr>\n",
              "    <tr>\n",
              "      <th>361032</th>\n",
              "      <td>q3br7KKr67o</td>\n",
              "      <td>sounds delicious.  i have pumpkin pie torani s...</td>\n",
              "      <td>0</td>\n",
              "      <td>0</td>\n",
              "      <td>[sound, delicious, .,  , pumpkin, pie, torani,...</td>\n",
              "    </tr>\n",
              "  </tbody>\n",
              "</table>\n",
              "<p>30000 rows × 5 columns</p>\n",
              "</div>"
            ],
            "text/plain": [
              "            video_id  ...                                 tokenized_comments\n",
              "568377   3JYl1XREYLE  ...                  [david, :, kid,, ..., \\nme, :, ?]\n",
              "348927   MuhbA_bB418  ...  [white, boy, foot, video, channel, check, !, !...\n",
              "210096   uQhr1sfgJis  ...                               [hahaha, eddy, good]\n",
              "740977   uBGECC5U09Q  ...                                  [hardcore, henry]\n",
              "200368   yZMt87ZdUbw  ...  [smh, jenny, realize, snoke, origin, story, .,...\n",
              "...              ...  ...                                                ...\n",
              "755807   cLdxuaxaQwc  ...                              [lave, ❤, ️, 😭, ☝, 🏻]\n",
              "867672   qi2uOOAKJjY  ...                                   [great, song, !]\n",
              "1127306  dDiCuZTjS18  ...                                   [kto, z, polski]\n",
              "1274113  1AxLzMJIgxM  ...  [intro, brilliant, !, manage, beat, old, frasi...\n",
              "361032   q3br7KKr67o  ...  [sound, delicious, .,  , pumpkin, pie, torani,...\n",
              "\n",
              "[30000 rows x 5 columns]"
            ]
          },
          "metadata": {
            "tags": []
          },
          "execution_count": 74
        }
      ]
    },
    {
      "cell_type": "code",
      "metadata": {
        "id": "ctwBNKtwna2c",
        "colab_type": "code",
        "colab": {}
      },
      "source": [
        "# from spacy.lang.en.stop_words import STOP_WORDS\n",
        "# st=list(STOP_WORDS)\n",
        "# filtered_comments=[]\n",
        "\n",
        "# for i in sampled_df['tokenized_comments']:\n",
        "#   filtered_sent=[]\n",
        "#   for j in i:\n",
        "#     if (j in st):\n",
        "#       pass\n",
        "#     else:\n",
        "#       filtered_sent.append(j)\n",
        "#   filtered_comments.append(filtered_sent)"
      ],
      "execution_count": 0,
      "outputs": []
    },
    {
      "cell_type": "code",
      "metadata": {
        "id": "oeNG1sM_pMl3",
        "colab_type": "code",
        "colab": {}
      },
      "source": [
        ""
      ],
      "execution_count": 0,
      "outputs": []
    },
    {
      "cell_type": "code",
      "metadata": {
        "id": "GNGXAYfipObP",
        "colab_type": "code",
        "colab": {}
      },
      "source": [
        ""
      ],
      "execution_count": 0,
      "outputs": []
    },
    {
      "cell_type": "code",
      "metadata": {
        "id": "lO-r5_v0pOoh",
        "colab_type": "code",
        "colab": {}
      },
      "source": [
        ""
      ],
      "execution_count": 0,
      "outputs": []
    },
    {
      "cell_type": "markdown",
      "metadata": {
        "id": "uIXGc0GVnkOe",
        "colab_type": "text"
      },
      "source": [
        "# Lemmetization"
      ]
    },
    {
      "cell_type": "code",
      "metadata": {
        "id": "KTJkOZnMnayI",
        "colab_type": "code",
        "colab": {}
      },
      "source": [
        "for i in sampled_df['tokenized_sents']:\n",
        "  for j in i:\n",
        "    lem = nlp(\"run runs running runner\")\n",
        "# finding lemma for each word\n",
        "for word in lem:\n",
        "    print(word.text,word.lemma_)"
      ],
      "execution_count": 0,
      "outputs": []
    },
    {
      "cell_type": "code",
      "metadata": {
        "id": "DVhnfHyWfdpu",
        "colab_type": "code",
        "colab": {}
      },
      "source": [
        ""
      ],
      "execution_count": 0,
      "outputs": []
    },
    {
      "cell_type": "code",
      "metadata": {
        "id": "_qWF3wQJnXx3",
        "colab_type": "code",
        "colab": {}
      },
      "source": [
        ""
      ],
      "execution_count": 0,
      "outputs": []
    }
  ]
}