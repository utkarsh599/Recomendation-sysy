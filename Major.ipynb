{
  "nbformat": 4,
  "nbformat_minor": 0,
  "metadata": {
    "colab": {
      "name": "Major.ipynb",
      "provenance": [],
      "collapsed_sections": [],
      "include_colab_link": true
    },
    "kernelspec": {
      "name": "python3",
      "display_name": "Python 3"
    },
    "accelerator": "GPU"
  },
  "cells": [
    {
      "cell_type": "markdown",
      "metadata": {
        "id": "view-in-github",
        "colab_type": "text"
      },
      "source": [
        "<a href=\"https://colab.research.google.com/github/utkarsh599/Recomendation-sysy/blob/Abhijeet/Major.ipynb\" target=\"_parent\"><img src=\"https://colab.research.google.com/assets/colab-badge.svg\" alt=\"Open In Colab\"/></a>"
      ]
    },
    {
      "cell_type": "code",
      "metadata": {
        "id": "B-X1OO6iwytJ",
        "colab_type": "code",
        "colab": {}
      },
      "source": [
        "#import spark\n",
        "import nltk\n",
        "import spacy\n",
        "import pandas as pd\n",
        "import sklearn "
      ],
      "execution_count": 0,
      "outputs": []
    },
    {
      "cell_type": "code",
      "metadata": {
        "id": "nUVvy-VkMaiZ",
        "colab_type": "code",
        "colab": {
          "base_uri": "https://localhost:8080/",
          "height": 130
        },
        "outputId": "fa0ee052-931f-461a-dcde-f8bf5429b5ec"
      },
      "source": [
        "from google.colab import drive\n",
        "drive.mount('/content/gdrive')"
      ],
      "execution_count": 2,
      "outputs": [
        {
          "output_type": "stream",
          "text": [
            "Go to this URL in a browser: https://accounts.google.com/o/oauth2/auth?client_id=947318989803-6bn6qk8qdgf4n4g3pfee6491hc0brc4i.apps.googleusercontent.com&redirect_uri=urn%3aietf%3awg%3aoauth%3a2.0%3aoob&response_type=code&scope=email%20https%3a%2f%2fwww.googleapis.com%2fauth%2fdocs.test%20https%3a%2f%2fwww.googleapis.com%2fauth%2fdrive%20https%3a%2f%2fwww.googleapis.com%2fauth%2fdrive.photos.readonly%20https%3a%2f%2fwww.googleapis.com%2fauth%2fpeopleapi.readonly\n",
            "\n",
            "Enter your authorization code:\n",
            "··········\n",
            "Mounted at /content/gdrive\n"
          ],
          "name": "stdout"
        }
      ]
    },
    {
      "cell_type": "code",
      "metadata": {
        "id": "XXzkuWZ1qiaw",
        "colab_type": "code",
        "colab": {}
      },
      "source": [
        ""
      ],
      "execution_count": 0,
      "outputs": []
    },
    {
      "cell_type": "code",
      "metadata": {
        "id": "D6A2KPPDw7aG",
        "colab_type": "code",
        "outputId": "51b302b1-46cf-498a-932b-daa376462ea1",
        "colab": {
          "base_uri": "https://localhost:8080/",
          "height": 224
        }
      },
      "source": [
        "GB_category_id=pd.read_csv(\"/content/gdrive/My Drive/Colab Notebooks/GB_category_id.json\")\n",
        "GBcomments=pd.read_csv(\"/content/gdrive/My Drive/Colab Notebooks/GBcomments.csv\",error_bad_lines=False)\n",
        "GBvideos=pd.read_csv(\"/content/gdrive/My Drive/Colab Notebooks/GBvideos.csv\",error_bad_lines=False)\n",
        "US_category=pd.read_csv(\"/content/gdrive/My Drive/Colab Notebooks/US_category_id.json\")\n",
        "UScomments=pd.read_csv(\"/content/gdrive/My Drive/Colab Notebooks/UScomments.csv\",error_bad_lines=False)\n",
        "USvideos=pd.read_csv(\"/content/gdrive/My Drive/Colab Notebooks/USvideos.csv\",error_bad_lines=False)"
      ],
      "execution_count": 3,
      "outputs": [
        {
          "output_type": "stream",
          "text": [
            "b'Skipping line 113225: expected 4 fields, saw 5\\n'\n",
            "b'Skipping line 158379: expected 4 fields, saw 7\\nSkipping line 241590: expected 4 fields, saw 5\\nSkipping line 245637: expected 4 fields, saw 7\\n'\n",
            "b'Skipping line 521402: expected 4 fields, saw 5\\n'\n",
            "b'Skipping line 2398: expected 11 fields, saw 21\\nSkipping line 2797: expected 11 fields, saw 21\\n'\n",
            "b'Skipping line 41589: expected 4 fields, saw 11\\nSkipping line 51628: expected 4 fields, saw 7\\nSkipping line 114465: expected 4 fields, saw 5\\n'\n",
            "b'Skipping line 142496: expected 4 fields, saw 8\\nSkipping line 189732: expected 4 fields, saw 6\\nSkipping line 245218: expected 4 fields, saw 7\\n'\n",
            "b'Skipping line 388430: expected 4 fields, saw 5\\n'\n",
            "/usr/local/lib/python3.6/dist-packages/IPython/core/interactiveshell.py:2718: DtypeWarning: Columns (2,3) have mixed types. Specify dtype option on import or set low_memory=False.\n",
            "  interactivity=interactivity, compiler=compiler, result=result)\n",
            "b'Skipping line 2401: expected 11 fields, saw 21\\nSkipping line 2800: expected 11 fields, saw 21\\nSkipping line 5297: expected 11 fields, saw 12\\nSkipping line 5299: expected 11 fields, saw 12\\nSkipping line 5300: expected 11 fields, saw 12\\nSkipping line 5301: expected 11 fields, saw 12\\n'\n"
          ],
          "name": "stderr"
        }
      ]
    },
    {
      "cell_type": "code",
      "metadata": {
        "id": "gMge8RpLxEG3",
        "colab_type": "code",
        "colab": {}
      },
      "source": [
        "# import io\n",
        "# GB_category_id=pd.read_json(io.BytesIO(Uploaded[\"GB_category_id.json\"]))\n",
        "# GBcomments=pd.read_csv(io.BytesIO(Uploaded[\"GBcomments.csv\"]),error_bad_lines=False)\n",
        "# GBvideos=pd.read_csv(io.BytesIO(Uploaded[\"GBvideos.csv\"]),error_bad_lines=False)\n",
        "# US_category_id=pd.read_json(io.BytesIO(Uploaded[\"US_category_id.json\"]))\n",
        "# UScomments=pd.read_csv(io.BytesIO(Uploaded[\"UScomments.csv\"]),error_bad_lines=False)\n",
        "# USvideos=pd.read_csv(io.BytesIO(Uploaded[\"USvideos.csv\"]),error_bad_lines=False)\n",
        "\n"
      ],
      "execution_count": 0,
      "outputs": []
    },
    {
      "cell_type": "code",
      "metadata": {
        "id": "w82m8iHG9H_M",
        "colab_type": "code",
        "outputId": "9e64767a-fbf9-4b38-8e6c-dc4189bd4964",
        "colab": {
          "base_uri": "https://localhost:8080/",
          "height": 206
        }
      },
      "source": [
        "GBcomments.head()"
      ],
      "execution_count": 4,
      "outputs": [
        {
          "output_type": "execute_result",
          "data": {
            "text/html": [
              "<div>\n",
              "<style scoped>\n",
              "    .dataframe tbody tr th:only-of-type {\n",
              "        vertical-align: middle;\n",
              "    }\n",
              "\n",
              "    .dataframe tbody tr th {\n",
              "        vertical-align: top;\n",
              "    }\n",
              "\n",
              "    .dataframe thead th {\n",
              "        text-align: right;\n",
              "    }\n",
              "</style>\n",
              "<table border=\"1\" class=\"dataframe\">\n",
              "  <thead>\n",
              "    <tr style=\"text-align: right;\">\n",
              "      <th></th>\n",
              "      <th>video_id</th>\n",
              "      <th>comment_text</th>\n",
              "      <th>likes</th>\n",
              "      <th>replies</th>\n",
              "    </tr>\n",
              "  </thead>\n",
              "  <tbody>\n",
              "    <tr>\n",
              "      <th>0</th>\n",
              "      <td>jt2OHQh0HoQ</td>\n",
              "      <td>It's more accurate to call it the M+ (1000) be...</td>\n",
              "      <td>0</td>\n",
              "      <td>0</td>\n",
              "    </tr>\n",
              "    <tr>\n",
              "      <th>1</th>\n",
              "      <td>jt2OHQh0HoQ</td>\n",
              "      <td>To be there with a samsung phone\\n😂😂😂</td>\n",
              "      <td>1</td>\n",
              "      <td>0</td>\n",
              "    </tr>\n",
              "    <tr>\n",
              "      <th>2</th>\n",
              "      <td>jt2OHQh0HoQ</td>\n",
              "      <td>Thank gosh, a place I can watch it without hav...</td>\n",
              "      <td>0</td>\n",
              "      <td>0</td>\n",
              "    </tr>\n",
              "    <tr>\n",
              "      <th>3</th>\n",
              "      <td>jt2OHQh0HoQ</td>\n",
              "      <td>What happened to the home button on the iPhone...</td>\n",
              "      <td>0</td>\n",
              "      <td>0</td>\n",
              "    </tr>\n",
              "    <tr>\n",
              "      <th>4</th>\n",
              "      <td>jt2OHQh0HoQ</td>\n",
              "      <td>Power is the disease.  Care is the cure.  Keep...</td>\n",
              "      <td>0</td>\n",
              "      <td>0</td>\n",
              "    </tr>\n",
              "  </tbody>\n",
              "</table>\n",
              "</div>"
            ],
            "text/plain": [
              "      video_id  ... replies\n",
              "0  jt2OHQh0HoQ  ...       0\n",
              "1  jt2OHQh0HoQ  ...       0\n",
              "2  jt2OHQh0HoQ  ...       0\n",
              "3  jt2OHQh0HoQ  ...       0\n",
              "4  jt2OHQh0HoQ  ...       0\n",
              "\n",
              "[5 rows x 4 columns]"
            ]
          },
          "metadata": {
            "tags": []
          },
          "execution_count": 4
        }
      ]
    },
    {
      "cell_type": "code",
      "metadata": {
        "id": "He0BbXOgQ5hF",
        "colab_type": "code",
        "outputId": "e8bbbc58-449c-4307-9b23-31bf27a7d6f8",
        "colab": {
          "base_uri": "https://localhost:8080/",
          "height": 92
        }
      },
      "source": [
        "print(GBcomments.shape)\n",
        "print(UScomments.shape)\n",
        "print(GBvideos.shape)\n",
        "print(USvideos.shape)"
      ],
      "execution_count": 5,
      "outputs": [
        {
          "output_type": "stream",
          "text": [
            "(718452, 4)\n",
            "(691400, 4)\n",
            "(7993, 11)\n",
            "(7992, 11)\n"
          ],
          "name": "stdout"
        }
      ]
    },
    {
      "cell_type": "code",
      "metadata": {
        "id": "zSU6qlBFJn3p",
        "colab_type": "code",
        "colab": {}
      },
      "source": [
        "Comments=pd.concat([GBcomments,UScomments],ignore_index=True)\n",
        "Videos=pd.concat([GBvideos,USvideos],ignore_index=True)"
      ],
      "execution_count": 0,
      "outputs": []
    },
    {
      "cell_type": "code",
      "metadata": {
        "id": "Fzq6zmt-Jdeh",
        "colab_type": "code",
        "colab": {}
      },
      "source": [
        "Comments.dropna(inplace=True)\n",
        "Videos.dropna(inplace=True)"
      ],
      "execution_count": 0,
      "outputs": []
    },
    {
      "cell_type": "code",
      "metadata": {
        "id": "sYZzflCQSkab",
        "colab_type": "code",
        "outputId": "6631e17a-952b-448a-f462-0f4eba0832de",
        "colab": {
          "base_uri": "https://localhost:8080/",
          "height": 54
        }
      },
      "source": [
        "print(Comments.shape)\n",
        "print(Videos.shape)"
      ],
      "execution_count": 8,
      "outputs": [
        {
          "output_type": "stream",
          "text": [
            "(1409799, 4)\n",
            "(15985, 11)\n"
          ],
          "name": "stdout"
        }
      ]
    },
    {
      "cell_type": "code",
      "metadata": {
        "id": "lwIO9lzYOhkD",
        "colab_type": "code",
        "colab": {}
      },
      "source": [
        "Comments.comment_text=Comments.comment_text.astype(str)"
      ],
      "execution_count": 0,
      "outputs": []
    },
    {
      "cell_type": "code",
      "metadata": {
        "id": "gexerFUsJimv",
        "colab_type": "code",
        "outputId": "c77e22bf-812f-4e15-d6b6-34add4f55969",
        "colab": {
          "base_uri": "https://localhost:8080/",
          "height": 363
        }
      },
      "source": [
        "Comments.head(10)\n"
      ],
      "execution_count": 10,
      "outputs": [
        {
          "output_type": "execute_result",
          "data": {
            "text/html": [
              "<div>\n",
              "<style scoped>\n",
              "    .dataframe tbody tr th:only-of-type {\n",
              "        vertical-align: middle;\n",
              "    }\n",
              "\n",
              "    .dataframe tbody tr th {\n",
              "        vertical-align: top;\n",
              "    }\n",
              "\n",
              "    .dataframe thead th {\n",
              "        text-align: right;\n",
              "    }\n",
              "</style>\n",
              "<table border=\"1\" class=\"dataframe\">\n",
              "  <thead>\n",
              "    <tr style=\"text-align: right;\">\n",
              "      <th></th>\n",
              "      <th>video_id</th>\n",
              "      <th>comment_text</th>\n",
              "      <th>likes</th>\n",
              "      <th>replies</th>\n",
              "    </tr>\n",
              "  </thead>\n",
              "  <tbody>\n",
              "    <tr>\n",
              "      <th>0</th>\n",
              "      <td>jt2OHQh0HoQ</td>\n",
              "      <td>It's more accurate to call it the M+ (1000) be...</td>\n",
              "      <td>0</td>\n",
              "      <td>0</td>\n",
              "    </tr>\n",
              "    <tr>\n",
              "      <th>1</th>\n",
              "      <td>jt2OHQh0HoQ</td>\n",
              "      <td>To be there with a samsung phone\\n😂😂😂</td>\n",
              "      <td>1</td>\n",
              "      <td>0</td>\n",
              "    </tr>\n",
              "    <tr>\n",
              "      <th>2</th>\n",
              "      <td>jt2OHQh0HoQ</td>\n",
              "      <td>Thank gosh, a place I can watch it without hav...</td>\n",
              "      <td>0</td>\n",
              "      <td>0</td>\n",
              "    </tr>\n",
              "    <tr>\n",
              "      <th>3</th>\n",
              "      <td>jt2OHQh0HoQ</td>\n",
              "      <td>What happened to the home button on the iPhone...</td>\n",
              "      <td>0</td>\n",
              "      <td>0</td>\n",
              "    </tr>\n",
              "    <tr>\n",
              "      <th>4</th>\n",
              "      <td>jt2OHQh0HoQ</td>\n",
              "      <td>Power is the disease.  Care is the cure.  Keep...</td>\n",
              "      <td>0</td>\n",
              "      <td>0</td>\n",
              "    </tr>\n",
              "    <tr>\n",
              "      <th>5</th>\n",
              "      <td>jt2OHQh0HoQ</td>\n",
              "      <td>Keep calm and buy iphone 8 Keep calm and buy i...</td>\n",
              "      <td>0</td>\n",
              "      <td>0</td>\n",
              "    </tr>\n",
              "    <tr>\n",
              "      <th>6</th>\n",
              "      <td>jt2OHQh0HoQ</td>\n",
              "      <td>i am a big fan of youtube and u !!!!!!!!!!!!!</td>\n",
              "      <td>0</td>\n",
              "      <td>0</td>\n",
              "    </tr>\n",
              "    <tr>\n",
              "      <th>7</th>\n",
              "      <td>jt2OHQh0HoQ</td>\n",
              "      <td>You will never find Losers who line up and pay...</td>\n",
              "      <td>0</td>\n",
              "      <td>0</td>\n",
              "    </tr>\n",
              "    <tr>\n",
              "      <th>8</th>\n",
              "      <td>jt2OHQh0HoQ</td>\n",
              "      <td>*APPLE JUST COMMENTED ON MY LAST VIDEO* I'm cr...</td>\n",
              "      <td>0</td>\n",
              "      <td>0</td>\n",
              "    </tr>\n",
              "    <tr>\n",
              "      <th>9</th>\n",
              "      <td>jt2OHQh0HoQ</td>\n",
              "      <td>I'm only here to see Emma, I love her so much!...</td>\n",
              "      <td>0</td>\n",
              "      <td>0</td>\n",
              "    </tr>\n",
              "  </tbody>\n",
              "</table>\n",
              "</div>"
            ],
            "text/plain": [
              "      video_id                                       comment_text likes replies\n",
              "0  jt2OHQh0HoQ  It's more accurate to call it the M+ (1000) be...     0       0\n",
              "1  jt2OHQh0HoQ              To be there with a samsung phone\\n😂😂😂     1       0\n",
              "2  jt2OHQh0HoQ  Thank gosh, a place I can watch it without hav...     0       0\n",
              "3  jt2OHQh0HoQ  What happened to the home button on the iPhone...     0       0\n",
              "4  jt2OHQh0HoQ  Power is the disease.  Care is the cure.  Keep...     0       0\n",
              "5  jt2OHQh0HoQ  Keep calm and buy iphone 8 Keep calm and buy i...     0       0\n",
              "6  jt2OHQh0HoQ      i am a big fan of youtube and u !!!!!!!!!!!!!     0       0\n",
              "7  jt2OHQh0HoQ  You will never find Losers who line up and pay...     0       0\n",
              "8  jt2OHQh0HoQ  *APPLE JUST COMMENTED ON MY LAST VIDEO* I'm cr...     0       0\n",
              "9  jt2OHQh0HoQ  I'm only here to see Emma, I love her so much!...     0       0"
            ]
          },
          "metadata": {
            "tags": []
          },
          "execution_count": 10
        }
      ]
    },
    {
      "cell_type": "code",
      "metadata": {
        "id": "SZyn6AKNU3VG",
        "colab_type": "code",
        "outputId": "af2afc7e-21c8-49d6-966d-4568cc3cf5f0",
        "colab": {
          "base_uri": "https://localhost:8080/",
          "height": 537
        }
      },
      "source": [
        "Videos.head(10)"
      ],
      "execution_count": 11,
      "outputs": [
        {
          "output_type": "execute_result",
          "data": {
            "text/html": [
              "<div>\n",
              "<style scoped>\n",
              "    .dataframe tbody tr th:only-of-type {\n",
              "        vertical-align: middle;\n",
              "    }\n",
              "\n",
              "    .dataframe tbody tr th {\n",
              "        vertical-align: top;\n",
              "    }\n",
              "\n",
              "    .dataframe thead th {\n",
              "        text-align: right;\n",
              "    }\n",
              "</style>\n",
              "<table border=\"1\" class=\"dataframe\">\n",
              "  <thead>\n",
              "    <tr style=\"text-align: right;\">\n",
              "      <th></th>\n",
              "      <th>video_id</th>\n",
              "      <th>title</th>\n",
              "      <th>channel_title</th>\n",
              "      <th>category_id</th>\n",
              "      <th>tags</th>\n",
              "      <th>views</th>\n",
              "      <th>likes</th>\n",
              "      <th>dislikes</th>\n",
              "      <th>comment_total</th>\n",
              "      <th>thumbnail_link</th>\n",
              "      <th>date</th>\n",
              "    </tr>\n",
              "  </thead>\n",
              "  <tbody>\n",
              "    <tr>\n",
              "      <th>0</th>\n",
              "      <td>jt2OHQh0HoQ</td>\n",
              "      <td>Live Apple Event - Apple September Event 2017 ...</td>\n",
              "      <td>Apple Event</td>\n",
              "      <td>28</td>\n",
              "      <td>apple events|apple event|iphone 8|iphone x|iph...</td>\n",
              "      <td>7426393</td>\n",
              "      <td>78240</td>\n",
              "      <td>13548</td>\n",
              "      <td>705</td>\n",
              "      <td>https://i.ytimg.com/vi/jt2OHQh0HoQ/default_liv...</td>\n",
              "      <td>13.09</td>\n",
              "    </tr>\n",
              "    <tr>\n",
              "      <th>1</th>\n",
              "      <td>AqokkXoa7uE</td>\n",
              "      <td>Holly and Phillip Meet Samantha the Sex Robot ...</td>\n",
              "      <td>This Morning</td>\n",
              "      <td>24</td>\n",
              "      <td>this morning|interview|holly willoughby|philli...</td>\n",
              "      <td>494203</td>\n",
              "      <td>2651</td>\n",
              "      <td>1309</td>\n",
              "      <td>0</td>\n",
              "      <td>https://i.ytimg.com/vi/AqokkXoa7uE/default.jpg</td>\n",
              "      <td>13.09</td>\n",
              "    </tr>\n",
              "    <tr>\n",
              "      <th>2</th>\n",
              "      <td>YPVcg45W0z4</td>\n",
              "      <td>My DNA Test Results! I'm WHAT?!</td>\n",
              "      <td>emmablackery</td>\n",
              "      <td>24</td>\n",
              "      <td>emmablackery|emma blackery|emma|blackery|briti...</td>\n",
              "      <td>142819</td>\n",
              "      <td>13119</td>\n",
              "      <td>151</td>\n",
              "      <td>1141</td>\n",
              "      <td>https://i.ytimg.com/vi/YPVcg45W0z4/default.jpg</td>\n",
              "      <td>13.09</td>\n",
              "    </tr>\n",
              "    <tr>\n",
              "      <th>3</th>\n",
              "      <td>T_PuZBdT2iM</td>\n",
              "      <td>getting into a conversation in a language you ...</td>\n",
              "      <td>ProZD</td>\n",
              "      <td>1</td>\n",
              "      <td>skit|korean|language|conversation|esl|japanese...</td>\n",
              "      <td>1580028</td>\n",
              "      <td>65729</td>\n",
              "      <td>1529</td>\n",
              "      <td>3598</td>\n",
              "      <td>https://i.ytimg.com/vi/T_PuZBdT2iM/default.jpg</td>\n",
              "      <td>13.09</td>\n",
              "    </tr>\n",
              "    <tr>\n",
              "      <th>4</th>\n",
              "      <td>NsjsmgmbCfc</td>\n",
              "      <td>Baby Name Challenge!</td>\n",
              "      <td>Sprinkleofglitter</td>\n",
              "      <td>26</td>\n",
              "      <td>sprinkleofglitter|sprinkle of glitter|baby gli...</td>\n",
              "      <td>40592</td>\n",
              "      <td>5019</td>\n",
              "      <td>57</td>\n",
              "      <td>490</td>\n",
              "      <td>https://i.ytimg.com/vi/NsjsmgmbCfc/default.jpg</td>\n",
              "      <td>13.09</td>\n",
              "    </tr>\n",
              "    <tr>\n",
              "      <th>5</th>\n",
              "      <td>zZ2CLmvqfXg</td>\n",
              "      <td>REVEALED - FIFA 18 stats for Chelsea's Hazard,...</td>\n",
              "      <td>Rio Ferdinand Presents FIVE</td>\n",
              "      <td>24</td>\n",
              "      <td>Rio Ferdinand|Rio|Ferdinand|5 Magazine|5 Mag|#...</td>\n",
              "      <td>317696</td>\n",
              "      <td>9449</td>\n",
              "      <td>135</td>\n",
              "      <td>464</td>\n",
              "      <td>https://i.ytimg.com/vi/zZ2CLmvqfXg/default.jpg</td>\n",
              "      <td>13.09</td>\n",
              "    </tr>\n",
              "    <tr>\n",
              "      <th>6</th>\n",
              "      <td>w8fAellnPns</td>\n",
              "      <td>Juicy Chicken Breast - You Suck at Cooking (ep...</td>\n",
              "      <td>You Suck At Cooking</td>\n",
              "      <td>26</td>\n",
              "      <td>how to|cooking|recipe|kitchen|chicken|chicken ...</td>\n",
              "      <td>479291</td>\n",
              "      <td>23935</td>\n",
              "      <td>638</td>\n",
              "      <td>1941</td>\n",
              "      <td>https://i.ytimg.com/vi/w8fAellnPns/default.jpg</td>\n",
              "      <td>13.09</td>\n",
              "    </tr>\n",
              "    <tr>\n",
              "      <th>7</th>\n",
              "      <td>LcZ2AuvxXNA</td>\n",
              "      <td>Nerf Bow Trick Shots | Dude Perfect</td>\n",
              "      <td>Dude Perfect</td>\n",
              "      <td>17</td>\n",
              "      <td>dude perfect|dude perfect stereotypes|dude per...</td>\n",
              "      <td>10532409</td>\n",
              "      <td>384841</td>\n",
              "      <td>7547</td>\n",
              "      <td>23849</td>\n",
              "      <td>https://i.ytimg.com/vi/LcZ2AuvxXNA/default.jpg</td>\n",
              "      <td>13.09</td>\n",
              "    </tr>\n",
              "    <tr>\n",
              "      <th>8</th>\n",
              "      <td>lamseWekh8Y</td>\n",
              "      <td>Weekend in BRIGHTON with Mike! | Fleur De Vlog</td>\n",
              "      <td>FleurDeVlog</td>\n",
              "      <td>22</td>\n",
              "      <td>fleurdevlog|fleur de vlog|fleurdeforce|fleur d...</td>\n",
              "      <td>65453</td>\n",
              "      <td>2761</td>\n",
              "      <td>33</td>\n",
              "      <td>223</td>\n",
              "      <td>https://i.ytimg.com/vi/lamseWekh8Y/default.jpg</td>\n",
              "      <td>13.09</td>\n",
              "    </tr>\n",
              "    <tr>\n",
              "      <th>9</th>\n",
              "      <td>QBGaO89cBMI</td>\n",
              "      <td>Radiohead - Lift</td>\n",
              "      <td>Radiohead</td>\n",
              "      <td>10</td>\n",
              "      <td>radiohead|lift|ok computer|oknotok</td>\n",
              "      <td>751743</td>\n",
              "      <td>42272</td>\n",
              "      <td>358</td>\n",
              "      <td>3250</td>\n",
              "      <td>https://i.ytimg.com/vi/QBGaO89cBMI/default.jpg</td>\n",
              "      <td>13.09</td>\n",
              "    </tr>\n",
              "  </tbody>\n",
              "</table>\n",
              "</div>"
            ],
            "text/plain": [
              "      video_id  ...   date\n",
              "0  jt2OHQh0HoQ  ...  13.09\n",
              "1  AqokkXoa7uE  ...  13.09\n",
              "2  YPVcg45W0z4  ...  13.09\n",
              "3  T_PuZBdT2iM  ...  13.09\n",
              "4  NsjsmgmbCfc  ...  13.09\n",
              "5  zZ2CLmvqfXg  ...  13.09\n",
              "6  w8fAellnPns  ...  13.09\n",
              "7  LcZ2AuvxXNA  ...  13.09\n",
              "8  lamseWekh8Y  ...  13.09\n",
              "9  QBGaO89cBMI  ...  13.09\n",
              "\n",
              "[10 rows x 11 columns]"
            ]
          },
          "metadata": {
            "tags": []
          },
          "execution_count": 11
        }
      ]
    },
    {
      "cell_type": "code",
      "metadata": {
        "id": "0A8Q9JIZQHbf",
        "colab_type": "code",
        "colab": {}
      },
      "source": [
        "Comments['comment_text']=Comments['comment_text'].apply(lambda x: x.lower())"
      ],
      "execution_count": 0,
      "outputs": []
    },
    {
      "cell_type": "code",
      "metadata": {
        "id": "rSQsEKLfXfIB",
        "colab_type": "code",
        "colab": {}
      },
      "source": [
        "sampled_comments=Comments.sample(30000)"
      ],
      "execution_count": 0,
      "outputs": []
    },
    {
      "cell_type": "code",
      "metadata": {
        "id": "-wxt-fwhYFdY",
        "colab_type": "code",
        "outputId": "eb0f4fd7-8e10-4153-8a50-03f6ab5c5556",
        "colab": {
          "base_uri": "https://localhost:8080/",
          "height": 206
        }
      },
      "source": [
        "sampled_comments.head()"
      ],
      "execution_count": 14,
      "outputs": [
        {
          "output_type": "execute_result",
          "data": {
            "text/html": [
              "<div>\n",
              "<style scoped>\n",
              "    .dataframe tbody tr th:only-of-type {\n",
              "        vertical-align: middle;\n",
              "    }\n",
              "\n",
              "    .dataframe tbody tr th {\n",
              "        vertical-align: top;\n",
              "    }\n",
              "\n",
              "    .dataframe thead th {\n",
              "        text-align: right;\n",
              "    }\n",
              "</style>\n",
              "<table border=\"1\" class=\"dataframe\">\n",
              "  <thead>\n",
              "    <tr style=\"text-align: right;\">\n",
              "      <th></th>\n",
              "      <th>video_id</th>\n",
              "      <th>comment_text</th>\n",
              "      <th>likes</th>\n",
              "      <th>replies</th>\n",
              "    </tr>\n",
              "  </thead>\n",
              "  <tbody>\n",
              "    <tr>\n",
              "      <th>1067783</th>\n",
              "      <td>iTUsiJh9PgE</td>\n",
              "      <td>you should so do a chrissy teigan inspired loo...</td>\n",
              "      <td>0</td>\n",
              "      <td>0</td>\n",
              "    </tr>\n",
              "    <tr>\n",
              "      <th>675860</th>\n",
              "      <td>xNddRhpx5tA</td>\n",
              "      <td>16:20 oh you're definitely gonna watch part 3 ...</td>\n",
              "      <td>1</td>\n",
              "      <td>0</td>\n",
              "    </tr>\n",
              "    <tr>\n",
              "      <th>215177</th>\n",
              "      <td>Q4jzFEC1Fyk</td>\n",
              "      <td>fifa 18 rating is a fucking joke. like serious...</td>\n",
              "      <td>0</td>\n",
              "      <td>0</td>\n",
              "    </tr>\n",
              "    <tr>\n",
              "      <th>1331650</th>\n",
              "      <td>R1ZXOOLMJ8s</td>\n",
              "      <td>that's freaky awesome...</td>\n",
              "      <td>0</td>\n",
              "      <td>0</td>\n",
              "    </tr>\n",
              "    <tr>\n",
              "      <th>363933</th>\n",
              "      <td>T58NGMrUp0M</td>\n",
              "      <td>did tab for a cause pay you? because if they d...</td>\n",
              "      <td>37</td>\n",
              "      <td>12</td>\n",
              "    </tr>\n",
              "  </tbody>\n",
              "</table>\n",
              "</div>"
            ],
            "text/plain": [
              "            video_id  ... replies\n",
              "1067783  iTUsiJh9PgE  ...       0\n",
              "675860   xNddRhpx5tA  ...       0\n",
              "215177   Q4jzFEC1Fyk  ...       0\n",
              "1331650  R1ZXOOLMJ8s  ...       0\n",
              "363933   T58NGMrUp0M  ...      12\n",
              "\n",
              "[5 rows x 4 columns]"
            ]
          },
          "metadata": {
            "tags": []
          },
          "execution_count": 14
        }
      ]
    },
    {
      "cell_type": "code",
      "metadata": {
        "id": "9BIltXoajQEf",
        "colab_type": "code",
        "colab": {}
      },
      "source": [
        ""
      ],
      "execution_count": 0,
      "outputs": []
    },
    {
      "cell_type": "markdown",
      "metadata": {
        "colab_type": "text",
        "id": "8wf9KcRLndlR"
      },
      "source": [
        "# Tokenization using Spacy"
      ]
    },
    {
      "cell_type": "markdown",
      "metadata": {
        "id": "FABoJFS5-sqP",
        "colab_type": "text"
      },
      "source": [
        "## [Click here for Documentation of spacymoji](https://github.com/ines/spacymoji)"
      ]
    },
    {
      "cell_type": "code",
      "metadata": {
        "id": "LMD3DOZ--Z_P",
        "colab_type": "code",
        "colab": {}
      },
      "source": [
        "# pip install spacymoji"
      ],
      "execution_count": 0,
      "outputs": []
    },
    {
      "cell_type": "code",
      "metadata": {
        "id": "qQK5Wsh9-Nz9",
        "colab_type": "code",
        "colab": {}
      },
      "source": [
        "# from spacymoji import Emoji\n",
        "# emoji = Emoji(nlp)"
      ],
      "execution_count": 0,
      "outputs": []
    },
    {
      "cell_type": "code",
      "metadata": {
        "id": "Cs0-U2olYHOO",
        "colab_type": "code",
        "outputId": "5761863c-27e5-471b-eea2-32cef6a3f0c4",
        "colab": {
          "base_uri": "https://localhost:8080/",
          "height": 17
        }
      },
      "source": [
        "nlp = spacy.load(\"en_core_web_sm\")\n",
        "#nlp.add_pipe(emoji, first=True)\n",
        "c=0\n",
        "tokenized_sents=[]\n",
        "for i in sampled_comments['comment_text']:\n",
        "    doc=nlp(i)\n",
        "    tokens=[]\n",
        "    for token in doc:\n",
        "      if((token.is_stop==False and token.is_punct==False) and token.is_alpha==True):\n",
        "        tokens.append(token.lemma_)\n",
        "    tokenized_sents.append(tokens)\n",
        "    print(c,end='\\r')\n",
        "    c+=1"
      ],
      "execution_count": 17,
      "outputs": [
        {
          "output_type": "stream",
          "text": [
            ""
          ],
          "name": "stdout"
        }
      ]
    },
    {
      "cell_type": "code",
      "metadata": {
        "id": "jtpI45icfnmp",
        "colab_type": "code",
        "colab": {}
      },
      "source": [
        "#sampled_comments.drop('tokenized_comments',inplace=True,axis=1)"
      ],
      "execution_count": 0,
      "outputs": []
    },
    {
      "cell_type": "code",
      "metadata": {
        "id": "18tuhaWhbto_",
        "colab_type": "code",
        "colab": {}
      },
      "source": [
        "sampled_comments['tokenized_comments']=tokenized_sents"
      ],
      "execution_count": 0,
      "outputs": []
    },
    {
      "cell_type": "code",
      "metadata": {
        "id": "T4yg1FTGfbwk",
        "colab_type": "code",
        "outputId": "62e5524f-f3bb-416f-ccf1-032c3396461f",
        "colab": {
          "base_uri": "https://localhost:8080/",
          "height": 206
        }
      },
      "source": [
        "sampled_comments.head()"
      ],
      "execution_count": 20,
      "outputs": [
        {
          "output_type": "execute_result",
          "data": {
            "text/html": [
              "<div>\n",
              "<style scoped>\n",
              "    .dataframe tbody tr th:only-of-type {\n",
              "        vertical-align: middle;\n",
              "    }\n",
              "\n",
              "    .dataframe tbody tr th {\n",
              "        vertical-align: top;\n",
              "    }\n",
              "\n",
              "    .dataframe thead th {\n",
              "        text-align: right;\n",
              "    }\n",
              "</style>\n",
              "<table border=\"1\" class=\"dataframe\">\n",
              "  <thead>\n",
              "    <tr style=\"text-align: right;\">\n",
              "      <th></th>\n",
              "      <th>video_id</th>\n",
              "      <th>comment_text</th>\n",
              "      <th>likes</th>\n",
              "      <th>replies</th>\n",
              "      <th>tokenized_comments</th>\n",
              "    </tr>\n",
              "  </thead>\n",
              "  <tbody>\n",
              "    <tr>\n",
              "      <th>1067783</th>\n",
              "      <td>iTUsiJh9PgE</td>\n",
              "      <td>you should so do a chrissy teigan inspired loo...</td>\n",
              "      <td>0</td>\n",
              "      <td>0</td>\n",
              "      <td>[chrissy, teigan, inspire, look, love, video]</td>\n",
              "    </tr>\n",
              "    <tr>\n",
              "      <th>675860</th>\n",
              "      <td>xNddRhpx5tA</td>\n",
              "      <td>16:20 oh you're definitely gonna watch part 3 ...</td>\n",
              "      <td>1</td>\n",
              "      <td>0</td>\n",
              "      <td>[oh, definitely, go, to, watch, bad, jason, su...</td>\n",
              "    </tr>\n",
              "    <tr>\n",
              "      <th>215177</th>\n",
              "      <td>Q4jzFEC1Fyk</td>\n",
              "      <td>fifa 18 rating is a fucking joke. like serious...</td>\n",
              "      <td>0</td>\n",
              "      <td>0</td>\n",
              "      <td>[fifa, rating, fucking, joke, like, seriously,...</td>\n",
              "    </tr>\n",
              "    <tr>\n",
              "      <th>1331650</th>\n",
              "      <td>R1ZXOOLMJ8s</td>\n",
              "      <td>that's freaky awesome...</td>\n",
              "      <td>0</td>\n",
              "      <td>0</td>\n",
              "      <td>[freaky, awesome]</td>\n",
              "    </tr>\n",
              "    <tr>\n",
              "      <th>363933</th>\n",
              "      <td>T58NGMrUp0M</td>\n",
              "      <td>did tab for a cause pay you? because if they d...</td>\n",
              "      <td>37</td>\n",
              "      <td>12</td>\n",
              "      <td>[tab, cause, pay, mean, money, charity, use, a...</td>\n",
              "    </tr>\n",
              "  </tbody>\n",
              "</table>\n",
              "</div>"
            ],
            "text/plain": [
              "            video_id  ...                                 tokenized_comments\n",
              "1067783  iTUsiJh9PgE  ...      [chrissy, teigan, inspire, look, love, video]\n",
              "675860   xNddRhpx5tA  ...  [oh, definitely, go, to, watch, bad, jason, su...\n",
              "215177   Q4jzFEC1Fyk  ...  [fifa, rating, fucking, joke, like, seriously,...\n",
              "1331650  R1ZXOOLMJ8s  ...                                  [freaky, awesome]\n",
              "363933   T58NGMrUp0M  ...  [tab, cause, pay, mean, money, charity, use, a...\n",
              "\n",
              "[5 rows x 5 columns]"
            ]
          },
          "metadata": {
            "tags": []
          },
          "execution_count": 20
        }
      ]
    },
    {
      "cell_type": "code",
      "metadata": {
        "id": "oeNG1sM_pMl3",
        "colab_type": "code",
        "colab": {}
      },
      "source": [
        "tokenized_sents=[]\n",
        "for i in sampled_comments['tokenized_comments']:\n",
        "  tokenized_sents.append(\" \".join(i))"
      ],
      "execution_count": 0,
      "outputs": []
    },
    {
      "cell_type": "code",
      "metadata": {
        "id": "GNGXAYfipObP",
        "colab_type": "code",
        "outputId": "6f961482-e33c-46ab-e90d-c9fb3ce51558",
        "colab": {
          "base_uri": "https://localhost:8080/",
          "height": 206
        }
      },
      "source": [
        "sampled_comments.drop('tokenized_comments',inplace=True,axis=1)\n",
        "sampled_comments['tokenized_comments']=tokenized_sents\n",
        "sampled_comments.head()"
      ],
      "execution_count": 22,
      "outputs": [
        {
          "output_type": "execute_result",
          "data": {
            "text/html": [
              "<div>\n",
              "<style scoped>\n",
              "    .dataframe tbody tr th:only-of-type {\n",
              "        vertical-align: middle;\n",
              "    }\n",
              "\n",
              "    .dataframe tbody tr th {\n",
              "        vertical-align: top;\n",
              "    }\n",
              "\n",
              "    .dataframe thead th {\n",
              "        text-align: right;\n",
              "    }\n",
              "</style>\n",
              "<table border=\"1\" class=\"dataframe\">\n",
              "  <thead>\n",
              "    <tr style=\"text-align: right;\">\n",
              "      <th></th>\n",
              "      <th>video_id</th>\n",
              "      <th>comment_text</th>\n",
              "      <th>likes</th>\n",
              "      <th>replies</th>\n",
              "      <th>tokenized_comments</th>\n",
              "    </tr>\n",
              "  </thead>\n",
              "  <tbody>\n",
              "    <tr>\n",
              "      <th>1067783</th>\n",
              "      <td>iTUsiJh9PgE</td>\n",
              "      <td>you should so do a chrissy teigan inspired loo...</td>\n",
              "      <td>0</td>\n",
              "      <td>0</td>\n",
              "      <td>chrissy teigan inspire look love video</td>\n",
              "    </tr>\n",
              "    <tr>\n",
              "      <th>675860</th>\n",
              "      <td>xNddRhpx5tA</td>\n",
              "      <td>16:20 oh you're definitely gonna watch part 3 ...</td>\n",
              "      <td>1</td>\n",
              "      <td>0</td>\n",
              "      <td>oh definitely go to watch bad jason subscriber...</td>\n",
              "    </tr>\n",
              "    <tr>\n",
              "      <th>215177</th>\n",
              "      <td>Q4jzFEC1Fyk</td>\n",
              "      <td>fifa 18 rating is a fucking joke. like serious...</td>\n",
              "      <td>0</td>\n",
              "      <td>0</td>\n",
              "      <td>fifa rating fucking joke like seriously fuckin...</td>\n",
              "    </tr>\n",
              "    <tr>\n",
              "      <th>1331650</th>\n",
              "      <td>R1ZXOOLMJ8s</td>\n",
              "      <td>that's freaky awesome...</td>\n",
              "      <td>0</td>\n",
              "      <td>0</td>\n",
              "      <td>freaky awesome</td>\n",
              "    </tr>\n",
              "    <tr>\n",
              "      <th>363933</th>\n",
              "      <td>T58NGMrUp0M</td>\n",
              "      <td>did tab for a cause pay you? because if they d...</td>\n",
              "      <td>37</td>\n",
              "      <td>12</td>\n",
              "      <td>tab cause pay mean money charity use advertise...</td>\n",
              "    </tr>\n",
              "  </tbody>\n",
              "</table>\n",
              "</div>"
            ],
            "text/plain": [
              "            video_id  ...                                 tokenized_comments\n",
              "1067783  iTUsiJh9PgE  ...             chrissy teigan inspire look love video\n",
              "675860   xNddRhpx5tA  ...  oh definitely go to watch bad jason subscriber...\n",
              "215177   Q4jzFEC1Fyk  ...  fifa rating fucking joke like seriously fuckin...\n",
              "1331650  R1ZXOOLMJ8s  ...                                     freaky awesome\n",
              "363933   T58NGMrUp0M  ...  tab cause pay mean money charity use advertise...\n",
              "\n",
              "[5 rows x 5 columns]"
            ]
          },
          "metadata": {
            "tags": []
          },
          "execution_count": 22
        }
      ]
    },
    {
      "cell_type": "code",
      "metadata": {
        "id": "lO-r5_v0pOoh",
        "colab_type": "code",
        "outputId": "a0ed22a7-2980-4dc9-d142-bd528c62f1be",
        "colab": {
          "base_uri": "https://localhost:8080/",
          "height": 206
        }
      },
      "source": [
        "# sampled_df.drop(['likes','replies'],inplace=True,axis=1)\n",
        " sampled_comments.head()"
      ],
      "execution_count": 23,
      "outputs": [
        {
          "output_type": "execute_result",
          "data": {
            "text/html": [
              "<div>\n",
              "<style scoped>\n",
              "    .dataframe tbody tr th:only-of-type {\n",
              "        vertical-align: middle;\n",
              "    }\n",
              "\n",
              "    .dataframe tbody tr th {\n",
              "        vertical-align: top;\n",
              "    }\n",
              "\n",
              "    .dataframe thead th {\n",
              "        text-align: right;\n",
              "    }\n",
              "</style>\n",
              "<table border=\"1\" class=\"dataframe\">\n",
              "  <thead>\n",
              "    <tr style=\"text-align: right;\">\n",
              "      <th></th>\n",
              "      <th>video_id</th>\n",
              "      <th>comment_text</th>\n",
              "      <th>likes</th>\n",
              "      <th>replies</th>\n",
              "      <th>tokenized_comments</th>\n",
              "    </tr>\n",
              "  </thead>\n",
              "  <tbody>\n",
              "    <tr>\n",
              "      <th>1067783</th>\n",
              "      <td>iTUsiJh9PgE</td>\n",
              "      <td>you should so do a chrissy teigan inspired loo...</td>\n",
              "      <td>0</td>\n",
              "      <td>0</td>\n",
              "      <td>chrissy teigan inspire look love video</td>\n",
              "    </tr>\n",
              "    <tr>\n",
              "      <th>675860</th>\n",
              "      <td>xNddRhpx5tA</td>\n",
              "      <td>16:20 oh you're definitely gonna watch part 3 ...</td>\n",
              "      <td>1</td>\n",
              "      <td>0</td>\n",
              "      <td>oh definitely go to watch bad jason subscriber...</td>\n",
              "    </tr>\n",
              "    <tr>\n",
              "      <th>215177</th>\n",
              "      <td>Q4jzFEC1Fyk</td>\n",
              "      <td>fifa 18 rating is a fucking joke. like serious...</td>\n",
              "      <td>0</td>\n",
              "      <td>0</td>\n",
              "      <td>fifa rating fucking joke like seriously fuckin...</td>\n",
              "    </tr>\n",
              "    <tr>\n",
              "      <th>1331650</th>\n",
              "      <td>R1ZXOOLMJ8s</td>\n",
              "      <td>that's freaky awesome...</td>\n",
              "      <td>0</td>\n",
              "      <td>0</td>\n",
              "      <td>freaky awesome</td>\n",
              "    </tr>\n",
              "    <tr>\n",
              "      <th>363933</th>\n",
              "      <td>T58NGMrUp0M</td>\n",
              "      <td>did tab for a cause pay you? because if they d...</td>\n",
              "      <td>37</td>\n",
              "      <td>12</td>\n",
              "      <td>tab cause pay mean money charity use advertise...</td>\n",
              "    </tr>\n",
              "  </tbody>\n",
              "</table>\n",
              "</div>"
            ],
            "text/plain": [
              "            video_id  ...                                 tokenized_comments\n",
              "1067783  iTUsiJh9PgE  ...             chrissy teigan inspire look love video\n",
              "675860   xNddRhpx5tA  ...  oh definitely go to watch bad jason subscriber...\n",
              "215177   Q4jzFEC1Fyk  ...  fifa rating fucking joke like seriously fuckin...\n",
              "1331650  R1ZXOOLMJ8s  ...                                     freaky awesome\n",
              "363933   T58NGMrUp0M  ...  tab cause pay mean money charity use advertise...\n",
              "\n",
              "[5 rows x 5 columns]"
            ]
          },
          "metadata": {
            "tags": []
          },
          "execution_count": 23
        }
      ]
    },
    {
      "cell_type": "code",
      "metadata": {
        "id": "9wRk9V8nNW-N",
        "colab_type": "code",
        "colab": {}
      },
      "source": [
        "#pip install nltk"
      ],
      "execution_count": 0,
      "outputs": []
    },
    {
      "cell_type": "code",
      "metadata": {
        "id": "IoWgSgCMOGON",
        "colab_type": "code",
        "colab": {}
      },
      "source": [
        "#import nltk"
      ],
      "execution_count": 0,
      "outputs": []
    },
    {
      "cell_type": "code",
      "metadata": {
        "id": "_TfSgST7OBKe",
        "colab_type": "code",
        "colab": {}
      },
      "source": [
        "#nltk.download('words')"
      ],
      "execution_count": 0,
      "outputs": []
    },
    {
      "cell_type": "code",
      "metadata": {
        "id": "DVhnfHyWfdpu",
        "colab_type": "code",
        "colab": {}
      },
      "source": [
        "# words = set(nltk.corpus.words.words())\n",
        "\n",
        "# cleaned_sents=[]\n",
        "\n",
        "# for sent in sampled_comments['tokenized_comments']:\n",
        "#   cleaned_sents.append(\" \".join(w for w in nltk.wordpunct_tokenize(sent) \\\n",
        "#          if w.lower() in words or not w.isalpha()))"
      ],
      "execution_count": 0,
      "outputs": []
    },
    {
      "cell_type": "code",
      "metadata": {
        "id": "_qWF3wQJnXx3",
        "colab_type": "code",
        "colab": {}
      },
      "source": [
        "# sampled_comments.drop('tokenized_comments',inplace=True,axis=1)\n",
        "# sampled_comments['tokenized_comments']=cleaned_sents\n",
        "# sampled_comments.head()"
      ],
      "execution_count": 0,
      "outputs": []
    },
    {
      "cell_type": "code",
      "metadata": {
        "id": "t-WS6XEZOP5M",
        "colab_type": "code",
        "outputId": "75ecdf69-8695-457e-d329-8a027c8d1628",
        "colab": {
          "base_uri": "https://localhost:8080/",
          "height": 293
        }
      },
      "source": [
        "Videos.head()"
      ],
      "execution_count": 29,
      "outputs": [
        {
          "output_type": "execute_result",
          "data": {
            "text/html": [
              "<div>\n",
              "<style scoped>\n",
              "    .dataframe tbody tr th:only-of-type {\n",
              "        vertical-align: middle;\n",
              "    }\n",
              "\n",
              "    .dataframe tbody tr th {\n",
              "        vertical-align: top;\n",
              "    }\n",
              "\n",
              "    .dataframe thead th {\n",
              "        text-align: right;\n",
              "    }\n",
              "</style>\n",
              "<table border=\"1\" class=\"dataframe\">\n",
              "  <thead>\n",
              "    <tr style=\"text-align: right;\">\n",
              "      <th></th>\n",
              "      <th>video_id</th>\n",
              "      <th>title</th>\n",
              "      <th>channel_title</th>\n",
              "      <th>category_id</th>\n",
              "      <th>tags</th>\n",
              "      <th>views</th>\n",
              "      <th>likes</th>\n",
              "      <th>dislikes</th>\n",
              "      <th>comment_total</th>\n",
              "      <th>thumbnail_link</th>\n",
              "      <th>date</th>\n",
              "    </tr>\n",
              "  </thead>\n",
              "  <tbody>\n",
              "    <tr>\n",
              "      <th>0</th>\n",
              "      <td>jt2OHQh0HoQ</td>\n",
              "      <td>Live Apple Event - Apple September Event 2017 ...</td>\n",
              "      <td>Apple Event</td>\n",
              "      <td>28</td>\n",
              "      <td>apple events|apple event|iphone 8|iphone x|iph...</td>\n",
              "      <td>7426393</td>\n",
              "      <td>78240</td>\n",
              "      <td>13548</td>\n",
              "      <td>705</td>\n",
              "      <td>https://i.ytimg.com/vi/jt2OHQh0HoQ/default_liv...</td>\n",
              "      <td>13.09</td>\n",
              "    </tr>\n",
              "    <tr>\n",
              "      <th>1</th>\n",
              "      <td>AqokkXoa7uE</td>\n",
              "      <td>Holly and Phillip Meet Samantha the Sex Robot ...</td>\n",
              "      <td>This Morning</td>\n",
              "      <td>24</td>\n",
              "      <td>this morning|interview|holly willoughby|philli...</td>\n",
              "      <td>494203</td>\n",
              "      <td>2651</td>\n",
              "      <td>1309</td>\n",
              "      <td>0</td>\n",
              "      <td>https://i.ytimg.com/vi/AqokkXoa7uE/default.jpg</td>\n",
              "      <td>13.09</td>\n",
              "    </tr>\n",
              "    <tr>\n",
              "      <th>2</th>\n",
              "      <td>YPVcg45W0z4</td>\n",
              "      <td>My DNA Test Results! I'm WHAT?!</td>\n",
              "      <td>emmablackery</td>\n",
              "      <td>24</td>\n",
              "      <td>emmablackery|emma blackery|emma|blackery|briti...</td>\n",
              "      <td>142819</td>\n",
              "      <td>13119</td>\n",
              "      <td>151</td>\n",
              "      <td>1141</td>\n",
              "      <td>https://i.ytimg.com/vi/YPVcg45W0z4/default.jpg</td>\n",
              "      <td>13.09</td>\n",
              "    </tr>\n",
              "    <tr>\n",
              "      <th>3</th>\n",
              "      <td>T_PuZBdT2iM</td>\n",
              "      <td>getting into a conversation in a language you ...</td>\n",
              "      <td>ProZD</td>\n",
              "      <td>1</td>\n",
              "      <td>skit|korean|language|conversation|esl|japanese...</td>\n",
              "      <td>1580028</td>\n",
              "      <td>65729</td>\n",
              "      <td>1529</td>\n",
              "      <td>3598</td>\n",
              "      <td>https://i.ytimg.com/vi/T_PuZBdT2iM/default.jpg</td>\n",
              "      <td>13.09</td>\n",
              "    </tr>\n",
              "    <tr>\n",
              "      <th>4</th>\n",
              "      <td>NsjsmgmbCfc</td>\n",
              "      <td>Baby Name Challenge!</td>\n",
              "      <td>Sprinkleofglitter</td>\n",
              "      <td>26</td>\n",
              "      <td>sprinkleofglitter|sprinkle of glitter|baby gli...</td>\n",
              "      <td>40592</td>\n",
              "      <td>5019</td>\n",
              "      <td>57</td>\n",
              "      <td>490</td>\n",
              "      <td>https://i.ytimg.com/vi/NsjsmgmbCfc/default.jpg</td>\n",
              "      <td>13.09</td>\n",
              "    </tr>\n",
              "  </tbody>\n",
              "</table>\n",
              "</div>"
            ],
            "text/plain": [
              "      video_id  ...   date\n",
              "0  jt2OHQh0HoQ  ...  13.09\n",
              "1  AqokkXoa7uE  ...  13.09\n",
              "2  YPVcg45W0z4  ...  13.09\n",
              "3  T_PuZBdT2iM  ...  13.09\n",
              "4  NsjsmgmbCfc  ...  13.09\n",
              "\n",
              "[5 rows x 11 columns]"
            ]
          },
          "metadata": {
            "tags": []
          },
          "execution_count": 29
        }
      ]
    },
    {
      "cell_type": "code",
      "metadata": {
        "id": "tPKFzMaLZcEM",
        "colab_type": "code",
        "colab": {}
      },
      "source": [
        "Videos['tags']=Videos['tags'].apply(lambda x: x.split(\"|\"))"
      ],
      "execution_count": 0,
      "outputs": []
    },
    {
      "cell_type": "code",
      "metadata": {
        "id": "HwzJsOczTZbH",
        "colab_type": "code",
        "colab": {}
      },
      "source": [
        "Videos['tags']=Videos['tags'].apply(lambda x: \" \".join(x))"
      ],
      "execution_count": 0,
      "outputs": []
    },
    {
      "cell_type": "code",
      "metadata": {
        "id": "uf_7EqSoQb5V",
        "colab_type": "code",
        "outputId": "d0abc8da-672a-4b43-c5cf-d284fe6fb419",
        "colab": {
          "base_uri": "https://localhost:8080/",
          "height": 293
        }
      },
      "source": [
        "Videos.head()"
      ],
      "execution_count": 32,
      "outputs": [
        {
          "output_type": "execute_result",
          "data": {
            "text/html": [
              "<div>\n",
              "<style scoped>\n",
              "    .dataframe tbody tr th:only-of-type {\n",
              "        vertical-align: middle;\n",
              "    }\n",
              "\n",
              "    .dataframe tbody tr th {\n",
              "        vertical-align: top;\n",
              "    }\n",
              "\n",
              "    .dataframe thead th {\n",
              "        text-align: right;\n",
              "    }\n",
              "</style>\n",
              "<table border=\"1\" class=\"dataframe\">\n",
              "  <thead>\n",
              "    <tr style=\"text-align: right;\">\n",
              "      <th></th>\n",
              "      <th>video_id</th>\n",
              "      <th>title</th>\n",
              "      <th>channel_title</th>\n",
              "      <th>category_id</th>\n",
              "      <th>tags</th>\n",
              "      <th>views</th>\n",
              "      <th>likes</th>\n",
              "      <th>dislikes</th>\n",
              "      <th>comment_total</th>\n",
              "      <th>thumbnail_link</th>\n",
              "      <th>date</th>\n",
              "    </tr>\n",
              "  </thead>\n",
              "  <tbody>\n",
              "    <tr>\n",
              "      <th>0</th>\n",
              "      <td>jt2OHQh0HoQ</td>\n",
              "      <td>Live Apple Event - Apple September Event 2017 ...</td>\n",
              "      <td>Apple Event</td>\n",
              "      <td>28</td>\n",
              "      <td>apple events apple event iphone 8 iphone x iph...</td>\n",
              "      <td>7426393</td>\n",
              "      <td>78240</td>\n",
              "      <td>13548</td>\n",
              "      <td>705</td>\n",
              "      <td>https://i.ytimg.com/vi/jt2OHQh0HoQ/default_liv...</td>\n",
              "      <td>13.09</td>\n",
              "    </tr>\n",
              "    <tr>\n",
              "      <th>1</th>\n",
              "      <td>AqokkXoa7uE</td>\n",
              "      <td>Holly and Phillip Meet Samantha the Sex Robot ...</td>\n",
              "      <td>This Morning</td>\n",
              "      <td>24</td>\n",
              "      <td>this morning interview holly willoughby philli...</td>\n",
              "      <td>494203</td>\n",
              "      <td>2651</td>\n",
              "      <td>1309</td>\n",
              "      <td>0</td>\n",
              "      <td>https://i.ytimg.com/vi/AqokkXoa7uE/default.jpg</td>\n",
              "      <td>13.09</td>\n",
              "    </tr>\n",
              "    <tr>\n",
              "      <th>2</th>\n",
              "      <td>YPVcg45W0z4</td>\n",
              "      <td>My DNA Test Results! I'm WHAT?!</td>\n",
              "      <td>emmablackery</td>\n",
              "      <td>24</td>\n",
              "      <td>emmablackery emma blackery emma blackery briti...</td>\n",
              "      <td>142819</td>\n",
              "      <td>13119</td>\n",
              "      <td>151</td>\n",
              "      <td>1141</td>\n",
              "      <td>https://i.ytimg.com/vi/YPVcg45W0z4/default.jpg</td>\n",
              "      <td>13.09</td>\n",
              "    </tr>\n",
              "    <tr>\n",
              "      <th>3</th>\n",
              "      <td>T_PuZBdT2iM</td>\n",
              "      <td>getting into a conversation in a language you ...</td>\n",
              "      <td>ProZD</td>\n",
              "      <td>1</td>\n",
              "      <td>skit korean language conversation esl japanese...</td>\n",
              "      <td>1580028</td>\n",
              "      <td>65729</td>\n",
              "      <td>1529</td>\n",
              "      <td>3598</td>\n",
              "      <td>https://i.ytimg.com/vi/T_PuZBdT2iM/default.jpg</td>\n",
              "      <td>13.09</td>\n",
              "    </tr>\n",
              "    <tr>\n",
              "      <th>4</th>\n",
              "      <td>NsjsmgmbCfc</td>\n",
              "      <td>Baby Name Challenge!</td>\n",
              "      <td>Sprinkleofglitter</td>\n",
              "      <td>26</td>\n",
              "      <td>sprinkleofglitter sprinkle of glitter baby gli...</td>\n",
              "      <td>40592</td>\n",
              "      <td>5019</td>\n",
              "      <td>57</td>\n",
              "      <td>490</td>\n",
              "      <td>https://i.ytimg.com/vi/NsjsmgmbCfc/default.jpg</td>\n",
              "      <td>13.09</td>\n",
              "    </tr>\n",
              "  </tbody>\n",
              "</table>\n",
              "</div>"
            ],
            "text/plain": [
              "      video_id  ...   date\n",
              "0  jt2OHQh0HoQ  ...  13.09\n",
              "1  AqokkXoa7uE  ...  13.09\n",
              "2  YPVcg45W0z4  ...  13.09\n",
              "3  T_PuZBdT2iM  ...  13.09\n",
              "4  NsjsmgmbCfc  ...  13.09\n",
              "\n",
              "[5 rows x 11 columns]"
            ]
          },
          "metadata": {
            "tags": []
          },
          "execution_count": 32
        }
      ]
    },
    {
      "cell_type": "code",
      "metadata": {
        "id": "TeHsnv_AoS3m",
        "colab_type": "code",
        "colab": {}
      },
      "source": [
        "Videos['tags']=Videos['tags'].apply(lambda x: x.lower())"
      ],
      "execution_count": 0,
      "outputs": []
    },
    {
      "cell_type": "code",
      "metadata": {
        "id": "2VWudJUbRpZd",
        "colab_type": "code",
        "outputId": "03022c78-f76a-4f88-c4cd-734daa387ada",
        "colab": {
          "base_uri": "https://localhost:8080/",
          "height": 17
        }
      },
      "source": [
        "nlp = spacy.load(\"en\")\n",
        "c=0\n",
        "tokenized_sents=[]\n",
        "for i in Videos['tags']:\n",
        "    doc=nlp(i)\n",
        "    tokens=[]\n",
        "    for token in doc:\n",
        "      if(token.is_stop==False and token.is_punct==False):\n",
        "        tokens.append(token.lemma_)\n",
        "    tokenized_sents.append(tokens)\n",
        "    print(c,end='\\r')\n",
        "    c+=1"
      ],
      "execution_count": 34,
      "outputs": [
        {
          "output_type": "stream",
          "text": [
            ""
          ],
          "name": "stdout"
        }
      ]
    },
    {
      "cell_type": "code",
      "metadata": {
        "id": "bjAb8qskTwis",
        "colab_type": "code",
        "colab": {}
      },
      "source": [
        "#Videos.drop(['tokenized_tags'],axis=1,inplace=True)\n",
        "Videos['tokenized_tags']=tokenized_sents"
      ],
      "execution_count": 0,
      "outputs": []
    },
    {
      "cell_type": "code",
      "metadata": {
        "id": "DTG8SGxIkM3Q",
        "colab_type": "code",
        "outputId": "822374c4-fb42-4f7d-cc26-0c2b2ce7b506",
        "colab": {
          "base_uri": "https://localhost:8080/",
          "height": 293
        }
      },
      "source": [
        "Videos.head()"
      ],
      "execution_count": 36,
      "outputs": [
        {
          "output_type": "execute_result",
          "data": {
            "text/html": [
              "<div>\n",
              "<style scoped>\n",
              "    .dataframe tbody tr th:only-of-type {\n",
              "        vertical-align: middle;\n",
              "    }\n",
              "\n",
              "    .dataframe tbody tr th {\n",
              "        vertical-align: top;\n",
              "    }\n",
              "\n",
              "    .dataframe thead th {\n",
              "        text-align: right;\n",
              "    }\n",
              "</style>\n",
              "<table border=\"1\" class=\"dataframe\">\n",
              "  <thead>\n",
              "    <tr style=\"text-align: right;\">\n",
              "      <th></th>\n",
              "      <th>video_id</th>\n",
              "      <th>title</th>\n",
              "      <th>channel_title</th>\n",
              "      <th>category_id</th>\n",
              "      <th>tags</th>\n",
              "      <th>views</th>\n",
              "      <th>likes</th>\n",
              "      <th>dislikes</th>\n",
              "      <th>comment_total</th>\n",
              "      <th>thumbnail_link</th>\n",
              "      <th>date</th>\n",
              "      <th>tokenized_tags</th>\n",
              "    </tr>\n",
              "  </thead>\n",
              "  <tbody>\n",
              "    <tr>\n",
              "      <th>0</th>\n",
              "      <td>jt2OHQh0HoQ</td>\n",
              "      <td>Live Apple Event - Apple September Event 2017 ...</td>\n",
              "      <td>Apple Event</td>\n",
              "      <td>28</td>\n",
              "      <td>apple events apple event iphone 8 iphone x iph...</td>\n",
              "      <td>7426393</td>\n",
              "      <td>78240</td>\n",
              "      <td>13548</td>\n",
              "      <td>705</td>\n",
              "      <td>https://i.ytimg.com/vi/jt2OHQh0HoQ/default_liv...</td>\n",
              "      <td>13.09</td>\n",
              "      <td>[apple, event, apple, event, iphone, 8, iphone...</td>\n",
              "    </tr>\n",
              "    <tr>\n",
              "      <th>1</th>\n",
              "      <td>AqokkXoa7uE</td>\n",
              "      <td>Holly and Phillip Meet Samantha the Sex Robot ...</td>\n",
              "      <td>This Morning</td>\n",
              "      <td>24</td>\n",
              "      <td>this morning interview holly willoughby philli...</td>\n",
              "      <td>494203</td>\n",
              "      <td>2651</td>\n",
              "      <td>1309</td>\n",
              "      <td>0</td>\n",
              "      <td>https://i.ytimg.com/vi/AqokkXoa7uE/default.jpg</td>\n",
              "      <td>13.09</td>\n",
              "      <td>[morning, interview, holly, willoughby, philli...</td>\n",
              "    </tr>\n",
              "    <tr>\n",
              "      <th>2</th>\n",
              "      <td>YPVcg45W0z4</td>\n",
              "      <td>My DNA Test Results! I'm WHAT?!</td>\n",
              "      <td>emmablackery</td>\n",
              "      <td>24</td>\n",
              "      <td>emmablackery emma blackery emma blackery briti...</td>\n",
              "      <td>142819</td>\n",
              "      <td>13119</td>\n",
              "      <td>151</td>\n",
              "      <td>1141</td>\n",
              "      <td>https://i.ytimg.com/vi/YPVcg45W0z4/default.jpg</td>\n",
              "      <td>13.09</td>\n",
              "      <td>[emmablackery, emma, blackery, emma, blackery,...</td>\n",
              "    </tr>\n",
              "    <tr>\n",
              "      <th>3</th>\n",
              "      <td>T_PuZBdT2iM</td>\n",
              "      <td>getting into a conversation in a language you ...</td>\n",
              "      <td>ProZD</td>\n",
              "      <td>1</td>\n",
              "      <td>skit korean language conversation esl japanese...</td>\n",
              "      <td>1580028</td>\n",
              "      <td>65729</td>\n",
              "      <td>1529</td>\n",
              "      <td>3598</td>\n",
              "      <td>https://i.ytimg.com/vi/T_PuZBdT2iM/default.jpg</td>\n",
              "      <td>13.09</td>\n",
              "      <td>[skit, korean, language, conversation, esl, ja...</td>\n",
              "    </tr>\n",
              "    <tr>\n",
              "      <th>4</th>\n",
              "      <td>NsjsmgmbCfc</td>\n",
              "      <td>Baby Name Challenge!</td>\n",
              "      <td>Sprinkleofglitter</td>\n",
              "      <td>26</td>\n",
              "      <td>sprinkleofglitter sprinkle of glitter baby gli...</td>\n",
              "      <td>40592</td>\n",
              "      <td>5019</td>\n",
              "      <td>57</td>\n",
              "      <td>490</td>\n",
              "      <td>https://i.ytimg.com/vi/NsjsmgmbCfc/default.jpg</td>\n",
              "      <td>13.09</td>\n",
              "      <td>[sprinkleofglitter, sprinkle, glitter, baby, g...</td>\n",
              "    </tr>\n",
              "  </tbody>\n",
              "</table>\n",
              "</div>"
            ],
            "text/plain": [
              "      video_id  ...                                     tokenized_tags\n",
              "0  jt2OHQh0HoQ  ...  [apple, event, apple, event, iphone, 8, iphone...\n",
              "1  AqokkXoa7uE  ...  [morning, interview, holly, willoughby, philli...\n",
              "2  YPVcg45W0z4  ...  [emmablackery, emma, blackery, emma, blackery,...\n",
              "3  T_PuZBdT2iM  ...  [skit, korean, language, conversation, esl, ja...\n",
              "4  NsjsmgmbCfc  ...  [sprinkleofglitter, sprinkle, glitter, baby, g...\n",
              "\n",
              "[5 rows x 12 columns]"
            ]
          },
          "metadata": {
            "tags": []
          },
          "execution_count": 36
        }
      ]
    },
    {
      "cell_type": "code",
      "metadata": {
        "id": "MBJo-ghdkTxL",
        "colab_type": "code",
        "colab": {}
      },
      "source": [
        "Videos['tokenized_tags']=Videos['tokenized_tags'].apply(lambda x: list(dict.fromkeys(x)))\n",
        "\n",
        "# mylist = [\"a\", \"b\", \"a\", \"c\", \"c\"]\n",
        "# mylist = list(dict.fromkeys(mylist))\n",
        "# print(mylist)\n"
      ],
      "execution_count": 0,
      "outputs": []
    },
    {
      "cell_type": "code",
      "metadata": {
        "id": "HiQ7kIeHovuF",
        "colab_type": "code",
        "colab": {}
      },
      "source": [
        "Videos['title']=Videos['title'].apply(lambda x: x.lower())"
      ],
      "execution_count": 0,
      "outputs": []
    },
    {
      "cell_type": "code",
      "metadata": {
        "id": "iUuFD4YalXsq",
        "colab_type": "code",
        "colab": {}
      },
      "source": [
        "#Videos.drop(['thumbnail_link','date','channel_title'],axis=1,inplace=True)"
      ],
      "execution_count": 0,
      "outputs": []
    },
    {
      "cell_type": "code",
      "metadata": {
        "colab_type": "code",
        "outputId": "d98c3b44-3aa7-4a47-9e55-603f8944db24",
        "id": "Rl9NwlU8lnht",
        "colab": {
          "base_uri": "https://localhost:8080/",
          "height": 17
        }
      },
      "source": [
        "nlp = spacy.load(\"en\")\n",
        "c=0\n",
        "tokenized_sents=[]\n",
        "for i in Videos['title']:\n",
        "    doc=nlp(i)\n",
        "    tokens=[]\n",
        "    for token in doc:\n",
        "      if((token.is_stop==False and token.is_punct==False) and token.is_alpha==True):\n",
        "        tokens.append(token.lemma_)\n",
        "    tokenized_sents.append(tokens)\n",
        "    print(c,end='\\r')\n",
        "    c+=1"
      ],
      "execution_count": 40,
      "outputs": [
        {
          "output_type": "stream",
          "text": [
            ""
          ],
          "name": "stdout"
        }
      ]
    },
    {
      "cell_type": "code",
      "metadata": {
        "id": "H160CcM5oFeh",
        "colab_type": "code",
        "colab": {}
      },
      "source": [
        "Videos['tokenized_titles']=tokenized_sents"
      ],
      "execution_count": 0,
      "outputs": []
    },
    {
      "cell_type": "code",
      "metadata": {
        "id": "eukmysgsmJQF",
        "colab_type": "code",
        "outputId": "c315f9db-facc-47d5-94c8-06eaba5bb029",
        "colab": {
          "base_uri": "https://localhost:8080/",
          "height": 380
        }
      },
      "source": [
        "Videos.head()"
      ],
      "execution_count": 42,
      "outputs": [
        {
          "output_type": "execute_result",
          "data": {
            "text/html": [
              "<div>\n",
              "<style scoped>\n",
              "    .dataframe tbody tr th:only-of-type {\n",
              "        vertical-align: middle;\n",
              "    }\n",
              "\n",
              "    .dataframe tbody tr th {\n",
              "        vertical-align: top;\n",
              "    }\n",
              "\n",
              "    .dataframe thead th {\n",
              "        text-align: right;\n",
              "    }\n",
              "</style>\n",
              "<table border=\"1\" class=\"dataframe\">\n",
              "  <thead>\n",
              "    <tr style=\"text-align: right;\">\n",
              "      <th></th>\n",
              "      <th>video_id</th>\n",
              "      <th>title</th>\n",
              "      <th>channel_title</th>\n",
              "      <th>category_id</th>\n",
              "      <th>tags</th>\n",
              "      <th>views</th>\n",
              "      <th>likes</th>\n",
              "      <th>dislikes</th>\n",
              "      <th>comment_total</th>\n",
              "      <th>thumbnail_link</th>\n",
              "      <th>date</th>\n",
              "      <th>tokenized_tags</th>\n",
              "      <th>tokenized_titles</th>\n",
              "    </tr>\n",
              "  </thead>\n",
              "  <tbody>\n",
              "    <tr>\n",
              "      <th>0</th>\n",
              "      <td>jt2OHQh0HoQ</td>\n",
              "      <td>live apple event - apple september event 2017 ...</td>\n",
              "      <td>Apple Event</td>\n",
              "      <td>28</td>\n",
              "      <td>apple events apple event iphone 8 iphone x iph...</td>\n",
              "      <td>7426393</td>\n",
              "      <td>78240</td>\n",
              "      <td>13548</td>\n",
              "      <td>705</td>\n",
              "      <td>https://i.ytimg.com/vi/jt2OHQh0HoQ/default_liv...</td>\n",
              "      <td>13.09</td>\n",
              "      <td>[apple, event, iphone, 8, x, plus, 7s, io, 11]</td>\n",
              "      <td>[live, apple, event, apple, september, event, ...</td>\n",
              "    </tr>\n",
              "    <tr>\n",
              "      <th>1</th>\n",
              "      <td>AqokkXoa7uE</td>\n",
              "      <td>holly and phillip meet samantha the sex robot ...</td>\n",
              "      <td>This Morning</td>\n",
              "      <td>24</td>\n",
              "      <td>this morning interview holly willoughby philli...</td>\n",
              "      <td>494203</td>\n",
              "      <td>2651</td>\n",
              "      <td>1309</td>\n",
              "      <td>0</td>\n",
              "      <td>https://i.ytimg.com/vi/AqokkXoa7uE/default.jpg</td>\n",
              "      <td>13.09</td>\n",
              "      <td>[morning, interview, holly, willoughby, philli...</td>\n",
              "      <td>[holly, phillip, meet, samantha, sex, robot, m...</td>\n",
              "    </tr>\n",
              "    <tr>\n",
              "      <th>2</th>\n",
              "      <td>YPVcg45W0z4</td>\n",
              "      <td>my dna test results! i'm what?!</td>\n",
              "      <td>emmablackery</td>\n",
              "      <td>24</td>\n",
              "      <td>emmablackery emma blackery emma blackery briti...</td>\n",
              "      <td>142819</td>\n",
              "      <td>13119</td>\n",
              "      <td>151</td>\n",
              "      <td>1141</td>\n",
              "      <td>https://i.ytimg.com/vi/YPVcg45W0z4/default.jpg</td>\n",
              "      <td>13.09</td>\n",
              "      <td>[emmablackery, emma, blackery, british, vlogge...</td>\n",
              "      <td>[dna, test, result]</td>\n",
              "    </tr>\n",
              "    <tr>\n",
              "      <th>3</th>\n",
              "      <td>T_PuZBdT2iM</td>\n",
              "      <td>getting into a conversation in a language you ...</td>\n",
              "      <td>ProZD</td>\n",
              "      <td>1</td>\n",
              "      <td>skit korean language conversation esl japanese...</td>\n",
              "      <td>1580028</td>\n",
              "      <td>65729</td>\n",
              "      <td>1529</td>\n",
              "      <td>3598</td>\n",
              "      <td>https://i.ytimg.com/vi/T_PuZBdT2iM/default.jpg</td>\n",
              "      <td>13.09</td>\n",
              "      <td>[skit, korean, language, conversation, esl, ja...</td>\n",
              "      <td>[get, conversation, language, actually, speak]</td>\n",
              "    </tr>\n",
              "    <tr>\n",
              "      <th>4</th>\n",
              "      <td>NsjsmgmbCfc</td>\n",
              "      <td>baby name challenge!</td>\n",
              "      <td>Sprinkleofglitter</td>\n",
              "      <td>26</td>\n",
              "      <td>sprinkleofglitter sprinkle of glitter baby gli...</td>\n",
              "      <td>40592</td>\n",
              "      <td>5019</td>\n",
              "      <td>57</td>\n",
              "      <td>490</td>\n",
              "      <td>https://i.ytimg.com/vi/NsjsmgmbCfc/default.jpg</td>\n",
              "      <td>13.09</td>\n",
              "      <td>[sprinkleofglitter, sprinkle, glitter, baby, l...</td>\n",
              "      <td>[baby, challenge]</td>\n",
              "    </tr>\n",
              "  </tbody>\n",
              "</table>\n",
              "</div>"
            ],
            "text/plain": [
              "      video_id  ...                                   tokenized_titles\n",
              "0  jt2OHQh0HoQ  ...  [live, apple, event, apple, september, event, ...\n",
              "1  AqokkXoa7uE  ...  [holly, phillip, meet, samantha, sex, robot, m...\n",
              "2  YPVcg45W0z4  ...                                [dna, test, result]\n",
              "3  T_PuZBdT2iM  ...     [get, conversation, language, actually, speak]\n",
              "4  NsjsmgmbCfc  ...                                  [baby, challenge]\n",
              "\n",
              "[5 rows x 13 columns]"
            ]
          },
          "metadata": {
            "tags": []
          },
          "execution_count": 42
        }
      ]
    },
    {
      "cell_type": "code",
      "metadata": {
        "id": "a1mygheyM9n4",
        "colab_type": "code",
        "colab": {}
      },
      "source": [
        "Videos['tokenized_titles']=Videos['tokenized_titles'].apply(lambda x: list(dict.fromkeys(x)))"
      ],
      "execution_count": 0,
      "outputs": []
    },
    {
      "cell_type": "code",
      "metadata": {
        "id": "IELTH422mORH",
        "colab_type": "code",
        "colab": {}
      },
      "source": [
        "tokenized_sents=[]\n",
        "for i in Videos['tokenized_titles']:\n",
        "  tokenized_sents.append(\" \".join(i))"
      ],
      "execution_count": 0,
      "outputs": []
    },
    {
      "cell_type": "code",
      "metadata": {
        "id": "Q-r5RFGprXYA",
        "colab_type": "code",
        "colab": {}
      },
      "source": [
        " Videos.drop('tokenized_titles',inplace=True,axis=1)\n",
        " Videos['tokenized_titles']=tokenized_sents\n"
      ],
      "execution_count": 0,
      "outputs": []
    },
    {
      "cell_type": "code",
      "metadata": {
        "id": "cwBXW69oMyTI",
        "colab_type": "code",
        "outputId": "deac2e25-1849-4937-ae16-57931447bc8a",
        "colab": {
          "base_uri": "https://localhost:8080/",
          "height": 380
        }
      },
      "source": [
        "Videos.head()"
      ],
      "execution_count": 46,
      "outputs": [
        {
          "output_type": "execute_result",
          "data": {
            "text/html": [
              "<div>\n",
              "<style scoped>\n",
              "    .dataframe tbody tr th:only-of-type {\n",
              "        vertical-align: middle;\n",
              "    }\n",
              "\n",
              "    .dataframe tbody tr th {\n",
              "        vertical-align: top;\n",
              "    }\n",
              "\n",
              "    .dataframe thead th {\n",
              "        text-align: right;\n",
              "    }\n",
              "</style>\n",
              "<table border=\"1\" class=\"dataframe\">\n",
              "  <thead>\n",
              "    <tr style=\"text-align: right;\">\n",
              "      <th></th>\n",
              "      <th>video_id</th>\n",
              "      <th>title</th>\n",
              "      <th>channel_title</th>\n",
              "      <th>category_id</th>\n",
              "      <th>tags</th>\n",
              "      <th>views</th>\n",
              "      <th>likes</th>\n",
              "      <th>dislikes</th>\n",
              "      <th>comment_total</th>\n",
              "      <th>thumbnail_link</th>\n",
              "      <th>date</th>\n",
              "      <th>tokenized_tags</th>\n",
              "      <th>tokenized_titles</th>\n",
              "    </tr>\n",
              "  </thead>\n",
              "  <tbody>\n",
              "    <tr>\n",
              "      <th>0</th>\n",
              "      <td>jt2OHQh0HoQ</td>\n",
              "      <td>live apple event - apple september event 2017 ...</td>\n",
              "      <td>Apple Event</td>\n",
              "      <td>28</td>\n",
              "      <td>apple events apple event iphone 8 iphone x iph...</td>\n",
              "      <td>7426393</td>\n",
              "      <td>78240</td>\n",
              "      <td>13548</td>\n",
              "      <td>705</td>\n",
              "      <td>https://i.ytimg.com/vi/jt2OHQh0HoQ/default_liv...</td>\n",
              "      <td>13.09</td>\n",
              "      <td>[apple, event, iphone, 8, x, plus, 7s, io, 11]</td>\n",
              "      <td>live apple event september iphone x io keynote</td>\n",
              "    </tr>\n",
              "    <tr>\n",
              "      <th>1</th>\n",
              "      <td>AqokkXoa7uE</td>\n",
              "      <td>holly and phillip meet samantha the sex robot ...</td>\n",
              "      <td>This Morning</td>\n",
              "      <td>24</td>\n",
              "      <td>this morning interview holly willoughby philli...</td>\n",
              "      <td>494203</td>\n",
              "      <td>2651</td>\n",
              "      <td>1309</td>\n",
              "      <td>0</td>\n",
              "      <td>https://i.ytimg.com/vi/AqokkXoa7uE/default.jpg</td>\n",
              "      <td>13.09</td>\n",
              "      <td>[morning, interview, holly, willoughby, philli...</td>\n",
              "      <td>holly phillip meet samantha sex robot morning</td>\n",
              "    </tr>\n",
              "    <tr>\n",
              "      <th>2</th>\n",
              "      <td>YPVcg45W0z4</td>\n",
              "      <td>my dna test results! i'm what?!</td>\n",
              "      <td>emmablackery</td>\n",
              "      <td>24</td>\n",
              "      <td>emmablackery emma blackery emma blackery briti...</td>\n",
              "      <td>142819</td>\n",
              "      <td>13119</td>\n",
              "      <td>151</td>\n",
              "      <td>1141</td>\n",
              "      <td>https://i.ytimg.com/vi/YPVcg45W0z4/default.jpg</td>\n",
              "      <td>13.09</td>\n",
              "      <td>[emmablackery, emma, blackery, british, vlogge...</td>\n",
              "      <td>dna test result</td>\n",
              "    </tr>\n",
              "    <tr>\n",
              "      <th>3</th>\n",
              "      <td>T_PuZBdT2iM</td>\n",
              "      <td>getting into a conversation in a language you ...</td>\n",
              "      <td>ProZD</td>\n",
              "      <td>1</td>\n",
              "      <td>skit korean language conversation esl japanese...</td>\n",
              "      <td>1580028</td>\n",
              "      <td>65729</td>\n",
              "      <td>1529</td>\n",
              "      <td>3598</td>\n",
              "      <td>https://i.ytimg.com/vi/T_PuZBdT2iM/default.jpg</td>\n",
              "      <td>13.09</td>\n",
              "      <td>[skit, korean, language, conversation, esl, ja...</td>\n",
              "      <td>get conversation language actually speak</td>\n",
              "    </tr>\n",
              "    <tr>\n",
              "      <th>4</th>\n",
              "      <td>NsjsmgmbCfc</td>\n",
              "      <td>baby name challenge!</td>\n",
              "      <td>Sprinkleofglitter</td>\n",
              "      <td>26</td>\n",
              "      <td>sprinkleofglitter sprinkle of glitter baby gli...</td>\n",
              "      <td>40592</td>\n",
              "      <td>5019</td>\n",
              "      <td>57</td>\n",
              "      <td>490</td>\n",
              "      <td>https://i.ytimg.com/vi/NsjsmgmbCfc/default.jpg</td>\n",
              "      <td>13.09</td>\n",
              "      <td>[sprinkleofglitter, sprinkle, glitter, baby, l...</td>\n",
              "      <td>baby challenge</td>\n",
              "    </tr>\n",
              "  </tbody>\n",
              "</table>\n",
              "</div>"
            ],
            "text/plain": [
              "      video_id  ...                                tokenized_titles\n",
              "0  jt2OHQh0HoQ  ...  live apple event september iphone x io keynote\n",
              "1  AqokkXoa7uE  ...   holly phillip meet samantha sex robot morning\n",
              "2  YPVcg45W0z4  ...                                 dna test result\n",
              "3  T_PuZBdT2iM  ...        get conversation language actually speak\n",
              "4  NsjsmgmbCfc  ...                                  baby challenge\n",
              "\n",
              "[5 rows x 13 columns]"
            ]
          },
          "metadata": {
            "tags": []
          },
          "execution_count": 46
        }
      ]
    },
    {
      "cell_type": "code",
      "metadata": {
        "id": "LIQkWeyZrrIb",
        "colab_type": "code",
        "colab": {}
      },
      "source": [
        "All_tags=[]\n",
        "for i in Videos['tokenized_tags']:\n",
        "  All_tags.extend(i)"
      ],
      "execution_count": 0,
      "outputs": []
    },
    {
      "cell_type": "code",
      "metadata": {
        "id": "74uyT8PMudk6",
        "colab_type": "code",
        "outputId": "c955e85a-4042-4b05-937b-0b8e02d9a7c7",
        "colab": {
          "base_uri": "https://localhost:8080/",
          "height": 204
        }
      },
      "source": [
        "tags=[]\n",
        "for i in All_tags:\n",
        "  if i.isalpha():\n",
        "    tags.append(i)\n",
        "tags[:10]"
      ],
      "execution_count": 51,
      "outputs": [
        {
          "output_type": "execute_result",
          "data": {
            "text/plain": [
              "['apple',\n",
              " 'event',\n",
              " 'iphone',\n",
              " 'x',\n",
              " 'plus',\n",
              " 'io',\n",
              " 'morning',\n",
              " 'interview',\n",
              " 'holly',\n",
              " 'willoughby']"
            ]
          },
          "metadata": {
            "tags": []
          },
          "execution_count": 51
        }
      ]
    },
    {
      "cell_type": "code",
      "metadata": {
        "id": "q1XVeVVluidz",
        "colab_type": "code",
        "colab": {}
      },
      "source": [
        ""
      ],
      "execution_count": 0,
      "outputs": []
    }
  ]
}