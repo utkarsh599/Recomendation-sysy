{
  "nbformat": 4,
  "nbformat_minor": 0,
  "metadata": {
    "colab": {
      "name": "Major.ipynb",
      "provenance": [],
      "collapsed_sections": [],
      "include_colab_link": true
    },
    "kernelspec": {
      "name": "python3",
      "display_name": "Python 3"
    },
    "accelerator": "GPU"
  },
  "cells": [
    {
      "cell_type": "markdown",
      "metadata": {
        "id": "view-in-github",
        "colab_type": "text"
      },
      "source": [
        "<a href=\"https://colab.research.google.com/github/utkarsh599/Recomendation-sysy/blob/Abhijeet/Major.ipynb\" target=\"_parent\"><img src=\"https://colab.research.google.com/assets/colab-badge.svg\" alt=\"Open In Colab\"/></a>"
      ]
    },
    {
      "cell_type": "code",
      "metadata": {
        "id": "B-X1OO6iwytJ",
        "colab_type": "code",
        "colab": {}
      },
      "source": [
        "#import spark\n",
        "import nltk\n",
        "import spacy\n",
        "import pandas as pd\n",
        "import sklearn"
      ],
      "execution_count": 0,
      "outputs": []
    },
    {
      "cell_type": "code",
      "metadata": {
        "id": "D6A2KPPDw7aG",
        "colab_type": "code",
        "outputId": "12ea9cfd-c39a-47e1-efc8-928d51882281",
        "colab": {
          "resources": {
            "http://localhost:8080/nbextensions/google.colab/files.js": {
              "data": "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",
              "ok": true,
              "headers": [
                [
                  "content-type",
                  "application/javascript"
                ]
              ],
              "status": 200,
              "status_text": "OK"
            }
          },
          "base_uri": "https://localhost:8080/",
          "height": 254
        }
      },
      "source": [
        "from google.colab import files\n",
        "Uploaded=files.upload()"
      ],
      "execution_count": 7,
      "outputs": [
        {
          "output_type": "display_data",
          "data": {
            "text/html": [
              "\n",
              "     <input type=\"file\" id=\"files-7383e12f-4f02-4167-b063-6ad6292f4f99\" name=\"files[]\" multiple disabled />\n",
              "     <output id=\"result-7383e12f-4f02-4167-b063-6ad6292f4f99\">\n",
              "      Upload widget is only available when the cell has been executed in the\n",
              "      current browser session. Please rerun this cell to enable.\n",
              "      </output>\n",
              "      <script src=\"/nbextensions/google.colab/files.js\"></script> "
            ],
            "text/plain": [
              "<IPython.core.display.HTML object>"
            ]
          },
          "metadata": {
            "tags": []
          }
        },
        {
          "output_type": "stream",
          "text": [
            "Saving GB_category_id.json to GB_category_id (1).json\n",
            "Saving GBcomments.csv to GBcomments (1).csv\n",
            "Saving GBvideos.csv to GBvideos (1).csv\n",
            "Saving US_category_id.json to US_category_id (1).json\n",
            "Saving UScomments.csv to UScomments (1).csv\n",
            "Saving USvideos.csv to USvideos (1).csv\n"
          ],
          "name": "stdout"
        }
      ]
    },
    {
      "cell_type": "code",
      "metadata": {
        "id": "gMge8RpLxEG3",
        "colab_type": "code",
        "outputId": "5e7a7bf2-dccb-4535-c0ab-5fd0c2252d83",
        "colab": {
          "base_uri": "https://localhost:8080/",
          "height": 222
        }
      },
      "source": [
        "import io\n",
        "GB_category_id=pd.read_json(io.BytesIO(Uploaded[\"GB_category_id.json\"]))\n",
        "GBcomments=pd.read_csv(io.BytesIO(Uploaded[\"GBcomments.csv\"]),error_bad_lines=False)\n",
        "GBvideos=pd.read_csv(io.BytesIO(Uploaded[\"GBvideos.csv\"]),error_bad_lines=False)\n",
        "US_category_id=pd.read_json(io.BytesIO(Uploaded[\"US_category_id.json\"]))\n",
        "UScomments=pd.read_csv(io.BytesIO(Uploaded[\"UScomments.csv\"]),error_bad_lines=False)\n",
        "USvideos=pd.read_csv(io.BytesIO(Uploaded[\"USvideos.csv\"]),error_bad_lines=False)\n",
        "\n"
      ],
      "execution_count": 103,
      "outputs": [
        {
          "output_type": "stream",
          "text": [
            "b'Skipping line 113225: expected 4 fields, saw 5\\n'\n",
            "b'Skipping line 158379: expected 4 fields, saw 7\\nSkipping line 241590: expected 4 fields, saw 5\\nSkipping line 245637: expected 4 fields, saw 7\\n'\n",
            "b'Skipping line 521402: expected 4 fields, saw 5\\n'\n",
            "b'Skipping line 2398: expected 11 fields, saw 21\\nSkipping line 2797: expected 11 fields, saw 21\\n'\n",
            "b'Skipping line 41589: expected 4 fields, saw 11\\nSkipping line 51628: expected 4 fields, saw 7\\nSkipping line 114465: expected 4 fields, saw 5\\n'\n",
            "b'Skipping line 142496: expected 4 fields, saw 8\\nSkipping line 189732: expected 4 fields, saw 6\\nSkipping line 245218: expected 4 fields, saw 7\\n'\n",
            "b'Skipping line 388430: expected 4 fields, saw 5\\n'\n",
            "/usr/local/lib/python3.6/dist-packages/IPython/core/interactiveshell.py:2718: DtypeWarning: Columns (2,3) have mixed types. Specify dtype option on import or set low_memory=False.\n",
            "  interactivity=interactivity, compiler=compiler, result=result)\n",
            "b'Skipping line 2401: expected 11 fields, saw 21\\nSkipping line 2800: expected 11 fields, saw 21\\nSkipping line 5297: expected 11 fields, saw 12\\nSkipping line 5299: expected 11 fields, saw 12\\nSkipping line 5300: expected 11 fields, saw 12\\nSkipping line 5301: expected 11 fields, saw 12\\n'\n"
          ],
          "name": "stderr"
        }
      ]
    },
    {
      "cell_type": "code",
      "metadata": {
        "id": "w82m8iHG9H_M",
        "colab_type": "code",
        "outputId": "d7001f92-03c4-4198-c9c8-bffdc2374ef0",
        "colab": {
          "base_uri": "https://localhost:8080/",
          "height": 206
        }
      },
      "source": [
        "GBcomments.head()"
      ],
      "execution_count": 104,
      "outputs": [
        {
          "output_type": "execute_result",
          "data": {
            "text/html": [
              "<div>\n",
              "<style scoped>\n",
              "    .dataframe tbody tr th:only-of-type {\n",
              "        vertical-align: middle;\n",
              "    }\n",
              "\n",
              "    .dataframe tbody tr th {\n",
              "        vertical-align: top;\n",
              "    }\n",
              "\n",
              "    .dataframe thead th {\n",
              "        text-align: right;\n",
              "    }\n",
              "</style>\n",
              "<table border=\"1\" class=\"dataframe\">\n",
              "  <thead>\n",
              "    <tr style=\"text-align: right;\">\n",
              "      <th></th>\n",
              "      <th>video_id</th>\n",
              "      <th>comment_text</th>\n",
              "      <th>likes</th>\n",
              "      <th>replies</th>\n",
              "    </tr>\n",
              "  </thead>\n",
              "  <tbody>\n",
              "    <tr>\n",
              "      <th>0</th>\n",
              "      <td>jt2OHQh0HoQ</td>\n",
              "      <td>It's more accurate to call it the M+ (1000) be...</td>\n",
              "      <td>0</td>\n",
              "      <td>0</td>\n",
              "    </tr>\n",
              "    <tr>\n",
              "      <th>1</th>\n",
              "      <td>jt2OHQh0HoQ</td>\n",
              "      <td>To be there with a samsung phone\\n😂😂😂</td>\n",
              "      <td>1</td>\n",
              "      <td>0</td>\n",
              "    </tr>\n",
              "    <tr>\n",
              "      <th>2</th>\n",
              "      <td>jt2OHQh0HoQ</td>\n",
              "      <td>Thank gosh, a place I can watch it without hav...</td>\n",
              "      <td>0</td>\n",
              "      <td>0</td>\n",
              "    </tr>\n",
              "    <tr>\n",
              "      <th>3</th>\n",
              "      <td>jt2OHQh0HoQ</td>\n",
              "      <td>What happened to the home button on the iPhone...</td>\n",
              "      <td>0</td>\n",
              "      <td>0</td>\n",
              "    </tr>\n",
              "    <tr>\n",
              "      <th>4</th>\n",
              "      <td>jt2OHQh0HoQ</td>\n",
              "      <td>Power is the disease.  Care is the cure.  Keep...</td>\n",
              "      <td>0</td>\n",
              "      <td>0</td>\n",
              "    </tr>\n",
              "  </tbody>\n",
              "</table>\n",
              "</div>"
            ],
            "text/plain": [
              "      video_id  ... replies\n",
              "0  jt2OHQh0HoQ  ...       0\n",
              "1  jt2OHQh0HoQ  ...       0\n",
              "2  jt2OHQh0HoQ  ...       0\n",
              "3  jt2OHQh0HoQ  ...       0\n",
              "4  jt2OHQh0HoQ  ...       0\n",
              "\n",
              "[5 rows x 4 columns]"
            ]
          },
          "metadata": {
            "tags": []
          },
          "execution_count": 104
        }
      ]
    },
    {
      "cell_type": "code",
      "metadata": {
        "id": "He0BbXOgQ5hF",
        "colab_type": "code",
        "outputId": "3d5c99ed-6209-46e0-e8f8-8bb786c39126",
        "colab": {
          "base_uri": "https://localhost:8080/",
          "height": 91
        }
      },
      "source": [
        "print(GBcomments.shape)\n",
        "print(UScomments.shape)\n",
        "print(GBvideos.shape)\n",
        "print(USvideos.shape)"
      ],
      "execution_count": 105,
      "outputs": [
        {
          "output_type": "stream",
          "text": [
            "(718452, 4)\n",
            "(691400, 4)\n",
            "(7993, 11)\n",
            "(7992, 11)\n"
          ],
          "name": "stdout"
        }
      ]
    },
    {
      "cell_type": "code",
      "metadata": {
        "id": "zSU6qlBFJn3p",
        "colab_type": "code",
        "colab": {}
      },
      "source": [
        "Comments=pd.concat([GBcomments,UScomments],ignore_index=True)\n",
        "Videos=pd.concat([GBvideos,USvideos],ignore_index=True)"
      ],
      "execution_count": 0,
      "outputs": []
    },
    {
      "cell_type": "code",
      "metadata": {
        "id": "Fzq6zmt-Jdeh",
        "colab_type": "code",
        "colab": {}
      },
      "source": [
        "Comments.dropna(inplace=True)\n",
        "Videos.dropna(inplace=True)"
      ],
      "execution_count": 0,
      "outputs": []
    },
    {
      "cell_type": "code",
      "metadata": {
        "id": "sYZzflCQSkab",
        "colab_type": "code",
        "outputId": "3c0814c6-09d3-4e6d-b652-93993b6dc013",
        "colab": {
          "base_uri": "https://localhost:8080/",
          "height": 54
        }
      },
      "source": [
        "print(Comments.shape)\n",
        "print(Videos.shape)"
      ],
      "execution_count": 108,
      "outputs": [
        {
          "output_type": "stream",
          "text": [
            "(1409799, 4)\n",
            "(15985, 11)\n"
          ],
          "name": "stdout"
        }
      ]
    },
    {
      "cell_type": "code",
      "metadata": {
        "id": "lwIO9lzYOhkD",
        "colab_type": "code",
        "colab": {}
      },
      "source": [
        "Comments.comment_text=Comments.comment_text.astype(str)"
      ],
      "execution_count": 0,
      "outputs": []
    },
    {
      "cell_type": "code",
      "metadata": {
        "id": "gexerFUsJimv",
        "colab_type": "code",
        "outputId": "19e60f16-d20c-4e2d-f8aa-35fb3b37d6b5",
        "colab": {
          "base_uri": "https://localhost:8080/",
          "height": 363
        }
      },
      "source": [
        "Comments.head(10)\n"
      ],
      "execution_count": 110,
      "outputs": [
        {
          "output_type": "execute_result",
          "data": {
            "text/html": [
              "<div>\n",
              "<style scoped>\n",
              "    .dataframe tbody tr th:only-of-type {\n",
              "        vertical-align: middle;\n",
              "    }\n",
              "\n",
              "    .dataframe tbody tr th {\n",
              "        vertical-align: top;\n",
              "    }\n",
              "\n",
              "    .dataframe thead th {\n",
              "        text-align: right;\n",
              "    }\n",
              "</style>\n",
              "<table border=\"1\" class=\"dataframe\">\n",
              "  <thead>\n",
              "    <tr style=\"text-align: right;\">\n",
              "      <th></th>\n",
              "      <th>video_id</th>\n",
              "      <th>comment_text</th>\n",
              "      <th>likes</th>\n",
              "      <th>replies</th>\n",
              "    </tr>\n",
              "  </thead>\n",
              "  <tbody>\n",
              "    <tr>\n",
              "      <th>0</th>\n",
              "      <td>jt2OHQh0HoQ</td>\n",
              "      <td>It's more accurate to call it the M+ (1000) be...</td>\n",
              "      <td>0</td>\n",
              "      <td>0</td>\n",
              "    </tr>\n",
              "    <tr>\n",
              "      <th>1</th>\n",
              "      <td>jt2OHQh0HoQ</td>\n",
              "      <td>To be there with a samsung phone\\n😂😂😂</td>\n",
              "      <td>1</td>\n",
              "      <td>0</td>\n",
              "    </tr>\n",
              "    <tr>\n",
              "      <th>2</th>\n",
              "      <td>jt2OHQh0HoQ</td>\n",
              "      <td>Thank gosh, a place I can watch it without hav...</td>\n",
              "      <td>0</td>\n",
              "      <td>0</td>\n",
              "    </tr>\n",
              "    <tr>\n",
              "      <th>3</th>\n",
              "      <td>jt2OHQh0HoQ</td>\n",
              "      <td>What happened to the home button on the iPhone...</td>\n",
              "      <td>0</td>\n",
              "      <td>0</td>\n",
              "    </tr>\n",
              "    <tr>\n",
              "      <th>4</th>\n",
              "      <td>jt2OHQh0HoQ</td>\n",
              "      <td>Power is the disease.  Care is the cure.  Keep...</td>\n",
              "      <td>0</td>\n",
              "      <td>0</td>\n",
              "    </tr>\n",
              "    <tr>\n",
              "      <th>5</th>\n",
              "      <td>jt2OHQh0HoQ</td>\n",
              "      <td>Keep calm and buy iphone 8 Keep calm and buy i...</td>\n",
              "      <td>0</td>\n",
              "      <td>0</td>\n",
              "    </tr>\n",
              "    <tr>\n",
              "      <th>6</th>\n",
              "      <td>jt2OHQh0HoQ</td>\n",
              "      <td>i am a big fan of youtube and u !!!!!!!!!!!!!</td>\n",
              "      <td>0</td>\n",
              "      <td>0</td>\n",
              "    </tr>\n",
              "    <tr>\n",
              "      <th>7</th>\n",
              "      <td>jt2OHQh0HoQ</td>\n",
              "      <td>You will never find Losers who line up and pay...</td>\n",
              "      <td>0</td>\n",
              "      <td>0</td>\n",
              "    </tr>\n",
              "    <tr>\n",
              "      <th>8</th>\n",
              "      <td>jt2OHQh0HoQ</td>\n",
              "      <td>*APPLE JUST COMMENTED ON MY LAST VIDEO* I'm cr...</td>\n",
              "      <td>0</td>\n",
              "      <td>0</td>\n",
              "    </tr>\n",
              "    <tr>\n",
              "      <th>9</th>\n",
              "      <td>jt2OHQh0HoQ</td>\n",
              "      <td>I'm only here to see Emma, I love her so much!...</td>\n",
              "      <td>0</td>\n",
              "      <td>0</td>\n",
              "    </tr>\n",
              "  </tbody>\n",
              "</table>\n",
              "</div>"
            ],
            "text/plain": [
              "      video_id                                       comment_text likes replies\n",
              "0  jt2OHQh0HoQ  It's more accurate to call it the M+ (1000) be...     0       0\n",
              "1  jt2OHQh0HoQ              To be there with a samsung phone\\n😂😂😂     1       0\n",
              "2  jt2OHQh0HoQ  Thank gosh, a place I can watch it without hav...     0       0\n",
              "3  jt2OHQh0HoQ  What happened to the home button on the iPhone...     0       0\n",
              "4  jt2OHQh0HoQ  Power is the disease.  Care is the cure.  Keep...     0       0\n",
              "5  jt2OHQh0HoQ  Keep calm and buy iphone 8 Keep calm and buy i...     0       0\n",
              "6  jt2OHQh0HoQ      i am a big fan of youtube and u !!!!!!!!!!!!!     0       0\n",
              "7  jt2OHQh0HoQ  You will never find Losers who line up and pay...     0       0\n",
              "8  jt2OHQh0HoQ  *APPLE JUST COMMENTED ON MY LAST VIDEO* I'm cr...     0       0\n",
              "9  jt2OHQh0HoQ  I'm only here to see Emma, I love her so much!...     0       0"
            ]
          },
          "metadata": {
            "tags": []
          },
          "execution_count": 110
        }
      ]
    },
    {
      "cell_type": "code",
      "metadata": {
        "id": "SZyn6AKNU3VG",
        "colab_type": "code",
        "outputId": "c60b8c2b-ea7b-4856-8cbb-398337e968c2",
        "colab": {
          "base_uri": "https://localhost:8080/",
          "height": 1000
        }
      },
      "source": [
        "Videos.head(10)"
      ],
      "execution_count": 111,
      "outputs": [
        {
          "output_type": "execute_result",
          "data": {
            "text/html": [
              "<div>\n",
              "<style scoped>\n",
              "    .dataframe tbody tr th:only-of-type {\n",
              "        vertical-align: middle;\n",
              "    }\n",
              "\n",
              "    .dataframe tbody tr th {\n",
              "        vertical-align: top;\n",
              "    }\n",
              "\n",
              "    .dataframe thead th {\n",
              "        text-align: right;\n",
              "    }\n",
              "</style>\n",
              "<table border=\"1\" class=\"dataframe\">\n",
              "  <thead>\n",
              "    <tr style=\"text-align: right;\">\n",
              "      <th></th>\n",
              "      <th>video_id</th>\n",
              "      <th>title</th>\n",
              "      <th>channel_title</th>\n",
              "      <th>category_id</th>\n",
              "      <th>tags</th>\n",
              "      <th>views</th>\n",
              "      <th>likes</th>\n",
              "      <th>dislikes</th>\n",
              "      <th>comment_total</th>\n",
              "      <th>thumbnail_link</th>\n",
              "      <th>date</th>\n",
              "    </tr>\n",
              "  </thead>\n",
              "  <tbody>\n",
              "    <tr>\n",
              "      <th>0</th>\n",
              "      <td>jt2OHQh0HoQ</td>\n",
              "      <td>Live Apple Event - Apple September Event 2017 ...</td>\n",
              "      <td>Apple Event</td>\n",
              "      <td>28</td>\n",
              "      <td>apple events|apple event|iphone 8|iphone x|iph...</td>\n",
              "      <td>7426393</td>\n",
              "      <td>78240</td>\n",
              "      <td>13548</td>\n",
              "      <td>705</td>\n",
              "      <td>https://i.ytimg.com/vi/jt2OHQh0HoQ/default_liv...</td>\n",
              "      <td>13.09</td>\n",
              "    </tr>\n",
              "    <tr>\n",
              "      <th>1</th>\n",
              "      <td>AqokkXoa7uE</td>\n",
              "      <td>Holly and Phillip Meet Samantha the Sex Robot ...</td>\n",
              "      <td>This Morning</td>\n",
              "      <td>24</td>\n",
              "      <td>this morning|interview|holly willoughby|philli...</td>\n",
              "      <td>494203</td>\n",
              "      <td>2651</td>\n",
              "      <td>1309</td>\n",
              "      <td>0</td>\n",
              "      <td>https://i.ytimg.com/vi/AqokkXoa7uE/default.jpg</td>\n",
              "      <td>13.09</td>\n",
              "    </tr>\n",
              "    <tr>\n",
              "      <th>2</th>\n",
              "      <td>YPVcg45W0z4</td>\n",
              "      <td>My DNA Test Results! I'm WHAT?!</td>\n",
              "      <td>emmablackery</td>\n",
              "      <td>24</td>\n",
              "      <td>emmablackery|emma blackery|emma|blackery|briti...</td>\n",
              "      <td>142819</td>\n",
              "      <td>13119</td>\n",
              "      <td>151</td>\n",
              "      <td>1141</td>\n",
              "      <td>https://i.ytimg.com/vi/YPVcg45W0z4/default.jpg</td>\n",
              "      <td>13.09</td>\n",
              "    </tr>\n",
              "    <tr>\n",
              "      <th>3</th>\n",
              "      <td>T_PuZBdT2iM</td>\n",
              "      <td>getting into a conversation in a language you ...</td>\n",
              "      <td>ProZD</td>\n",
              "      <td>1</td>\n",
              "      <td>skit|korean|language|conversation|esl|japanese...</td>\n",
              "      <td>1580028</td>\n",
              "      <td>65729</td>\n",
              "      <td>1529</td>\n",
              "      <td>3598</td>\n",
              "      <td>https://i.ytimg.com/vi/T_PuZBdT2iM/default.jpg</td>\n",
              "      <td>13.09</td>\n",
              "    </tr>\n",
              "    <tr>\n",
              "      <th>4</th>\n",
              "      <td>NsjsmgmbCfc</td>\n",
              "      <td>Baby Name Challenge!</td>\n",
              "      <td>Sprinkleofglitter</td>\n",
              "      <td>26</td>\n",
              "      <td>sprinkleofglitter|sprinkle of glitter|baby gli...</td>\n",
              "      <td>40592</td>\n",
              "      <td>5019</td>\n",
              "      <td>57</td>\n",
              "      <td>490</td>\n",
              "      <td>https://i.ytimg.com/vi/NsjsmgmbCfc/default.jpg</td>\n",
              "      <td>13.09</td>\n",
              "    </tr>\n",
              "    <tr>\n",
              "      <th>5</th>\n",
              "      <td>zZ2CLmvqfXg</td>\n",
              "      <td>REVEALED - FIFA 18 stats for Chelsea's Hazard,...</td>\n",
              "      <td>Rio Ferdinand Presents FIVE</td>\n",
              "      <td>24</td>\n",
              "      <td>Rio Ferdinand|Rio|Ferdinand|5 Magazine|5 Mag|#...</td>\n",
              "      <td>317696</td>\n",
              "      <td>9449</td>\n",
              "      <td>135</td>\n",
              "      <td>464</td>\n",
              "      <td>https://i.ytimg.com/vi/zZ2CLmvqfXg/default.jpg</td>\n",
              "      <td>13.09</td>\n",
              "    </tr>\n",
              "    <tr>\n",
              "      <th>6</th>\n",
              "      <td>w8fAellnPns</td>\n",
              "      <td>Juicy Chicken Breast - You Suck at Cooking (ep...</td>\n",
              "      <td>You Suck At Cooking</td>\n",
              "      <td>26</td>\n",
              "      <td>how to|cooking|recipe|kitchen|chicken|chicken ...</td>\n",
              "      <td>479291</td>\n",
              "      <td>23935</td>\n",
              "      <td>638</td>\n",
              "      <td>1941</td>\n",
              "      <td>https://i.ytimg.com/vi/w8fAellnPns/default.jpg</td>\n",
              "      <td>13.09</td>\n",
              "    </tr>\n",
              "    <tr>\n",
              "      <th>7</th>\n",
              "      <td>LcZ2AuvxXNA</td>\n",
              "      <td>Nerf Bow Trick Shots | Dude Perfect</td>\n",
              "      <td>Dude Perfect</td>\n",
              "      <td>17</td>\n",
              "      <td>dude perfect|dude perfect stereotypes|dude per...</td>\n",
              "      <td>10532409</td>\n",
              "      <td>384841</td>\n",
              "      <td>7547</td>\n",
              "      <td>23849</td>\n",
              "      <td>https://i.ytimg.com/vi/LcZ2AuvxXNA/default.jpg</td>\n",
              "      <td>13.09</td>\n",
              "    </tr>\n",
              "    <tr>\n",
              "      <th>8</th>\n",
              "      <td>lamseWekh8Y</td>\n",
              "      <td>Weekend in BRIGHTON with Mike! | Fleur De Vlog</td>\n",
              "      <td>FleurDeVlog</td>\n",
              "      <td>22</td>\n",
              "      <td>fleurdevlog|fleur de vlog|fleurdeforce|fleur d...</td>\n",
              "      <td>65453</td>\n",
              "      <td>2761</td>\n",
              "      <td>33</td>\n",
              "      <td>223</td>\n",
              "      <td>https://i.ytimg.com/vi/lamseWekh8Y/default.jpg</td>\n",
              "      <td>13.09</td>\n",
              "    </tr>\n",
              "    <tr>\n",
              "      <th>9</th>\n",
              "      <td>QBGaO89cBMI</td>\n",
              "      <td>Radiohead - Lift</td>\n",
              "      <td>Radiohead</td>\n",
              "      <td>10</td>\n",
              "      <td>radiohead|lift|ok computer|oknotok</td>\n",
              "      <td>751743</td>\n",
              "      <td>42272</td>\n",
              "      <td>358</td>\n",
              "      <td>3250</td>\n",
              "      <td>https://i.ytimg.com/vi/QBGaO89cBMI/default.jpg</td>\n",
              "      <td>13.09</td>\n",
              "    </tr>\n",
              "  </tbody>\n",
              "</table>\n",
              "</div>"
            ],
            "text/plain": [
              "      video_id  ...   date\n",
              "0  jt2OHQh0HoQ  ...  13.09\n",
              "1  AqokkXoa7uE  ...  13.09\n",
              "2  YPVcg45W0z4  ...  13.09\n",
              "3  T_PuZBdT2iM  ...  13.09\n",
              "4  NsjsmgmbCfc  ...  13.09\n",
              "5  zZ2CLmvqfXg  ...  13.09\n",
              "6  w8fAellnPns  ...  13.09\n",
              "7  LcZ2AuvxXNA  ...  13.09\n",
              "8  lamseWekh8Y  ...  13.09\n",
              "9  QBGaO89cBMI  ...  13.09\n",
              "\n",
              "[10 rows x 11 columns]"
            ]
          },
          "metadata": {
            "tags": []
          },
          "execution_count": 111
        }
      ]
    },
    {
      "cell_type": "code",
      "metadata": {
        "id": "0A8Q9JIZQHbf",
        "colab_type": "code",
        "colab": {}
      },
      "source": [
        "Comments['comment_text']=Comments['comment_text'].apply(lambda x: x.lower())"
      ],
      "execution_count": 0,
      "outputs": []
    },
    {
      "cell_type": "code",
      "metadata": {
        "id": "rSQsEKLfXfIB",
        "colab_type": "code",
        "colab": {}
      },
      "source": [
        "sampled_df=Comments.sample(30000)"
      ],
      "execution_count": 0,
      "outputs": []
    },
    {
      "cell_type": "code",
      "metadata": {
        "id": "-wxt-fwhYFdY",
        "colab_type": "code",
        "colab": {
          "base_uri": "https://localhost:8080/",
          "height": 424
        },
        "outputId": "b2b209b5-f789-4383-dee5-78291253f6c3"
      },
      "source": [
        "sampled_df"
      ],
      "execution_count": 117,
      "outputs": [
        {
          "output_type": "execute_result",
          "data": {
            "text/html": [
              "<div>\n",
              "<style scoped>\n",
              "    .dataframe tbody tr th:only-of-type {\n",
              "        vertical-align: middle;\n",
              "    }\n",
              "\n",
              "    .dataframe tbody tr th {\n",
              "        vertical-align: top;\n",
              "    }\n",
              "\n",
              "    .dataframe thead th {\n",
              "        text-align: right;\n",
              "    }\n",
              "</style>\n",
              "<table border=\"1\" class=\"dataframe\">\n",
              "  <thead>\n",
              "    <tr style=\"text-align: right;\">\n",
              "      <th></th>\n",
              "      <th>video_id</th>\n",
              "      <th>comment_text</th>\n",
              "      <th>likes</th>\n",
              "      <th>replies</th>\n",
              "    </tr>\n",
              "  </thead>\n",
              "  <tbody>\n",
              "    <tr>\n",
              "      <th>635449</th>\n",
              "      <td>Z7R8XRKqHAI</td>\n",
              "      <td>awesome-est band evaah! ❤️</td>\n",
              "      <td>0</td>\n",
              "      <td>0</td>\n",
              "    </tr>\n",
              "    <tr>\n",
              "      <th>416777</th>\n",
              "      <td>jl1CzzsNVcg</td>\n",
              "      <td>can bayek kick in fighting in battle like run ...</td>\n",
              "      <td>0</td>\n",
              "      <td>0</td>\n",
              "    </tr>\n",
              "    <tr>\n",
              "      <th>902114</th>\n",
              "      <td>CGN6QXv7sfs</td>\n",
              "      <td>this video is so stupid, thus guy changes the ...</td>\n",
              "      <td>0</td>\n",
              "      <td>0</td>\n",
              "    </tr>\n",
              "    <tr>\n",
              "      <th>55703</th>\n",
              "      <td>a41k9oJN0FI</td>\n",
              "      <td>javier bardem looks like he could be her fathe...</td>\n",
              "      <td>0</td>\n",
              "      <td>0</td>\n",
              "    </tr>\n",
              "    <tr>\n",
              "      <th>531611</th>\n",
              "      <td>O-OLBx_gNd8</td>\n",
              "      <td>dont bottle it now against slovenia.</td>\n",
              "      <td>0</td>\n",
              "      <td>2</td>\n",
              "    </tr>\n",
              "    <tr>\n",
              "      <th>...</th>\n",
              "      <td>...</td>\n",
              "      <td>...</td>\n",
              "      <td>...</td>\n",
              "      <td>...</td>\n",
              "    </tr>\n",
              "    <tr>\n",
              "      <th>712654</th>\n",
              "      <td>SVyVAJPHob4</td>\n",
              "      <td>this fat tramp thinks hes hard lol</td>\n",
              "      <td>0</td>\n",
              "      <td>0</td>\n",
              "    </tr>\n",
              "    <tr>\n",
              "      <th>905519</th>\n",
              "      <td>WRzqSDyOSbY</td>\n",
              "      <td>you are so beautiful❤️</td>\n",
              "      <td>0</td>\n",
              "      <td>0</td>\n",
              "    </tr>\n",
              "    <tr>\n",
              "      <th>389431</th>\n",
              "      <td>ml8Dj5OSR-M</td>\n",
              "      <td>this helped me on my class project</td>\n",
              "      <td>0</td>\n",
              "      <td>0</td>\n",
              "    </tr>\n",
              "    <tr>\n",
              "      <th>114282</th>\n",
              "      <td>924olvhb2pU</td>\n",
              "      <td>a western movie being adapted into anime? yes ...</td>\n",
              "      <td>0</td>\n",
              "      <td>0</td>\n",
              "    </tr>\n",
              "    <tr>\n",
              "      <th>1321322</th>\n",
              "      <td>5fYkPljB9Zk</td>\n",
              "      <td>they should add a thermite sword to fruit ninja</td>\n",
              "      <td>0</td>\n",
              "      <td>0</td>\n",
              "    </tr>\n",
              "  </tbody>\n",
              "</table>\n",
              "<p>30000 rows × 4 columns</p>\n",
              "</div>"
            ],
            "text/plain": [
              "            video_id  ... replies\n",
              "635449   Z7R8XRKqHAI  ...       0\n",
              "416777   jl1CzzsNVcg  ...       0\n",
              "902114   CGN6QXv7sfs  ...       0\n",
              "55703    a41k9oJN0FI  ...       0\n",
              "531611   O-OLBx_gNd8  ...       2\n",
              "...              ...  ...     ...\n",
              "712654   SVyVAJPHob4  ...       0\n",
              "905519   WRzqSDyOSbY  ...       0\n",
              "389431   ml8Dj5OSR-M  ...       0\n",
              "114282   924olvhb2pU  ...       0\n",
              "1321322  5fYkPljB9Zk  ...       0\n",
              "\n",
              "[30000 rows x 4 columns]"
            ]
          },
          "metadata": {
            "tags": []
          },
          "execution_count": 117
        }
      ]
    },
    {
      "cell_type": "code",
      "metadata": {
        "id": "9BIltXoajQEf",
        "colab_type": "code",
        "colab": {}
      },
      "source": [
        ""
      ],
      "execution_count": 0,
      "outputs": []
    },
    {
      "cell_type": "markdown",
      "metadata": {
        "colab_type": "text",
        "id": "8wf9KcRLndlR"
      },
      "source": [
        "# Tokenization using Spacy"
      ]
    },
    {
      "cell_type": "markdown",
      "metadata": {
        "id": "FABoJFS5-sqP",
        "colab_type": "text"
      },
      "source": [
        "## [Click here for Documentation of spacymoji](https://github.com/ines/spacymoji)"
      ]
    },
    {
      "cell_type": "code",
      "metadata": {
        "id": "LMD3DOZ--Z_P",
        "colab_type": "code",
        "colab": {
          "base_uri": "https://localhost:8080/",
          "height": 369
        },
        "outputId": "ce0923b1-4fa6-4d63-c6f3-8e27259ec46f"
      },
      "source": [
        "pip install spacymoji"
      ],
      "execution_count": 118,
      "outputs": [
        {
          "output_type": "stream",
          "text": [
            "Requirement already satisfied: spacymoji in /usr/local/lib/python3.6/dist-packages (2.0.0)\n",
            "Requirement already satisfied: emoji<1.0.0,>=0.4.5 in /usr/local/lib/python3.6/dist-packages (from spacymoji) (0.5.4)\n",
            "Requirement already satisfied: spacy<3.0.0,>=2.1.3 in /usr/local/lib/python3.6/dist-packages (from spacymoji) (2.1.9)\n",
            "Requirement already satisfied: cymem<2.1.0,>=2.0.2 in /usr/local/lib/python3.6/dist-packages (from spacy<3.0.0,>=2.1.3->spacymoji) (2.0.3)\n",
            "Requirement already satisfied: blis<0.3.0,>=0.2.2 in /usr/local/lib/python3.6/dist-packages (from spacy<3.0.0,>=2.1.3->spacymoji) (0.2.4)\n",
            "Requirement already satisfied: murmurhash<1.1.0,>=0.28.0 in /usr/local/lib/python3.6/dist-packages (from spacy<3.0.0,>=2.1.3->spacymoji) (1.0.2)\n",
            "Requirement already satisfied: srsly<1.1.0,>=0.0.6 in /usr/local/lib/python3.6/dist-packages (from spacy<3.0.0,>=2.1.3->spacymoji) (0.2.0)\n",
            "Requirement already satisfied: thinc<7.1.0,>=7.0.8 in /usr/local/lib/python3.6/dist-packages (from spacy<3.0.0,>=2.1.3->spacymoji) (7.0.8)\n",
            "Requirement already satisfied: plac<1.0.0,>=0.9.6 in /usr/local/lib/python3.6/dist-packages (from spacy<3.0.0,>=2.1.3->spacymoji) (0.9.6)\n",
            "Requirement already satisfied: wasabi<1.1.0,>=0.2.0 in /usr/local/lib/python3.6/dist-packages (from spacy<3.0.0,>=2.1.3->spacymoji) (0.4.0)\n",
            "Requirement already satisfied: preshed<2.1.0,>=2.0.1 in /usr/local/lib/python3.6/dist-packages (from spacy<3.0.0,>=2.1.3->spacymoji) (2.0.1)\n",
            "Requirement already satisfied: numpy>=1.15.0 in /usr/local/lib/python3.6/dist-packages (from spacy<3.0.0,>=2.1.3->spacymoji) (1.17.4)\n",
            "Requirement already satisfied: requests<3.0.0,>=2.13.0 in /usr/local/lib/python3.6/dist-packages (from spacy<3.0.0,>=2.1.3->spacymoji) (2.21.0)\n",
            "Requirement already satisfied: tqdm<5.0.0,>=4.10.0 in /usr/local/lib/python3.6/dist-packages (from thinc<7.1.0,>=7.0.8->spacy<3.0.0,>=2.1.3->spacymoji) (4.28.1)\n",
            "Requirement already satisfied: idna<2.9,>=2.5 in /usr/local/lib/python3.6/dist-packages (from requests<3.0.0,>=2.13.0->spacy<3.0.0,>=2.1.3->spacymoji) (2.8)\n",
            "Requirement already satisfied: chardet<3.1.0,>=3.0.2 in /usr/local/lib/python3.6/dist-packages (from requests<3.0.0,>=2.13.0->spacy<3.0.0,>=2.1.3->spacymoji) (3.0.4)\n",
            "Requirement already satisfied: certifi>=2017.4.17 in /usr/local/lib/python3.6/dist-packages (from requests<3.0.0,>=2.13.0->spacy<3.0.0,>=2.1.3->spacymoji) (2019.9.11)\n",
            "Requirement already satisfied: urllib3<1.25,>=1.21.1 in /usr/local/lib/python3.6/dist-packages (from requests<3.0.0,>=2.13.0->spacy<3.0.0,>=2.1.3->spacymoji) (1.24.3)\n"
          ],
          "name": "stdout"
        }
      ]
    },
    {
      "cell_type": "code",
      "metadata": {
        "id": "qQK5Wsh9-Nz9",
        "colab_type": "code",
        "colab": {}
      },
      "source": [
        "from spacymoji import Emoji\n",
        "emoji = Emoji(nlp)"
      ],
      "execution_count": 0,
      "outputs": []
    },
    {
      "cell_type": "code",
      "metadata": {
        "id": "Cs0-U2olYHOO",
        "colab_type": "code",
        "colab": {
          "base_uri": "https://localhost:8080/",
          "height": 17
        },
        "outputId": "b82ff36b-86c1-4c97-ffeb-557c064a2d53"
      },
      "source": [
        "nlp = spacy.load(\"en_core_web_sm\")\n",
        "nlp.add_pipe(emoji, first=True)\n",
        "c=0\n",
        "tokenized_sents=[]\n",
        "for i in sampled_df['comment_text']:\n",
        "    doc=nlp(i)\n",
        "    tokens=[]\n",
        "    for token in doc:\n",
        "      if(token.is_stop==False and token.is_punct==False and token._.is_emoji==False):\n",
        "        tokens.append(token.lemma_)\n",
        "    tokenized_sents.append(tokens)\n",
        "    print(c,end='\\r')\n",
        "    c+=1"
      ],
      "execution_count": 120,
      "outputs": [
        {
          "output_type": "stream",
          "text": [
            ""
          ],
          "name": "stdout"
        }
      ]
    },
    {
      "cell_type": "code",
      "metadata": {
        "id": "jtpI45icfnmp",
        "colab_type": "code",
        "colab": {}
      },
      "source": [
        "#sampled_df.drop('tokenized_comments',inplace=True,axis=1)"
      ],
      "execution_count": 0,
      "outputs": []
    },
    {
      "cell_type": "code",
      "metadata": {
        "id": "18tuhaWhbto_",
        "colab_type": "code",
        "colab": {}
      },
      "source": [
        "sampled_df['tokenized_comments']=tokenized_sents"
      ],
      "execution_count": 0,
      "outputs": []
    },
    {
      "cell_type": "code",
      "metadata": {
        "id": "T4yg1FTGfbwk",
        "colab_type": "code",
        "colab": {
          "base_uri": "https://localhost:8080/",
          "height": 424
        },
        "outputId": "3b3284a9-b4a6-4e6c-fc4c-8bb206a8502f"
      },
      "source": [
        "sampled_df"
      ],
      "execution_count": 123,
      "outputs": [
        {
          "output_type": "execute_result",
          "data": {
            "text/html": [
              "<div>\n",
              "<style scoped>\n",
              "    .dataframe tbody tr th:only-of-type {\n",
              "        vertical-align: middle;\n",
              "    }\n",
              "\n",
              "    .dataframe tbody tr th {\n",
              "        vertical-align: top;\n",
              "    }\n",
              "\n",
              "    .dataframe thead th {\n",
              "        text-align: right;\n",
              "    }\n",
              "</style>\n",
              "<table border=\"1\" class=\"dataframe\">\n",
              "  <thead>\n",
              "    <tr style=\"text-align: right;\">\n",
              "      <th></th>\n",
              "      <th>video_id</th>\n",
              "      <th>comment_text</th>\n",
              "      <th>likes</th>\n",
              "      <th>replies</th>\n",
              "      <th>tokenized_comments</th>\n",
              "    </tr>\n",
              "  </thead>\n",
              "  <tbody>\n",
              "    <tr>\n",
              "      <th>635449</th>\n",
              "      <td>Z7R8XRKqHAI</td>\n",
              "      <td>awesome-est band evaah! ❤️</td>\n",
              "      <td>0</td>\n",
              "      <td>0</td>\n",
              "      <td>[awesome, e, band, evaah, ❤, ️]</td>\n",
              "    </tr>\n",
              "    <tr>\n",
              "      <th>416777</th>\n",
              "      <td>jl1CzzsNVcg</td>\n",
              "      <td>can bayek kick in fighting in battle like run ...</td>\n",
              "      <td>0</td>\n",
              "      <td>0</td>\n",
              "      <td>[bayek, kick, fighting, battle, like, run, fas...</td>\n",
              "    </tr>\n",
              "    <tr>\n",
              "      <th>902114</th>\n",
              "      <td>CGN6QXv7sfs</td>\n",
              "      <td>this video is so stupid, thus guy changes the ...</td>\n",
              "      <td>0</td>\n",
              "      <td>0</td>\n",
              "      <td>[video, stupid, guy, change, date, make, stupi...</td>\n",
              "    </tr>\n",
              "    <tr>\n",
              "      <th>55703</th>\n",
              "      <td>a41k9oJN0FI</td>\n",
              "      <td>javier bardem looks like he could be her fathe...</td>\n",
              "      <td>0</td>\n",
              "      <td>0</td>\n",
              "      <td>[javier, bardem, look, like, father, age, gap]</td>\n",
              "    </tr>\n",
              "    <tr>\n",
              "      <th>531611</th>\n",
              "      <td>O-OLBx_gNd8</td>\n",
              "      <td>dont bottle it now against slovenia.</td>\n",
              "      <td>0</td>\n",
              "      <td>2</td>\n",
              "      <td>[not, bottle, slovenia]</td>\n",
              "    </tr>\n",
              "    <tr>\n",
              "      <th>...</th>\n",
              "      <td>...</td>\n",
              "      <td>...</td>\n",
              "      <td>...</td>\n",
              "      <td>...</td>\n",
              "      <td>...</td>\n",
              "    </tr>\n",
              "    <tr>\n",
              "      <th>712654</th>\n",
              "      <td>SVyVAJPHob4</td>\n",
              "      <td>this fat tramp thinks hes hard lol</td>\n",
              "      <td>0</td>\n",
              "      <td>0</td>\n",
              "      <td>[fat, tramp, think, s, hard, lol]</td>\n",
              "    </tr>\n",
              "    <tr>\n",
              "      <th>905519</th>\n",
              "      <td>WRzqSDyOSbY</td>\n",
              "      <td>you are so beautiful❤️</td>\n",
              "      <td>0</td>\n",
              "      <td>0</td>\n",
              "      <td>[beautiful, ❤, ️]</td>\n",
              "    </tr>\n",
              "    <tr>\n",
              "      <th>389431</th>\n",
              "      <td>ml8Dj5OSR-M</td>\n",
              "      <td>this helped me on my class project</td>\n",
              "      <td>0</td>\n",
              "      <td>0</td>\n",
              "      <td>[help, class, project]</td>\n",
              "    </tr>\n",
              "    <tr>\n",
              "      <th>114282</th>\n",
              "      <td>924olvhb2pU</td>\n",
              "      <td>a western movie being adapted into anime? yes ...</td>\n",
              "      <td>0</td>\n",
              "      <td>0</td>\n",
              "      <td>[western, movie, adapt, anime, yes, like, way,...</td>\n",
              "    </tr>\n",
              "    <tr>\n",
              "      <th>1321322</th>\n",
              "      <td>5fYkPljB9Zk</td>\n",
              "      <td>they should add a thermite sword to fruit ninja</td>\n",
              "      <td>0</td>\n",
              "      <td>0</td>\n",
              "      <td>[add, thermite, sword, fruit, ninja]</td>\n",
              "    </tr>\n",
              "  </tbody>\n",
              "</table>\n",
              "<p>30000 rows × 5 columns</p>\n",
              "</div>"
            ],
            "text/plain": [
              "            video_id  ...                                 tokenized_comments\n",
              "635449   Z7R8XRKqHAI  ...                    [awesome, e, band, evaah, ❤, ️]\n",
              "416777   jl1CzzsNVcg  ...  [bayek, kick, fighting, battle, like, run, fas...\n",
              "902114   CGN6QXv7sfs  ...  [video, stupid, guy, change, date, make, stupi...\n",
              "55703    a41k9oJN0FI  ...     [javier, bardem, look, like, father, age, gap]\n",
              "531611   O-OLBx_gNd8  ...                            [not, bottle, slovenia]\n",
              "...              ...  ...                                                ...\n",
              "712654   SVyVAJPHob4  ...                  [fat, tramp, think, s, hard, lol]\n",
              "905519   WRzqSDyOSbY  ...                                  [beautiful, ❤, ️]\n",
              "389431   ml8Dj5OSR-M  ...                             [help, class, project]\n",
              "114282   924olvhb2pU  ...  [western, movie, adapt, anime, yes, like, way,...\n",
              "1321322  5fYkPljB9Zk  ...               [add, thermite, sword, fruit, ninja]\n",
              "\n",
              "[30000 rows x 5 columns]"
            ]
          },
          "metadata": {
            "tags": []
          },
          "execution_count": 123
        }
      ]
    },
    {
      "cell_type": "code",
      "metadata": {
        "id": "oeNG1sM_pMl3",
        "colab_type": "code",
        "colab": {}
      },
      "source": [
        ""
      ],
      "execution_count": 0,
      "outputs": []
    },
    {
      "cell_type": "code",
      "metadata": {
        "id": "GNGXAYfipObP",
        "colab_type": "code",
        "colab": {}
      },
      "source": [
        ""
      ],
      "execution_count": 0,
      "outputs": []
    },
    {
      "cell_type": "code",
      "metadata": {
        "id": "lO-r5_v0pOoh",
        "colab_type": "code",
        "colab": {}
      },
      "source": [
        ""
      ],
      "execution_count": 0,
      "outputs": []
    },
    {
      "cell_type": "code",
      "metadata": {
        "id": "DVhnfHyWfdpu",
        "colab_type": "code",
        "colab": {}
      },
      "source": [
        ""
      ],
      "execution_count": 0,
      "outputs": []
    },
    {
      "cell_type": "code",
      "metadata": {
        "id": "_qWF3wQJnXx3",
        "colab_type": "code",
        "colab": {}
      },
      "source": [
        ""
      ],
      "execution_count": 0,
      "outputs": []
    }
  ]
}