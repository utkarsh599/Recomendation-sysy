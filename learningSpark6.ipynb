{
  "nbformat": 4,
  "nbformat_minor": 0,
  "metadata": {
    "colab": {
      "name": "learningSpark6.ipynb",
      "provenance": [],
      "collapsed_sections": [],
      "authorship_tag": "ABX9TyPEehnMV27eMUs0AitTOTU5",
      "include_colab_link": true
    },
    "kernelspec": {
      "name": "python3",
      "display_name": "Python 3"
    },
    "accelerator": "GPU"
  },
  "cells": [
    {
      "cell_type": "markdown",
      "metadata": {
        "id": "view-in-github",
        "colab_type": "text"
      },
      "source": [
        "<a href=\"https://colab.research.google.com/github/utkarsh599/Recomendation-sysy/blob/Abhijeet/learningSpark6.ipynb\" target=\"_parent\"><img src=\"https://colab.research.google.com/assets/colab-badge.svg\" alt=\"Open In Colab\"/></a>"
      ]
    },
    {
      "cell_type": "code",
      "metadata": {
        "id": "0nMTDp0PAHLt",
        "colab_type": "code",
        "colab": {}
      },
      "source": [
        "!apt-get install openjdk-8-jdk-headless -qq > /dev/null\n",
        "!wget -q http://www-eu.apache.org/dist/spark/spark-2.4.4/spark-2.4.4-bin-hadoop2.7.tgz\n",
        "!tar xf spark-2.4.4-bin-hadoop2.7.tgz\n",
        "!pip install -q findspark"
      ],
      "execution_count": 0,
      "outputs": []
    },
    {
      "cell_type": "code",
      "metadata": {
        "id": "WuSt0MBBBX7Z",
        "colab_type": "code",
        "outputId": "cc46b70a-0c0b-40db-8b94-d33e4c46a7a2",
        "colab": {
          "base_uri": "https://localhost:8080/",
          "height": 110
        }
      },
      "source": [
        "!pip install py4j"
      ],
      "execution_count": 2,
      "outputs": [
        {
          "output_type": "stream",
          "text": [
            "Collecting py4j\n",
            "\u001b[?25l  Downloading https://files.pythonhosted.org/packages/04/de/2d314a921ef4c20b283e1de94e0780273678caac901564df06b948e4ba9b/py4j-0.10.8.1-py2.py3-none-any.whl (196kB)\n",
            "\r\u001b[K     |█▊                              | 10kB 23.0MB/s eta 0:00:01\r\u001b[K     |███▍                            | 20kB 2.0MB/s eta 0:00:01\r\u001b[K     |█████                           | 30kB 2.6MB/s eta 0:00:01\r\u001b[K     |██████▊                         | 40kB 2.0MB/s eta 0:00:01\r\u001b[K     |████████▍                       | 51kB 2.3MB/s eta 0:00:01\r\u001b[K     |██████████                      | 61kB 2.7MB/s eta 0:00:01\r\u001b[K     |███████████▊                    | 71kB 2.9MB/s eta 0:00:01\r\u001b[K     |█████████████▍                  | 81kB 3.3MB/s eta 0:00:01\r\u001b[K     |███████████████                 | 92kB 3.5MB/s eta 0:00:01\r\u001b[K     |████████████████▊               | 102kB 3.3MB/s eta 0:00:01\r\u001b[K     |██████████████████▍             | 112kB 3.3MB/s eta 0:00:01\r\u001b[K     |████████████████████            | 122kB 3.3MB/s eta 0:00:01\r\u001b[K     |█████████████████████▊          | 133kB 3.3MB/s eta 0:00:01\r\u001b[K     |███████████████████████▍        | 143kB 3.3MB/s eta 0:00:01\r\u001b[K     |█████████████████████████       | 153kB 3.3MB/s eta 0:00:01\r\u001b[K     |██████████████████████████▊     | 163kB 3.3MB/s eta 0:00:01\r\u001b[K     |████████████████████████████▍   | 174kB 3.3MB/s eta 0:00:01\r\u001b[K     |██████████████████████████████  | 184kB 3.3MB/s eta 0:00:01\r\u001b[K     |███████████████████████████████▊| 194kB 3.3MB/s eta 0:00:01\r\u001b[K     |████████████████████████████████| 204kB 3.3MB/s \n",
            "\u001b[?25hInstalling collected packages: py4j\n",
            "Successfully installed py4j-0.10.8.1\n"
          ],
          "name": "stdout"
        }
      ]
    },
    {
      "cell_type": "code",
      "metadata": {
        "id": "qZIB8gx7BZ0v",
        "colab_type": "code",
        "colab": {}
      },
      "source": [
        "import os\n",
        "os.environ[\"JAVA_HOME\"] = \"/usr/lib/jvm/java-8-openjdk-amd64\"\n",
        "os.environ[\"SPARK_HOME\"] = \"/content/spark-2.4.4-bin-hadoop2.7\""
      ],
      "execution_count": 0,
      "outputs": []
    },
    {
      "cell_type": "code",
      "metadata": {
        "id": "XzYrFYvIBcOf",
        "colab_type": "code",
        "colab": {}
      },
      "source": [
        "import findspark\n",
        "findspark.init()"
      ],
      "execution_count": 0,
      "outputs": []
    },
    {
      "cell_type": "code",
      "metadata": {
        "id": "Hqbi2yklB7p3",
        "colab_type": "code",
        "colab": {}
      },
      "source": [
        "import pyspark"
      ],
      "execution_count": 0,
      "outputs": []
    },
    {
      "cell_type": "code",
      "metadata": {
        "id": "00mrZHHvC12Y",
        "colab_type": "code",
        "outputId": "456050f0-0c2e-439d-d36f-18267a9ffacb",
        "colab": {
          "base_uri": "https://localhost:8080/",
          "height": 130
        }
      },
      "source": [
        "from google.colab import drive\n",
        "drive.mount('/content/gdrive')"
      ],
      "execution_count": 6,
      "outputs": [
        {
          "output_type": "stream",
          "text": [
            "Go to this URL in a browser: https://accounts.google.com/o/oauth2/auth?client_id=947318989803-6bn6qk8qdgf4n4g3pfee6491hc0brc4i.apps.googleusercontent.com&redirect_uri=urn%3aietf%3awg%3aoauth%3a2.0%3aoob&response_type=code&scope=email%20https%3a%2f%2fwww.googleapis.com%2fauth%2fdocs.test%20https%3a%2f%2fwww.googleapis.com%2fauth%2fdrive%20https%3a%2f%2fwww.googleapis.com%2fauth%2fdrive.photos.readonly%20https%3a%2f%2fwww.googleapis.com%2fauth%2fpeopleapi.readonly\n",
            "\n",
            "Enter your authorization code:\n",
            "··········\n",
            "Mounted at /content/gdrive\n"
          ],
          "name": "stdout"
        }
      ]
    },
    {
      "cell_type": "code",
      "metadata": {
        "id": "-_ZxvCL2C5qn",
        "colab_type": "code",
        "colab": {}
      },
      "source": [
        "from pyspark.sql import SparkSession"
      ],
      "execution_count": 0,
      "outputs": []
    },
    {
      "cell_type": "code",
      "metadata": {
        "id": "krBaVglkKnvj",
        "colab_type": "code",
        "colab": {}
      },
      "source": [
        "spark = SparkSession.builder.master(\"local[*]\").getOrCreate()"
      ],
      "execution_count": 0,
      "outputs": []
    },
    {
      "cell_type": "code",
      "metadata": {
        "id": "gjHb8Cc_EITX",
        "colab_type": "code",
        "colab": {}
      },
      "source": [
        "comments1 =  spark.read.csv(\"/content/gdrive/My Drive/Colab Notebooks/GBcomments.csv\", inferSchema=True, header=True)"
      ],
      "execution_count": 0,
      "outputs": []
    },
    {
      "cell_type": "code",
      "metadata": {
        "id": "FPkn9lr3NOiZ",
        "colab_type": "code",
        "colab": {}
      },
      "source": [
        "comments2= spark.read.csv(\"/content/gdrive/My Drive/Colab Notebooks/UScomments.csv\", inferSchema=True, header=True)"
      ],
      "execution_count": 0,
      "outputs": []
    },
    {
      "cell_type": "code",
      "metadata": {
        "id": "FsS54DS-KdwL",
        "colab_type": "code",
        "outputId": "60ebbd0b-a3f4-4b4a-ec2c-9e28e8cd6f71",
        "colab": {
          "base_uri": "https://localhost:8080/",
          "height": 223
        }
      },
      "source": [
        "comments1.show(5)"
      ],
      "execution_count": 11,
      "outputs": [
        {
          "output_type": "stream",
          "text": [
            "+-----------+--------------------+-----+-------+\n",
            "|   video_id|        comment_text|likes|replies|\n",
            "+-----------+--------------------+-----+-------+\n",
            "|jt2OHQh0HoQ|It's more accurat...|    0|      0|\n",
            "|jt2OHQh0HoQ|To be there with ...|    1|      0|\n",
            "|jt2OHQh0HoQ|Thank gosh, a pla...|    0|      0|\n",
            "|jt2OHQh0HoQ|What happened to ...|    0|      0|\n",
            "|jt2OHQh0HoQ|Power is the dise...|    0|      0|\n",
            "+-----------+--------------------+-----+-------+\n",
            "only showing top 5 rows\n",
            "\n"
          ],
          "name": "stdout"
        }
      ]
    },
    {
      "cell_type": "code",
      "metadata": {
        "id": "Agd0_Pg_MkCx",
        "colab_type": "code",
        "outputId": "f5ac094b-b70a-4d43-eade-c30b1f6816d7",
        "colab": {
          "base_uri": "https://localhost:8080/",
          "height": 36
        }
      },
      "source": [
        "type(comments1)"
      ],
      "execution_count": 12,
      "outputs": [
        {
          "output_type": "execute_result",
          "data": {
            "text/plain": [
              "pyspark.sql.dataframe.DataFrame"
            ]
          },
          "metadata": {
            "tags": []
          },
          "execution_count": 12
        }
      ]
    },
    {
      "cell_type": "code",
      "metadata": {
        "id": "m82n-wW8MtYq",
        "colab_type": "code",
        "colab": {}
      },
      "source": [
        "from functools import reduce  # For Python 3.x\n",
        "from pyspark.sql import DataFrame\n",
        "\n",
        "def unionAll(*dfs):\n",
        "    return reduce(DataFrame.unionAll, dfs)\n",
        "\n",
        "comments=unionAll(comments1,comments2)"
      ],
      "execution_count": 0,
      "outputs": []
    },
    {
      "cell_type": "code",
      "metadata": {
        "id": "BMc72JXwNzUZ",
        "colab_type": "code",
        "outputId": "94d8d33e-1bb9-48e7-cb28-bb939808d154",
        "colab": {
          "base_uri": "https://localhost:8080/",
          "height": 36
        }
      },
      "source": [
        "comments.count()"
      ],
      "execution_count": 14,
      "outputs": [
        {
          "output_type": "execute_result",
          "data": {
            "text/plain": [
              "1410466"
            ]
          },
          "metadata": {
            "tags": []
          },
          "execution_count": 14
        }
      ]
    },
    {
      "cell_type": "code",
      "metadata": {
        "id": "hk183emhN1pB",
        "colab_type": "code",
        "outputId": "dc463321-0342-41d5-d5b7-b7d0efe6ca84",
        "colab": {
          "base_uri": "https://localhost:8080/",
          "height": 110
        }
      },
      "source": [
        "comments_rdd = comments.select('comment_text').rdd.flatMap(lambda x: x)\n",
        "comments_rdd=comments_rdd.filter(lambda x: x is not None).filter(lambda x: x!='')\n",
        "comments_rdd.take(5)"
      ],
      "execution_count": 15,
      "outputs": [
        {
          "output_type": "execute_result",
          "data": {
            "text/plain": [
              "[\"It's more accurate to call it the M+ (1000) because the price is closer than calling it the X (10).\",\n",
              " 'To be there with a samsung phone\\\\n😂😂😂',\n",
              " 'Thank gosh, a place I can watch it without having to be at HD... my speed doesn’t support HD',\n",
              " 'What happened to the home button on the iPhone X? *****Cough****copying Samsung******cough',\n",
              " 'Power is the disease.\\xa0 Care is the cure.\\xa0 Keep caring for yourself and others as best as you can.\\xa0 This is life.']"
            ]
          },
          "metadata": {
            "tags": []
          },
          "execution_count": 15
        }
      ]
    },
    {
      "cell_type": "code",
      "metadata": {
        "id": "CGxCqN9-OHlZ",
        "colab_type": "code",
        "colab": {}
      },
      "source": [
        "header = comments_rdd.first()"
      ],
      "execution_count": 0,
      "outputs": []
    },
    {
      "cell_type": "code",
      "metadata": {
        "id": "IfWpcgNHYaOn",
        "colab_type": "code",
        "colab": {}
      },
      "source": [
        ""
      ],
      "execution_count": 0,
      "outputs": []
    },
    {
      "cell_type": "code",
      "metadata": {
        "id": "F_EJIiUbORhp",
        "colab_type": "code",
        "colab": {}
      },
      "source": [
        "data_rmv_col = comments_rdd.filter(lambda row: row != header)"
      ],
      "execution_count": 0,
      "outputs": []
    },
    {
      "cell_type": "code",
      "metadata": {
        "id": "vBq7Tt8fYddE",
        "colab_type": "code",
        "colab": {}
      },
      "source": [
        "def lower(x):\n",
        "  return x.lower()"
      ],
      "execution_count": 0,
      "outputs": []
    },
    {
      "cell_type": "code",
      "metadata": {
        "id": "whFlu2bVOUGj",
        "colab_type": "code",
        "colab": {}
      },
      "source": [
        "lowerCase_sentRDD = data_rmv_col.map(lower)"
      ],
      "execution_count": 0,
      "outputs": []
    },
    {
      "cell_type": "code",
      "metadata": {
        "id": "uvfSyt5vY0NM",
        "colab_type": "code",
        "outputId": "5efd4339-cfe6-499a-d66b-c4746da87650",
        "colab": {
          "base_uri": "https://localhost:8080/",
          "height": 110
        }
      },
      "source": [
        "lowerCase_sentRDD.take(5)"
      ],
      "execution_count": 20,
      "outputs": [
        {
          "output_type": "execute_result",
          "data": {
            "text/plain": [
              "['to be there with a samsung phone\\\\n😂😂😂',\n",
              " 'thank gosh, a place i can watch it without having to be at hd... my speed doesn’t support hd',\n",
              " 'what happened to the home button on the iphone x? *****cough****copying samsung******cough',\n",
              " 'power is the disease.\\xa0 care is the cure.\\xa0 keep caring for yourself and others as best as you can.\\xa0 this is life.',\n",
              " 'keep calm and buy iphone 8 keep calm and buy iphone 8 plus keep calm and buy iphone x. what is your favourite?']"
            ]
          },
          "metadata": {
            "tags": []
          },
          "execution_count": 20
        }
      ]
    },
    {
      "cell_type": "code",
      "metadata": {
        "id": "OMGLHMbyOWFg",
        "colab_type": "code",
        "colab": {}
      },
      "source": [
        "import spacy\n",
        "nlp = spacy.load(\"en_core_web_sm\")"
      ],
      "execution_count": 0,
      "outputs": []
    },
    {
      "cell_type": "code",
      "metadata": {
        "id": "UUSEb5lFOXyh",
        "colab_type": "code",
        "colab": {}
      },
      "source": [
        "def sent_TokenizeFunct(x):\n",
        "    doc=nlp(x)\n",
        "    #return doc\n",
        "    tokens=[]\n",
        "    for token in doc:\n",
        "      if((token.is_stop==False and token.is_punct==False) and token.is_alpha==True):\n",
        "        tokens.append(token.lemma_)\n",
        "    return ' '.join(tokens)\n",
        "    \n",
        "sentenceTokenizeRDD = lowerCase_sentRDD.map(sent_TokenizeFunct)"
      ],
      "execution_count": 0,
      "outputs": []
    },
    {
      "cell_type": "code",
      "metadata": {
        "id": "lBjwx5cmOZmK",
        "colab_type": "code",
        "colab": {}
      },
      "source": [
        ""
      ],
      "execution_count": 0,
      "outputs": []
    },
    {
      "cell_type": "code",
      "metadata": {
        "id": "aALgYIynnjPk",
        "colab_type": "code",
        "outputId": "dc5e60f7-5a6e-4709-af16-8b78cb910983",
        "colab": {
          "base_uri": "https://localhost:8080/",
          "height": 110
        }
      },
      "source": [
        "sentenceTokenizeRDD.take(5)"
      ],
      "execution_count": 23,
      "outputs": [
        {
          "output_type": "execute_result",
          "data": {
            "text/plain": [
              "['samsung',\n",
              " 'thank gosh place watch have hd speed support hd',\n",
              " 'happen home button iphone x',\n",
              " 'power disease care cure care best life',\n",
              " 'calm buy iphone calm buy iphone plus calm buy iphone favourite']"
            ]
          },
          "metadata": {
            "tags": []
          },
          "execution_count": 23
        }
      ]
    },
    {
      "cell_type": "code",
      "metadata": {
        "id": "f9CwPpHuOp1x",
        "colab_type": "code",
        "colab": {}
      },
      "source": [
        ""
      ],
      "execution_count": 0,
      "outputs": []
    },
    {
      "cell_type": "markdown",
      "metadata": {
        "id": "XuaT6RkJZ9W5",
        "colab_type": "text"
      },
      "source": [
        "# Working on Videos"
      ]
    },
    {
      "cell_type": "code",
      "metadata": {
        "id": "QwCMl4dKpP0k",
        "colab_type": "code",
        "colab": {}
      },
      "source": [
        "Videos1 =  spark.read.csv(\"/content/gdrive/My Drive/Colab Notebooks/GBvideos.csv\", inferSchema=True, header=True)\n",
        "Videos2 =  spark.read.csv(\"/content/gdrive/My Drive/Colab Notebooks/USvideos.csv\", inferSchema=True, header=True)\n",
        "videos = unionAll(Videos1,Videos2)"
      ],
      "execution_count": 0,
      "outputs": []
    },
    {
      "cell_type": "code",
      "metadata": {
        "id": "Pf2b-oUBakjb",
        "colab_type": "code",
        "outputId": "79709936-1e92-495e-c235-235610d337df",
        "colab": {
          "base_uri": "https://localhost:8080/",
          "height": 223
        }
      },
      "source": [
        "videos.show(5)"
      ],
      "execution_count": 25,
      "outputs": [
        {
          "output_type": "stream",
          "text": [
            "+-----------+--------------------+-----------------+-----------+--------------------+-------+-----+--------+-------------+--------------------+-----+\n",
            "|   video_id|               title|    channel_title|category_id|                tags|  views|likes|dislikes|comment_total|      thumbnail_link| date|\n",
            "+-----------+--------------------+-----------------+-----------+--------------------+-------+-----+--------+-------------+--------------------+-----+\n",
            "|jt2OHQh0HoQ|Live Apple Event ...|      Apple Event|         28|apple events|appl...|7426393|78240|   13548|          705|https://i.ytimg.c...|13.09|\n",
            "|AqokkXoa7uE|Holly and Phillip...|     This Morning|         24|this morning|inte...| 494203| 2651|    1309|            0|https://i.ytimg.c...|13.09|\n",
            "|YPVcg45W0z4|My DNA Test Resul...|     emmablackery|         24|emmablackery|emma...| 142819|13119|     151|         1141|https://i.ytimg.c...|13.09|\n",
            "|T_PuZBdT2iM|getting into a co...|            ProZD|          1|skit|korean|langu...|1580028|65729|    1529|         3598|https://i.ytimg.c...|13.09|\n",
            "|NsjsmgmbCfc|Baby Name Challenge!|Sprinkleofglitter|         26|sprinkleofglitter...|  40592| 5019|      57|          490|https://i.ytimg.c...|13.09|\n",
            "+-----------+--------------------+-----------------+-----------+--------------------+-------+-----+--------+-------------+--------------------+-----+\n",
            "only showing top 5 rows\n",
            "\n"
          ],
          "name": "stdout"
        }
      ]
    },
    {
      "cell_type": "code",
      "metadata": {
        "id": "RaRDsaVGatMJ",
        "colab_type": "code",
        "outputId": "adabf401-933f-45ed-a5c3-850b8f502807",
        "colab": {
          "base_uri": "https://localhost:8080/",
          "height": 110
        }
      },
      "source": [
        "videos_rdd = videos.select(['title']).rdd.flatMap(lambda x: x)\n",
        "videos_rdd = videos_rdd.filter(lambda x: x is not None).filter(lambda x: x!='')\n",
        "videos_rdd.take(5)"
      ],
      "execution_count": 26,
      "outputs": [
        {
          "output_type": "execute_result",
          "data": {
            "text/plain": [
              "['Live Apple Event - Apple September Event 2017 - iPhone 8, iPhone X, iOS 11 - Apple Keynote',\n",
              " 'Holly and Phillip Meet Samantha the Sex Robot | This Morning',\n",
              " \"My DNA Test Results! I'm WHAT?!\",\n",
              " \"getting into a conversation in a language you don't actually speak that well\",\n",
              " 'Baby Name Challenge!']"
            ]
          },
          "metadata": {
            "tags": []
          },
          "execution_count": 26
        }
      ]
    },
    {
      "cell_type": "code",
      "metadata": {
        "id": "QRWN2kwbbWlO",
        "colab_type": "code",
        "colab": {}
      },
      "source": [
        "header_Vid=videos_rdd.first()"
      ],
      "execution_count": 0,
      "outputs": []
    },
    {
      "cell_type": "code",
      "metadata": {
        "id": "SQ4raTiSbehi",
        "colab_type": "code",
        "colab": {}
      },
      "source": [
        "data_rmv_col_vid = videos_rdd.filter(lambda row: row != header_Vid)"
      ],
      "execution_count": 0,
      "outputs": []
    },
    {
      "cell_type": "code",
      "metadata": {
        "id": "Bd-5bxSnbFko",
        "colab_type": "code",
        "colab": {}
      },
      "source": [
        "lowerCase_VidRDD = data_rmv_col_vid.map(lower)"
      ],
      "execution_count": 0,
      "outputs": []
    },
    {
      "cell_type": "code",
      "metadata": {
        "id": "zhKOhbOObzc7",
        "colab_type": "code",
        "outputId": "d4507b2c-afb5-44f3-bcec-892d9dca7cdc",
        "colab": {
          "base_uri": "https://localhost:8080/",
          "height": 110
        }
      },
      "source": [
        "lowerCase_VidRDD.take(5)"
      ],
      "execution_count": 30,
      "outputs": [
        {
          "output_type": "execute_result",
          "data": {
            "text/plain": [
              "['holly and phillip meet samantha the sex robot | this morning',\n",
              " \"my dna test results! i'm what?!\",\n",
              " \"getting into a conversation in a language you don't actually speak that well\",\n",
              " 'baby name challenge!',\n",
              " \"revealed - fifa 18 stats for chelsea's hazard, luiz & christensen!\"]"
            ]
          },
          "metadata": {
            "tags": []
          },
          "execution_count": 30
        }
      ]
    },
    {
      "cell_type": "code",
      "metadata": {
        "id": "K2zIE5tIb8q5",
        "colab_type": "code",
        "colab": {}
      },
      "source": [
        "Vid_sentTokenizeRDD = lowerCase_VidRDD.map(sent_TokenizeFunct)"
      ],
      "execution_count": 0,
      "outputs": []
    },
    {
      "cell_type": "code",
      "metadata": {
        "id": "15_82miKcyvA",
        "colab_type": "code",
        "outputId": "5a2884db-4e1a-425a-f4b1-34f89f4ee7af",
        "colab": {
          "base_uri": "https://localhost:8080/",
          "height": 110
        }
      },
      "source": [
        "Vid_sentTokenizeRDD.take(5)"
      ],
      "execution_count": 32,
      "outputs": [
        {
          "output_type": "execute_result",
          "data": {
            "text/plain": [
              "['holly phillip meet samantha sex robot morning',\n",
              " 'dna test result',\n",
              " 'get conversation language actually speak',\n",
              " 'baby challenge',\n",
              " 'reveal fifa stat chelsea hazard luiz christensen']"
            ]
          },
          "metadata": {
            "tags": []
          },
          "execution_count": 32
        }
      ]
    },
    {
      "cell_type": "code",
      "metadata": {
        "id": "wSv3Sk6wlUBz",
        "colab_type": "code",
        "outputId": "b763abae-b657-4383-bf90-4f273e943d44",
        "colab": {
          "base_uri": "https://localhost:8080/",
          "height": 110
        }
      },
      "source": [
        "tags_rdd=videos.select(['tags']).rdd.flatMap(lambda x:x)\n",
        "tags_rdd.take(5)"
      ],
      "execution_count": 33,
      "outputs": [
        {
          "output_type": "execute_result",
          "data": {
            "text/plain": [
              "['apple events|apple event|iphone 8|iphone x|iphone 8 plus|iphone 7s|iphone 7s plus|ios 11',\n",
              " 'this morning|interview|holly willoughby|phillip schofield|ruth langsford|eamonn holmes|chat shows - topic|chat show - topic|talk shows - topic|sex robot|samantha|real life',\n",
              " 'emmablackery|emma blackery|emma|blackery|british vlogger|british youtuber|female vlogger|birdyboots|dna test|23andme|ancestry',\n",
              " \"skit|korean|language|conversation|esl|japanese|foreign|communication|don't speak|struggle|foreigner|lotte mart|korea|south|weather|good|tutorial\",\n",
              " 'sprinkleofglitter|sprinkle of glitter|baby glitter|Louise Pentland|Louise Pentland Baby Name|Mrs Meldrum|Baby Names|Nice baby names|Unusual baby names']"
            ]
          },
          "metadata": {
            "tags": []
          },
          "execution_count": 33
        }
      ]
    },
    {
      "cell_type": "code",
      "metadata": {
        "id": "9CqP-hs7mCUH",
        "colab_type": "code",
        "colab": {}
      },
      "source": [
        "header_tags = tags_rdd.first()"
      ],
      "execution_count": 0,
      "outputs": []
    },
    {
      "cell_type": "code",
      "metadata": {
        "id": "gZH0uLKJmCYG",
        "colab_type": "code",
        "colab": {}
      },
      "source": [
        "tags_rmv_col = tags_rdd.filter(lambda row: row != header_tags)"
      ],
      "execution_count": 0,
      "outputs": []
    },
    {
      "cell_type": "code",
      "metadata": {
        "id": "1PdZvEp-mCRE",
        "colab_type": "code",
        "outputId": "9fbbdef2-78a7-4714-f955-7be9d8c947a8",
        "colab": {
          "base_uri": "https://localhost:8080/",
          "height": 130
        }
      },
      "source": [
        "tags_rmv_col.take(5)"
      ],
      "execution_count": 36,
      "outputs": [
        {
          "output_type": "execute_result",
          "data": {
            "text/plain": [
              "['this morning|interview|holly willoughby|phillip schofield|ruth langsford|eamonn holmes|chat shows - topic|chat show - topic|talk shows - topic|sex robot|samantha|real life',\n",
              " 'emmablackery|emma blackery|emma|blackery|british vlogger|british youtuber|female vlogger|birdyboots|dna test|23andme|ancestry',\n",
              " \"skit|korean|language|conversation|esl|japanese|foreign|communication|don't speak|struggle|foreigner|lotte mart|korea|south|weather|good|tutorial\",\n",
              " 'sprinkleofglitter|sprinkle of glitter|baby glitter|Louise Pentland|Louise Pentland Baby Name|Mrs Meldrum|Baby Names|Nice baby names|Unusual baby names',\n",
              " 'Rio Ferdinand|Rio|Ferdinand|5 Magazine|5 Mag|#5|5 Rio Ferdinand|Rio Ferdinand interview|football|soccer|interview|Manchester United|Man United|fifa 18|fut 18|fut|fifa ratings|fifa 18 ratings|chelsea|chelsea fc|chelsea f.c|David Luiz|Eden Hazard|Christensen|Premier League|Champions League|Fifa18|Hazard Fifa 18|David Luiz Fifa 18|Christensen Fifa 18|Chelsea Fifa 18|Pack Opening|Fifa Pack Opening|Fifa 18 Pack Opening|Fifa 18 official Ratings']"
            ]
          },
          "metadata": {
            "tags": []
          },
          "execution_count": 36
        }
      ]
    },
    {
      "cell_type": "code",
      "metadata": {
        "id": "-xSV3GG8c3ry",
        "colab_type": "code",
        "colab": {}
      },
      "source": [
        "def split1(x):\n",
        "  return (x.split(\"|\"))\n",
        "\n",
        "tags_rdd=tags_rmv_col.map(split1)"
      ],
      "execution_count": 0,
      "outputs": []
    },
    {
      "cell_type": "code",
      "metadata": {
        "id": "qyMe4c3bdbBY",
        "colab_type": "code",
        "colab": {}
      },
      "source": [
        ""
      ],
      "execution_count": 0,
      "outputs": []
    },
    {
      "cell_type": "code",
      "metadata": {
        "id": "B_fBqIgCUQTN",
        "colab_type": "code",
        "colab": {}
      },
      "source": [
        "from pyspark.sql import Row\n",
        "from pyspark.sql.functions import monotonically_increasing_id\n",
        "\n",
        "row_title = Row(\"LemmetizeTitle\") # Or some other column name\n",
        "Title_DF = Vid_sentTokenizeRDD.map(row_title).toDF()\n",
        "Title_DF = Title_DF.select(\"*\").withColumn(\"id\", monotonically_increasing_id())\n",
        "\n",
        "row_tags=Row(\"Tokenized_Tags\")\n",
        "Tags_DF=tags_rdd.map(row_tags).toDF()\n",
        "Tags_DF = Tags_DF.select(\"*\").withColumn(\"id\", monotonically_increasing_id())"
      ],
      "execution_count": 0,
      "outputs": []
    },
    {
      "cell_type": "code",
      "metadata": {
        "id": "-K_vana-Ovv6",
        "colab_type": "code",
        "colab": {
          "base_uri": "https://localhost:8080/",
          "height": 223
        },
        "outputId": "99c1d692-9acf-4661-dcd9-3cacc1969b03"
      },
      "source": [
        "Title_DF.show(5)"
      ],
      "execution_count": 39,
      "outputs": [
        {
          "output_type": "stream",
          "text": [
            "+--------------------+---+\n",
            "|      LemmetizeTitle| id|\n",
            "+--------------------+---+\n",
            "|holly phillip mee...|  0|\n",
            "|     dna test result|  1|\n",
            "|get conversation ...|  2|\n",
            "|      baby challenge|  3|\n",
            "|reveal fifa stat ...|  4|\n",
            "+--------------------+---+\n",
            "only showing top 5 rows\n",
            "\n"
          ],
          "name": "stdout"
        }
      ]
    },
    {
      "cell_type": "code",
      "metadata": {
        "id": "GJMK8oUla5ri",
        "colab_type": "code",
        "colab": {
          "base_uri": "https://localhost:8080/",
          "height": 223
        },
        "outputId": "4d973bb3-5bd0-4e39-ce17-6a324de39110"
      },
      "source": [
        "Tags_DF.show(5)"
      ],
      "execution_count": 40,
      "outputs": [
        {
          "output_type": "stream",
          "text": [
            "+--------------------+---+\n",
            "|      Tokenized_Tags| id|\n",
            "+--------------------+---+\n",
            "|[this morning, in...|  0|\n",
            "|[emmablackery, em...|  1|\n",
            "|[skit, korean, la...|  2|\n",
            "|[sprinkleofglitte...|  3|\n",
            "|[Rio Ferdinand, R...|  4|\n",
            "+--------------------+---+\n",
            "only showing top 5 rows\n",
            "\n"
          ],
          "name": "stdout"
        }
      ]
    },
    {
      "cell_type": "code",
      "metadata": {
        "id": "_J7doODDhdHK",
        "colab_type": "code",
        "colab": {}
      },
      "source": [
        "videos_DF = Title_DF.join(Tags_DF, on=['id'], how='left_outer')"
      ],
      "execution_count": 0,
      "outputs": []
    },
    {
      "cell_type": "code",
      "metadata": {
        "id": "XUVT8qqFfiwK",
        "colab_type": "code",
        "colab": {}
      },
      "source": [
        ""
      ],
      "execution_count": 0,
      "outputs": []
    },
    {
      "cell_type": "code",
      "metadata": {
        "id": "gDBdc5tXfuIO",
        "colab_type": "code",
        "colab": {
          "base_uri": "https://localhost:8080/",
          "height": 223
        },
        "outputId": "f7e67bdb-1336-4d71-dc79-79849528bb01"
      },
      "source": [
        "videos_DF.show(5)"
      ],
      "execution_count": 43,
      "outputs": [
        {
          "output_type": "stream",
          "text": [
            "+----+--------------------+--------------------+\n",
            "|  id|      LemmetizeTitle|      Tokenized_Tags|\n",
            "+----+--------------------+--------------------+\n",
            "|  26|testing soph x ma...|[grey hair, sophd...|\n",
            "|  29|move vlog pink ho...|[moving vlog, ike...|\n",
            "| 474|doom wolfenstein ...|[PC, IGN, PS4, Do...|\n",
            "| 964|lloyd new lego ni...|[Google, YouTube,...|\n",
            "|1677|project car ceo q...|[Project Cars 2 G...|\n",
            "+----+--------------------+--------------------+\n",
            "only showing top 5 rows\n",
            "\n"
          ],
          "name": "stdout"
        }
      ]
    },
    {
      "cell_type": "code",
      "metadata": {
        "id": "Pin7HJqsb-BK",
        "colab_type": "code",
        "colab": {
          "base_uri": "https://localhost:8080/",
          "height": 503
        },
        "outputId": "16eda1dc-7542-4553-8888-6194faef822d"
      },
      "source": [
        "from pyspark.ml.feature import HashingTF, IDF, Tokenizer\n",
        "\n",
        "\n",
        "tokenizer = Tokenizer(inputCol=\"LemmetizeTitle\", outputCol=\"words\")\n",
        "wordsData = tokenizer.transform(videos_DF)\n",
        "\n",
        "hashingTF = HashingTF(inputCol=\"words\", outputCol=\"rawFeatures\", numFeatures=20)\n",
        "featurizedData = hashingTF.transform(wordsData)\n",
        "\n",
        "idf = IDF(inputCol=\"rawFeatures\", outputCol=\"features\")\n",
        "idfModel = idf.fit(featurizedData)\n",
        "rescaledData = idfModel.transform(featurizedData)\n",
        "\n",
        "rescaledData.select(\"id\", \"features\").show()"
      ],
      "execution_count": 51,
      "outputs": [
        {
          "output_type": "stream",
          "text": [
            "+----+--------------------+\n",
            "|  id|            features|\n",
            "+----+--------------------+\n",
            "|  26|(20,[1,9,10,12,13...|\n",
            "|  29|(20,[0,2,6,9,14,1...|\n",
            "| 474|(20,[0,7,13,16],[...|\n",
            "| 964|(20,[0,4,5,11,15,...|\n",
            "|1677|(20,[0,1,6,8,11,1...|\n",
            "|1697|(20,[2,5,6,9,11,1...|\n",
            "|1806|(20,[2,6,8,12,13,...|\n",
            "|1950|(20,[3,6,14],[1.5...|\n",
            "|2040|(20,[0,11,15],[1....|\n",
            "|2214|(20,[3,4,9],[1.56...|\n",
            "|2250|(20,[5,9,14,16],[...|\n",
            "|2453|(20,[0,3,7],[1.58...|\n",
            "|2509|(20,[3,4,6,8,11,1...|\n",
            "|2529|(20,[5,10,14,15,1...|\n",
            "|2927|(20,[6,10,13],[1....|\n",
            "|3091|(20,[0,1,2,9,10,1...|\n",
            "|3506|(20,[0,4,5,6,8,10...|\n",
            "|3764|(20,[4,10,15],[1....|\n",
            "|4590|(20,[9,11,15,19],...|\n",
            "|4823|(20,[0,9,13],[1.5...|\n",
            "+----+--------------------+\n",
            "only showing top 20 rows\n",
            "\n"
          ],
          "name": "stdout"
        }
      ]
    },
    {
      "cell_type": "code",
      "metadata": {
        "id": "fHbz0wCH8j-h",
        "colab_type": "code",
        "colab": {}
      },
      "source": [
        ""
      ],
      "execution_count": 0,
      "outputs": []
    },
    {
      "cell_type": "code",
      "metadata": {
        "id": "5bXwddCY8ur9",
        "colab_type": "code",
        "colab": {}
      },
      "source": [
        ""
      ],
      "execution_count": 0,
      "outputs": []
    }
  ]
}