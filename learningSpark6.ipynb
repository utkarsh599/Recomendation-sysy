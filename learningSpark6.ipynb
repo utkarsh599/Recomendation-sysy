{
  "nbformat": 4,
  "nbformat_minor": 0,
  "metadata": {
    "colab": {
      "name": "learningSpark6.ipynb",
      "provenance": [],
      "collapsed_sections": [],
      "include_colab_link": true
    },
    "kernelspec": {
      "name": "python3",
      "display_name": "Python 3"
    },
    "accelerator": "GPU"
  },
  "cells": [
    {
      "cell_type": "markdown",
      "metadata": {
        "id": "view-in-github",
        "colab_type": "text"
      },
      "source": [
        "<a href=\"https://colab.research.google.com/github/utkarsh599/Recomendation-sysy/blob/Abhijeet/learningSpark6.ipynb\" target=\"_parent\"><img src=\"https://colab.research.google.com/assets/colab-badge.svg\" alt=\"Open In Colab\"/></a>"
      ]
    },
    {
      "cell_type": "code",
      "metadata": {
        "id": "0nMTDp0PAHLt",
        "colab_type": "code",
        "colab": {}
      },
      "source": [
        "!apt-get install openjdk-8-jdk-headless -qq > /dev/null\n",
        "!wget -q http://www-eu.apache.org/dist/spark/spark-2.4.4/spark-2.4.4-bin-hadoop2.7.tgz\n",
        "!tar xf spark-2.4.4-bin-hadoop2.7.tgz\n",
        "!pip install -q findspark"
      ],
      "execution_count": 0,
      "outputs": []
    },
    {
      "cell_type": "code",
      "metadata": {
        "id": "al-_jsbocQ5i",
        "colab_type": "code",
        "colab": {}
      },
      "source": [
        ""
      ],
      "execution_count": 0,
      "outputs": []
    },
    {
      "cell_type": "code",
      "metadata": {
        "id": "WuSt0MBBBX7Z",
        "colab_type": "code",
        "outputId": "f87fd940-1ebb-46dc-c15a-a55a36de7363",
        "colab": {
          "base_uri": "https://localhost:8080/",
          "height": 108
        }
      },
      "source": [
        "!pip install py4j"
      ],
      "execution_count": 0,
      "outputs": [
        {
          "output_type": "stream",
          "text": [
            "Collecting py4j\n",
            "\u001b[?25l  Downloading https://files.pythonhosted.org/packages/9e/b6/6a4fb90cd235dc8e265a6a2067f2a2c99f0d91787f06aca4bcf7c23f3f80/py4j-0.10.9-py2.py3-none-any.whl (198kB)\n",
            "\r\u001b[K     |█▋                              | 10kB 34.7MB/s eta 0:00:01\r\u001b[K     |███▎                            | 20kB 2.1MB/s eta 0:00:01\r\u001b[K     |█████                           | 30kB 2.5MB/s eta 0:00:01\r\u001b[K     |██████▋                         | 40kB 1.9MB/s eta 0:00:01\r\u001b[K     |████████▎                       | 51kB 2.1MB/s eta 0:00:01\r\u001b[K     |██████████                      | 61kB 2.5MB/s eta 0:00:01\r\u001b[K     |███████████▌                    | 71kB 2.4MB/s eta 0:00:01\r\u001b[K     |█████████████▏                  | 81kB 2.6MB/s eta 0:00:01\r\u001b[K     |██████████████▉                 | 92kB 2.9MB/s eta 0:00:01\r\u001b[K     |████████████████▌               | 102kB 3.1MB/s eta 0:00:01\r\u001b[K     |██████████████████▏             | 112kB 3.1MB/s eta 0:00:01\r\u001b[K     |███████████████████▉            | 122kB 3.1MB/s eta 0:00:01\r\u001b[K     |█████████████████████▌          | 133kB 3.1MB/s eta 0:00:01\r\u001b[K     |███████████████████████         | 143kB 3.1MB/s eta 0:00:01\r\u001b[K     |████████████████████████▊       | 153kB 3.1MB/s eta 0:00:01\r\u001b[K     |██████████████████████████▍     | 163kB 3.1MB/s eta 0:00:01\r\u001b[K     |████████████████████████████    | 174kB 3.1MB/s eta 0:00:01\r\u001b[K     |█████████████████████████████▊  | 184kB 3.1MB/s eta 0:00:01\r\u001b[K     |███████████████████████████████▍| 194kB 3.1MB/s eta 0:00:01\r\u001b[K     |████████████████████████████████| 204kB 3.1MB/s \n",
            "\u001b[?25hInstalling collected packages: py4j\n",
            "Successfully installed py4j-0.10.9\n"
          ],
          "name": "stdout"
        }
      ]
    },
    {
      "cell_type": "code",
      "metadata": {
        "id": "qZIB8gx7BZ0v",
        "colab_type": "code",
        "colab": {}
      },
      "source": [
        "import os\n",
        "os.environ[\"JAVA_HOME\"] = \"/usr/lib/jvm/java-8-openjdk-amd64\"\n",
        "os.environ[\"SPARK_HOME\"] = \"/content/spark-2.4.4-bin-hadoop2.7\""
      ],
      "execution_count": 0,
      "outputs": []
    },
    {
      "cell_type": "code",
      "metadata": {
        "id": "12T44mWjc6bB",
        "colab_type": "code",
        "colab": {}
      },
      "source": [
        ""
      ],
      "execution_count": 0,
      "outputs": []
    },
    {
      "cell_type": "code",
      "metadata": {
        "id": "XzYrFYvIBcOf",
        "colab_type": "code",
        "colab": {}
      },
      "source": [
        "import findspark\n",
        "findspark.init()"
      ],
      "execution_count": 0,
      "outputs": []
    },
    {
      "cell_type": "code",
      "metadata": {
        "id": "Hqbi2yklB7p3",
        "colab_type": "code",
        "colab": {}
      },
      "source": [
        "import pyspark"
      ],
      "execution_count": 0,
      "outputs": []
    },
    {
      "cell_type": "code",
      "metadata": {
        "id": "00mrZHHvC12Y",
        "colab_type": "code",
        "colab": {}
      },
      "source": [
        "from google.colab import drive\n",
        "drive.mount('/content/gdrive')"
      ],
      "execution_count": 0,
      "outputs": []
    },
    {
      "cell_type": "code",
      "metadata": {
        "id": "-_ZxvCL2C5qn",
        "colab_type": "code",
        "colab": {}
      },
      "source": [
        "from pyspark.sql import SparkSession\n"
      ],
      "execution_count": 0,
      "outputs": []
    },
    {
      "cell_type": "code",
      "metadata": {
        "id": "krBaVglkKnvj",
        "colab_type": "code",
        "colab": {}
      },
      "source": [
        "spark = SparkSession.builder.master(\"local[*]\").getOrCreate()"
      ],
      "execution_count": 0,
      "outputs": []
    },
    {
      "cell_type": "code",
      "metadata": {
        "id": "gjHb8Cc_EITX",
        "colab_type": "code",
        "colab": {}
      },
      "source": [
        "comments1 =  spark.read.csv(\"/content/gdrive/My Drive/Colab Notebooks/GBcomments.csv\", inferSchema=True, header=True)"
      ],
      "execution_count": 0,
      "outputs": []
    },
    {
      "cell_type": "code",
      "metadata": {
        "id": "FPkn9lr3NOiZ",
        "colab_type": "code",
        "colab": {}
      },
      "source": [
        "comments2= spark.read.csv(\"/content/gdrive/My Drive/Colab Notebooks/UScomments.csv\", inferSchema=True, header=True)"
      ],
      "execution_count": 0,
      "outputs": []
    },
    {
      "cell_type": "code",
      "metadata": {
        "id": "FsS54DS-KdwL",
        "colab_type": "code",
        "colab": {}
      },
      "source": [
        "comments1.show(5)"
      ],
      "execution_count": 0,
      "outputs": []
    },
    {
      "cell_type": "code",
      "metadata": {
        "id": "Agd0_Pg_MkCx",
        "colab_type": "code",
        "colab": {}
      },
      "source": [
        "type(comments1)"
      ],
      "execution_count": 0,
      "outputs": []
    },
    {
      "cell_type": "code",
      "metadata": {
        "id": "m82n-wW8MtYq",
        "colab_type": "code",
        "colab": {}
      },
      "source": [
        "from functools import reduce  # For Python 3.x\n",
        "from pyspark.sql import DataFrame\n",
        "\n",
        "def unionAll(*dfs):\n",
        "    return reduce(DataFrame.unionAll, dfs)\n",
        "\n",
        "comments=unionAll(comments1,comments2)"
      ],
      "execution_count": 0,
      "outputs": []
    },
    {
      "cell_type": "code",
      "metadata": {
        "id": "BMc72JXwNzUZ",
        "colab_type": "code",
        "colab": {}
      },
      "source": [
        "comments.count()"
      ],
      "execution_count": 0,
      "outputs": []
    },
    {
      "cell_type": "code",
      "metadata": {
        "id": "hk183emhN1pB",
        "colab_type": "code",
        "colab": {}
      },
      "source": [
        "comments_rdd = comments.select('comment_text').rdd.flatMap(lambda x: x)\n",
        "comments_rdd=comments_rdd.filter(lambda x: x is not None).filter(lambda x: x!='')\n",
        "comments_rdd.take(5)"
      ],
      "execution_count": 0,
      "outputs": []
    },
    {
      "cell_type": "code",
      "metadata": {
        "id": "CGxCqN9-OHlZ",
        "colab_type": "code",
        "colab": {}
      },
      "source": [
        "header = comments_rdd.first()"
      ],
      "execution_count": 0,
      "outputs": []
    },
    {
      "cell_type": "code",
      "metadata": {
        "id": "IfWpcgNHYaOn",
        "colab_type": "code",
        "colab": {}
      },
      "source": [
        ""
      ],
      "execution_count": 0,
      "outputs": []
    },
    {
      "cell_type": "code",
      "metadata": {
        "id": "F_EJIiUbORhp",
        "colab_type": "code",
        "colab": {}
      },
      "source": [
        "data_rmv_col = comments_rdd.filter(lambda row: row != header)"
      ],
      "execution_count": 0,
      "outputs": []
    },
    {
      "cell_type": "code",
      "metadata": {
        "id": "vBq7Tt8fYddE",
        "colab_type": "code",
        "colab": {}
      },
      "source": [
        "def lower(x):\n",
        "  return x.lower()"
      ],
      "execution_count": 0,
      "outputs": []
    },
    {
      "cell_type": "code",
      "metadata": {
        "id": "whFlu2bVOUGj",
        "colab_type": "code",
        "colab": {}
      },
      "source": [
        "lowerCase_sentRDD = data_rmv_col.map(lower)"
      ],
      "execution_count": 0,
      "outputs": []
    },
    {
      "cell_type": "code",
      "metadata": {
        "id": "uvfSyt5vY0NM",
        "colab_type": "code",
        "colab": {}
      },
      "source": [
        "lowerCase_sentRDD.take(5)"
      ],
      "execution_count": 0,
      "outputs": []
    },
    {
      "cell_type": "code",
      "metadata": {
        "id": "OMGLHMbyOWFg",
        "colab_type": "code",
        "colab": {}
      },
      "source": [
        "import spacy\n",
        "nlp = spacy.load(\"en_core_web_sm\")"
      ],
      "execution_count": 0,
      "outputs": []
    },
    {
      "cell_type": "code",
      "metadata": {
        "id": "UUSEb5lFOXyh",
        "colab_type": "code",
        "colab": {}
      },
      "source": [
        "def sent_TokenizeFunct(x):\n",
        "    doc=nlp(x)\n",
        "    #return doc\n",
        "    tokens=[]\n",
        "    for token in doc:\n",
        "      if((token.is_stop==False and token.is_punct==False) and token.is_alpha==True):\n",
        "        tokens.append(token.lemma_)\n",
        "    return ' '.join(tokens)\n",
        "    \n",
        "sentenceTokenizeRDD = lowerCase_sentRDD.map(sent_TokenizeFunct)"
      ],
      "execution_count": 0,
      "outputs": []
    },
    {
      "cell_type": "code",
      "metadata": {
        "id": "lBjwx5cmOZmK",
        "colab_type": "code",
        "colab": {}
      },
      "source": [
        ""
      ],
      "execution_count": 0,
      "outputs": []
    },
    {
      "cell_type": "code",
      "metadata": {
        "id": "aALgYIynnjPk",
        "colab_type": "code",
        "colab": {}
      },
      "source": [
        "sentenceTokenizeRDD.take(5)"
      ],
      "execution_count": 0,
      "outputs": []
    },
    {
      "cell_type": "code",
      "metadata": {
        "id": "f9CwPpHuOp1x",
        "colab_type": "code",
        "colab": {}
      },
      "source": [
        ""
      ],
      "execution_count": 0,
      "outputs": []
    },
    {
      "cell_type": "markdown",
      "metadata": {
        "id": "XuaT6RkJZ9W5",
        "colab_type": "text"
      },
      "source": [
        "# Working on Videos"
      ]
    },
    {
      "cell_type": "code",
      "metadata": {
        "id": "QwCMl4dKpP0k",
        "colab_type": "code",
        "colab": {}
      },
      "source": [
        "Videos1 =  spark.read.csv(\"/content/gdrive/My Drive/Colab Notebooks/GBvideos.csv\", inferSchema=True, header=True)\n",
        "Videos2 =  spark.read.csv(\"/content/gdrive/My Drive/Colab Notebooks/USvideos.csv\", inferSchema=True, header=True)\n",
        "videos = unionAll(Videos1,Videos2)"
      ],
      "execution_count": 0,
      "outputs": []
    },
    {
      "cell_type": "code",
      "metadata": {
        "id": "Pf2b-oUBakjb",
        "colab_type": "code",
        "colab": {}
      },
      "source": [
        "videos.show(5)"
      ],
      "execution_count": 0,
      "outputs": []
    },
    {
      "cell_type": "code",
      "metadata": {
        "id": "RaRDsaVGatMJ",
        "colab_type": "code",
        "colab": {}
      },
      "source": [
        "videos_rdd = videos.select(['title']).rdd.flatMap(lambda x: x)\n",
        "videos_rdd = videos_rdd.filter(lambda x: x is not None).filter(lambda x: x!='')\n",
        "videos_rdd.take(5)"
      ],
      "execution_count": 0,
      "outputs": []
    },
    {
      "cell_type": "code",
      "metadata": {
        "id": "QRWN2kwbbWlO",
        "colab_type": "code",
        "colab": {}
      },
      "source": [
        "header_Vid=videos_rdd.first()"
      ],
      "execution_count": 0,
      "outputs": []
    },
    {
      "cell_type": "code",
      "metadata": {
        "id": "SQ4raTiSbehi",
        "colab_type": "code",
        "colab": {}
      },
      "source": [
        "data_rmv_col_vid = videos_rdd.filter(lambda row: row != header_Vid)"
      ],
      "execution_count": 0,
      "outputs": []
    },
    {
      "cell_type": "code",
      "metadata": {
        "id": "Bd-5bxSnbFko",
        "colab_type": "code",
        "colab": {}
      },
      "source": [
        "lowerCase_VidRDD = data_rmv_col_vid.map(lower)"
      ],
      "execution_count": 0,
      "outputs": []
    },
    {
      "cell_type": "code",
      "metadata": {
        "id": "zhKOhbOObzc7",
        "colab_type": "code",
        "colab": {}
      },
      "source": [
        "lowerCase_VidRDD.take(5)"
      ],
      "execution_count": 0,
      "outputs": []
    },
    {
      "cell_type": "code",
      "metadata": {
        "id": "K2zIE5tIb8q5",
        "colab_type": "code",
        "colab": {}
      },
      "source": [
        "Vid_sentTokenizeRDD = lowerCase_VidRDD.map(sent_TokenizeFunct)"
      ],
      "execution_count": 0,
      "outputs": []
    },
    {
      "cell_type": "code",
      "metadata": {
        "id": "15_82miKcyvA",
        "colab_type": "code",
        "colab": {}
      },
      "source": [
        "Vid_sentTokenizeRDD.take(5)"
      ],
      "execution_count": 0,
      "outputs": []
    },
    {
      "cell_type": "code",
      "metadata": {
        "id": "wSv3Sk6wlUBz",
        "colab_type": "code",
        "colab": {}
      },
      "source": [
        "tags_rdd=videos.select(['tags']).rdd.flatMap(lambda x:x)\n",
        "tags_rdd.take(5)"
      ],
      "execution_count": 0,
      "outputs": []
    },
    {
      "cell_type": "code",
      "metadata": {
        "id": "9CqP-hs7mCUH",
        "colab_type": "code",
        "colab": {}
      },
      "source": [
        "header_tags = tags_rdd.first()"
      ],
      "execution_count": 0,
      "outputs": []
    },
    {
      "cell_type": "code",
      "metadata": {
        "id": "gZH0uLKJmCYG",
        "colab_type": "code",
        "colab": {}
      },
      "source": [
        "tags_rmv_col = tags_rdd.filter(lambda row: row != header_tags)"
      ],
      "execution_count": 0,
      "outputs": []
    },
    {
      "cell_type": "code",
      "metadata": {
        "id": "1PdZvEp-mCRE",
        "colab_type": "code",
        "colab": {}
      },
      "source": [
        "tags_rmv_col.take(5)"
      ],
      "execution_count": 0,
      "outputs": []
    },
    {
      "cell_type": "code",
      "metadata": {
        "id": "-xSV3GG8c3ry",
        "colab_type": "code",
        "colab": {}
      },
      "source": [
        "def split1(x):\n",
        "  return (x.split(\"|\"))\n",
        "\n",
        "tags_rdd=tags_rmv_col.map(split1)"
      ],
      "execution_count": 0,
      "outputs": []
    },
    {
      "cell_type": "code",
      "metadata": {
        "id": "qyMe4c3bdbBY",
        "colab_type": "code",
        "colab": {}
      },
      "source": [
        ""
      ],
      "execution_count": 0,
      "outputs": []
    },
    {
      "cell_type": "code",
      "metadata": {
        "id": "B_fBqIgCUQTN",
        "colab_type": "code",
        "colab": {}
      },
      "source": [
        "from pyspark.sql import Row\n",
        "from pyspark.sql.functions import monotonically_increasing_id\n",
        "\n",
        "row_title = Row(\"LemmetizeTitle\") # Or some other column name\n",
        "Title_DF = Vid_sentTokenizeRDD.map(row_title).toDF()\n",
        "Title_DF = Title_DF.select(\"*\").withColumn(\"id\", monotonically_increasing_id())\n",
        "\n",
        "row_tags=Row(\"Tokenized_Tags\")\n",
        "Tags_DF=tags_rdd.map(row_tags).toDF()\n",
        "Tags_DF = Tags_DF.select(\"*\").withColumn(\"id\", monotonically_increasing_id())"
      ],
      "execution_count": 0,
      "outputs": []
    },
    {
      "cell_type": "code",
      "metadata": {
        "id": "-K_vana-Ovv6",
        "colab_type": "code",
        "colab": {}
      },
      "source": [
        "Title_DF.show(5)"
      ],
      "execution_count": 0,
      "outputs": []
    },
    {
      "cell_type": "code",
      "metadata": {
        "id": "GJMK8oUla5ri",
        "colab_type": "code",
        "colab": {}
      },
      "source": [
        "Tags_DF.show(5)"
      ],
      "execution_count": 0,
      "outputs": []
    },
    {
      "cell_type": "code",
      "metadata": {
        "id": "zpcvH3jl7g_q",
        "colab_type": "code",
        "colab": {}
      },
      "source": [
        ""
      ],
      "execution_count": 0,
      "outputs": []
    },
    {
      "cell_type": "code",
      "metadata": {
        "id": "WTi3c3nG--QD",
        "colab_type": "code",
        "colab": {}
      },
      "source": [
        "Tags_DF[['Tokenized_Tags']]"
      ],
      "execution_count": 0,
      "outputs": []
    },
    {
      "cell_type": "code",
      "metadata": {
        "id": "_J7doODDhdHK",
        "colab_type": "code",
        "colab": {}
      },
      "source": [
        "videos_DF = Title_DF.join(Tags_DF, on=['id'], how='left_outer')"
      ],
      "execution_count": 0,
      "outputs": []
    },
    {
      "cell_type": "code",
      "metadata": {
        "id": "XUVT8qqFfiwK",
        "colab_type": "code",
        "colab": {}
      },
      "source": [
        "videos_DF.show(5)"
      ],
      "execution_count": 0,
      "outputs": []
    },
    {
      "cell_type": "code",
      "metadata": {
        "id": "gDBdc5tXfuIO",
        "colab_type": "code",
        "colab": {}
      },
      "source": [
        "videos_DF.count()"
      ],
      "execution_count": 0,
      "outputs": []
    },
    {
      "cell_type": "code",
      "metadata": {
        "id": "Pin7HJqsb-BK",
        "colab_type": "code",
        "colab": {}
      },
      "source": [
        "from pyspark.ml.feature import HashingTF, IDF, Tokenizer\n",
        "\n",
        "\n",
        "tokenizer = Tokenizer(inputCol=\"LemmetizeTitle\", outputCol=\"words\")\n",
        "wordsData = tokenizer.transform(videos_DF)\n",
        "\n",
        "hashingTF = HashingTF(inputCol=\"words\", outputCol=\"rawFeatures\", numFeatures=5)\n",
        "featurizedData = hashingTF.transform(wordsData)\n",
        "\n",
        "idf = IDF(inputCol=\"rawFeatures\", outputCol=\"features\")\n",
        "idfModel = idf.fit(featurizedData)\n",
        "rescaledData = idfModel.transform(featurizedData)\n",
        "\n",
        "rescaledData.select(\"id\", \"features\").show()"
      ],
      "execution_count": 0,
      "outputs": []
    },
    {
      "cell_type": "code",
      "metadata": {
        "id": "Fc6rgEUHh1os",
        "colab_type": "code",
        "colab": {}
      },
      "source": [
        "rescaledData.select(\"id\", \"features\").show(n=5, truncate=False, vertical=True)"
      ],
      "execution_count": 0,
      "outputs": []
    },
    {
      "cell_type": "code",
      "metadata": {
        "id": "2h9oJSUjprqH",
        "colab_type": "code",
        "colab": {}
      },
      "source": [
        "trainSDF,validationSDF,TestSDF=rescaledData.select(\"id\",\"Tokenized_tags\").randomSplit([0.75, 0.2, 0.05])"
      ],
      "execution_count": 0,
      "outputs": []
    },
    {
      "cell_type": "code",
      "metadata": {
        "id": "jtZWhYO4pr6M",
        "colab_type": "code",
        "colab": {}
      },
      "source": [
        "trainSDF.show(5)"
      ],
      "execution_count": 0,
      "outputs": []
    },
    {
      "cell_type": "code",
      "metadata": {
        "id": "8gahxHoTp-kh",
        "colab_type": "code",
        "colab": {}
      },
      "source": [
        "validationSDF.show(5)"
      ],
      "execution_count": 0,
      "outputs": []
    },
    {
      "cell_type": "code",
      "metadata": {
        "id": "TmIyHMRup-wv",
        "colab_type": "code",
        "colab": {}
      },
      "source": [
        "TestSDF.count()"
      ],
      "execution_count": 0,
      "outputs": []
    },
    {
      "cell_type": "code",
      "metadata": {
        "id": "eeVrgdOIi2Q9",
        "colab_type": "code",
        "colab": {}
      },
      "source": [
        "from pyspark.ml import Pipeline\n",
        "from pyspark.ml.feature import HashingTF, MinHashLSH\n",
        "import pyspark.sql.functions as f\n",
        "\n",
        "model = Pipeline(stages=[\n",
        "        HashingTF(inputCol=\"Tokenized_tags\", outputCol=\"vectors\"),\n",
        "        MinHashLSH(inputCol=\"vectors\", outputCol=\"lsh\", numHashTables=10)\n",
        "    ]).fit(TestSDF)\n",
        "\n",
        "db_hashed = model.transform(TestSDF)\n",
        "\n",
        "db_matches = model.stages[-1].approxSimilarityJoin(db_hashed, db_hashed, 0.9)\n",
        "\n",
        "#show all matches (including duplicates)\n",
        "db_matches.select(f.col('datasetA.id').alias('video_id_A'),\n",
        "                 f.col('datasetB.id').alias('video_id_B'),\n",
        "                 f.col('distCol')).show()\n"
      ],
      "execution_count": 0,
      "outputs": []
    },
    {
      "cell_type": "code",
      "metadata": {
        "id": "CYJVfIg6b5aG",
        "colab_type": "code",
        "colab": {}
      },
      "source": [
        "from pyspark.sql.functions import col\n",
        "#show non-duplicate matches\n",
        "ans=db_matches.select(f.col('datasetA.id').alias('video_id_A'),\n",
        "                 f.col('datasetB.id').alias('video_id_B'),\n",
        "                 f.col('distCol')).filter('video_id_A < video_id_B')\n",
        "\n",
        "ans=ans.sort(col(\"distCol\").desc())\n",
        "ans.show()"
      ],
      "execution_count": 0,
      "outputs": []
    },
    {
      "cell_type": "code",
      "metadata": {
        "id": "GI3-uJqvi3vg",
        "colab_type": "code",
        "colab": {}
      },
      "source": [
        "set1,set2,set3=ans.select(\"video_id_A\",\"video_id_B\",\"distCol\").randomSplit([0.33, 0.33, 0.34])"
      ],
      "execution_count": 0,
      "outputs": []
    },
    {
      "cell_type": "code",
      "metadata": {
        "id": "slvLd3eUi3zb",
        "colab_type": "code",
        "colab": {}
      },
      "source": [
        "set1.show()"
      ],
      "execution_count": 0,
      "outputs": []
    },
    {
      "cell_type": "code",
      "metadata": {
        "id": "PWt0NS7Gi3tu",
        "colab_type": "code",
        "colab": {}
      },
      "source": [
        "set2.show()"
      ],
      "execution_count": 0,
      "outputs": []
    },
    {
      "cell_type": "code",
      "metadata": {
        "id": "m_grFURui2Uj",
        "colab_type": "code",
        "colab": {}
      },
      "source": [
        "set3.show()"
      ],
      "execution_count": 0,
      "outputs": []
    },
    {
      "cell_type": "code",
      "metadata": {
        "id": "6TPH4F5ii2OU",
        "colab_type": "code",
        "outputId": "30585c99-49cc-4b50-fd99-e365d34454b0",
        "colab": {
          "base_uri": "https://localhost:8080/",
          "height": 134
        }
      },
      "source": [
        "ans.select('*').where(col('video_id_A')=\"776\")"
      ],
      "execution_count": 0,
      "outputs": [
        {
          "output_type": "error",
          "ename": "SyntaxError",
          "evalue": "ignored",
          "traceback": [
            "\u001b[0;36m  File \u001b[0;32m\"<ipython-input-1-16ddfa06962a>\"\u001b[0;36m, line \u001b[0;32m1\u001b[0m\n\u001b[0;31m    ans.select('*').where(col('video_id_A')=\"776\")\u001b[0m\n\u001b[0m                         ^\u001b[0m\n\u001b[0;31mSyntaxError\u001b[0m\u001b[0;31m:\u001b[0m keyword can't be an expression\n"
          ]
        }
      ]
    },
    {
      "cell_type": "code",
      "metadata": {
        "id": "AQPTiPkLFSHn",
        "colab_type": "code",
        "colab": {}
      },
      "source": [
        ""
      ],
      "execution_count": 0,
      "outputs": []
    },
    {
      "cell_type": "code",
      "metadata": {
        "id": "HrpCyxTmoDNQ",
        "colab_type": "code",
        "colab": {}
      },
      "source": [
        "# from pyspark.ml.feature import HashingTF, IDF\n",
        "# hashingTF = HashingTF(inputCol=\"Tokenized_Tags\", outputCol=\"tf\")\n",
        "# tf = hashingTF.transform(TestSDF.select(\"id\",\"Tokenized_Tags\"))\n",
        "\n",
        "# idf = IDF(inputCol=\"tf\", outputCol=\"feature\").fit(tf)\n",
        "# tfidf = idf.transform(tf)"
      ],
      "execution_count": 0,
      "outputs": []
    },
    {
      "cell_type": "code",
      "metadata": {
        "id": "DgiCP62MpAQW",
        "colab_type": "code",
        "colab": {}
      },
      "source": [
        "# #   tf.cache()\n",
        "# #   idf = IDF().fit(tf)\n",
        "# #   tfidf = idf.transform(tf)\n",
        "\n",
        "# from pyspark.ml.feature import Normalizer\n",
        "# normalizer = Normalizer(inputCol=\"feature\", outputCol=\"norm\")\n",
        "# data = normalizer.transform(tfidf)"
      ],
      "execution_count": 0,
      "outputs": []
    },
    {
      "cell_type": "code",
      "metadata": {
        "id": "V7KiLWi35K4z",
        "colab_type": "code",
        "outputId": "e208de5f-de4a-4a4f-86ec-264ba34ab413",
        "colab": {
          "base_uri": "https://localhost:8080/",
          "height": 217
        }
      },
      "source": [
        "# data.show(5)"
      ],
      "execution_count": 0,
      "outputs": [
        {
          "output_type": "stream",
          "text": [
            "+----------+--------------------+--------------------+--------------------+--------------------+\n",
            "|        id|      Tokenized_Tags|                  tf|             feature|                norm|\n",
            "+----------+--------------------+--------------------+--------------------+--------------------+\n",
            "|      3091|[affordable makeu...|(262144,[5262,199...|(262144,[5262,199...|(262144,[5262,199...|\n",
            "|      4894|[Linkin Park, One...|(262144,[21656,84...|(262144,[21656,84...|(262144,[21656,84...|\n",
            "|      7279|[carlibel55, carl...|(262144,[10116,37...|(262144,[10116,37...|(262144,[10116,37...|\n",
            "|8589938024|[Full Frontal wit...|(262144,[27323,66...|(262144,[27323,66...|(262144,[27323,66...|\n",
            "|8589942265|        [nerdwriter]|(262144,[109605],...|(262144,[109605],...|(262144,[109605],...|\n",
            "+----------+--------------------+--------------------+--------------------+--------------------+\n",
            "only showing top 5 rows\n",
            "\n"
          ],
          "name": "stdout"
        }
      ]
    },
    {
      "cell_type": "code",
      "metadata": {
        "id": "5AAvbPSjTxc4",
        "colab_type": "code",
        "colab": {}
      },
      "source": [
        "\n",
        "# from pyspark.sql.types import DoubleType"
      ],
      "execution_count": 0,
      "outputs": []
    },
    {
      "cell_type": "code",
      "metadata": {
        "id": "R-BPAgpg6pKz",
        "colab_type": "code",
        "outputId": "3fe0033a-3f2e-49b5-daf3-13601d7adddd",
        "colab": {
          "base_uri": "https://localhost:8080/",
          "height": 489
        }
      },
      "source": [
        "# import pyspark.sql.functions as psf\n",
        "# from pyspark.sql.functions import col\n",
        "# dot_udf = psf.udf(lambda x,y: float(x.dot(y)), DoubleType())\n",
        "# result=data.alias(\"i\").join(data.alias(\"j\"), psf.col(\"i.ID\") < psf.col(\"j.ID\"))\n",
        "# result=result.select(\n",
        "#         psf.col(\"i.ID\").alias(\"i\"), \n",
        "#         psf.col(\"j.ID\").alias(\"j\"), \n",
        "#         dot_udf(\"i.norm\", \"j.norm\").alias(\"dot\"))\n",
        "    \n",
        "# # result=result.sort(\"i\", \"j\")\n",
        "\n",
        "# result=result.sort(col(\"dot\").desc())\n",
        "# result.show()"
      ],
      "execution_count": 0,
      "outputs": [
        {
          "output_type": "stream",
          "text": [
            "+----------+----------+------------------+\n",
            "|         i|         j|               dot|\n",
            "+----------+----------+------------------+\n",
            "|      2727|8589936472|1.0000000000000007|\n",
            "|      5060|      5738|1.0000000000000007|\n",
            "|      7260|      7741|1.0000000000000004|\n",
            "|      1652|      2366|1.0000000000000004|\n",
            "|       610|      1262|1.0000000000000002|\n",
            "|      2759|8589936482|1.0000000000000002|\n",
            "|      6152|8589939207|1.0000000000000002|\n",
            "|      4116|8589938314|1.0000000000000002|\n",
            "|8589938210|8589938672|1.0000000000000002|\n",
            "|      4135|      4383|1.0000000000000002|\n",
            "|      5459|8589939207|1.0000000000000002|\n",
            "|      4417|      5312|1.0000000000000002|\n",
            "|      7402|8589942486|1.0000000000000002|\n",
            "|      6015|      7097|1.0000000000000002|\n",
            "|8589940276|8589940529|1.0000000000000002|\n",
            "|8589936018|8589936775|1.0000000000000002|\n",
            "|      5750|      6418|1.0000000000000002|\n",
            "|      5459|      6152|1.0000000000000002|\n",
            "|      5213|      6172|1.0000000000000002|\n",
            "|      7402|8589941791|1.0000000000000002|\n",
            "+----------+----------+------------------+\n",
            "only showing top 20 rows\n",
            "\n"
          ],
          "name": "stdout"
        }
      ]
    },
    {
      "cell_type": "code",
      "metadata": {
        "id": "tbfu2VUWu7TC",
        "colab_type": "code",
        "colab": {}
      },
      "source": [
        "\n",
        "# result.sort(col(\"dot\").desc())"
      ],
      "execution_count": 0,
      "outputs": []
    },
    {
      "cell_type": "code",
      "metadata": {
        "id": "I55uxBSmfK8i",
        "colab_type": "code",
        "colab": {}
      },
      "source": [
        "# content based recommender system\n",
        "# steps: \n",
        "# 1) lower case whole dataset\n",
        "# 2) remove stopwords\n",
        "# 3) create bag of words vectors in binary format 1/0\n",
        "# 4) calc cosine sim for all articles and find top 3 closest articles\n",
        "# 5) sort article ids with descen simi and removing same article id\n",
        "# 6) created recommendation column with top 3 article id's"
      ],
      "execution_count": 0,
      "outputs": []
    },
    {
      "cell_type": "code",
      "metadata": {
        "id": "WYDWzAyVrcve",
        "colab_type": "code",
        "colab": {}
      },
      "source": [
        ""
      ],
      "execution_count": 0,
      "outputs": []
    },
    {
      "cell_type": "code",
      "metadata": {
        "id": "ooS4clQAM0Tc",
        "colab_type": "code",
        "colab": {}
      },
      "source": [
        ""
      ],
      "execution_count": 0,
      "outputs": []
    },
    {
      "cell_type": "code",
      "metadata": {
        "id": "idEM-s0sqprn",
        "colab_type": "code",
        "colab": {}
      },
      "source": [
        ""
      ],
      "execution_count": 0,
      "outputs": []
    }
  ]
}