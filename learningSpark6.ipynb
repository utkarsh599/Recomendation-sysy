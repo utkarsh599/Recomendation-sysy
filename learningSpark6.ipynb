{
  "nbformat": 4,
  "nbformat_minor": 0,
  "metadata": {
    "colab": {
      "name": "learningSpark6.ipynb",
      "provenance": [],
      "collapsed_sections": [],
      "include_colab_link": true
    },
    "kernelspec": {
      "name": "python3",
      "display_name": "Python 3"
    },
    "accelerator": "GPU"
  },
  "cells": [
    {
      "cell_type": "markdown",
      "metadata": {
        "id": "view-in-github",
        "colab_type": "text"
      },
      "source": [
        "<a href=\"https://colab.research.google.com/github/utkarsh599/Recomendation-sysy/blob/Abhijeet/learningSpark6.ipynb\" target=\"_parent\"><img src=\"https://colab.research.google.com/assets/colab-badge.svg\" alt=\"Open In Colab\"/></a>"
      ]
    },
    {
      "cell_type": "code",
      "metadata": {
        "id": "0nMTDp0PAHLt",
        "colab_type": "code",
        "colab": {}
      },
      "source": [
        "!apt-get install openjdk-8-jdk-headless -qq > /dev/null\n",
        "!wget -q http://www-eu.apache.org/dist/spark/spark-2.4.4/spark-2.4.4-bin-hadoop2.7.tgz\n",
        "!tar xf spark-2.4.4-bin-hadoop2.7.tgz\n",
        "!pip install -q findspark"
      ],
      "execution_count": 0,
      "outputs": []
    },
    {
      "cell_type": "code",
      "metadata": {
        "id": "al-_jsbocQ5i",
        "colab_type": "code",
        "colab": {}
      },
      "source": [
        ""
      ],
      "execution_count": 0,
      "outputs": []
    },
    {
      "cell_type": "code",
      "metadata": {
        "id": "WuSt0MBBBX7Z",
        "colab_type": "code",
        "outputId": "bbb3de73-25c3-419f-b154-027bf04f61b8",
        "colab": {
          "base_uri": "https://localhost:8080/",
          "height": 108
        }
      },
      "source": [
        "!pip install py4j"
      ],
      "execution_count": 2,
      "outputs": [
        {
          "output_type": "stream",
          "text": [
            "Collecting py4j\n",
            "\u001b[?25l  Downloading https://files.pythonhosted.org/packages/9e/b6/6a4fb90cd235dc8e265a6a2067f2a2c99f0d91787f06aca4bcf7c23f3f80/py4j-0.10.9-py2.py3-none-any.whl (198kB)\n",
            "\r\u001b[K     |█▋                              | 10kB 28.1MB/s eta 0:00:01\r\u001b[K     |███▎                            | 20kB 2.1MB/s eta 0:00:01\r\u001b[K     |█████                           | 30kB 3.1MB/s eta 0:00:01\r\u001b[K     |██████▋                         | 40kB 2.0MB/s eta 0:00:01\r\u001b[K     |████████▎                       | 51kB 2.5MB/s eta 0:00:01\r\u001b[K     |██████████                      | 61kB 3.0MB/s eta 0:00:01\r\u001b[K     |███████████▌                    | 71kB 3.5MB/s eta 0:00:01\r\u001b[K     |█████████████▏                  | 81kB 4.0MB/s eta 0:00:01\r\u001b[K     |██████████████▉                 | 92kB 4.4MB/s eta 0:00:01\r\u001b[K     |████████████████▌               | 102kB 3.4MB/s eta 0:00:01\r\u001b[K     |██████████████████▏             | 112kB 3.4MB/s eta 0:00:01\r\u001b[K     |███████████████████▉            | 122kB 3.4MB/s eta 0:00:01\r\u001b[K     |█████████████████████▌          | 133kB 3.4MB/s eta 0:00:01\r\u001b[K     |███████████████████████         | 143kB 3.4MB/s eta 0:00:01\r\u001b[K     |████████████████████████▊       | 153kB 3.4MB/s eta 0:00:01\r\u001b[K     |██████████████████████████▍     | 163kB 3.4MB/s eta 0:00:01\r\u001b[K     |████████████████████████████    | 174kB 3.4MB/s eta 0:00:01\r\u001b[K     |█████████████████████████████▊  | 184kB 3.4MB/s eta 0:00:01\r\u001b[K     |███████████████████████████████▍| 194kB 3.4MB/s eta 0:00:01\r\u001b[K     |████████████████████████████████| 204kB 3.4MB/s \n",
            "\u001b[?25hInstalling collected packages: py4j\n",
            "Successfully installed py4j-0.10.9\n"
          ],
          "name": "stdout"
        }
      ]
    },
    {
      "cell_type": "code",
      "metadata": {
        "id": "qZIB8gx7BZ0v",
        "colab_type": "code",
        "colab": {}
      },
      "source": [
        "import os\n",
        "os.environ[\"JAVA_HOME\"] = \"/usr/lib/jvm/java-8-openjdk-amd64\"\n",
        "os.environ[\"SPARK_HOME\"] = \"/content/spark-2.4.4-bin-hadoop2.7\""
      ],
      "execution_count": 0,
      "outputs": []
    },
    {
      "cell_type": "code",
      "metadata": {
        "id": "12T44mWjc6bB",
        "colab_type": "code",
        "colab": {}
      },
      "source": [
        ""
      ],
      "execution_count": 0,
      "outputs": []
    },
    {
      "cell_type": "code",
      "metadata": {
        "id": "XzYrFYvIBcOf",
        "colab_type": "code",
        "colab": {}
      },
      "source": [
        "import findspark\n",
        "findspark.init()"
      ],
      "execution_count": 0,
      "outputs": []
    },
    {
      "cell_type": "code",
      "metadata": {
        "id": "Hqbi2yklB7p3",
        "colab_type": "code",
        "colab": {}
      },
      "source": [
        "import pyspark"
      ],
      "execution_count": 0,
      "outputs": []
    },
    {
      "cell_type": "code",
      "metadata": {
        "id": "00mrZHHvC12Y",
        "colab_type": "code",
        "outputId": "1f2cd547-846a-43f7-8e70-5837e63aca7d",
        "colab": {
          "base_uri": "https://localhost:8080/",
          "height": 128
        }
      },
      "source": [
        "from google.colab import drive\n",
        "drive.mount('/content/gdrive')"
      ],
      "execution_count": 6,
      "outputs": [
        {
          "output_type": "stream",
          "text": [
            "Go to this URL in a browser: https://accounts.google.com/o/oauth2/auth?client_id=947318989803-6bn6qk8qdgf4n4g3pfee6491hc0brc4i.apps.googleusercontent.com&redirect_uri=urn%3aietf%3awg%3aoauth%3a2.0%3aoob&response_type=code&scope=email%20https%3a%2f%2fwww.googleapis.com%2fauth%2fdocs.test%20https%3a%2f%2fwww.googleapis.com%2fauth%2fdrive%20https%3a%2f%2fwww.googleapis.com%2fauth%2fdrive.photos.readonly%20https%3a%2f%2fwww.googleapis.com%2fauth%2fpeopleapi.readonly\n",
            "\n",
            "Enter your authorization code:\n",
            "··········\n",
            "Mounted at /content/gdrive\n"
          ],
          "name": "stdout"
        }
      ]
    },
    {
      "cell_type": "code",
      "metadata": {
        "id": "-_ZxvCL2C5qn",
        "colab_type": "code",
        "colab": {}
      },
      "source": [
        "from pyspark.sql import SparkSession\n"
      ],
      "execution_count": 0,
      "outputs": []
    },
    {
      "cell_type": "code",
      "metadata": {
        "id": "krBaVglkKnvj",
        "colab_type": "code",
        "colab": {}
      },
      "source": [
        "spark = SparkSession.builder.master(\"local[*]\").getOrCreate()"
      ],
      "execution_count": 0,
      "outputs": []
    },
    {
      "cell_type": "code",
      "metadata": {
        "id": "gjHb8Cc_EITX",
        "colab_type": "code",
        "colab": {}
      },
      "source": [
        "comments1 =  spark.read.csv(\"/content/gdrive/My Drive/Colab Notebooks/GBcomments.csv\", inferSchema=True, header=True)"
      ],
      "execution_count": 0,
      "outputs": []
    },
    {
      "cell_type": "code",
      "metadata": {
        "id": "FPkn9lr3NOiZ",
        "colab_type": "code",
        "colab": {}
      },
      "source": [
        "comments2= spark.read.csv(\"/content/gdrive/My Drive/Colab Notebooks/UScomments.csv\", inferSchema=True, header=True)"
      ],
      "execution_count": 0,
      "outputs": []
    },
    {
      "cell_type": "code",
      "metadata": {
        "id": "FsS54DS-KdwL",
        "colab_type": "code",
        "outputId": "dc0fdc56-e62b-4c4a-f7ef-97e451429b17",
        "colab": {
          "base_uri": "https://localhost:8080/",
          "height": 217
        }
      },
      "source": [
        "comments1.show(5)"
      ],
      "execution_count": 11,
      "outputs": [
        {
          "output_type": "stream",
          "text": [
            "+-----------+--------------------+-----+-------+\n",
            "|   video_id|        comment_text|likes|replies|\n",
            "+-----------+--------------------+-----+-------+\n",
            "|jt2OHQh0HoQ|It's more accurat...|    0|      0|\n",
            "|jt2OHQh0HoQ|To be there with ...|    1|      0|\n",
            "|jt2OHQh0HoQ|Thank gosh, a pla...|    0|      0|\n",
            "|jt2OHQh0HoQ|What happened to ...|    0|      0|\n",
            "|jt2OHQh0HoQ|Power is the dise...|    0|      0|\n",
            "+-----------+--------------------+-----+-------+\n",
            "only showing top 5 rows\n",
            "\n"
          ],
          "name": "stdout"
        }
      ]
    },
    {
      "cell_type": "code",
      "metadata": {
        "id": "Agd0_Pg_MkCx",
        "colab_type": "code",
        "outputId": "98ddc3db-f75e-4f3b-98ee-55b1ed96f6b0",
        "colab": {
          "base_uri": "https://localhost:8080/",
          "height": 35
        }
      },
      "source": [
        "type(comments1)"
      ],
      "execution_count": 12,
      "outputs": [
        {
          "output_type": "execute_result",
          "data": {
            "text/plain": [
              "pyspark.sql.dataframe.DataFrame"
            ]
          },
          "metadata": {
            "tags": []
          },
          "execution_count": 12
        }
      ]
    },
    {
      "cell_type": "code",
      "metadata": {
        "id": "m82n-wW8MtYq",
        "colab_type": "code",
        "colab": {}
      },
      "source": [
        "from functools import reduce  # For Python 3.x\n",
        "from pyspark.sql import DataFrame\n",
        "\n",
        "def unionAll(*dfs):\n",
        "    return reduce(DataFrame.unionAll, dfs)\n",
        "\n",
        "comments=unionAll(comments1,comments2)"
      ],
      "execution_count": 0,
      "outputs": []
    },
    {
      "cell_type": "code",
      "metadata": {
        "id": "BMc72JXwNzUZ",
        "colab_type": "code",
        "outputId": "21a1eda5-cace-446c-f27a-f84eabab63b2",
        "colab": {
          "base_uri": "https://localhost:8080/",
          "height": 35
        }
      },
      "source": [
        "comments.count()"
      ],
      "execution_count": 14,
      "outputs": [
        {
          "output_type": "execute_result",
          "data": {
            "text/plain": [
              "1410466"
            ]
          },
          "metadata": {
            "tags": []
          },
          "execution_count": 14
        }
      ]
    },
    {
      "cell_type": "code",
      "metadata": {
        "id": "hk183emhN1pB",
        "colab_type": "code",
        "outputId": "42e9ef2c-af6b-468b-e366-9b08d4d82a76",
        "colab": {
          "base_uri": "https://localhost:8080/",
          "height": 108
        }
      },
      "source": [
        "comments_rdd = comments.select('comment_text').rdd.flatMap(lambda x: x)\n",
        "comments_rdd=comments_rdd.filter(lambda x: x is not None).filter(lambda x: x!='')\n",
        "comments_rdd.take(5)"
      ],
      "execution_count": 15,
      "outputs": [
        {
          "output_type": "execute_result",
          "data": {
            "text/plain": [
              "[\"It's more accurate to call it the M+ (1000) because the price is closer than calling it the X (10).\",\n",
              " 'To be there with a samsung phone\\\\n😂😂😂',\n",
              " 'Thank gosh, a place I can watch it without having to be at HD... my speed doesn’t support HD',\n",
              " 'What happened to the home button on the iPhone X? *****Cough****copying Samsung******cough',\n",
              " 'Power is the disease.\\xa0 Care is the cure.\\xa0 Keep caring for yourself and others as best as you can.\\xa0 This is life.']"
            ]
          },
          "metadata": {
            "tags": []
          },
          "execution_count": 15
        }
      ]
    },
    {
      "cell_type": "code",
      "metadata": {
        "id": "CGxCqN9-OHlZ",
        "colab_type": "code",
        "colab": {}
      },
      "source": [
        "header = comments_rdd.first()"
      ],
      "execution_count": 0,
      "outputs": []
    },
    {
      "cell_type": "code",
      "metadata": {
        "id": "IfWpcgNHYaOn",
        "colab_type": "code",
        "colab": {}
      },
      "source": [
        ""
      ],
      "execution_count": 0,
      "outputs": []
    },
    {
      "cell_type": "code",
      "metadata": {
        "id": "F_EJIiUbORhp",
        "colab_type": "code",
        "colab": {}
      },
      "source": [
        "data_rmv_col = comments_rdd.filter(lambda row: row != header)"
      ],
      "execution_count": 0,
      "outputs": []
    },
    {
      "cell_type": "code",
      "metadata": {
        "id": "vBq7Tt8fYddE",
        "colab_type": "code",
        "colab": {}
      },
      "source": [
        "def lower(x):\n",
        "  return x.lower()"
      ],
      "execution_count": 0,
      "outputs": []
    },
    {
      "cell_type": "code",
      "metadata": {
        "id": "whFlu2bVOUGj",
        "colab_type": "code",
        "colab": {}
      },
      "source": [
        "lowerCase_sentRDD = data_rmv_col.map(lower)"
      ],
      "execution_count": 0,
      "outputs": []
    },
    {
      "cell_type": "code",
      "metadata": {
        "id": "uvfSyt5vY0NM",
        "colab_type": "code",
        "outputId": "4a34d50b-3f08-4af8-91fe-be5ba4ee6e98",
        "colab": {
          "base_uri": "https://localhost:8080/",
          "height": 108
        }
      },
      "source": [
        "lowerCase_sentRDD.take(5)"
      ],
      "execution_count": 20,
      "outputs": [
        {
          "output_type": "execute_result",
          "data": {
            "text/plain": [
              "['to be there with a samsung phone\\\\n😂😂😂',\n",
              " 'thank gosh, a place i can watch it without having to be at hd... my speed doesn’t support hd',\n",
              " 'what happened to the home button on the iphone x? *****cough****copying samsung******cough',\n",
              " 'power is the disease.\\xa0 care is the cure.\\xa0 keep caring for yourself and others as best as you can.\\xa0 this is life.',\n",
              " 'keep calm and buy iphone 8 keep calm and buy iphone 8 plus keep calm and buy iphone x. what is your favourite?']"
            ]
          },
          "metadata": {
            "tags": []
          },
          "execution_count": 20
        }
      ]
    },
    {
      "cell_type": "code",
      "metadata": {
        "id": "OMGLHMbyOWFg",
        "colab_type": "code",
        "colab": {}
      },
      "source": [
        "import spacy\n",
        "nlp = spacy.load(\"en_core_web_sm\")"
      ],
      "execution_count": 0,
      "outputs": []
    },
    {
      "cell_type": "code",
      "metadata": {
        "id": "UUSEb5lFOXyh",
        "colab_type": "code",
        "colab": {}
      },
      "source": [
        "def sent_TokenizeFunct(x):\n",
        "    doc=nlp(x)\n",
        "    #return doc\n",
        "    tokens=[]\n",
        "    for token in doc:\n",
        "      if((token.is_stop==False and token.is_punct==False) and token.is_alpha==True):\n",
        "        tokens.append(token.lemma_)\n",
        "    return ' '.join(tokens)\n",
        "    \n",
        "sentenceTokenizeRDD = lowerCase_sentRDD.map(sent_TokenizeFunct)"
      ],
      "execution_count": 0,
      "outputs": []
    },
    {
      "cell_type": "code",
      "metadata": {
        "id": "lBjwx5cmOZmK",
        "colab_type": "code",
        "colab": {}
      },
      "source": [
        ""
      ],
      "execution_count": 0,
      "outputs": []
    },
    {
      "cell_type": "code",
      "metadata": {
        "id": "aALgYIynnjPk",
        "colab_type": "code",
        "outputId": "39d3ecd7-1500-4f4f-ccae-deb4246a636d",
        "colab": {
          "base_uri": "https://localhost:8080/",
          "height": 108
        }
      },
      "source": [
        "sentenceTokenizeRDD.take(5)"
      ],
      "execution_count": 23,
      "outputs": [
        {
          "output_type": "execute_result",
          "data": {
            "text/plain": [
              "['samsung',\n",
              " 'thank gosh place watch have hd speed support hd',\n",
              " 'happen home button iphone x',\n",
              " 'power disease care cure care best life',\n",
              " 'calm buy iphone calm buy iphone plus calm buy iphone favourite']"
            ]
          },
          "metadata": {
            "tags": []
          },
          "execution_count": 23
        }
      ]
    },
    {
      "cell_type": "code",
      "metadata": {
        "id": "f9CwPpHuOp1x",
        "colab_type": "code",
        "colab": {}
      },
      "source": [
        ""
      ],
      "execution_count": 0,
      "outputs": []
    },
    {
      "cell_type": "markdown",
      "metadata": {
        "id": "XuaT6RkJZ9W5",
        "colab_type": "text"
      },
      "source": [
        "# Working on Videos"
      ]
    },
    {
      "cell_type": "code",
      "metadata": {
        "id": "QwCMl4dKpP0k",
        "colab_type": "code",
        "colab": {}
      },
      "source": [
        "Videos1 =  spark.read.csv(\"/content/gdrive/My Drive/Colab Notebooks/GBvideos.csv\", inferSchema=True, header=True)\n",
        "Videos2 =  spark.read.csv(\"/content/gdrive/My Drive/Colab Notebooks/USvideos.csv\", inferSchema=True, header=True)\n",
        "videos = unionAll(Videos1,Videos2)"
      ],
      "execution_count": 0,
      "outputs": []
    },
    {
      "cell_type": "code",
      "metadata": {
        "id": "Pf2b-oUBakjb",
        "colab_type": "code",
        "outputId": "329ae733-14fe-4eea-bd82-12b6bc78a046",
        "colab": {
          "base_uri": "https://localhost:8080/",
          "height": 217
        }
      },
      "source": [
        "videos.show(5)"
      ],
      "execution_count": 25,
      "outputs": [
        {
          "output_type": "stream",
          "text": [
            "+-----------+--------------------+-----------------+-----------+--------------------+-------+-----+--------+-------------+--------------------+-----+\n",
            "|   video_id|               title|    channel_title|category_id|                tags|  views|likes|dislikes|comment_total|      thumbnail_link| date|\n",
            "+-----------+--------------------+-----------------+-----------+--------------------+-------+-----+--------+-------------+--------------------+-----+\n",
            "|jt2OHQh0HoQ|Live Apple Event ...|      Apple Event|         28|apple events|appl...|7426393|78240|   13548|          705|https://i.ytimg.c...|13.09|\n",
            "|AqokkXoa7uE|Holly and Phillip...|     This Morning|         24|this morning|inte...| 494203| 2651|    1309|            0|https://i.ytimg.c...|13.09|\n",
            "|YPVcg45W0z4|My DNA Test Resul...|     emmablackery|         24|emmablackery|emma...| 142819|13119|     151|         1141|https://i.ytimg.c...|13.09|\n",
            "|T_PuZBdT2iM|getting into a co...|            ProZD|          1|skit|korean|langu...|1580028|65729|    1529|         3598|https://i.ytimg.c...|13.09|\n",
            "|NsjsmgmbCfc|Baby Name Challenge!|Sprinkleofglitter|         26|sprinkleofglitter...|  40592| 5019|      57|          490|https://i.ytimg.c...|13.09|\n",
            "+-----------+--------------------+-----------------+-----------+--------------------+-------+-----+--------+-------------+--------------------+-----+\n",
            "only showing top 5 rows\n",
            "\n"
          ],
          "name": "stdout"
        }
      ]
    },
    {
      "cell_type": "code",
      "metadata": {
        "id": "RaRDsaVGatMJ",
        "colab_type": "code",
        "outputId": "57a4ea93-0485-486a-cdce-c2c3801daa35",
        "colab": {
          "base_uri": "https://localhost:8080/",
          "height": 108
        }
      },
      "source": [
        "videos_rdd = videos.select(['title']).rdd.flatMap(lambda x: x)\n",
        "videos_rdd = videos_rdd.filter(lambda x: x is not None).filter(lambda x: x!='')\n",
        "videos_rdd.take(5)"
      ],
      "execution_count": 26,
      "outputs": [
        {
          "output_type": "execute_result",
          "data": {
            "text/plain": [
              "['Live Apple Event - Apple September Event 2017 - iPhone 8, iPhone X, iOS 11 - Apple Keynote',\n",
              " 'Holly and Phillip Meet Samantha the Sex Robot | This Morning',\n",
              " \"My DNA Test Results! I'm WHAT?!\",\n",
              " \"getting into a conversation in a language you don't actually speak that well\",\n",
              " 'Baby Name Challenge!']"
            ]
          },
          "metadata": {
            "tags": []
          },
          "execution_count": 26
        }
      ]
    },
    {
      "cell_type": "code",
      "metadata": {
        "id": "QRWN2kwbbWlO",
        "colab_type": "code",
        "colab": {}
      },
      "source": [
        "header_Vid=videos_rdd.first()"
      ],
      "execution_count": 0,
      "outputs": []
    },
    {
      "cell_type": "code",
      "metadata": {
        "id": "SQ4raTiSbehi",
        "colab_type": "code",
        "colab": {}
      },
      "source": [
        "data_rmv_col_vid = videos_rdd.filter(lambda row: row != header_Vid)"
      ],
      "execution_count": 0,
      "outputs": []
    },
    {
      "cell_type": "code",
      "metadata": {
        "id": "Bd-5bxSnbFko",
        "colab_type": "code",
        "colab": {}
      },
      "source": [
        "lowerCase_VidRDD = data_rmv_col_vid.map(lower)"
      ],
      "execution_count": 0,
      "outputs": []
    },
    {
      "cell_type": "code",
      "metadata": {
        "id": "zhKOhbOObzc7",
        "colab_type": "code",
        "outputId": "35623e17-7076-4515-ecbb-38527589bc60",
        "colab": {
          "base_uri": "https://localhost:8080/",
          "height": 108
        }
      },
      "source": [
        "lowerCase_VidRDD.take(5)"
      ],
      "execution_count": 30,
      "outputs": [
        {
          "output_type": "execute_result",
          "data": {
            "text/plain": [
              "['holly and phillip meet samantha the sex robot | this morning',\n",
              " \"my dna test results! i'm what?!\",\n",
              " \"getting into a conversation in a language you don't actually speak that well\",\n",
              " 'baby name challenge!',\n",
              " \"revealed - fifa 18 stats for chelsea's hazard, luiz & christensen!\"]"
            ]
          },
          "metadata": {
            "tags": []
          },
          "execution_count": 30
        }
      ]
    },
    {
      "cell_type": "code",
      "metadata": {
        "id": "K2zIE5tIb8q5",
        "colab_type": "code",
        "colab": {}
      },
      "source": [
        "Vid_sentTokenizeRDD = lowerCase_VidRDD.map(sent_TokenizeFunct)"
      ],
      "execution_count": 0,
      "outputs": []
    },
    {
      "cell_type": "code",
      "metadata": {
        "id": "15_82miKcyvA",
        "colab_type": "code",
        "outputId": "8c88f259-51bc-40f1-db13-73fd17ad0528",
        "colab": {
          "base_uri": "https://localhost:8080/",
          "height": 108
        }
      },
      "source": [
        "Vid_sentTokenizeRDD.take(5)"
      ],
      "execution_count": 32,
      "outputs": [
        {
          "output_type": "execute_result",
          "data": {
            "text/plain": [
              "['holly phillip meet samantha sex robot morning',\n",
              " 'dna test result',\n",
              " 'get conversation language actually speak',\n",
              " 'baby challenge',\n",
              " 'reveal fifa stat chelsea hazard luiz christensen']"
            ]
          },
          "metadata": {
            "tags": []
          },
          "execution_count": 32
        }
      ]
    },
    {
      "cell_type": "code",
      "metadata": {
        "id": "wSv3Sk6wlUBz",
        "colab_type": "code",
        "outputId": "2153aa11-bbf7-4834-da7e-e5da9e9ff143",
        "colab": {
          "base_uri": "https://localhost:8080/",
          "height": 128
        }
      },
      "source": [
        "tags_rdd=videos.select(['tags']).rdd.flatMap(lambda x:x)\n",
        "tags_rdd.take(5)"
      ],
      "execution_count": 33,
      "outputs": [
        {
          "output_type": "execute_result",
          "data": {
            "text/plain": [
              "['apple events|apple event|iphone 8|iphone x|iphone 8 plus|iphone 7s|iphone 7s plus|ios 11',\n",
              " 'this morning|interview|holly willoughby|phillip schofield|ruth langsford|eamonn holmes|chat shows - topic|chat show - topic|talk shows - topic|sex robot|samantha|real life',\n",
              " 'emmablackery|emma blackery|emma|blackery|british vlogger|british youtuber|female vlogger|birdyboots|dna test|23andme|ancestry',\n",
              " \"skit|korean|language|conversation|esl|japanese|foreign|communication|don't speak|struggle|foreigner|lotte mart|korea|south|weather|good|tutorial\",\n",
              " 'sprinkleofglitter|sprinkle of glitter|baby glitter|Louise Pentland|Louise Pentland Baby Name|Mrs Meldrum|Baby Names|Nice baby names|Unusual baby names']"
            ]
          },
          "metadata": {
            "tags": []
          },
          "execution_count": 33
        }
      ]
    },
    {
      "cell_type": "code",
      "metadata": {
        "id": "9CqP-hs7mCUH",
        "colab_type": "code",
        "colab": {}
      },
      "source": [
        "header_tags = tags_rdd.first()"
      ],
      "execution_count": 0,
      "outputs": []
    },
    {
      "cell_type": "code",
      "metadata": {
        "id": "gZH0uLKJmCYG",
        "colab_type": "code",
        "colab": {}
      },
      "source": [
        "tags_rmv_col = tags_rdd.filter(lambda row: row != header_tags)"
      ],
      "execution_count": 0,
      "outputs": []
    },
    {
      "cell_type": "code",
      "metadata": {
        "id": "1PdZvEp-mCRE",
        "colab_type": "code",
        "outputId": "4d81dadd-c65f-486f-dfd9-8a71d03686f1",
        "colab": {
          "base_uri": "https://localhost:8080/",
          "height": 128
        }
      },
      "source": [
        "tags_rmv_col.take(5)"
      ],
      "execution_count": 36,
      "outputs": [
        {
          "output_type": "execute_result",
          "data": {
            "text/plain": [
              "['this morning|interview|holly willoughby|phillip schofield|ruth langsford|eamonn holmes|chat shows - topic|chat show - topic|talk shows - topic|sex robot|samantha|real life',\n",
              " 'emmablackery|emma blackery|emma|blackery|british vlogger|british youtuber|female vlogger|birdyboots|dna test|23andme|ancestry',\n",
              " \"skit|korean|language|conversation|esl|japanese|foreign|communication|don't speak|struggle|foreigner|lotte mart|korea|south|weather|good|tutorial\",\n",
              " 'sprinkleofglitter|sprinkle of glitter|baby glitter|Louise Pentland|Louise Pentland Baby Name|Mrs Meldrum|Baby Names|Nice baby names|Unusual baby names',\n",
              " 'Rio Ferdinand|Rio|Ferdinand|5 Magazine|5 Mag|#5|5 Rio Ferdinand|Rio Ferdinand interview|football|soccer|interview|Manchester United|Man United|fifa 18|fut 18|fut|fifa ratings|fifa 18 ratings|chelsea|chelsea fc|chelsea f.c|David Luiz|Eden Hazard|Christensen|Premier League|Champions League|Fifa18|Hazard Fifa 18|David Luiz Fifa 18|Christensen Fifa 18|Chelsea Fifa 18|Pack Opening|Fifa Pack Opening|Fifa 18 Pack Opening|Fifa 18 official Ratings']"
            ]
          },
          "metadata": {
            "tags": []
          },
          "execution_count": 36
        }
      ]
    },
    {
      "cell_type": "code",
      "metadata": {
        "id": "-xSV3GG8c3ry",
        "colab_type": "code",
        "colab": {}
      },
      "source": [
        "def split1(x):\n",
        "  return (x.split(\"|\"))\n",
        "\n",
        "tags_rdd=tags_rmv_col.map(split1)"
      ],
      "execution_count": 0,
      "outputs": []
    },
    {
      "cell_type": "code",
      "metadata": {
        "id": "qyMe4c3bdbBY",
        "colab_type": "code",
        "colab": {}
      },
      "source": [
        ""
      ],
      "execution_count": 0,
      "outputs": []
    },
    {
      "cell_type": "code",
      "metadata": {
        "id": "B_fBqIgCUQTN",
        "colab_type": "code",
        "colab": {}
      },
      "source": [
        "from pyspark.sql import Row\n",
        "from pyspark.sql.functions import monotonically_increasing_id\n",
        "\n",
        "row_title = Row(\"LemmetizeTitle\") # Or some other column name\n",
        "Title_DF = Vid_sentTokenizeRDD.map(row_title).toDF()\n",
        "Title_DF = Title_DF.select(\"*\").withColumn(\"id\", monotonically_increasing_id())\n",
        "\n",
        "row_tags=Row(\"Tokenized_Tags\")\n",
        "Tags_DF=tags_rdd.map(row_tags).toDF()\n",
        "Tags_DF = Tags_DF.select(\"*\").withColumn(\"id\", monotonically_increasing_id())"
      ],
      "execution_count": 0,
      "outputs": []
    },
    {
      "cell_type": "code",
      "metadata": {
        "id": "-K_vana-Ovv6",
        "colab_type": "code",
        "outputId": "9afe82b5-17ce-40a4-a421-99907b028a9f",
        "colab": {
          "base_uri": "https://localhost:8080/",
          "height": 217
        }
      },
      "source": [
        "Title_DF.show(5)"
      ],
      "execution_count": 39,
      "outputs": [
        {
          "output_type": "stream",
          "text": [
            "+--------------------+---+\n",
            "|      LemmetizeTitle| id|\n",
            "+--------------------+---+\n",
            "|holly phillip mee...|  0|\n",
            "|     dna test result|  1|\n",
            "|get conversation ...|  2|\n",
            "|      baby challenge|  3|\n",
            "|reveal fifa stat ...|  4|\n",
            "+--------------------+---+\n",
            "only showing top 5 rows\n",
            "\n"
          ],
          "name": "stdout"
        }
      ]
    },
    {
      "cell_type": "code",
      "metadata": {
        "id": "GJMK8oUla5ri",
        "colab_type": "code",
        "outputId": "89c5ff63-cc97-4105-eba1-0e03db85509e",
        "colab": {
          "base_uri": "https://localhost:8080/",
          "height": 217
        }
      },
      "source": [
        "Tags_DF.show(5)"
      ],
      "execution_count": 40,
      "outputs": [
        {
          "output_type": "stream",
          "text": [
            "+--------------------+---+\n",
            "|      Tokenized_Tags| id|\n",
            "+--------------------+---+\n",
            "|[this morning, in...|  0|\n",
            "|[emmablackery, em...|  1|\n",
            "|[skit, korean, la...|  2|\n",
            "|[sprinkleofglitte...|  3|\n",
            "|[Rio Ferdinand, R...|  4|\n",
            "+--------------------+---+\n",
            "only showing top 5 rows\n",
            "\n"
          ],
          "name": "stdout"
        }
      ]
    },
    {
      "cell_type": "code",
      "metadata": {
        "id": "zpcvH3jl7g_q",
        "colab_type": "code",
        "colab": {}
      },
      "source": [
        ""
      ],
      "execution_count": 0,
      "outputs": []
    },
    {
      "cell_type": "code",
      "metadata": {
        "id": "WTi3c3nG--QD",
        "colab_type": "code",
        "outputId": "2ba3c25e-4630-4578-be1d-3d8fcd45159e",
        "colab": {
          "base_uri": "https://localhost:8080/",
          "height": 35
        }
      },
      "source": [
        "Tags_DF[['Tokenized_Tags']]"
      ],
      "execution_count": 41,
      "outputs": [
        {
          "output_type": "execute_result",
          "data": {
            "text/plain": [
              "DataFrame[Tokenized_Tags: array<string>]"
            ]
          },
          "metadata": {
            "tags": []
          },
          "execution_count": 41
        }
      ]
    },
    {
      "cell_type": "code",
      "metadata": {
        "id": "_J7doODDhdHK",
        "colab_type": "code",
        "colab": {}
      },
      "source": [
        "videos_DF = Title_DF.join(Tags_DF, on=['id'], how='left_outer')"
      ],
      "execution_count": 0,
      "outputs": []
    },
    {
      "cell_type": "code",
      "metadata": {
        "id": "XUVT8qqFfiwK",
        "colab_type": "code",
        "outputId": "71996573-7730-4b91-80b1-e2b546d352c2",
        "colab": {
          "base_uri": "https://localhost:8080/",
          "height": 217
        }
      },
      "source": [
        "videos_DF.show(5)"
      ],
      "execution_count": 43,
      "outputs": [
        {
          "output_type": "stream",
          "text": [
            "+----+--------------------+--------------------+\n",
            "|  id|      LemmetizeTitle|      Tokenized_Tags|\n",
            "+----+--------------------+--------------------+\n",
            "|  26|testing soph x ma...|[grey hair, sophd...|\n",
            "|  29|move vlog pink ho...|[moving vlog, ike...|\n",
            "| 474|doom wolfenstein ...|[PC, IGN, PS4, Do...|\n",
            "| 964|lloyd new lego ni...|[Google, YouTube,...|\n",
            "|1677|project car ceo q...|[Project Cars 2 G...|\n",
            "+----+--------------------+--------------------+\n",
            "only showing top 5 rows\n",
            "\n"
          ],
          "name": "stdout"
        }
      ]
    },
    {
      "cell_type": "code",
      "metadata": {
        "id": "gDBdc5tXfuIO",
        "colab_type": "code",
        "outputId": "2f704577-05a9-414e-ed50-955a267cdd4c",
        "colab": {
          "base_uri": "https://localhost:8080/",
          "height": 35
        }
      },
      "source": [
        "videos_DF.count()"
      ],
      "execution_count": 44,
      "outputs": [
        {
          "output_type": "execute_result",
          "data": {
            "text/plain": [
              "15989"
            ]
          },
          "metadata": {
            "tags": []
          },
          "execution_count": 44
        }
      ]
    },
    {
      "cell_type": "code",
      "metadata": {
        "id": "Pin7HJqsb-BK",
        "colab_type": "code",
        "outputId": "5aa4f745-1006-4667-f863-b81bd8a66b2a",
        "colab": {
          "base_uri": "https://localhost:8080/",
          "height": 489
        }
      },
      "source": [
        "from pyspark.ml.feature import HashingTF, IDF, Tokenizer\n",
        "\n",
        "\n",
        "tokenizer = Tokenizer(inputCol=\"LemmetizeTitle\", outputCol=\"words\")\n",
        "wordsData = tokenizer.transform(videos_DF)\n",
        "\n",
        "hashingTF = HashingTF(inputCol=\"words\", outputCol=\"rawFeatures\", numFeatures=5)\n",
        "featurizedData = hashingTF.transform(wordsData)\n",
        "\n",
        "idf = IDF(inputCol=\"rawFeatures\", outputCol=\"features\")\n",
        "idfModel = idf.fit(featurizedData)\n",
        "rescaledData = idfModel.transform(featurizedData)\n",
        "\n",
        "rescaledData.select(\"id\", \"features\").show()"
      ],
      "execution_count": 45,
      "outputs": [
        {
          "output_type": "stream",
          "text": [
            "+----+--------------------+\n",
            "|  id|            features|\n",
            "+----+--------------------+\n",
            "|  26|(5,[0,1,2,3,4],[0...|\n",
            "|  29|(5,[0,1,2,4],[0.3...|\n",
            "| 474|(5,[0,1,2,3],[0.7...|\n",
            "| 964|(5,[0,1,4],[1.419...|\n",
            "|1677|(5,[0,1,2,3,4],[0...|\n",
            "|1697|(5,[0,1,2,4],[0.3...|\n",
            "|1806|(5,[1,2,3,4],[0.3...|\n",
            "|1950|(5,[1,3,4],[0.750...|\n",
            "|2040|(5,[0,1],[1.06440...|\n",
            "|2214|(5,[3,4],[0.45814...|\n",
            "|2250|(5,[0,1,4],[0.354...|\n",
            "|2453|(5,[0,2,3],[0.354...|\n",
            "|2509|(5,[1,3,4],[1.126...|\n",
            "|2529|(5,[0,2,4],[2.128...|\n",
            "|2927|(5,[0,1,3],[0.354...|\n",
            "|3091|(5,[0,1,2,3,4],[0...|\n",
            "|3506|(5,[0,1,2,3,4],[1...|\n",
            "|3764|(5,[0,4],[0.70960...|\n",
            "|4590|(5,[0,1,4],[0.709...|\n",
            "|4823|(5,[0,3,4],[0.354...|\n",
            "+----+--------------------+\n",
            "only showing top 20 rows\n",
            "\n"
          ],
          "name": "stdout"
        }
      ]
    },
    {
      "cell_type": "code",
      "metadata": {
        "id": "Fc6rgEUHh1os",
        "colab_type": "code",
        "outputId": "5774495b-d901-4938-9af7-f38ddec69e95",
        "colab": {
          "base_uri": "https://localhost:8080/",
          "height": 326
        }
      },
      "source": [
        "rescaledData.select(\"id\", \"features\").show(n=5, truncate=False, vertical=True)"
      ],
      "execution_count": 0,
      "outputs": [
        {
          "output_type": "stream",
          "text": [
            "-RECORD 0------------------------------------------------------------------------------------------------------------------------\n",
            " id       | 26                                                                                                                   \n",
            " features | (5,[0,1,2,3,4],[0.35480052914438215,0.37534179192543426,0.48835740044961995,1.3744254057774885,0.40377797676786836]) \n",
            "-RECORD 1------------------------------------------------------------------------------------------------------------------------\n",
            " id       | 29                                                                                                                   \n",
            " features | (5,[0,1,2,4],[0.35480052914438215,1.1260253757763028,0.48835740044961995,1.211333930303605])                         \n",
            "-RECORD 2------------------------------------------------------------------------------------------------------------------------\n",
            " id       | 474                                                                                                                  \n",
            " features | (5,[0,1,2,3],[0.7096010582887643,0.37534179192543426,0.48835740044961995,0.45814180192582954])                       \n",
            "-RECORD 3------------------------------------------------------------------------------------------------------------------------\n",
            " id       | 964                                                                                                                  \n",
            " features | (5,[0,1,4],[1.4192021165775286,1.1260253757763028,0.8075559535357367])                                               \n",
            "-RECORD 4------------------------------------------------------------------------------------------------------------------------\n",
            " id       | 1677                                                                                                                 \n",
            " features | (5,[0,1,2,3,4],[0.35480052914438215,1.501367167701737,0.48835740044961995,1.8325672077033182,0.40377797676786836])   \n",
            "only showing top 5 rows\n",
            "\n"
          ],
          "name": "stdout"
        }
      ]
    },
    {
      "cell_type": "code",
      "metadata": {
        "id": "2h9oJSUjprqH",
        "colab_type": "code",
        "colab": {}
      },
      "source": [
        "trainSDF,validationSDF,TestSDF=rescaledData.select(\"id\",\"Tokenized_tags\").randomSplit([0.75, 0.2, 0.05])"
      ],
      "execution_count": 0,
      "outputs": []
    },
    {
      "cell_type": "code",
      "metadata": {
        "id": "jtZWhYO4pr6M",
        "colab_type": "code",
        "outputId": "35ff3559-f752-49e8-bdb6-15988b4e4a00",
        "colab": {
          "base_uri": "https://localhost:8080/",
          "height": 217
        }
      },
      "source": [
        "trainSDF.show(5)"
      ],
      "execution_count": 47,
      "outputs": [
        {
          "output_type": "stream",
          "text": [
            "+----+--------------------+\n",
            "|  id|      Tokenized_tags|\n",
            "+----+--------------------+\n",
            "|  26|[grey hair, sophd...|\n",
            "|  29|[moving vlog, ike...|\n",
            "| 474|[PC, IGN, PS4, Do...|\n",
            "| 964|[Google, YouTube,...|\n",
            "|1677|[Project Cars 2 G...|\n",
            "+----+--------------------+\n",
            "only showing top 5 rows\n",
            "\n"
          ],
          "name": "stdout"
        }
      ]
    },
    {
      "cell_type": "code",
      "metadata": {
        "id": "8gahxHoTp-kh",
        "colab_type": "code",
        "outputId": "5a7483be-9d57-4998-d1a1-3467046a9e76",
        "colab": {
          "base_uri": "https://localhost:8080/",
          "height": 217
        }
      },
      "source": [
        "validationSDF.show(5)"
      ],
      "execution_count": 48,
      "outputs": [
        {
          "output_type": "stream",
          "text": [
            "+----+--------------------+\n",
            "|  id|      Tokenized_tags|\n",
            "+----+--------------------+\n",
            "|1697|[Shakira ft. Nick...|\n",
            "|2040|[Noah Cyrus, Noah...|\n",
            "|2250|[The Rock, The Ro...|\n",
            "|3764|[Football League,...|\n",
            "|5385|[my little pony, ...|\n",
            "+----+--------------------+\n",
            "only showing top 5 rows\n",
            "\n"
          ],
          "name": "stdout"
        }
      ]
    },
    {
      "cell_type": "code",
      "metadata": {
        "id": "TmIyHMRup-wv",
        "colab_type": "code",
        "outputId": "d9ff9b2a-66ad-44ea-cf60-5e9fd1eefeef",
        "colab": {
          "base_uri": "https://localhost:8080/",
          "height": 35
        }
      },
      "source": [
        "TestSDF.count()"
      ],
      "execution_count": 49,
      "outputs": [
        {
          "output_type": "execute_result",
          "data": {
            "text/plain": [
              "814"
            ]
          },
          "metadata": {
            "tags": []
          },
          "execution_count": 49
        }
      ]
    },
    {
      "cell_type": "code",
      "metadata": {
        "id": "eeVrgdOIi2Q9",
        "colab_type": "code",
        "colab": {
          "base_uri": "https://localhost:8080/",
          "height": 962
        },
        "outputId": "4fc3710b-0b6f-473f-a230-c98fc76a4490"
      },
      "source": [
        "from pyspark.ml import Pipeline\n",
        "from pyspark.ml.feature import HashingTF, MinHashLSH\n",
        "import pyspark.sql.functions as f\n",
        "\n",
        "model = Pipeline(stages=[\n",
        "        HashingTF(inputCol=\"Tokenized_tags\", outputCol=\"vectors\"),\n",
        "        MinHashLSH(inputCol=\"vectors\", outputCol=\"lsh\", numHashTables=10)\n",
        "    ]).fit(TestSDF)\n",
        "\n",
        "db_hashed = model.transform(TestSDF)\n",
        "\n",
        "db_matches = model.stages[-1].approxSimilarityJoin(db_hashed, db_hashed, 0.9)\n",
        "\n",
        "#show all matches (including duplicates)\n",
        "db_matches.select(f.col('datasetA.id').alias('video_id_A'),\n",
        "                 f.col('datasetB.id').alias('video_id_B'),\n",
        "                 f.col('distCol')).show()\n"
      ],
      "execution_count": 51,
      "outputs": [
        {
          "output_type": "stream",
          "text": [
            "+----------+----------+------------------+\n",
            "|video_id_A|video_id_B|           distCol|\n",
            "+----------+----------+------------------+\n",
            "|      3665|      7294|0.8571428571428572|\n",
            "|      3846|8589937514|               0.0|\n",
            "|8589939305|      1664|               0.0|\n",
            "|      1291|      2610|               0.0|\n",
            "|8589937514|      1291|               0.0|\n",
            "|8589939807|      4508|               0.0|\n",
            "|8589938440|8589935878|               0.0|\n",
            "|8589936990|8589935855|               0.0|\n",
            "|      6125|      6125|               0.0|\n",
            "|      6507|      6507|               0.0|\n",
            "|8589938902|       774|0.6666666666666667|\n",
            "|      6392|      6392|               0.0|\n",
            "|8589936410|8589936410|               0.0|\n",
            "|       877|8589935666|               0.0|\n",
            "|      6912|      6912|               0.0|\n",
            "|8589936953|8589936953|               0.0|\n",
            "|8589937057|8589939099|               0.0|\n",
            "|      3846|      5361|               0.0|\n",
            "|8589941701|      3008|               0.0|\n",
            "|8589940332|8589939305|               0.0|\n",
            "+----------+----------+------------------+\n",
            "only showing top 20 rows\n",
            "\n",
            "+----------+----------+------------------+\n",
            "|video_id_A|video_id_B|           distCol|\n",
            "+----------+----------+------------------+\n",
            "|      3665|      7294|0.8571428571428572|\n",
            "|      3846|8589937514|               0.0|\n",
            "|      1291|      2610|               0.0|\n",
            "|       877|8589935666|               0.0|\n",
            "|8589937057|8589939099|               0.0|\n",
            "|      3846|      5361|               0.0|\n",
            "|      2610|      7456|               0.0|\n",
            "|       918|      3008|               0.0|\n",
            "|8589935802|8589936298|               0.0|\n",
            "|      3946|8589936288|0.5714285714285714|\n",
            "|      4000|      6535|               0.0|\n",
            "|      4000|8589940758|               0.0|\n",
            "|      4000|8589939300|               0.0|\n",
            "|      1301|8589940335|               0.0|\n",
            "|      6799|8589936922|               0.0|\n",
            "|      5632|8589935247|               0.0|\n",
            "|      5632|8589939300|               0.0|\n",
            "|8589934666|8589941901|               0.0|\n",
            "|       918|      2610|               0.0|\n",
            "|8589936990|8589941901|               0.0|\n",
            "+----------+----------+------------------+\n",
            "only showing top 20 rows\n",
            "\n"
          ],
          "name": "stdout"
        }
      ]
    },
    {
      "cell_type": "code",
      "metadata": {
        "id": "CYJVfIg6b5aG",
        "colab_type": "code",
        "colab": {
          "base_uri": "https://localhost:8080/",
          "height": 489
        },
        "outputId": "31aa50c8-c8aa-4c7f-dcb2-cd4d979f3a8b"
      },
      "source": [
        "from pyspark.sql.functions import col\n",
        "#show non-duplicate matches\n",
        "ans=db_matches.select(f.col('datasetA.id').alias('video_id_A'),\n",
        "                 f.col('datasetB.id').alias('video_id_B'),\n",
        "                 f.col('distCol')).filter('video_id_A < video_id_B')\n",
        "\n",
        "ans=ans.sort(col(\"distCol\").desc())\n",
        "ans.show()"
      ],
      "execution_count": 53,
      "outputs": [
        {
          "output_type": "stream",
          "text": [
            "+----------+----------+------------------+\n",
            "|video_id_A|video_id_B|           distCol|\n",
            "+----------+----------+------------------+\n",
            "|       774|      1787|0.8974358974358975|\n",
            "|       251|      1498|0.8970588235294118|\n",
            "|      1498|8589935110|0.8970588235294118|\n",
            "|      6981|8589940691| 0.896551724137931|\n",
            "|       566|8589937747|0.8958333333333334|\n",
            "|      6185|8589936518|0.8958333333333334|\n",
            "|8589937619|8589938253|0.8958333333333334|\n",
            "|8589937393|8589938824|0.8947368421052632|\n",
            "|8589937865|8589938824|0.8947368421052632|\n",
            "|      3901|8589935355|0.8947368421052632|\n",
            "|      2469|8589942585|0.8947368421052632|\n",
            "|8589937609|8589938824|0.8947368421052632|\n",
            "|8589936622|8589936639|0.8947368421052632|\n",
            "|      7029|8589935339|0.8947368421052632|\n",
            "|8589935742|8589941992|0.8947368421052632|\n",
            "|      2910|      5764|0.8947368421052632|\n",
            "|8589936622|8589938973|0.8947368421052632|\n",
            "|8589935355|8589937619|0.8947368421052632|\n",
            "|8589936622|8589938060|0.8947368421052632|\n",
            "|       832|      4847|0.8928571428571429|\n",
            "+----------+----------+------------------+\n",
            "only showing top 20 rows\n",
            "\n"
          ],
          "name": "stdout"
        }
      ]
    },
    {
      "cell_type": "code",
      "metadata": {
        "id": "GI3-uJqvi3vg",
        "colab_type": "code",
        "colab": {}
      },
      "source": [
        "set1,set2,set3=ans.select(\"video_id_A\",\"video_id_B\",\"distCol\").randomSplit([0.33, 0.33, 0.34])"
      ],
      "execution_count": 0,
      "outputs": []
    },
    {
      "cell_type": "code",
      "metadata": {
        "id": "slvLd3eUi3zb",
        "colab_type": "code",
        "colab": {
          "base_uri": "https://localhost:8080/",
          "height": 489
        },
        "outputId": "1c1fbedf-8b7b-4ea7-970c-a65967830b71"
      },
      "source": [
        "set1.show()"
      ],
      "execution_count": 57,
      "outputs": [
        {
          "output_type": "stream",
          "text": [
            "+----------+----------+------------------+\n",
            "|video_id_A|video_id_B|           distCol|\n",
            "+----------+----------+------------------+\n",
            "|       918|      3008|               0.0|\n",
            "|8589937057|8589939099|               0.0|\n",
            "|       918|      2610|               0.0|\n",
            "|      5228|8589940204|0.6382978723404256|\n",
            "|      6799|8589936922|               0.0|\n",
            "|      3407|8589934640|0.6060606060606061|\n",
            "|      6478|      7351|               0.0|\n",
            "|      6535|8589941701|               0.0|\n",
            "|      6535|8589935247|               0.0|\n",
            "|      1758|8589941901|               0.0|\n",
            "|      1918|8589936990|               0.0|\n",
            "|      2610|8589935878|               0.0|\n",
            "|      4508|8589939371|               0.0|\n",
            "|8589935344|8589935576|               0.0|\n",
            "|8589935855|8589940335|               0.0|\n",
            "|8589937057|8589941701|               0.0|\n",
            "|8589937758|8589941901|               0.0|\n",
            "|8589939305|8589940335|               0.0|\n",
            "|      1301|      4508|               0.0|\n",
            "|      1758|8589938440|               0.0|\n",
            "+----------+----------+------------------+\n",
            "only showing top 20 rows\n",
            "\n"
          ],
          "name": "stdout"
        }
      ]
    },
    {
      "cell_type": "code",
      "metadata": {
        "id": "PWt0NS7Gi3tu",
        "colab_type": "code",
        "colab": {
          "base_uri": "https://localhost:8080/",
          "height": 489
        },
        "outputId": "efcdceee-ec16-4012-bc35-fc516e16e8af"
      },
      "source": [
        "set2.show()"
      ],
      "execution_count": 59,
      "outputs": [
        {
          "output_type": "stream",
          "text": [
            "+----------+----------+------------------+\n",
            "|video_id_A|video_id_B|           distCol|\n",
            "+----------+----------+------------------+\n",
            "|      3846|      5361|               0.0|\n",
            "|      3946|8589936288|0.5714285714285714|\n",
            "|      4000|      6535|               0.0|\n",
            "|      4000|8589939300|               0.0|\n",
            "|      4000|8589940758|               0.0|\n",
            "|      5632|8589935247|               0.0|\n",
            "|8589934666|8589941901|               0.0|\n",
            "|8589935802|8589936298|               0.0|\n",
            "|8589937283|8589939134|0.7692307692307692|\n",
            "|      6535|      6799|               0.0|\n",
            "|8589935878|8589938618|               0.0|\n",
            "|8589935878|8589940332|               0.0|\n",
            "|8589936990|8589940690|               0.0|\n",
            "|8589939300|8589940690|               0.0|\n",
            "|      2166|8589937514|               0.0|\n",
            "|      5361|8589938618|               0.0|\n",
            "|8589935855|8589940332|               0.0|\n",
            "|       758|8589940324|0.7115384615384616|\n",
            "|       918|8589940690|               0.0|\n",
            "|      7351|8589940332|               0.0|\n",
            "+----------+----------+------------------+\n",
            "only showing top 20 rows\n",
            "\n"
          ],
          "name": "stdout"
        }
      ]
    },
    {
      "cell_type": "code",
      "metadata": {
        "id": "m_grFURui2Uj",
        "colab_type": "code",
        "colab": {
          "base_uri": "https://localhost:8080/",
          "height": 489
        },
        "outputId": "7702eaf5-0909-410c-fa84-0bd6b8a1aefe"
      },
      "source": [
        "set3.show()"
      ],
      "execution_count": 56,
      "outputs": [
        {
          "output_type": "stream",
          "text": [
            "+----------+----------+------------------+\n",
            "|video_id_A|video_id_B|           distCol|\n",
            "+----------+----------+------------------+\n",
            "|      1291|      2610|               0.0|\n",
            "|      3665|      7294|0.8571428571428572|\n",
            "|      3846|8589937514|               0.0|\n",
            "|       877|8589935666|               0.0|\n",
            "|      2610|      7456|               0.0|\n",
            "|      1301|8589940335|               0.0|\n",
            "|      5632|8589939300|               0.0|\n",
            "|8589936990|8589941901|               0.0|\n",
            "|      2610|8589939305|               0.0|\n",
            "|8589936311|8589937495|0.8333333333333334|\n",
            "|      3846|8589935247|               0.0|\n",
            "|      6971|8589935855|               0.0|\n",
            "|8589937283|8589937696|0.7727272727272727|\n",
            "|      4847|      7864|0.8857142857142857|\n",
            "|8589938618|8589939807|               0.0|\n",
            "|      1758|8589937758|               0.0|\n",
            "|      3407|8589935703|0.5806451612903225|\n",
            "|      3008|      6478|               0.0|\n",
            "|      4804|      6608| 0.303030303030303|\n",
            "|8589935371|8589940509|0.8867924528301887|\n",
            "+----------+----------+------------------+\n",
            "only showing top 20 rows\n",
            "\n"
          ],
          "name": "stdout"
        }
      ]
    },
    {
      "cell_type": "code",
      "metadata": {
        "id": "6TPH4F5ii2OU",
        "colab_type": "code",
        "colab": {}
      },
      "source": [
        ""
      ],
      "execution_count": 0,
      "outputs": []
    },
    {
      "cell_type": "code",
      "metadata": {
        "id": "AQPTiPkLFSHn",
        "colab_type": "code",
        "colab": {}
      },
      "source": [
        ""
      ],
      "execution_count": 0,
      "outputs": []
    },
    {
      "cell_type": "code",
      "metadata": {
        "id": "HrpCyxTmoDNQ",
        "colab_type": "code",
        "colab": {}
      },
      "source": [
        "# from pyspark.ml.feature import HashingTF, IDF\n",
        "# hashingTF = HashingTF(inputCol=\"Tokenized_Tags\", outputCol=\"tf\")\n",
        "# tf = hashingTF.transform(TestSDF.select(\"id\",\"Tokenized_Tags\"))\n",
        "\n",
        "# idf = IDF(inputCol=\"tf\", outputCol=\"feature\").fit(tf)\n",
        "# tfidf = idf.transform(tf)"
      ],
      "execution_count": 0,
      "outputs": []
    },
    {
      "cell_type": "code",
      "metadata": {
        "id": "DgiCP62MpAQW",
        "colab_type": "code",
        "colab": {}
      },
      "source": [
        "# #   tf.cache()\n",
        "# #   idf = IDF().fit(tf)\n",
        "# #   tfidf = idf.transform(tf)\n",
        "\n",
        "# from pyspark.ml.feature import Normalizer\n",
        "# normalizer = Normalizer(inputCol=\"feature\", outputCol=\"norm\")\n",
        "# data = normalizer.transform(tfidf)"
      ],
      "execution_count": 0,
      "outputs": []
    },
    {
      "cell_type": "code",
      "metadata": {
        "id": "V7KiLWi35K4z",
        "colab_type": "code",
        "outputId": "e208de5f-de4a-4a4f-86ec-264ba34ab413",
        "colab": {
          "base_uri": "https://localhost:8080/",
          "height": 217
        }
      },
      "source": [
        "# data.show(5)"
      ],
      "execution_count": 0,
      "outputs": [
        {
          "output_type": "stream",
          "text": [
            "+----------+--------------------+--------------------+--------------------+--------------------+\n",
            "|        id|      Tokenized_Tags|                  tf|             feature|                norm|\n",
            "+----------+--------------------+--------------------+--------------------+--------------------+\n",
            "|      3091|[affordable makeu...|(262144,[5262,199...|(262144,[5262,199...|(262144,[5262,199...|\n",
            "|      4894|[Linkin Park, One...|(262144,[21656,84...|(262144,[21656,84...|(262144,[21656,84...|\n",
            "|      7279|[carlibel55, carl...|(262144,[10116,37...|(262144,[10116,37...|(262144,[10116,37...|\n",
            "|8589938024|[Full Frontal wit...|(262144,[27323,66...|(262144,[27323,66...|(262144,[27323,66...|\n",
            "|8589942265|        [nerdwriter]|(262144,[109605],...|(262144,[109605],...|(262144,[109605],...|\n",
            "+----------+--------------------+--------------------+--------------------+--------------------+\n",
            "only showing top 5 rows\n",
            "\n"
          ],
          "name": "stdout"
        }
      ]
    },
    {
      "cell_type": "code",
      "metadata": {
        "id": "5AAvbPSjTxc4",
        "colab_type": "code",
        "colab": {}
      },
      "source": [
        "\n",
        "# from pyspark.sql.types import DoubleType"
      ],
      "execution_count": 0,
      "outputs": []
    },
    {
      "cell_type": "code",
      "metadata": {
        "id": "R-BPAgpg6pKz",
        "colab_type": "code",
        "outputId": "3fe0033a-3f2e-49b5-daf3-13601d7adddd",
        "colab": {
          "base_uri": "https://localhost:8080/",
          "height": 489
        }
      },
      "source": [
        "# import pyspark.sql.functions as psf\n",
        "# from pyspark.sql.functions import col\n",
        "# dot_udf = psf.udf(lambda x,y: float(x.dot(y)), DoubleType())\n",
        "# result=data.alias(\"i\").join(data.alias(\"j\"), psf.col(\"i.ID\") < psf.col(\"j.ID\"))\n",
        "# result=result.select(\n",
        "#         psf.col(\"i.ID\").alias(\"i\"), \n",
        "#         psf.col(\"j.ID\").alias(\"j\"), \n",
        "#         dot_udf(\"i.norm\", \"j.norm\").alias(\"dot\"))\n",
        "    \n",
        "# # result=result.sort(\"i\", \"j\")\n",
        "\n",
        "# result=result.sort(col(\"dot\").desc())\n",
        "# result.show()"
      ],
      "execution_count": 0,
      "outputs": [
        {
          "output_type": "stream",
          "text": [
            "+----------+----------+------------------+\n",
            "|         i|         j|               dot|\n",
            "+----------+----------+------------------+\n",
            "|      2727|8589936472|1.0000000000000007|\n",
            "|      5060|      5738|1.0000000000000007|\n",
            "|      7260|      7741|1.0000000000000004|\n",
            "|      1652|      2366|1.0000000000000004|\n",
            "|       610|      1262|1.0000000000000002|\n",
            "|      2759|8589936482|1.0000000000000002|\n",
            "|      6152|8589939207|1.0000000000000002|\n",
            "|      4116|8589938314|1.0000000000000002|\n",
            "|8589938210|8589938672|1.0000000000000002|\n",
            "|      4135|      4383|1.0000000000000002|\n",
            "|      5459|8589939207|1.0000000000000002|\n",
            "|      4417|      5312|1.0000000000000002|\n",
            "|      7402|8589942486|1.0000000000000002|\n",
            "|      6015|      7097|1.0000000000000002|\n",
            "|8589940276|8589940529|1.0000000000000002|\n",
            "|8589936018|8589936775|1.0000000000000002|\n",
            "|      5750|      6418|1.0000000000000002|\n",
            "|      5459|      6152|1.0000000000000002|\n",
            "|      5213|      6172|1.0000000000000002|\n",
            "|      7402|8589941791|1.0000000000000002|\n",
            "+----------+----------+------------------+\n",
            "only showing top 20 rows\n",
            "\n"
          ],
          "name": "stdout"
        }
      ]
    },
    {
      "cell_type": "code",
      "metadata": {
        "id": "tbfu2VUWu7TC",
        "colab_type": "code",
        "colab": {}
      },
      "source": [
        "\n",
        "# result.sort(col(\"dot\").desc())"
      ],
      "execution_count": 0,
      "outputs": []
    },
    {
      "cell_type": "code",
      "metadata": {
        "id": "I55uxBSmfK8i",
        "colab_type": "code",
        "colab": {}
      },
      "source": [
        "# content based recommender system\n",
        "# steps: \n",
        "# 1) lower case whole dataset\n",
        "# 2) remove stopwords\n",
        "# 3) create bag of words vectors in binary format 1/0\n",
        "# 4) calc cosine sim for all articles and find top 3 closest articles\n",
        "# 5) sort article ids with descen simi and removing same article id\n",
        "# 6) created recommendation column with top 3 article id's"
      ],
      "execution_count": 0,
      "outputs": []
    },
    {
      "cell_type": "code",
      "metadata": {
        "id": "WYDWzAyVrcve",
        "colab_type": "code",
        "colab": {}
      },
      "source": [
        ""
      ],
      "execution_count": 0,
      "outputs": []
    },
    {
      "cell_type": "code",
      "metadata": {
        "id": "ooS4clQAM0Tc",
        "colab_type": "code",
        "colab": {}
      },
      "source": [
        ""
      ],
      "execution_count": 0,
      "outputs": []
    },
    {
      "cell_type": "code",
      "metadata": {
        "id": "idEM-s0sqprn",
        "colab_type": "code",
        "colab": {}
      },
      "source": [
        ""
      ],
      "execution_count": 0,
      "outputs": []
    }
  ]
}