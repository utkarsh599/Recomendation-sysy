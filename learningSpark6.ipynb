{
  "nbformat": 4,
  "nbformat_minor": 0,
  "metadata": {
    "colab": {
      "name": "learningSpark6.ipynb",
      "provenance": [],
      "collapsed_sections": [],
      "include_colab_link": true
    },
    "kernelspec": {
      "name": "python3",
      "display_name": "Python 3"
    },
    "accelerator": "GPU"
  },
  "cells": [
    {
      "cell_type": "markdown",
      "metadata": {
        "id": "view-in-github",
        "colab_type": "text"
      },
      "source": [
        "<a href=\"https://colab.research.google.com/github/utkarsh599/Recomendation-sysy/blob/Abhijeet/learningSpark6.ipynb\" target=\"_parent\"><img src=\"https://colab.research.google.com/assets/colab-badge.svg\" alt=\"Open In Colab\"/></a>"
      ]
    },
    {
      "cell_type": "code",
      "metadata": {
        "id": "0nMTDp0PAHLt",
        "colab_type": "code",
        "colab": {}
      },
      "source": [
        "!apt-get install openjdk-8-jdk-headless -qq > /dev/null\n",
        "!wget -q http://www-eu.apache.org/dist/spark/spark-2.4.5/spark-2.4.5-bin-hadoop2.7.tgz\n",
        "!tar xf spark-2.4.5-bin-hadoop2.7.tgz\n",
        "!pip install -q findspark\n"
      ],
      "execution_count": 0,
      "outputs": []
    },
    {
      "cell_type": "code",
      "metadata": {
        "id": "al-_jsbocQ5i",
        "colab_type": "code",
        "colab": {}
      },
      "source": [
        "\n",
        "#     http://apache.osuosl.org/spark/\n",
        "#     https://www-us.apache.org/dist/spark/\n"
      ],
      "execution_count": 0,
      "outputs": []
    },
    {
      "cell_type": "code",
      "metadata": {
        "id": "WuSt0MBBBX7Z",
        "colab_type": "code",
        "outputId": "215918cc-01df-43a2-dd98-2b7cdcbe4664",
        "colab": {
          "base_uri": "https://localhost:8080/",
          "height": 101
        }
      },
      "source": [
        "!pip install py4j"
      ],
      "execution_count": 2,
      "outputs": [
        {
          "output_type": "stream",
          "text": [
            "Collecting py4j\n",
            "\u001b[?25l  Downloading https://files.pythonhosted.org/packages/9e/b6/6a4fb90cd235dc8e265a6a2067f2a2c99f0d91787f06aca4bcf7c23f3f80/py4j-0.10.9-py2.py3-none-any.whl (198kB)\n",
            "\r\u001b[K     |█▋                              | 10kB 24.5MB/s eta 0:00:01\r\u001b[K     |███▎                            | 20kB 5.8MB/s eta 0:00:01\r\u001b[K     |█████                           | 30kB 8.3MB/s eta 0:00:01\r\u001b[K     |██████▋                         | 40kB 5.3MB/s eta 0:00:01\r\u001b[K     |████████▎                       | 51kB 6.5MB/s eta 0:00:01\r\u001b[K     |██████████                      | 61kB 7.6MB/s eta 0:00:01\r\u001b[K     |███████████▌                    | 71kB 8.6MB/s eta 0:00:01\r\u001b[K     |█████████████▏                  | 81kB 9.7MB/s eta 0:00:01\r\u001b[K     |██████████████▉                 | 92kB 10.7MB/s eta 0:00:01\r\u001b[K     |████████████████▌               | 102kB 8.6MB/s eta 0:00:01\r\u001b[K     |██████████████████▏             | 112kB 8.6MB/s eta 0:00:01\r\u001b[K     |███████████████████▉            | 122kB 8.6MB/s eta 0:00:01\r\u001b[K     |█████████████████████▌          | 133kB 8.6MB/s eta 0:00:01\r\u001b[K     |███████████████████████         | 143kB 8.6MB/s eta 0:00:01\r\u001b[K     |████████████████████████▊       | 153kB 8.6MB/s eta 0:00:01\r\u001b[K     |██████████████████████████▍     | 163kB 8.6MB/s eta 0:00:01\r\u001b[K     |████████████████████████████    | 174kB 8.6MB/s eta 0:00:01\r\u001b[K     |█████████████████████████████▊  | 184kB 8.6MB/s eta 0:00:01\r\u001b[K     |███████████████████████████████▍| 194kB 8.6MB/s eta 0:00:01\r\u001b[K     |████████████████████████████████| 204kB 8.6MB/s \n",
            "\u001b[?25hInstalling collected packages: py4j\n",
            "Successfully installed py4j-0.10.9\n"
          ],
          "name": "stdout"
        }
      ]
    },
    {
      "cell_type": "code",
      "metadata": {
        "id": "qZIB8gx7BZ0v",
        "colab_type": "code",
        "colab": {}
      },
      "source": [
        "import os\n",
        "os.environ[\"JAVA_HOME\"] = \"/usr/lib/jvm/java-8-openjdk-amd64\"\n",
        "os.environ[\"SPARK_HOME\"] = \"/content/spark-2.4.5-bin-hadoop2.7\""
      ],
      "execution_count": 0,
      "outputs": []
    },
    {
      "cell_type": "code",
      "metadata": {
        "id": "WulrfiVdw8hk",
        "colab_type": "code",
        "colab": {}
      },
      "source": [
        ""
      ],
      "execution_count": 0,
      "outputs": []
    },
    {
      "cell_type": "code",
      "metadata": {
        "id": "XzYrFYvIBcOf",
        "colab_type": "code",
        "colab": {}
      },
      "source": [
        "import findspark\n",
        "findspark.init()"
      ],
      "execution_count": 0,
      "outputs": []
    },
    {
      "cell_type": "code",
      "metadata": {
        "id": "Hqbi2yklB7p3",
        "colab_type": "code",
        "colab": {}
      },
      "source": [
        "import pyspark"
      ],
      "execution_count": 0,
      "outputs": []
    },
    {
      "cell_type": "code",
      "metadata": {
        "id": "00mrZHHvC12Y",
        "colab_type": "code",
        "outputId": "e1881ee2-0fde-46a2-8bae-5c411ebc3ea8",
        "colab": {
          "base_uri": "https://localhost:8080/",
          "height": 121
        }
      },
      "source": [
        "from google.colab import drive\n",
        "drive.mount('/content/gdrive')"
      ],
      "execution_count": 6,
      "outputs": [
        {
          "output_type": "stream",
          "text": [
            "Go to this URL in a browser: https://accounts.google.com/o/oauth2/auth?client_id=947318989803-6bn6qk8qdgf4n4g3pfee6491hc0brc4i.apps.googleusercontent.com&redirect_uri=urn%3aietf%3awg%3aoauth%3a2.0%3aoob&response_type=code&scope=email%20https%3a%2f%2fwww.googleapis.com%2fauth%2fdocs.test%20https%3a%2f%2fwww.googleapis.com%2fauth%2fdrive%20https%3a%2f%2fwww.googleapis.com%2fauth%2fdrive.photos.readonly%20https%3a%2f%2fwww.googleapis.com%2fauth%2fpeopleapi.readonly\n",
            "\n",
            "Enter your authorization code:\n",
            "··········\n",
            "Mounted at /content/gdrive\n"
          ],
          "name": "stdout"
        }
      ]
    },
    {
      "cell_type": "code",
      "metadata": {
        "id": "-_ZxvCL2C5qn",
        "colab_type": "code",
        "colab": {}
      },
      "source": [
        "from pyspark.sql import SparkSession\n"
      ],
      "execution_count": 0,
      "outputs": []
    },
    {
      "cell_type": "code",
      "metadata": {
        "id": "krBaVglkKnvj",
        "colab_type": "code",
        "colab": {}
      },
      "source": [
        "spark = SparkSession.builder.master(\"local[*]\").getOrCreate()"
      ],
      "execution_count": 0,
      "outputs": []
    },
    {
      "cell_type": "code",
      "metadata": {
        "id": "gjHb8Cc_EITX",
        "colab_type": "code",
        "colab": {}
      },
      "source": [
        "comments1 =  spark.read.csv(\"/content/gdrive/My Drive/Colab Notebooks/GBcomments.csv\", inferSchema=True, header=True)"
      ],
      "execution_count": 0,
      "outputs": []
    },
    {
      "cell_type": "code",
      "metadata": {
        "id": "FPkn9lr3NOiZ",
        "colab_type": "code",
        "colab": {}
      },
      "source": [
        "comments2= spark.read.csv(\"/content/gdrive/My Drive/Colab Notebooks/UScomments.csv\", inferSchema=True, header=True)"
      ],
      "execution_count": 0,
      "outputs": []
    },
    {
      "cell_type": "code",
      "metadata": {
        "id": "FsS54DS-KdwL",
        "colab_type": "code",
        "outputId": "28697f22-df36-4789-f3c3-ee3c4c3a58ac",
        "colab": {
          "base_uri": "https://localhost:8080/",
          "height": 202
        }
      },
      "source": [
        "comments1.show(5)"
      ],
      "execution_count": 11,
      "outputs": [
        {
          "output_type": "stream",
          "text": [
            "+-----------+--------------------+-----+-------+\n",
            "|   video_id|        comment_text|likes|replies|\n",
            "+-----------+--------------------+-----+-------+\n",
            "|jt2OHQh0HoQ|It's more accurat...|    0|      0|\n",
            "|jt2OHQh0HoQ|To be there with ...|    1|      0|\n",
            "|jt2OHQh0HoQ|Thank gosh, a pla...|    0|      0|\n",
            "|jt2OHQh0HoQ|What happened to ...|    0|      0|\n",
            "|jt2OHQh0HoQ|Power is the dise...|    0|      0|\n",
            "+-----------+--------------------+-----+-------+\n",
            "only showing top 5 rows\n",
            "\n"
          ],
          "name": "stdout"
        }
      ]
    },
    {
      "cell_type": "code",
      "metadata": {
        "id": "Agd0_Pg_MkCx",
        "colab_type": "code",
        "outputId": "9ade8666-0f6a-4995-f518-890d85099d00",
        "colab": {
          "base_uri": "https://localhost:8080/",
          "height": 34
        }
      },
      "source": [
        "type(comments1)"
      ],
      "execution_count": 12,
      "outputs": [
        {
          "output_type": "execute_result",
          "data": {
            "text/plain": [
              "pyspark.sql.dataframe.DataFrame"
            ]
          },
          "metadata": {
            "tags": []
          },
          "execution_count": 12
        }
      ]
    },
    {
      "cell_type": "code",
      "metadata": {
        "id": "m82n-wW8MtYq",
        "colab_type": "code",
        "colab": {}
      },
      "source": [
        "from functools import reduce  # For Python 3.x\n",
        "from pyspark.sql import DataFrame\n",
        "\n",
        "def unionAll(*dfs):\n",
        "    return reduce(DataFrame.unionAll, dfs)\n",
        "\n",
        "comments=unionAll(comments1,comments2)"
      ],
      "execution_count": 0,
      "outputs": []
    },
    {
      "cell_type": "code",
      "metadata": {
        "id": "BMc72JXwNzUZ",
        "colab_type": "code",
        "outputId": "87a0aba2-05e2-4933-9bf1-ac4957ac93b1",
        "colab": {
          "base_uri": "https://localhost:8080/",
          "height": 34
        }
      },
      "source": [
        "comments.count()"
      ],
      "execution_count": 14,
      "outputs": [
        {
          "output_type": "execute_result",
          "data": {
            "text/plain": [
              "1410466"
            ]
          },
          "metadata": {
            "tags": []
          },
          "execution_count": 14
        }
      ]
    },
    {
      "cell_type": "code",
      "metadata": {
        "id": "hk183emhN1pB",
        "colab_type": "code",
        "outputId": "093e5292-ca52-4802-860c-d122586c98a2",
        "colab": {
          "base_uri": "https://localhost:8080/",
          "height": 101
        }
      },
      "source": [
        "comments_rdd = comments.select('comment_text').rdd.flatMap(lambda x: x)\n",
        "comments_rdd=comments_rdd.filter(lambda x: x is not None).filter(lambda x: x!='')\n",
        "comments_rdd.take(5)"
      ],
      "execution_count": 15,
      "outputs": [
        {
          "output_type": "execute_result",
          "data": {
            "text/plain": [
              "[\"It's more accurate to call it the M+ (1000) because the price is closer than calling it the X (10).\",\n",
              " 'To be there with a samsung phone\\\\n😂😂😂',\n",
              " 'Thank gosh, a place I can watch it without having to be at HD... my speed doesn’t support HD',\n",
              " 'What happened to the home button on the iPhone X? *****Cough****copying Samsung******cough',\n",
              " 'Power is the disease.\\xa0 Care is the cure.\\xa0 Keep caring for yourself and others as best as you can.\\xa0 This is life.']"
            ]
          },
          "metadata": {
            "tags": []
          },
          "execution_count": 15
        }
      ]
    },
    {
      "cell_type": "code",
      "metadata": {
        "id": "CGxCqN9-OHlZ",
        "colab_type": "code",
        "colab": {}
      },
      "source": [
        "header = comments_rdd.first()"
      ],
      "execution_count": 0,
      "outputs": []
    },
    {
      "cell_type": "code",
      "metadata": {
        "id": "IfWpcgNHYaOn",
        "colab_type": "code",
        "colab": {}
      },
      "source": [
        ""
      ],
      "execution_count": 0,
      "outputs": []
    },
    {
      "cell_type": "code",
      "metadata": {
        "id": "F_EJIiUbORhp",
        "colab_type": "code",
        "colab": {}
      },
      "source": [
        "data_rmv_col = comments_rdd.filter(lambda row: row != header)"
      ],
      "execution_count": 0,
      "outputs": []
    },
    {
      "cell_type": "code",
      "metadata": {
        "id": "vBq7Tt8fYddE",
        "colab_type": "code",
        "colab": {}
      },
      "source": [
        "def lower(x):\n",
        "  return x.lower()"
      ],
      "execution_count": 0,
      "outputs": []
    },
    {
      "cell_type": "code",
      "metadata": {
        "id": "whFlu2bVOUGj",
        "colab_type": "code",
        "colab": {}
      },
      "source": [
        "lowerCase_sentRDD = data_rmv_col.map(lower)"
      ],
      "execution_count": 0,
      "outputs": []
    },
    {
      "cell_type": "code",
      "metadata": {
        "id": "uvfSyt5vY0NM",
        "colab_type": "code",
        "outputId": "6fedc56a-0e7b-4ad7-a97c-93d9357dc91a",
        "colab": {
          "base_uri": "https://localhost:8080/",
          "height": 101
        }
      },
      "source": [
        "lowerCase_sentRDD.take(5)"
      ],
      "execution_count": 20,
      "outputs": [
        {
          "output_type": "execute_result",
          "data": {
            "text/plain": [
              "['to be there with a samsung phone\\\\n😂😂😂',\n",
              " 'thank gosh, a place i can watch it without having to be at hd... my speed doesn’t support hd',\n",
              " 'what happened to the home button on the iphone x? *****cough****copying samsung******cough',\n",
              " 'power is the disease.\\xa0 care is the cure.\\xa0 keep caring for yourself and others as best as you can.\\xa0 this is life.',\n",
              " 'keep calm and buy iphone 8 keep calm and buy iphone 8 plus keep calm and buy iphone x. what is your favourite?']"
            ]
          },
          "metadata": {
            "tags": []
          },
          "execution_count": 20
        }
      ]
    },
    {
      "cell_type": "code",
      "metadata": {
        "id": "OMGLHMbyOWFg",
        "colab_type": "code",
        "colab": {}
      },
      "source": [
        "import spacy\n",
        "nlp = spacy.load(\"en_core_web_sm\")"
      ],
      "execution_count": 0,
      "outputs": []
    },
    {
      "cell_type": "code",
      "metadata": {
        "id": "UUSEb5lFOXyh",
        "colab_type": "code",
        "colab": {}
      },
      "source": [
        "def sent_TokenizeFunct(x):\n",
        "    doc=nlp(x)\n",
        "    #return doc\n",
        "    tokens=[]\n",
        "    for token in doc:\n",
        "      if((token.is_stop==False and token.is_punct==False) and token.is_alpha==True):\n",
        "        tokens.append(token.lemma_)\n",
        "    return ' '.join(tokens)\n",
        "    \n",
        "sentenceTokenizeRDD = lowerCase_sentRDD.map(sent_TokenizeFunct)"
      ],
      "execution_count": 0,
      "outputs": []
    },
    {
      "cell_type": "code",
      "metadata": {
        "id": "lBjwx5cmOZmK",
        "colab_type": "code",
        "colab": {}
      },
      "source": [
        ""
      ],
      "execution_count": 0,
      "outputs": []
    },
    {
      "cell_type": "code",
      "metadata": {
        "id": "aALgYIynnjPk",
        "colab_type": "code",
        "outputId": "b7f59c1f-5d19-435c-a952-a32370152e8f",
        "colab": {
          "base_uri": "https://localhost:8080/",
          "height": 101
        }
      },
      "source": [
        "sentenceTokenizeRDD.take(5)"
      ],
      "execution_count": 23,
      "outputs": [
        {
          "output_type": "execute_result",
          "data": {
            "text/plain": [
              "['samsung',\n",
              " 'thank gosh place watch have hd speed support hd',\n",
              " 'happen home button iphone x',\n",
              " 'power disease care cure care best life',\n",
              " 'calm buy iphone calm buy iphone plus calm buy iphone favourite']"
            ]
          },
          "metadata": {
            "tags": []
          },
          "execution_count": 23
        }
      ]
    },
    {
      "cell_type": "code",
      "metadata": {
        "id": "f9CwPpHuOp1x",
        "colab_type": "code",
        "colab": {}
      },
      "source": [
        ""
      ],
      "execution_count": 0,
      "outputs": []
    },
    {
      "cell_type": "markdown",
      "metadata": {
        "id": "XuaT6RkJZ9W5",
        "colab_type": "text"
      },
      "source": [
        "# Working on Videos"
      ]
    },
    {
      "cell_type": "code",
      "metadata": {
        "id": "QwCMl4dKpP0k",
        "colab_type": "code",
        "colab": {}
      },
      "source": [
        "Videos1 =  spark.read.csv(\"/content/gdrive/My Drive/Colab Notebooks/GBvideos.csv\", inferSchema=True, header=True)\n",
        "Videos2 =  spark.read.csv(\"/content/gdrive/My Drive/Colab Notebooks/USvideos.csv\", inferSchema=True, header=True)\n",
        "videos = unionAll(Videos1,Videos2)"
      ],
      "execution_count": 0,
      "outputs": []
    },
    {
      "cell_type": "code",
      "metadata": {
        "id": "Pf2b-oUBakjb",
        "colab_type": "code",
        "outputId": "84682dca-6ffe-402c-c461-2242f01cc4de",
        "colab": {
          "base_uri": "https://localhost:8080/",
          "height": 202
        }
      },
      "source": [
        "videos.show(5)"
      ],
      "execution_count": 25,
      "outputs": [
        {
          "output_type": "stream",
          "text": [
            "+-----------+--------------------+-----------------+-----------+--------------------+-------+-----+--------+-------------+--------------------+-----+\n",
            "|   video_id|               title|    channel_title|category_id|                tags|  views|likes|dislikes|comment_total|      thumbnail_link| date|\n",
            "+-----------+--------------------+-----------------+-----------+--------------------+-------+-----+--------+-------------+--------------------+-----+\n",
            "|jt2OHQh0HoQ|Live Apple Event ...|      Apple Event|         28|apple events|appl...|7426393|78240|   13548|          705|https://i.ytimg.c...|13.09|\n",
            "|AqokkXoa7uE|Holly and Phillip...|     This Morning|         24|this morning|inte...| 494203| 2651|    1309|            0|https://i.ytimg.c...|13.09|\n",
            "|YPVcg45W0z4|My DNA Test Resul...|     emmablackery|         24|emmablackery|emma...| 142819|13119|     151|         1141|https://i.ytimg.c...|13.09|\n",
            "|T_PuZBdT2iM|getting into a co...|            ProZD|          1|skit|korean|langu...|1580028|65729|    1529|         3598|https://i.ytimg.c...|13.09|\n",
            "|NsjsmgmbCfc|Baby Name Challenge!|Sprinkleofglitter|         26|sprinkleofglitter...|  40592| 5019|      57|          490|https://i.ytimg.c...|13.09|\n",
            "+-----------+--------------------+-----------------+-----------+--------------------+-------+-----+--------+-------------+--------------------+-----+\n",
            "only showing top 5 rows\n",
            "\n"
          ],
          "name": "stdout"
        }
      ]
    },
    {
      "cell_type": "code",
      "metadata": {
        "id": "RaRDsaVGatMJ",
        "colab_type": "code",
        "outputId": "92560aaa-8821-40a6-d28c-5b1a76d573d6",
        "colab": {
          "base_uri": "https://localhost:8080/",
          "height": 101
        }
      },
      "source": [
        "videos_rdd = videos.select(['title']).rdd.flatMap(lambda x: x)\n",
        "videos_rdd = videos_rdd.filter(lambda x: x is not None).filter(lambda x: x!='')\n",
        "videos_rdd.take(5)"
      ],
      "execution_count": 26,
      "outputs": [
        {
          "output_type": "execute_result",
          "data": {
            "text/plain": [
              "['Live Apple Event - Apple September Event 2017 - iPhone 8, iPhone X, iOS 11 - Apple Keynote',\n",
              " 'Holly and Phillip Meet Samantha the Sex Robot | This Morning',\n",
              " \"My DNA Test Results! I'm WHAT?!\",\n",
              " \"getting into a conversation in a language you don't actually speak that well\",\n",
              " 'Baby Name Challenge!']"
            ]
          },
          "metadata": {
            "tags": []
          },
          "execution_count": 26
        }
      ]
    },
    {
      "cell_type": "code",
      "metadata": {
        "id": "QRWN2kwbbWlO",
        "colab_type": "code",
        "colab": {}
      },
      "source": [
        "header_Vid=videos_rdd.first()"
      ],
      "execution_count": 0,
      "outputs": []
    },
    {
      "cell_type": "code",
      "metadata": {
        "id": "SQ4raTiSbehi",
        "colab_type": "code",
        "colab": {}
      },
      "source": [
        "data_rmv_col_vid = videos_rdd.filter(lambda row: row != header_Vid)"
      ],
      "execution_count": 0,
      "outputs": []
    },
    {
      "cell_type": "code",
      "metadata": {
        "id": "Bd-5bxSnbFko",
        "colab_type": "code",
        "colab": {}
      },
      "source": [
        "lowerCase_VidRDD = data_rmv_col_vid.map(lower)"
      ],
      "execution_count": 0,
      "outputs": []
    },
    {
      "cell_type": "code",
      "metadata": {
        "id": "zhKOhbOObzc7",
        "colab_type": "code",
        "outputId": "da0ba431-91f3-44e6-cf4d-0ea1477dd54f",
        "colab": {
          "base_uri": "https://localhost:8080/",
          "height": 101
        }
      },
      "source": [
        "lowerCase_VidRDD.take(5)"
      ],
      "execution_count": 30,
      "outputs": [
        {
          "output_type": "execute_result",
          "data": {
            "text/plain": [
              "['holly and phillip meet samantha the sex robot | this morning',\n",
              " \"my dna test results! i'm what?!\",\n",
              " \"getting into a conversation in a language you don't actually speak that well\",\n",
              " 'baby name challenge!',\n",
              " \"revealed - fifa 18 stats for chelsea's hazard, luiz & christensen!\"]"
            ]
          },
          "metadata": {
            "tags": []
          },
          "execution_count": 30
        }
      ]
    },
    {
      "cell_type": "code",
      "metadata": {
        "id": "K2zIE5tIb8q5",
        "colab_type": "code",
        "colab": {}
      },
      "source": [
        "Vid_sentTokenizeRDD = lowerCase_VidRDD.map(sent_TokenizeFunct)"
      ],
      "execution_count": 0,
      "outputs": []
    },
    {
      "cell_type": "code",
      "metadata": {
        "id": "15_82miKcyvA",
        "colab_type": "code",
        "outputId": "9dee4c5c-e2a2-42d5-bc91-692b71de6e5c",
        "colab": {
          "base_uri": "https://localhost:8080/",
          "height": 101
        }
      },
      "source": [
        "Vid_sentTokenizeRDD.take(5)"
      ],
      "execution_count": 32,
      "outputs": [
        {
          "output_type": "execute_result",
          "data": {
            "text/plain": [
              "['holly phillip meet samantha sex robot morning',\n",
              " 'dna test result',\n",
              " 'get conversation language actually speak',\n",
              " 'baby challenge',\n",
              " 'reveal fifa stat chelsea hazard luiz christensen']"
            ]
          },
          "metadata": {
            "tags": []
          },
          "execution_count": 32
        }
      ]
    },
    {
      "cell_type": "code",
      "metadata": {
        "id": "wSv3Sk6wlUBz",
        "colab_type": "code",
        "outputId": "93eb85f5-0e84-4b04-a30f-19233adbff5c",
        "colab": {
          "base_uri": "https://localhost:8080/",
          "height": 101
        }
      },
      "source": [
        "tags_rdd=videos.select(['tags']).rdd.flatMap(lambda x:x)\n",
        "tags_rdd.take(5)"
      ],
      "execution_count": 33,
      "outputs": [
        {
          "output_type": "execute_result",
          "data": {
            "text/plain": [
              "['apple events|apple event|iphone 8|iphone x|iphone 8 plus|iphone 7s|iphone 7s plus|ios 11',\n",
              " 'this morning|interview|holly willoughby|phillip schofield|ruth langsford|eamonn holmes|chat shows - topic|chat show - topic|talk shows - topic|sex robot|samantha|real life',\n",
              " 'emmablackery|emma blackery|emma|blackery|british vlogger|british youtuber|female vlogger|birdyboots|dna test|23andme|ancestry',\n",
              " \"skit|korean|language|conversation|esl|japanese|foreign|communication|don't speak|struggle|foreigner|lotte mart|korea|south|weather|good|tutorial\",\n",
              " 'sprinkleofglitter|sprinkle of glitter|baby glitter|Louise Pentland|Louise Pentland Baby Name|Mrs Meldrum|Baby Names|Nice baby names|Unusual baby names']"
            ]
          },
          "metadata": {
            "tags": []
          },
          "execution_count": 33
        }
      ]
    },
    {
      "cell_type": "code",
      "metadata": {
        "id": "9CqP-hs7mCUH",
        "colab_type": "code",
        "colab": {}
      },
      "source": [
        "header_tags = tags_rdd.first()"
      ],
      "execution_count": 0,
      "outputs": []
    },
    {
      "cell_type": "code",
      "metadata": {
        "id": "gZH0uLKJmCYG",
        "colab_type": "code",
        "colab": {}
      },
      "source": [
        "tags_rmv_col = tags_rdd.filter(lambda row: row != header_tags)"
      ],
      "execution_count": 0,
      "outputs": []
    },
    {
      "cell_type": "code",
      "metadata": {
        "id": "1PdZvEp-mCRE",
        "colab_type": "code",
        "outputId": "b8e48982-5e73-410a-a39f-ce978eaaeb36",
        "colab": {
          "base_uri": "https://localhost:8080/",
          "height": 121
        }
      },
      "source": [
        "tags_rmv_col.take(5)"
      ],
      "execution_count": 36,
      "outputs": [
        {
          "output_type": "execute_result",
          "data": {
            "text/plain": [
              "['this morning|interview|holly willoughby|phillip schofield|ruth langsford|eamonn holmes|chat shows - topic|chat show - topic|talk shows - topic|sex robot|samantha|real life',\n",
              " 'emmablackery|emma blackery|emma|blackery|british vlogger|british youtuber|female vlogger|birdyboots|dna test|23andme|ancestry',\n",
              " \"skit|korean|language|conversation|esl|japanese|foreign|communication|don't speak|struggle|foreigner|lotte mart|korea|south|weather|good|tutorial\",\n",
              " 'sprinkleofglitter|sprinkle of glitter|baby glitter|Louise Pentland|Louise Pentland Baby Name|Mrs Meldrum|Baby Names|Nice baby names|Unusual baby names',\n",
              " 'Rio Ferdinand|Rio|Ferdinand|5 Magazine|5 Mag|#5|5 Rio Ferdinand|Rio Ferdinand interview|football|soccer|interview|Manchester United|Man United|fifa 18|fut 18|fut|fifa ratings|fifa 18 ratings|chelsea|chelsea fc|chelsea f.c|David Luiz|Eden Hazard|Christensen|Premier League|Champions League|Fifa18|Hazard Fifa 18|David Luiz Fifa 18|Christensen Fifa 18|Chelsea Fifa 18|Pack Opening|Fifa Pack Opening|Fifa 18 Pack Opening|Fifa 18 official Ratings']"
            ]
          },
          "metadata": {
            "tags": []
          },
          "execution_count": 36
        }
      ]
    },
    {
      "cell_type": "code",
      "metadata": {
        "id": "-xSV3GG8c3ry",
        "colab_type": "code",
        "colab": {}
      },
      "source": [
        "def split1(x):\n",
        "  return (x.split(\"|\"))\n",
        "\n",
        "tags_rdd=tags_rmv_col.map(split1)"
      ],
      "execution_count": 0,
      "outputs": []
    },
    {
      "cell_type": "code",
      "metadata": {
        "id": "qyMe4c3bdbBY",
        "colab_type": "code",
        "colab": {}
      },
      "source": [
        ""
      ],
      "execution_count": 0,
      "outputs": []
    },
    {
      "cell_type": "code",
      "metadata": {
        "id": "B_fBqIgCUQTN",
        "colab_type": "code",
        "colab": {}
      },
      "source": [
        "from pyspark.sql import Row\n",
        "from pyspark.sql.functions import monotonically_increasing_id\n",
        "\n",
        "row_title = Row(\"LemmetizeTitle\") # Or some other column name\n",
        "Title_DF = Vid_sentTokenizeRDD.map(row_title).toDF()\n",
        "Title_DF = Title_DF.select(\"*\").withColumn(\"id\", monotonically_increasing_id())\n",
        "\n",
        "row_tags=Row(\"Tokenized_Tags\")\n",
        "Tags_DF=tags_rdd.map(row_tags).toDF()\n",
        "Tags_DF = Tags_DF.select(\"*\").withColumn(\"id\", monotonically_increasing_id())"
      ],
      "execution_count": 0,
      "outputs": []
    },
    {
      "cell_type": "code",
      "metadata": {
        "id": "-K_vana-Ovv6",
        "colab_type": "code",
        "outputId": "be0bdb21-1ea3-42f1-f5ce-79320b28d2c6",
        "colab": {
          "base_uri": "https://localhost:8080/",
          "height": 202
        }
      },
      "source": [
        "Title_DF.show(5)"
      ],
      "execution_count": 39,
      "outputs": [
        {
          "output_type": "stream",
          "text": [
            "+--------------------+---+\n",
            "|      LemmetizeTitle| id|\n",
            "+--------------------+---+\n",
            "|holly phillip mee...|  0|\n",
            "|     dna test result|  1|\n",
            "|get conversation ...|  2|\n",
            "|      baby challenge|  3|\n",
            "|reveal fifa stat ...|  4|\n",
            "+--------------------+---+\n",
            "only showing top 5 rows\n",
            "\n"
          ],
          "name": "stdout"
        }
      ]
    },
    {
      "cell_type": "code",
      "metadata": {
        "id": "GJMK8oUla5ri",
        "colab_type": "code",
        "outputId": "e16e6b4f-eb26-440a-c3b9-86db905c30b1",
        "colab": {
          "base_uri": "https://localhost:8080/",
          "height": 202
        }
      },
      "source": [
        "Tags_DF.show(5)"
      ],
      "execution_count": 40,
      "outputs": [
        {
          "output_type": "stream",
          "text": [
            "+--------------------+---+\n",
            "|      Tokenized_Tags| id|\n",
            "+--------------------+---+\n",
            "|[this morning, in...|  0|\n",
            "|[emmablackery, em...|  1|\n",
            "|[skit, korean, la...|  2|\n",
            "|[sprinkleofglitte...|  3|\n",
            "|[Rio Ferdinand, R...|  4|\n",
            "+--------------------+---+\n",
            "only showing top 5 rows\n",
            "\n"
          ],
          "name": "stdout"
        }
      ]
    },
    {
      "cell_type": "code",
      "metadata": {
        "id": "zpcvH3jl7g_q",
        "colab_type": "code",
        "colab": {}
      },
      "source": [
        ""
      ],
      "execution_count": 0,
      "outputs": []
    },
    {
      "cell_type": "code",
      "metadata": {
        "id": "WTi3c3nG--QD",
        "colab_type": "code",
        "outputId": "335eeb13-aaab-4ab8-856d-000eb6f98d39",
        "colab": {
          "base_uri": "https://localhost:8080/",
          "height": 34
        }
      },
      "source": [
        "Tags_DF[['Tokenized_Tags']]"
      ],
      "execution_count": 41,
      "outputs": [
        {
          "output_type": "execute_result",
          "data": {
            "text/plain": [
              "DataFrame[Tokenized_Tags: array<string>]"
            ]
          },
          "metadata": {
            "tags": []
          },
          "execution_count": 41
        }
      ]
    },
    {
      "cell_type": "code",
      "metadata": {
        "id": "_J7doODDhdHK",
        "colab_type": "code",
        "colab": {}
      },
      "source": [
        "videos_DF = Title_DF.join(Tags_DF, on=['id'], how='left_outer')"
      ],
      "execution_count": 0,
      "outputs": []
    },
    {
      "cell_type": "code",
      "metadata": {
        "id": "XUVT8qqFfiwK",
        "colab_type": "code",
        "outputId": "cc8ceb5c-ef22-4cf5-9309-ebf5ee21dc89",
        "colab": {
          "base_uri": "https://localhost:8080/",
          "height": 202
        }
      },
      "source": [
        "videos_DF.show(5)"
      ],
      "execution_count": 43,
      "outputs": [
        {
          "output_type": "stream",
          "text": [
            "+----+--------------------+--------------------+\n",
            "|  id|      LemmetizeTitle|      Tokenized_Tags|\n",
            "+----+--------------------+--------------------+\n",
            "|  26|testing soph x ma...|[grey hair, sophd...|\n",
            "|  29|move vlog pink ho...|[moving vlog, ike...|\n",
            "| 474|doom wolfenstein ...|[PC, IGN, PS4, Do...|\n",
            "| 964|lloyd new lego ni...|[Google, YouTube,...|\n",
            "|1677|project car ceo q...|[Project Cars 2 G...|\n",
            "+----+--------------------+--------------------+\n",
            "only showing top 5 rows\n",
            "\n"
          ],
          "name": "stdout"
        }
      ]
    },
    {
      "cell_type": "code",
      "metadata": {
        "id": "gDBdc5tXfuIO",
        "colab_type": "code",
        "outputId": "ff9209b9-02ce-48f6-de7d-d797c7d061a7",
        "colab": {
          "base_uri": "https://localhost:8080/",
          "height": 34
        }
      },
      "source": [
        "videos_DF.count()"
      ],
      "execution_count": 44,
      "outputs": [
        {
          "output_type": "execute_result",
          "data": {
            "text/plain": [
              "15989"
            ]
          },
          "metadata": {
            "tags": []
          },
          "execution_count": 44
        }
      ]
    },
    {
      "cell_type": "code",
      "metadata": {
        "id": "Pin7HJqsb-BK",
        "colab_type": "code",
        "outputId": "7523c1a3-842e-4b52-9dc7-c6efda1cb6a4",
        "colab": {
          "base_uri": "https://localhost:8080/",
          "height": 455
        }
      },
      "source": [
        "from pyspark.ml.feature import HashingTF, IDF, Tokenizer\n",
        "\n",
        "\n",
        "tokenizer = Tokenizer(inputCol=\"LemmetizeTitle\", outputCol=\"words\")\n",
        "wordsData = tokenizer.transform(videos_DF)\n",
        "\n",
        "hashingTF = HashingTF(inputCol=\"words\", outputCol=\"rawFeatures\", numFeatures=5)\n",
        "featurizedData = hashingTF.transform(wordsData)\n",
        "\n",
        "idf = IDF(inputCol=\"rawFeatures\", outputCol=\"features\")\n",
        "idfModel = idf.fit(featurizedData)\n",
        "rescaledData = idfModel.transform(featurizedData)\n",
        "\n",
        "rescaledData.select(\"id\", \"features\").show()"
      ],
      "execution_count": 45,
      "outputs": [
        {
          "output_type": "stream",
          "text": [
            "+----+--------------------+\n",
            "|  id|            features|\n",
            "+----+--------------------+\n",
            "|  26|(5,[0,1,2,3,4],[0...|\n",
            "|  29|(5,[0,1,2,4],[0.3...|\n",
            "| 474|(5,[0,1,2,3],[0.7...|\n",
            "| 964|(5,[0,1,4],[1.419...|\n",
            "|1677|(5,[0,1,2,3,4],[0...|\n",
            "|1697|(5,[0,1,2,4],[0.3...|\n",
            "|1806|(5,[1,2,3,4],[0.3...|\n",
            "|1950|(5,[1,3,4],[0.750...|\n",
            "|2040|(5,[0,1],[1.06440...|\n",
            "|2214|(5,[3,4],[0.45814...|\n",
            "|2250|(5,[0,1,4],[0.354...|\n",
            "|2453|(5,[0,2,3],[0.354...|\n",
            "|2509|(5,[1,3,4],[1.126...|\n",
            "|2529|(5,[0,2,4],[2.128...|\n",
            "|2927|(5,[0,1,3],[0.354...|\n",
            "|3091|(5,[0,1,2,3,4],[0...|\n",
            "|3506|(5,[0,1,2,3,4],[1...|\n",
            "|3764|(5,[0,4],[0.70960...|\n",
            "|4590|(5,[0,1,4],[0.709...|\n",
            "|4823|(5,[0,3,4],[0.354...|\n",
            "+----+--------------------+\n",
            "only showing top 20 rows\n",
            "\n"
          ],
          "name": "stdout"
        }
      ]
    },
    {
      "cell_type": "code",
      "metadata": {
        "id": "Fc6rgEUHh1os",
        "colab_type": "code",
        "outputId": "d1a5bc73-ab6c-4c50-b8c5-70b3f4914970",
        "colab": {
          "base_uri": "https://localhost:8080/",
          "height": 303
        }
      },
      "source": [
        "rescaledData.select(\"id\", \"features\").show(n=5, truncate=False, vertical=True)"
      ],
      "execution_count": 46,
      "outputs": [
        {
          "output_type": "stream",
          "text": [
            "-RECORD 0------------------------------------------------------------------------------------------------------------------------\n",
            " id       | 26                                                                                                                   \n",
            " features | (5,[0,1,2,3,4],[0.35480052914438215,0.37534179192543426,0.48835740044961995,1.3744254057774885,0.40377797676786836]) \n",
            "-RECORD 1------------------------------------------------------------------------------------------------------------------------\n",
            " id       | 29                                                                                                                   \n",
            " features | (5,[0,1,2,4],[0.35480052914438215,1.1260253757763028,0.48835740044961995,1.211333930303605])                         \n",
            "-RECORD 2------------------------------------------------------------------------------------------------------------------------\n",
            " id       | 474                                                                                                                  \n",
            " features | (5,[0,1,2,3],[0.7096010582887643,0.37534179192543426,0.48835740044961995,0.45814180192582954])                       \n",
            "-RECORD 3------------------------------------------------------------------------------------------------------------------------\n",
            " id       | 964                                                                                                                  \n",
            " features | (5,[0,1,4],[1.4192021165775286,1.1260253757763028,0.8075559535357367])                                               \n",
            "-RECORD 4------------------------------------------------------------------------------------------------------------------------\n",
            " id       | 1677                                                                                                                 \n",
            " features | (5,[0,1,2,3,4],[0.35480052914438215,1.501367167701737,0.48835740044961995,1.8325672077033182,0.40377797676786836])   \n",
            "only showing top 5 rows\n",
            "\n"
          ],
          "name": "stdout"
        }
      ]
    },
    {
      "cell_type": "code",
      "metadata": {
        "id": "2h9oJSUjprqH",
        "colab_type": "code",
        "colab": {}
      },
      "source": [
        "trainSDF,validationSDF,TestSDF=rescaledData.select(\"id\",\"Tokenized_tags\").randomSplit([0.75, 0.2, 0.05])"
      ],
      "execution_count": 0,
      "outputs": []
    },
    {
      "cell_type": "code",
      "metadata": {
        "id": "jtZWhYO4pr6M",
        "colab_type": "code",
        "outputId": "0b35069b-19cf-4a53-adf3-ad3426b3637c",
        "colab": {
          "base_uri": "https://localhost:8080/",
          "height": 202
        }
      },
      "source": [
        "trainSDF.show(5)"
      ],
      "execution_count": 48,
      "outputs": [
        {
          "output_type": "stream",
          "text": [
            "+----+--------------------+\n",
            "|  id|      Tokenized_tags|\n",
            "+----+--------------------+\n",
            "|  26|[grey hair, sophd...|\n",
            "| 474|[PC, IGN, PS4, Do...|\n",
            "|1677|[Project Cars 2 G...|\n",
            "|1806|[wwe, world wrest...|\n",
            "|1950|[Norm macdonald, ...|\n",
            "+----+--------------------+\n",
            "only showing top 5 rows\n",
            "\n"
          ],
          "name": "stdout"
        }
      ]
    },
    {
      "cell_type": "code",
      "metadata": {
        "id": "8gahxHoTp-kh",
        "colab_type": "code",
        "outputId": "6a8d4a7e-f20b-40bb-ba5e-7c702cffc76a",
        "colab": {
          "base_uri": "https://localhost:8080/",
          "height": 202
        }
      },
      "source": [
        "validationSDF.show(5)"
      ],
      "execution_count": 49,
      "outputs": [
        {
          "output_type": "stream",
          "text": [
            "+----+--------------------+\n",
            "|  id|      Tokenized_tags|\n",
            "+----+--------------------+\n",
            "| 964|[Google, YouTube,...|\n",
            "|1697|[Shakira ft. Nick...|\n",
            "|4894|[Linkin Park, One...|\n",
            "|7279|[carlibel55, carl...|\n",
            "|7747|[MinuteEarth, Min...|\n",
            "+----+--------------------+\n",
            "only showing top 5 rows\n",
            "\n"
          ],
          "name": "stdout"
        }
      ]
    },
    {
      "cell_type": "code",
      "metadata": {
        "id": "eeVrgdOIi2Q9",
        "colab_type": "code",
        "outputId": "4a37e5b1-9968-4f77-e1e8-711b1129b4bd",
        "colab": {
          "base_uri": "https://localhost:8080/",
          "height": 455
        }
      },
      "source": [
        "from pyspark.ml import Pipeline\n",
        "from pyspark.ml.feature import HashingTF, MinHashLSH\n",
        "import pyspark.sql.functions as f\n",
        "\n",
        "model = Pipeline(stages=[\n",
        "        HashingTF(inputCol=\"Tokenized_tags\", outputCol=\"vectors\"),\n",
        "        MinHashLSH(inputCol=\"vectors\", outputCol=\"lsh\", numHashTables=10)\n",
        "    ]).fit(TestSDF)\n",
        "\n",
        "db_hashed = model.transform(TestSDF)\n",
        "\n",
        "db_matches = model.stages[-1].approxSimilarityJoin(db_hashed, db_hashed, 0.9)\n",
        "\n",
        "#show all matches (including duplicates)\n",
        "db_matches.select(f.col('datasetA.id').alias('video_id_A'),\n",
        "                 f.col('datasetB.id').alias('video_id_B'),\n",
        "                 f.col('distCol')).show()\n"
      ],
      "execution_count": 51,
      "outputs": [
        {
          "output_type": "stream",
          "text": [
            "+----------+----------+------------------+\n",
            "|video_id_A|video_id_B|           distCol|\n",
            "+----------+----------+------------------+\n",
            "|8589941814|8589939951|0.8571428571428572|\n",
            "|      5400|8589939314|               0.0|\n",
            "|8589939959|      2471|               0.0|\n",
            "|8589938407|      5176|               0.0|\n",
            "|8589940332|8589936344|               0.0|\n",
            "|      6691|      1465|               0.0|\n",
            "|      6691|      7322|               0.0|\n",
            "|      2376|      4506|               0.0|\n",
            "|      1465|      7456|               0.0|\n",
            "|      1465|8589935934|               0.0|\n",
            "|      2471|8589941945|               0.0|\n",
            "|      7456|      2376|               0.0|\n",
            "|      4669|8589941665|               0.0|\n",
            "|8589935934|      7322|               0.0|\n",
            "|8589938941|8589938562|               0.0|\n",
            "|8589938941|      2376|               0.0|\n",
            "|8589936344|8589940332|               0.0|\n",
            "|      6929|8589938562|               0.0|\n",
            "|       717|      4936|               0.0|\n",
            "|8589937932|8589940332|               0.0|\n",
            "+----------+----------+------------------+\n",
            "only showing top 20 rows\n",
            "\n"
          ],
          "name": "stdout"
        }
      ]
    },
    {
      "cell_type": "code",
      "metadata": {
        "id": "CYJVfIg6b5aG",
        "colab_type": "code",
        "outputId": "124dbdec-0641-43be-bed5-e4f44606e4b4",
        "colab": {
          "base_uri": "https://localhost:8080/",
          "height": 455
        }
      },
      "source": [
        "from pyspark.sql.functions import col\n",
        "#show non-duplicate matches\n",
        "ans=db_matches.select(f.col('datasetA.id').alias('video_id_A'),\n",
        "                 f.col('datasetB.id').alias('video_id_B'),\n",
        "                 f.col('distCol')).filter('video_id_A < video_id_B')\n",
        "\n",
        "ans=ans.sort(col(\"distCol\").desc())\n",
        "ans.show()"
      ],
      "execution_count": 52,
      "outputs": [
        {
          "output_type": "stream",
          "text": [
            "+----------+----------+------------------+\n",
            "|video_id_A|video_id_B|           distCol|\n",
            "+----------+----------+------------------+\n",
            "|8589936937|8589937690|0.8979591836734694|\n",
            "|      4843|8589942495|0.8979591836734694|\n",
            "|       110|8589935872|0.8974358974358975|\n",
            "|       677|      5857|0.8974358974358975|\n",
            "|      2844|      3213|0.8974358974358975|\n",
            "|      2844|8589939557|0.8974358974358975|\n",
            "|8589938872|8589940023| 0.896551724137931|\n",
            "|8589936156|8589936271|0.8947368421052632|\n",
            "|      1529|8589934899|0.8947368421052632|\n",
            "|8589935447|8589936271|0.8947368421052632|\n",
            "|      2087|8589939420|0.8947368421052632|\n",
            "|       641|8589941634|0.8947368421052632|\n",
            "|      1763|8589934899|0.8947368421052632|\n",
            "|      1763|8589935151|0.8947368421052632|\n",
            "|      4646|      6789|0.8947368421052632|\n",
            "|       641|8589941193|0.8947368421052632|\n",
            "|      7164|      7864|0.8947368421052632|\n",
            "|8589936271|8589936870|0.8947368421052632|\n",
            "|      1529|8589935151|0.8947368421052632|\n",
            "|      1611|8589939420|0.8947368421052632|\n",
            "+----------+----------+------------------+\n",
            "only showing top 20 rows\n",
            "\n"
          ],
          "name": "stdout"
        }
      ]
    },
    {
      "cell_type": "code",
      "metadata": {
        "id": "6TPH4F5ii2OU",
        "colab_type": "code",
        "colab": {}
      },
      "source": [
        "# ans.select('*').where(col('video_id_A')==\"6942\").show()"
      ],
      "execution_count": 0,
      "outputs": []
    },
    {
      "cell_type": "code",
      "metadata": {
        "id": "0mQlTRy59waS",
        "colab_type": "code",
        "colab": {}
      },
      "source": [
        "ans=ans.filter(ans.distCol>=0.5)"
      ],
      "execution_count": 0,
      "outputs": []
    },
    {
      "cell_type": "code",
      "metadata": {
        "id": "AQPTiPkLFSHn",
        "colab_type": "code",
        "colab": {}
      },
      "source": [
        "ans = ans.sort(col(\"video_id_A\").desc())"
      ],
      "execution_count": 0,
      "outputs": []
    },
    {
      "cell_type": "code",
      "metadata": {
        "id": "thrPiZn3EiTA",
        "colab_type": "code",
        "outputId": "0833a220-62ab-46d3-f151-785aeb27a566",
        "colab": {
          "base_uri": "https://localhost:8080/",
          "height": 455
        }
      },
      "source": [
        "ans.show()"
      ],
      "execution_count": 58,
      "outputs": [
        {
          "output_type": "stream",
          "text": [
            "+----------+----------+------------------+\n",
            "|video_id_A|video_id_B|           distCol|\n",
            "+----------+----------+------------------+\n",
            "|8589941403|8589942076|0.7571428571428571|\n",
            "|8589941125|8589942018|0.7941176470588236|\n",
            "|8589940400|8589942487|0.6764705882352942|\n",
            "|8589940400|8589942015|0.6764705882352942|\n",
            "|8589940208|8589941403|0.5428571428571429|\n",
            "|8589940208|8589942076|0.7638888888888888|\n",
            "|8589940010|8589941814|0.8888888888888888|\n",
            "|8589939951|8589940010|0.8888888888888888|\n",
            "|8589939951|8589941814|0.8571428571428572|\n",
            "|8589939856|8589940503|0.8688524590163934|\n",
            "|8589939794|8589940749|               0.8|\n",
            "|8589939350|8589942101|0.6470588235294117|\n",
            "|8589939282|8589942115|0.8571428571428572|\n",
            "|8589939193|8589941810|0.6842105263157895|\n",
            "|8589939193|8589942515|0.6842105263157895|\n",
            "|8589939193|8589941688|             0.675|\n",
            "|8589939173|8589941311|0.8571428571428572|\n",
            "|8589939019|8589939128|0.6666666666666667|\n",
            "|8589939011|8589940400|0.8823529411764706|\n",
            "|8589939011|8589942015|             0.875|\n",
            "+----------+----------+------------------+\n",
            "only showing top 20 rows\n",
            "\n"
          ],
          "name": "stdout"
        }
      ]
    },
    {
      "cell_type": "code",
      "metadata": {
        "id": "dZbKWihcHYk2",
        "colab_type": "code",
        "colab": {}
      },
      "source": [
        ""
      ],
      "execution_count": 0,
      "outputs": []
    },
    {
      "cell_type": "markdown",
      "metadata": {
        "id": "_BLkGYRNHZHs",
        "colab_type": "text"
      },
      "source": [
        "# STOP"
      ]
    },
    {
      "cell_type": "code",
      "metadata": {
        "id": "Bddv6FGbti2t",
        "colab_type": "code",
        "colab": {
          "base_uri": "https://localhost:8080/",
          "height": 34
        },
        "outputId": "5ce0bafb-657e-421d-85ef-943ffe7e5515"
      },
      "source": [
        "comments.head()"
      ],
      "execution_count": 76,
      "outputs": [
        {
          "output_type": "execute_result",
          "data": {
            "text/plain": [
              "Row(video_id='jt2OHQh0HoQ', comment_text=\"It's more accurate to call it the M+ (1000) because the price is closer than calling it the X (10).\", likes='0', replies='0')"
            ]
          },
          "metadata": {
            "tags": []
          },
          "execution_count": 76
        }
      ]
    },
    {
      "cell_type": "code",
      "metadata": {
        "id": "AJmTZPDCqFBX",
        "colab_type": "code",
        "colab": {}
      },
      "source": [
        "counts=comments.select(\"video_id\").toPandas()['video_id'].value_counts()"
      ],
      "execution_count": 0,
      "outputs": []
    },
    {
      "cell_type": "code",
      "metadata": {
        "id": "xHCtjRnYvUyX",
        "colab_type": "code",
        "colab": {}
      },
      "source": [
        "import pandas as pd"
      ],
      "execution_count": 0,
      "outputs": []
    },
    {
      "cell_type": "code",
      "metadata": {
        "id": "etdOVboNvUkO",
        "colab_type": "code",
        "colab": {}
      },
      "source": [
        "import matplotlib.pyplot as plt\n",
        "import seaborn as sns\n",
        "%matplotlib inline"
      ],
      "execution_count": 0,
      "outputs": []
    },
    {
      "cell_type": "code",
      "metadata": {
        "id": "zof3fEDQuq7r",
        "colab_type": "code",
        "colab": {
          "base_uri": "https://localhost:8080/",
          "height": 118
        },
        "outputId": "08944437-bc8d-4512-8dee-751d05054e78"
      },
      "source": [
        "counts.head()"
      ],
      "execution_count": 157,
      "outputs": [
        {
          "output_type": "execute_result",
          "data": {
            "text/plain": [
              "LunHybOKIjU    2000\n",
              "CYoRmfI0LUc    1700\n",
              "sjlHnJvXdQs    1700\n",
              "t8sgy0faXyg    1700\n",
              "Q0CbN8sfihY    1699\n",
              "Name: video_id, dtype: int64"
            ]
          },
          "metadata": {
            "tags": []
          },
          "execution_count": 157
        }
      ]
    },
    {
      "cell_type": "code",
      "metadata": {
        "id": "Ps-0_XtC62t-",
        "colab_type": "code",
        "colab": {}
      },
      "source": [
        "counts1=counts.values.reshape(-1,1)"
      ],
      "execution_count": 0,
      "outputs": []
    },
    {
      "cell_type": "code",
      "metadata": {
        "id": "_iYasJL462p-",
        "colab_type": "code",
        "colab": {}
      },
      "source": [
        "import pandas as pd\n",
        "from sklearn.preprocessing import MinMaxScaler\n",
        "scaler = MinMaxScaler()\n",
        "\n",
        "counts2 = scaler.fit_transform(counts1)"
      ],
      "execution_count": 0,
      "outputs": []
    },
    {
      "cell_type": "code",
      "metadata": {
        "id": "n-r7uIXj9MF1",
        "colab_type": "code",
        "colab": {}
      },
      "source": [
        "temp=[]\n",
        "for i in counts2:\n",
        "  temp.extend(i)"
      ],
      "execution_count": 0,
      "outputs": []
    },
    {
      "cell_type": "code",
      "metadata": {
        "id": "7sVqQJCv62mG",
        "colab_type": "code",
        "colab": {
          "base_uri": "https://localhost:8080/",
          "height": 34
        },
        "outputId": "805c7e65-889a-44c4-a2ec-40941cf9eb54"
      },
      "source": [
        "type(counts)"
      ],
      "execution_count": 163,
      "outputs": [
        {
          "output_type": "execute_result",
          "data": {
            "text/plain": [
              "pandas.core.series.Series"
            ]
          },
          "metadata": {
            "tags": []
          },
          "execution_count": 163
        }
      ]
    },
    {
      "cell_type": "code",
      "metadata": {
        "id": "pszZMMgn62iS",
        "colab_type": "code",
        "colab": {}
      },
      "source": [
        "df=pd.DataFrame(counts.index,pd.Series(temp),columns=['x'])"
      ],
      "execution_count": 0,
      "outputs": []
    },
    {
      "cell_type": "code",
      "metadata": {
        "id": "bG6wI0al62el",
        "colab_type": "code",
        "colab": {
          "base_uri": "https://localhost:8080/",
          "height": 269
        },
        "outputId": "0fbfdb9d-f89e-4750-eb9b-767b62265478"
      },
      "source": [
        "plt.bar(df['x'],list(df.index))\n",
        "\n",
        "plt.show()"
      ],
      "execution_count": 172,
      "outputs": [
        {
          "output_type": "display_data",
          "data": {
            "image/png": "[encoded data removed]",
            "text/plain": [
              "<Figure size 432x288 with 1 Axes>"
            ]
          },
          "metadata": {
            "tags": []
          }
        }
      ]
    },
    {
      "cell_type": "code",
      "metadata": {
        "id": "PXtZAHQYBGFu",
        "colab_type": "code",
        "colab": {
          "base_uri": "https://localhost:8080/",
          "height": 269
        },
        "outputId": "197017bd-ca9e-4b85-a164-a7998c91d837"
      },
      "source": [
        "plt.bar(counts.index,counts)\n",
        "plt.plot(color='blue')\n",
        "plt.show()"
      ],
      "execution_count": 179,
      "outputs": [
        {
          "output_type": "display_data",
          "data": {
            "image/png": "[encoded data removed]",
            "text/plain": [
              "<Figure size 432x288 with 1 Axes>"
            ]
          },
          "metadata": {
            "tags": []
          }
        }
      ]
    },
    {
      "cell_type": "code",
      "metadata": {
        "id": "cWvomZx_62an",
        "colab_type": "code",
        "colab": {}
      },
      "source": [
        "df=pd.DataFrame(['1','2','3','4'],['a','b','c','d'])"
      ],
      "execution_count": 0,
      "outputs": []
    },
    {
      "cell_type": "code",
      "metadata": {
        "id": "iBxwBiSV62V-",
        "colab_type": "code",
        "colab": {
          "base_uri": "https://localhost:8080/",
          "height": 577
        },
        "outputId": "5176490d-f2b6-4c54-f513-943ae14612f4"
      },
      "source": [
        "plt.bar(df,df.index)\n",
        "plt.show()"
      ],
      "execution_count": 176,
      "outputs": [
        {
          "output_type": "error",
          "ename": "TypeError",
          "evalue": "ignored",
          "traceback": [
            "\u001b[0;31m---------------------------------------------------------------------------\u001b[0m",
            "\u001b[0;31mTypeError\u001b[0m                                 Traceback (most recent call last)",
            "\u001b[0;32m<ipython-input-176-2174377cf469>\u001b[0m in \u001b[0;36m<module>\u001b[0;34m()\u001b[0m\n\u001b[0;32m----> 1\u001b[0;31m \u001b[0mplt\u001b[0m\u001b[0;34m.\u001b[0m\u001b[0mbar\u001b[0m\u001b[0;34m(\u001b[0m\u001b[0mdf\u001b[0m\u001b[0;34m,\u001b[0m\u001b[0mdf\u001b[0m\u001b[0;34m.\u001b[0m\u001b[0mindex\u001b[0m\u001b[0;34m)\u001b[0m\u001b[0;34m\u001b[0m\u001b[0;34m\u001b[0m\u001b[0m\n\u001b[0m\u001b[1;32m      2\u001b[0m \u001b[0mplt\u001b[0m\u001b[0;34m.\u001b[0m\u001b[0mshow\u001b[0m\u001b[0;34m(\u001b[0m\u001b[0;34m)\u001b[0m\u001b[0;34m\u001b[0m\u001b[0;34m\u001b[0m\u001b[0m\n",
            "\u001b[0;32m/usr/local/lib/python3.6/dist-packages/matplotlib/pyplot.py\u001b[0m in \u001b[0;36mbar\u001b[0;34m(x, height, width, bottom, align, data, **kwargs)\u001b[0m\n\u001b[1;32m   2439\u001b[0m     return gca().bar(\n\u001b[1;32m   2440\u001b[0m         \u001b[0mx\u001b[0m\u001b[0;34m,\u001b[0m \u001b[0mheight\u001b[0m\u001b[0;34m,\u001b[0m \u001b[0mwidth\u001b[0m\u001b[0;34m=\u001b[0m\u001b[0mwidth\u001b[0m\u001b[0;34m,\u001b[0m \u001b[0mbottom\u001b[0m\u001b[0;34m=\u001b[0m\u001b[0mbottom\u001b[0m\u001b[0;34m,\u001b[0m \u001b[0malign\u001b[0m\u001b[0;34m=\u001b[0m\u001b[0malign\u001b[0m\u001b[0;34m,\u001b[0m\u001b[0;34m\u001b[0m\u001b[0;34m\u001b[0m\u001b[0m\n\u001b[0;32m-> 2441\u001b[0;31m         **({\"data\": data} if data is not None else {}), **kwargs)\n\u001b[0m\u001b[1;32m   2442\u001b[0m \u001b[0;34m\u001b[0m\u001b[0m\n\u001b[1;32m   2443\u001b[0m \u001b[0;34m\u001b[0m\u001b[0m\n",
            "\u001b[0;32m/usr/local/lib/python3.6/dist-packages/matplotlib/__init__.py\u001b[0m in \u001b[0;36minner\u001b[0;34m(ax, data, *args, **kwargs)\u001b[0m\n\u001b[1;32m   1597\u001b[0m     \u001b[0;32mdef\u001b[0m \u001b[0minner\u001b[0m\u001b[0;34m(\u001b[0m\u001b[0max\u001b[0m\u001b[0;34m,\u001b[0m \u001b[0;34m*\u001b[0m\u001b[0margs\u001b[0m\u001b[0;34m,\u001b[0m \u001b[0mdata\u001b[0m\u001b[0;34m=\u001b[0m\u001b[0;32mNone\u001b[0m\u001b[0;34m,\u001b[0m \u001b[0;34m**\u001b[0m\u001b[0mkwargs\u001b[0m\u001b[0;34m)\u001b[0m\u001b[0;34m:\u001b[0m\u001b[0;34m\u001b[0m\u001b[0;34m\u001b[0m\u001b[0m\n\u001b[1;32m   1598\u001b[0m         \u001b[0;32mif\u001b[0m \u001b[0mdata\u001b[0m \u001b[0;32mis\u001b[0m \u001b[0;32mNone\u001b[0m\u001b[0;34m:\u001b[0m\u001b[0;34m\u001b[0m\u001b[0;34m\u001b[0m\u001b[0m\n\u001b[0;32m-> 1599\u001b[0;31m             \u001b[0;32mreturn\u001b[0m \u001b[0mfunc\u001b[0m\u001b[0;34m(\u001b[0m\u001b[0max\u001b[0m\u001b[0;34m,\u001b[0m \u001b[0;34m*\u001b[0m\u001b[0mmap\u001b[0m\u001b[0;34m(\u001b[0m\u001b[0msanitize_sequence\u001b[0m\u001b[0;34m,\u001b[0m \u001b[0margs\u001b[0m\u001b[0;34m)\u001b[0m\u001b[0;34m,\u001b[0m \u001b[0;34m**\u001b[0m\u001b[0mkwargs\u001b[0m\u001b[0;34m)\u001b[0m\u001b[0;34m\u001b[0m\u001b[0;34m\u001b[0m\u001b[0m\n\u001b[0m\u001b[1;32m   1600\u001b[0m \u001b[0;34m\u001b[0m\u001b[0m\n\u001b[1;32m   1601\u001b[0m         \u001b[0mbound\u001b[0m \u001b[0;34m=\u001b[0m \u001b[0mnew_sig\u001b[0m\u001b[0;34m.\u001b[0m\u001b[0mbind\u001b[0m\u001b[0;34m(\u001b[0m\u001b[0max\u001b[0m\u001b[0;34m,\u001b[0m \u001b[0;34m*\u001b[0m\u001b[0margs\u001b[0m\u001b[0;34m,\u001b[0m \u001b[0;34m**\u001b[0m\u001b[0mkwargs\u001b[0m\u001b[0;34m)\u001b[0m\u001b[0;34m\u001b[0m\u001b[0;34m\u001b[0m\u001b[0m\n",
            "\u001b[0;32m/usr/local/lib/python3.6/dist-packages/matplotlib/axes/_axes.py\u001b[0m in \u001b[0;36mbar\u001b[0;34m(self, x, height, width, bottom, align, **kwargs)\u001b[0m\n\u001b[1;32m   2345\u001b[0m \u001b[0;34m\u001b[0m\u001b[0m\n\u001b[1;32m   2346\u001b[0m         \u001b[0;32mif\u001b[0m \u001b[0morientation\u001b[0m \u001b[0;34m==\u001b[0m \u001b[0;34m'vertical'\u001b[0m\u001b[0;34m:\u001b[0m\u001b[0;34m\u001b[0m\u001b[0;34m\u001b[0m\u001b[0m\n\u001b[0;32m-> 2347\u001b[0;31m             \u001b[0mself\u001b[0m\u001b[0;34m.\u001b[0m\u001b[0m_process_unit_info\u001b[0m\u001b[0;34m(\u001b[0m\u001b[0mxdata\u001b[0m\u001b[0;34m=\u001b[0m\u001b[0mx\u001b[0m\u001b[0;34m,\u001b[0m \u001b[0mydata\u001b[0m\u001b[0;34m=\u001b[0m\u001b[0mheight\u001b[0m\u001b[0;34m,\u001b[0m \u001b[0mkwargs\u001b[0m\u001b[0;34m=\u001b[0m\u001b[0mkwargs\u001b[0m\u001b[0;34m)\u001b[0m\u001b[0;34m\u001b[0m\u001b[0;34m\u001b[0m\u001b[0m\n\u001b[0m\u001b[1;32m   2348\u001b[0m             \u001b[0;32mif\u001b[0m \u001b[0mlog\u001b[0m\u001b[0;34m:\u001b[0m\u001b[0;34m\u001b[0m\u001b[0;34m\u001b[0m\u001b[0m\n\u001b[1;32m   2349\u001b[0m                 \u001b[0mself\u001b[0m\u001b[0;34m.\u001b[0m\u001b[0mset_yscale\u001b[0m\u001b[0;34m(\u001b[0m\u001b[0;34m'log'\u001b[0m\u001b[0;34m,\u001b[0m \u001b[0mnonposy\u001b[0m\u001b[0;34m=\u001b[0m\u001b[0;34m'clip'\u001b[0m\u001b[0;34m)\u001b[0m\u001b[0;34m\u001b[0m\u001b[0;34m\u001b[0m\u001b[0m\n",
            "\u001b[0;32m/usr/local/lib/python3.6/dist-packages/matplotlib/axes/_base.py\u001b[0m in \u001b[0;36m_process_unit_info\u001b[0;34m(self, xdata, ydata, kwargs)\u001b[0m\n\u001b[1;32m   2123\u001b[0m             \u001b[0;32mreturn\u001b[0m \u001b[0mkwargs\u001b[0m\u001b[0;34m\u001b[0m\u001b[0;34m\u001b[0m\u001b[0m\n\u001b[1;32m   2124\u001b[0m \u001b[0;34m\u001b[0m\u001b[0m\n\u001b[0;32m-> 2125\u001b[0;31m         \u001b[0mkwargs\u001b[0m \u001b[0;34m=\u001b[0m \u001b[0m_process_single_axis\u001b[0m\u001b[0;34m(\u001b[0m\u001b[0mxdata\u001b[0m\u001b[0;34m,\u001b[0m \u001b[0mself\u001b[0m\u001b[0;34m.\u001b[0m\u001b[0mxaxis\u001b[0m\u001b[0;34m,\u001b[0m \u001b[0;34m'xunits'\u001b[0m\u001b[0;34m,\u001b[0m \u001b[0mkwargs\u001b[0m\u001b[0;34m)\u001b[0m\u001b[0;34m\u001b[0m\u001b[0;34m\u001b[0m\u001b[0m\n\u001b[0m\u001b[1;32m   2126\u001b[0m         \u001b[0mkwargs\u001b[0m \u001b[0;34m=\u001b[0m \u001b[0m_process_single_axis\u001b[0m\u001b[0;34m(\u001b[0m\u001b[0mydata\u001b[0m\u001b[0;34m,\u001b[0m \u001b[0mself\u001b[0m\u001b[0;34m.\u001b[0m\u001b[0myaxis\u001b[0m\u001b[0;34m,\u001b[0m \u001b[0;34m'yunits'\u001b[0m\u001b[0;34m,\u001b[0m \u001b[0mkwargs\u001b[0m\u001b[0;34m)\u001b[0m\u001b[0;34m\u001b[0m\u001b[0;34m\u001b[0m\u001b[0m\n\u001b[1;32m   2127\u001b[0m         \u001b[0;32mreturn\u001b[0m \u001b[0mkwargs\u001b[0m\u001b[0;34m\u001b[0m\u001b[0;34m\u001b[0m\u001b[0m\n",
            "\u001b[0;32m/usr/local/lib/python3.6/dist-packages/matplotlib/axes/_base.py\u001b[0m in \u001b[0;36m_process_single_axis\u001b[0;34m(data, axis, unit_name, kwargs)\u001b[0m\n\u001b[1;32m   2106\u001b[0m                 \u001b[0;31m# We only need to update if there is nothing set yet.\u001b[0m\u001b[0;34m\u001b[0m\u001b[0;34m\u001b[0m\u001b[0;34m\u001b[0m\u001b[0m\n\u001b[1;32m   2107\u001b[0m                 \u001b[0;32mif\u001b[0m \u001b[0;32mnot\u001b[0m \u001b[0maxis\u001b[0m\u001b[0;34m.\u001b[0m\u001b[0mhave_units\u001b[0m\u001b[0;34m(\u001b[0m\u001b[0;34m)\u001b[0m\u001b[0;34m:\u001b[0m\u001b[0;34m\u001b[0m\u001b[0;34m\u001b[0m\u001b[0m\n\u001b[0;32m-> 2108\u001b[0;31m                     \u001b[0maxis\u001b[0m\u001b[0;34m.\u001b[0m\u001b[0mupdate_units\u001b[0m\u001b[0;34m(\u001b[0m\u001b[0mdata\u001b[0m\u001b[0;34m)\u001b[0m\u001b[0;34m\u001b[0m\u001b[0;34m\u001b[0m\u001b[0m\n\u001b[0m\u001b[1;32m   2109\u001b[0m \u001b[0;34m\u001b[0m\u001b[0m\n\u001b[1;32m   2110\u001b[0m             \u001b[0;31m# Check for units in the kwargs, and if present update axis\u001b[0m\u001b[0;34m\u001b[0m\u001b[0;34m\u001b[0m\u001b[0;34m\u001b[0m\u001b[0m\n",
            "\u001b[0;32m/usr/local/lib/python3.6/dist-packages/matplotlib/axis.py\u001b[0m in \u001b[0;36mupdate_units\u001b[0;34m(self, data)\u001b[0m\n\u001b[1;32m   1491\u001b[0m         \u001b[0mneednew\u001b[0m \u001b[0;34m=\u001b[0m \u001b[0mself\u001b[0m\u001b[0;34m.\u001b[0m\u001b[0mconverter\u001b[0m \u001b[0;34m!=\u001b[0m \u001b[0mconverter\u001b[0m\u001b[0;34m\u001b[0m\u001b[0;34m\u001b[0m\u001b[0m\n\u001b[1;32m   1492\u001b[0m         \u001b[0mself\u001b[0m\u001b[0;34m.\u001b[0m\u001b[0mconverter\u001b[0m \u001b[0;34m=\u001b[0m \u001b[0mconverter\u001b[0m\u001b[0;34m\u001b[0m\u001b[0;34m\u001b[0m\u001b[0m\n\u001b[0;32m-> 1493\u001b[0;31m         \u001b[0mdefault\u001b[0m \u001b[0;34m=\u001b[0m \u001b[0mself\u001b[0m\u001b[0;34m.\u001b[0m\u001b[0mconverter\u001b[0m\u001b[0;34m.\u001b[0m\u001b[0mdefault_units\u001b[0m\u001b[0;34m(\u001b[0m\u001b[0mdata\u001b[0m\u001b[0;34m,\u001b[0m \u001b[0mself\u001b[0m\u001b[0;34m)\u001b[0m\u001b[0;34m\u001b[0m\u001b[0;34m\u001b[0m\u001b[0m\n\u001b[0m\u001b[1;32m   1494\u001b[0m         \u001b[0;32mif\u001b[0m \u001b[0mdefault\u001b[0m \u001b[0;32mis\u001b[0m \u001b[0;32mnot\u001b[0m \u001b[0;32mNone\u001b[0m \u001b[0;32mand\u001b[0m \u001b[0mself\u001b[0m\u001b[0;34m.\u001b[0m\u001b[0munits\u001b[0m \u001b[0;32mis\u001b[0m \u001b[0;32mNone\u001b[0m\u001b[0;34m:\u001b[0m\u001b[0;34m\u001b[0m\u001b[0;34m\u001b[0m\u001b[0m\n\u001b[1;32m   1495\u001b[0m             \u001b[0mself\u001b[0m\u001b[0;34m.\u001b[0m\u001b[0mset_units\u001b[0m\u001b[0;34m(\u001b[0m\u001b[0mdefault\u001b[0m\u001b[0;34m)\u001b[0m\u001b[0;34m\u001b[0m\u001b[0;34m\u001b[0m\u001b[0m\n",
            "\u001b[0;32m/usr/local/lib/python3.6/dist-packages/matplotlib/category.py\u001b[0m in \u001b[0;36mdefault_units\u001b[0;34m(data, axis)\u001b[0m\n\u001b[1;32m    113\u001b[0m         \u001b[0;31m# default_units->axis_info->convert\u001b[0m\u001b[0;34m\u001b[0m\u001b[0;34m\u001b[0m\u001b[0;34m\u001b[0m\u001b[0m\n\u001b[1;32m    114\u001b[0m         \u001b[0;32mif\u001b[0m \u001b[0maxis\u001b[0m\u001b[0;34m.\u001b[0m\u001b[0munits\u001b[0m \u001b[0;32mis\u001b[0m \u001b[0;32mNone\u001b[0m\u001b[0;34m:\u001b[0m\u001b[0;34m\u001b[0m\u001b[0;34m\u001b[0m\u001b[0m\n\u001b[0;32m--> 115\u001b[0;31m             \u001b[0maxis\u001b[0m\u001b[0;34m.\u001b[0m\u001b[0mset_units\u001b[0m\u001b[0;34m(\u001b[0m\u001b[0mUnitData\u001b[0m\u001b[0;34m(\u001b[0m\u001b[0mdata\u001b[0m\u001b[0;34m)\u001b[0m\u001b[0;34m)\u001b[0m\u001b[0;34m\u001b[0m\u001b[0;34m\u001b[0m\u001b[0m\n\u001b[0m\u001b[1;32m    116\u001b[0m         \u001b[0;32melse\u001b[0m\u001b[0;34m:\u001b[0m\u001b[0;34m\u001b[0m\u001b[0;34m\u001b[0m\u001b[0m\n\u001b[1;32m    117\u001b[0m             \u001b[0maxis\u001b[0m\u001b[0;34m.\u001b[0m\u001b[0munits\u001b[0m\u001b[0;34m.\u001b[0m\u001b[0mupdate\u001b[0m\u001b[0;34m(\u001b[0m\u001b[0mdata\u001b[0m\u001b[0;34m)\u001b[0m\u001b[0;34m\u001b[0m\u001b[0;34m\u001b[0m\u001b[0m\n",
            "\u001b[0;32m/usr/local/lib/python3.6/dist-packages/matplotlib/category.py\u001b[0m in \u001b[0;36m__init__\u001b[0;34m(self, data)\u001b[0m\n\u001b[1;32m    179\u001b[0m         \u001b[0mself\u001b[0m\u001b[0;34m.\u001b[0m\u001b[0m_counter\u001b[0m \u001b[0;34m=\u001b[0m \u001b[0mitertools\u001b[0m\u001b[0;34m.\u001b[0m\u001b[0mcount\u001b[0m\u001b[0;34m(\u001b[0m\u001b[0;34m)\u001b[0m\u001b[0;34m\u001b[0m\u001b[0;34m\u001b[0m\u001b[0m\n\u001b[1;32m    180\u001b[0m         \u001b[0;32mif\u001b[0m \u001b[0mdata\u001b[0m \u001b[0;32mis\u001b[0m \u001b[0;32mnot\u001b[0m \u001b[0;32mNone\u001b[0m\u001b[0;34m:\u001b[0m\u001b[0;34m\u001b[0m\u001b[0;34m\u001b[0m\u001b[0m\n\u001b[0;32m--> 181\u001b[0;31m             \u001b[0mself\u001b[0m\u001b[0;34m.\u001b[0m\u001b[0mupdate\u001b[0m\u001b[0;34m(\u001b[0m\u001b[0mdata\u001b[0m\u001b[0;34m)\u001b[0m\u001b[0;34m\u001b[0m\u001b[0;34m\u001b[0m\u001b[0m\n\u001b[0m\u001b[1;32m    182\u001b[0m \u001b[0;34m\u001b[0m\u001b[0m\n\u001b[1;32m    183\u001b[0m     \u001b[0;34m@\u001b[0m\u001b[0mstaticmethod\u001b[0m\u001b[0;34m\u001b[0m\u001b[0;34m\u001b[0m\u001b[0m\n",
            "\u001b[0;32m/usr/local/lib/python3.6/dist-packages/matplotlib/category.py\u001b[0m in \u001b[0;36mupdate\u001b[0;34m(self, data)\u001b[0m\n\u001b[1;32m    214\u001b[0m         \u001b[0;31m# check if convertible to number:\u001b[0m\u001b[0;34m\u001b[0m\u001b[0;34m\u001b[0m\u001b[0;34m\u001b[0m\u001b[0m\n\u001b[1;32m    215\u001b[0m         \u001b[0mconvertible\u001b[0m \u001b[0;34m=\u001b[0m \u001b[0;32mTrue\u001b[0m\u001b[0;34m\u001b[0m\u001b[0;34m\u001b[0m\u001b[0m\n\u001b[0;32m--> 216\u001b[0;31m         \u001b[0;32mfor\u001b[0m \u001b[0mval\u001b[0m \u001b[0;32min\u001b[0m \u001b[0mOrderedDict\u001b[0m\u001b[0;34m.\u001b[0m\u001b[0mfromkeys\u001b[0m\u001b[0;34m(\u001b[0m\u001b[0mdata\u001b[0m\u001b[0;34m)\u001b[0m\u001b[0;34m:\u001b[0m\u001b[0;34m\u001b[0m\u001b[0;34m\u001b[0m\u001b[0m\n\u001b[0m\u001b[1;32m    217\u001b[0m             \u001b[0;31m# OrderedDict just iterates over unique values in data.\u001b[0m\u001b[0;34m\u001b[0m\u001b[0;34m\u001b[0m\u001b[0;34m\u001b[0m\u001b[0m\n\u001b[1;32m    218\u001b[0m             \u001b[0;32mif\u001b[0m \u001b[0;32mnot\u001b[0m \u001b[0misinstance\u001b[0m\u001b[0;34m(\u001b[0m\u001b[0mval\u001b[0m\u001b[0;34m,\u001b[0m \u001b[0;34m(\u001b[0m\u001b[0mstr\u001b[0m\u001b[0;34m,\u001b[0m \u001b[0mbytes\u001b[0m\u001b[0;34m)\u001b[0m\u001b[0;34m)\u001b[0m\u001b[0;34m:\u001b[0m\u001b[0;34m\u001b[0m\u001b[0;34m\u001b[0m\u001b[0m\n",
            "\u001b[0;31mTypeError\u001b[0m: unhashable type: 'numpy.ndarray'"
          ]
        },
        {
          "output_type": "display_data",
          "data": {
            "image/png": "[encoded data removed]",
            "text/plain": [
              "<Figure size 432x288 with 1 Axes>"
            ]
          },
          "metadata": {
            "tags": []
          }
        }
      ]
    },
    {
      "cell_type": "code",
      "metadata": {
        "id": "DdQEVmgq62Qw",
        "colab_type": "code",
        "colab": {}
      },
      "source": [
        ""
      ],
      "execution_count": 0,
      "outputs": []
    },
    {
      "cell_type": "code",
      "metadata": {
        "id": "8KyOz_pG62Jn",
        "colab_type": "code",
        "colab": {}
      },
      "source": [
        ""
      ],
      "execution_count": 0,
      "outputs": []
    },
    {
      "cell_type": "code",
      "metadata": {
        "id": "twg_vG_n6y1M",
        "colab_type": "code",
        "colab": {}
      },
      "source": [
        "# tf.cache()\n",
        "# idf = IDF().fit(tf)\n",
        "# tfidf = idf.transform(tf)\n",
        "# from pyspark.ml.feature import Normalizer\n",
        "# normalizer = Normalizer(inputCol=\"feature\", outputCol=\"norm\")\n",
        "# data = normalizer.transform(tfidf)"
      ],
      "execution_count": 0,
      "outputs": []
    },
    {
      "cell_type": "code",
      "metadata": {
        "id": "V7KiLWi35K4z",
        "colab_type": "code",
        "colab": {}
      },
      "source": [
        "# data.show(5)"
      ],
      "execution_count": 0,
      "outputs": []
    },
    {
      "cell_type": "code",
      "metadata": {
        "id": "5AAvbPSjTxc4",
        "colab_type": "code",
        "colab": {}
      },
      "source": [
        "\n",
        "# from pyspark.sql.types import DoubleType"
      ],
      "execution_count": 0,
      "outputs": []
    },
    {
      "cell_type": "code",
      "metadata": {
        "id": "R-BPAgpg6pKz",
        "colab_type": "code",
        "colab": {}
      },
      "source": [
        "# import pyspark.sql.functions as psf\n",
        "# from pyspark.sql.functions import col\n",
        "# dot_udf = psf.udf(lambda x,y: float(x.dot(y)), DoubleType())\n",
        "# result=data.alias(\"i\").join(data.alias(\"j\"), psf.col(\"i.ID\") < psf.col(\"j.ID\"))\n",
        "# result=result.select(\n",
        "#         psf.col(\"i.ID\").alias(\"i\"), \n",
        "#         psf.col(\"j.ID\").alias(\"j\"), \n",
        "#         dot_udf(\"i.norm\", \"j.norm\").alias(\"dot\"))\n",
        "    \n",
        "# # result=result.sort(\"i\", \"j\")\n",
        "\n",
        "# result=result.sort(col(\"dot\").desc())\n",
        "# result.show()"
      ],
      "execution_count": 0,
      "outputs": []
    },
    {
      "cell_type": "code",
      "metadata": {
        "id": "tbfu2VUWu7TC",
        "colab_type": "code",
        "colab": {}
      },
      "source": [
        "\n",
        "# result.sort(col(\"dot\").desc())"
      ],
      "execution_count": 0,
      "outputs": []
    },
    {
      "cell_type": "code",
      "metadata": {
        "id": "I55uxBSmfK8i",
        "colab_type": "code",
        "colab": {}
      },
      "source": [
        "# content based recommender system\n",
        "# steps: \n",
        "# 1) lower case whole dataset\n",
        "# 2) remove stopwords\n",
        "# 3) create bag of words vectors in binary format 1/0\n",
        "# 4) calc cosine sim for all articles and find top 3 closest articles\n",
        "# 5) sort article ids with descen simi and removing same article id\n",
        "# 6) created recommendation column with top 3 article id's"
      ],
      "execution_count": 0,
      "outputs": []
    },
    {
      "cell_type": "code",
      "metadata": {
        "id": "WYDWzAyVrcve",
        "colab_type": "code",
        "colab": {}
      },
      "source": [
        ""
      ],
      "execution_count": 0,
      "outputs": []
    },
    {
      "cell_type": "code",
      "metadata": {
        "id": "ooS4clQAM0Tc",
        "colab_type": "code",
        "colab": {}
      },
      "source": [
        ""
      ],
      "execution_count": 0,
      "outputs": []
    },
    {
      "cell_type": "code",
      "metadata": {
        "id": "idEM-s0sqprn",
        "colab_type": "code",
        "colab": {}
      },
      "source": [
        ""
      ],
      "execution_count": 0,
      "outputs": []
    }
  ]
}