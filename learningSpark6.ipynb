{
  "nbformat": 4,
  "nbformat_minor": 0,
  "metadata": {
    "colab": {
      "name": "learningSpark6.ipynb",
      "provenance": [],
      "collapsed_sections": [],
      "include_colab_link": true
    },
    "kernelspec": {
      "name": "python3",
      "display_name": "Python 3"
    },
    "accelerator": "GPU"
  },
  "cells": [
    {
      "cell_type": "markdown",
      "metadata": {
        "id": "view-in-github",
        "colab_type": "text"
      },
      "source": [
        "<a href=\"https://colab.research.google.com/github/utkarsh599/Recomendation-sysy/blob/Abhijeet/learningSpark6.ipynb\" target=\"_parent\"><img src=\"https://colab.research.google.com/assets/colab-badge.svg\" alt=\"Open In Colab\"/></a>"
      ]
    },
    {
      "cell_type": "code",
      "metadata": {
        "id": "0nMTDp0PAHLt",
        "colab_type": "code",
        "colab": {}
      },
      "source": [
        "!apt-get install openjdk-8-jdk-headless -qq > /dev/null\n",
        "!wget -q http://www-eu.apache.org/dist/spark/spark-2.4.5/spark-2.4.5-bin-hadoop2.7.tgz\n",
        "!tar xf spark-2.4.5-bin-hadoop2.7.tgz\n",
        "!pip install -q findspark\n"
      ],
      "execution_count": 0,
      "outputs": []
    },
    {
      "cell_type": "code",
      "metadata": {
        "id": "al-_jsbocQ5i",
        "colab_type": "code",
        "colab": {}
      },
      "source": [
        "\n",
        "#     http://apache.osuosl.org/spark/\n",
        "#     https://www-us.apache.org/dist/spark/\n"
      ],
      "execution_count": 0,
      "outputs": []
    },
    {
      "cell_type": "code",
      "metadata": {
        "id": "WuSt0MBBBX7Z",
        "colab_type": "code",
        "outputId": "dbe64ccf-755f-40c8-fd8c-664aae2a45b5",
        "colab": {
          "base_uri": "https://localhost:8080/",
          "height": 108
        }
      },
      "source": [
        "!pip install py4j"
      ],
      "execution_count": 2,
      "outputs": [
        {
          "output_type": "stream",
          "text": [
            "Collecting py4j\n",
            "\u001b[?25l  Downloading https://files.pythonhosted.org/packages/9e/b6/6a4fb90cd235dc8e265a6a2067f2a2c99f0d91787f06aca4bcf7c23f3f80/py4j-0.10.9-py2.py3-none-any.whl (198kB)\n",
            "\r\u001b[K     |█▋                              | 10kB 26.4MB/s eta 0:00:01\r\u001b[K     |███▎                            | 20kB 2.1MB/s eta 0:00:01\r\u001b[K     |█████                           | 30kB 2.7MB/s eta 0:00:01\r\u001b[K     |██████▋                         | 40kB 2.0MB/s eta 0:00:01\r\u001b[K     |████████▎                       | 51kB 2.3MB/s eta 0:00:01\r\u001b[K     |██████████                      | 61kB 2.7MB/s eta 0:00:01\r\u001b[K     |███████████▌                    | 71kB 2.9MB/s eta 0:00:01\r\u001b[K     |█████████████▏                  | 81kB 3.1MB/s eta 0:00:01\r\u001b[K     |██████████████▉                 | 92kB 3.4MB/s eta 0:00:01\r\u001b[K     |████████████████▌               | 102kB 3.3MB/s eta 0:00:01\r\u001b[K     |██████████████████▏             | 112kB 3.3MB/s eta 0:00:01\r\u001b[K     |███████████████████▉            | 122kB 3.3MB/s eta 0:00:01\r\u001b[K     |█████████████████████▌          | 133kB 3.3MB/s eta 0:00:01\r\u001b[K     |███████████████████████         | 143kB 3.3MB/s eta 0:00:01\r\u001b[K     |████████████████████████▊       | 153kB 3.3MB/s eta 0:00:01\r\u001b[K     |██████████████████████████▍     | 163kB 3.3MB/s eta 0:00:01\r\u001b[K     |████████████████████████████    | 174kB 3.3MB/s eta 0:00:01\r\u001b[K     |█████████████████████████████▊  | 184kB 3.3MB/s eta 0:00:01\r\u001b[K     |███████████████████████████████▍| 194kB 3.3MB/s eta 0:00:01\r\u001b[K     |████████████████████████████████| 204kB 3.3MB/s \n",
            "\u001b[?25hInstalling collected packages: py4j\n",
            "Successfully installed py4j-0.10.9\n"
          ],
          "name": "stdout"
        }
      ]
    },
    {
      "cell_type": "code",
      "metadata": {
        "id": "qZIB8gx7BZ0v",
        "colab_type": "code",
        "colab": {}
      },
      "source": [
        "import os\n",
        "os.environ[\"JAVA_HOME\"] = \"/usr/lib/jvm/java-8-openjdk-amd64\"\n",
        "os.environ[\"SPARK_HOME\"] = \"/content/spark-2.4.5-bin-hadoop2.7\""
      ],
      "execution_count": 0,
      "outputs": []
    },
    {
      "cell_type": "code",
      "metadata": {
        "id": "WulrfiVdw8hk",
        "colab_type": "code",
        "colab": {}
      },
      "source": [
        ""
      ],
      "execution_count": 0,
      "outputs": []
    },
    {
      "cell_type": "code",
      "metadata": {
        "id": "XzYrFYvIBcOf",
        "colab_type": "code",
        "colab": {}
      },
      "source": [
        "import findspark\n",
        "findspark.init()"
      ],
      "execution_count": 0,
      "outputs": []
    },
    {
      "cell_type": "code",
      "metadata": {
        "id": "Hqbi2yklB7p3",
        "colab_type": "code",
        "colab": {}
      },
      "source": [
        "import pyspark"
      ],
      "execution_count": 0,
      "outputs": []
    },
    {
      "cell_type": "code",
      "metadata": {
        "id": "00mrZHHvC12Y",
        "colab_type": "code",
        "colab": {
          "base_uri": "https://localhost:8080/",
          "height": 128
        },
        "outputId": "0b40549d-38e5-4d46-e9e5-9906e56828e1"
      },
      "source": [
        "from google.colab import drive\n",
        "drive.mount('/content/gdrive')"
      ],
      "execution_count": 14,
      "outputs": [
        {
          "output_type": "stream",
          "text": [
            "Go to this URL in a browser: https://accounts.google.com/o/oauth2/auth?client_id=947318989803-6bn6qk8qdgf4n4g3pfee6491hc0brc4i.apps.googleusercontent.com&redirect_uri=urn%3aietf%3awg%3aoauth%3a2.0%3aoob&response_type=code&scope=email%20https%3a%2f%2fwww.googleapis.com%2fauth%2fdocs.test%20https%3a%2f%2fwww.googleapis.com%2fauth%2fdrive%20https%3a%2f%2fwww.googleapis.com%2fauth%2fdrive.photos.readonly%20https%3a%2f%2fwww.googleapis.com%2fauth%2fpeopleapi.readonly\n",
            "\n",
            "Enter your authorization code:\n",
            "··········\n",
            "Mounted at /content/gdrive\n"
          ],
          "name": "stdout"
        }
      ]
    },
    {
      "cell_type": "code",
      "metadata": {
        "id": "-_ZxvCL2C5qn",
        "colab_type": "code",
        "colab": {}
      },
      "source": [
        "from pyspark.sql import SparkSession\n"
      ],
      "execution_count": 0,
      "outputs": []
    },
    {
      "cell_type": "code",
      "metadata": {
        "id": "krBaVglkKnvj",
        "colab_type": "code",
        "colab": {}
      },
      "source": [
        "spark = SparkSession.builder.master(\"local[*]\").getOrCreate()"
      ],
      "execution_count": 0,
      "outputs": []
    },
    {
      "cell_type": "code",
      "metadata": {
        "id": "gjHb8Cc_EITX",
        "colab_type": "code",
        "colab": {}
      },
      "source": [
        "comments1 =  spark.read.csv(\"/content/gdrive/My Drive/Colab Notebooks/GBcomments.csv\", inferSchema=True, header=True)"
      ],
      "execution_count": 0,
      "outputs": []
    },
    {
      "cell_type": "code",
      "metadata": {
        "id": "FPkn9lr3NOiZ",
        "colab_type": "code",
        "colab": {}
      },
      "source": [
        "comments2= spark.read.csv(\"/content/gdrive/My Drive/Colab Notebooks/UScomments.csv\", inferSchema=True, header=True)"
      ],
      "execution_count": 0,
      "outputs": []
    },
    {
      "cell_type": "code",
      "metadata": {
        "id": "FsS54DS-KdwL",
        "colab_type": "code",
        "colab": {
          "base_uri": "https://localhost:8080/",
          "height": 217
        },
        "outputId": "3963a132-0fd2-41a5-95c0-0e1b37188dfe"
      },
      "source": [
        "comments1.show(5)"
      ],
      "execution_count": 19,
      "outputs": [
        {
          "output_type": "stream",
          "text": [
            "+-----------+--------------------+-----+-------+\n",
            "|   video_id|        comment_text|likes|replies|\n",
            "+-----------+--------------------+-----+-------+\n",
            "|jt2OHQh0HoQ|It's more accurat...|    0|      0|\n",
            "|jt2OHQh0HoQ|To be there with ...|    1|      0|\n",
            "|jt2OHQh0HoQ|Thank gosh, a pla...|    0|      0|\n",
            "|jt2OHQh0HoQ|What happened to ...|    0|      0|\n",
            "|jt2OHQh0HoQ|Power is the dise...|    0|      0|\n",
            "+-----------+--------------------+-----+-------+\n",
            "only showing top 5 rows\n",
            "\n"
          ],
          "name": "stdout"
        }
      ]
    },
    {
      "cell_type": "code",
      "metadata": {
        "id": "Agd0_Pg_MkCx",
        "colab_type": "code",
        "colab": {
          "base_uri": "https://localhost:8080/",
          "height": 35
        },
        "outputId": "9617800f-450c-48cd-8830-5deea84ed93e"
      },
      "source": [
        "type(comments1)"
      ],
      "execution_count": 20,
      "outputs": [
        {
          "output_type": "execute_result",
          "data": {
            "text/plain": [
              "pyspark.sql.dataframe.DataFrame"
            ]
          },
          "metadata": {
            "tags": []
          },
          "execution_count": 20
        }
      ]
    },
    {
      "cell_type": "code",
      "metadata": {
        "id": "m82n-wW8MtYq",
        "colab_type": "code",
        "colab": {}
      },
      "source": [
        "from functools import reduce  # For Python 3.x\n",
        "from pyspark.sql import DataFrame\n",
        "\n",
        "def unionAll(*dfs):\n",
        "    return reduce(DataFrame.unionAll, dfs)\n",
        "\n",
        "comments=unionAll(comments1,comments2)"
      ],
      "execution_count": 0,
      "outputs": []
    },
    {
      "cell_type": "code",
      "metadata": {
        "id": "BMc72JXwNzUZ",
        "colab_type": "code",
        "colab": {
          "base_uri": "https://localhost:8080/",
          "height": 35
        },
        "outputId": "26e605b2-1d64-40f6-c000-e7a55ddfa029"
      },
      "source": [
        "comments.count()"
      ],
      "execution_count": 24,
      "outputs": [
        {
          "output_type": "execute_result",
          "data": {
            "text/plain": [
              "1410466"
            ]
          },
          "metadata": {
            "tags": []
          },
          "execution_count": 24
        }
      ]
    },
    {
      "cell_type": "code",
      "metadata": {
        "id": "hk183emhN1pB",
        "colab_type": "code",
        "colab": {
          "base_uri": "https://localhost:8080/",
          "height": 108
        },
        "outputId": "2fa88930-f87d-487e-de54-5af01e8af549"
      },
      "source": [
        "comments_rdd = comments.select('comment_text').rdd.flatMap(lambda x: x)\n",
        "comments_rdd=comments_rdd.filter(lambda x: x is not None).filter(lambda x: x!='')\n",
        "comments_rdd.take(5)"
      ],
      "execution_count": 25,
      "outputs": [
        {
          "output_type": "execute_result",
          "data": {
            "text/plain": [
              "[\"It's more accurate to call it the M+ (1000) because the price is closer than calling it the X (10).\",\n",
              " 'To be there with a samsung phone\\\\n😂😂😂',\n",
              " 'Thank gosh, a place I can watch it without having to be at HD... my speed doesn’t support HD',\n",
              " 'What happened to the home button on the iPhone X? *****Cough****copying Samsung******cough',\n",
              " 'Power is the disease.\\xa0 Care is the cure.\\xa0 Keep caring for yourself and others as best as you can.\\xa0 This is life.']"
            ]
          },
          "metadata": {
            "tags": []
          },
          "execution_count": 25
        }
      ]
    },
    {
      "cell_type": "code",
      "metadata": {
        "id": "CGxCqN9-OHlZ",
        "colab_type": "code",
        "colab": {}
      },
      "source": [
        "header = comments_rdd.first()"
      ],
      "execution_count": 0,
      "outputs": []
    },
    {
      "cell_type": "code",
      "metadata": {
        "id": "IfWpcgNHYaOn",
        "colab_type": "code",
        "colab": {}
      },
      "source": [
        ""
      ],
      "execution_count": 0,
      "outputs": []
    },
    {
      "cell_type": "code",
      "metadata": {
        "id": "F_EJIiUbORhp",
        "colab_type": "code",
        "colab": {}
      },
      "source": [
        "data_rmv_col = comments_rdd.filter(lambda row: row != header)"
      ],
      "execution_count": 0,
      "outputs": []
    },
    {
      "cell_type": "code",
      "metadata": {
        "id": "vBq7Tt8fYddE",
        "colab_type": "code",
        "colab": {}
      },
      "source": [
        "def lower(x):\n",
        "  return x.lower()"
      ],
      "execution_count": 0,
      "outputs": []
    },
    {
      "cell_type": "code",
      "metadata": {
        "id": "whFlu2bVOUGj",
        "colab_type": "code",
        "colab": {}
      },
      "source": [
        "lowerCase_sentRDD = data_rmv_col.map(lower)"
      ],
      "execution_count": 0,
      "outputs": []
    },
    {
      "cell_type": "code",
      "metadata": {
        "id": "uvfSyt5vY0NM",
        "colab_type": "code",
        "colab": {
          "base_uri": "https://localhost:8080/",
          "height": 108
        },
        "outputId": "fda8582a-e1c6-485f-8813-a097d9add507"
      },
      "source": [
        "lowerCase_sentRDD.take(5)"
      ],
      "execution_count": 30,
      "outputs": [
        {
          "output_type": "execute_result",
          "data": {
            "text/plain": [
              "['to be there with a samsung phone\\\\n😂😂😂',\n",
              " 'thank gosh, a place i can watch it without having to be at hd... my speed doesn’t support hd',\n",
              " 'what happened to the home button on the iphone x? *****cough****copying samsung******cough',\n",
              " 'power is the disease.\\xa0 care is the cure.\\xa0 keep caring for yourself and others as best as you can.\\xa0 this is life.',\n",
              " 'keep calm and buy iphone 8 keep calm and buy iphone 8 plus keep calm and buy iphone x. what is your favourite?']"
            ]
          },
          "metadata": {
            "tags": []
          },
          "execution_count": 30
        }
      ]
    },
    {
      "cell_type": "code",
      "metadata": {
        "id": "OMGLHMbyOWFg",
        "colab_type": "code",
        "colab": {}
      },
      "source": [
        "import spacy\n",
        "nlp = spacy.load(\"en_core_web_sm\")"
      ],
      "execution_count": 0,
      "outputs": []
    },
    {
      "cell_type": "code",
      "metadata": {
        "id": "UUSEb5lFOXyh",
        "colab_type": "code",
        "colab": {}
      },
      "source": [
        "def sent_TokenizeFunct(x):\n",
        "    doc=nlp(x)\n",
        "    #return doc\n",
        "    tokens=[]\n",
        "    for token in doc:\n",
        "      if((token.is_stop==False and token.is_punct==False) and token.is_alpha==True):\n",
        "        tokens.append(token.lemma_)\n",
        "    return ' '.join(tokens)\n",
        "    \n",
        "sentenceTokenizeRDD = lowerCase_sentRDD.map(sent_TokenizeFunct)"
      ],
      "execution_count": 0,
      "outputs": []
    },
    {
      "cell_type": "code",
      "metadata": {
        "id": "lBjwx5cmOZmK",
        "colab_type": "code",
        "colab": {}
      },
      "source": [
        ""
      ],
      "execution_count": 0,
      "outputs": []
    },
    {
      "cell_type": "code",
      "metadata": {
        "id": "aALgYIynnjPk",
        "colab_type": "code",
        "colab": {
          "base_uri": "https://localhost:8080/",
          "height": 108
        },
        "outputId": "f0624577-65ff-4eda-de7d-53e8b9b18fe8"
      },
      "source": [
        "sentenceTokenizeRDD.take(5)"
      ],
      "execution_count": 33,
      "outputs": [
        {
          "output_type": "execute_result",
          "data": {
            "text/plain": [
              "['samsung',\n",
              " 'thank gosh place watch have hd speed support hd',\n",
              " 'happen home button iphone x',\n",
              " 'power disease care cure care best life',\n",
              " 'calm buy iphone calm buy iphone plus calm buy iphone favourite']"
            ]
          },
          "metadata": {
            "tags": []
          },
          "execution_count": 33
        }
      ]
    },
    {
      "cell_type": "code",
      "metadata": {
        "id": "f9CwPpHuOp1x",
        "colab_type": "code",
        "colab": {}
      },
      "source": [
        ""
      ],
      "execution_count": 0,
      "outputs": []
    },
    {
      "cell_type": "markdown",
      "metadata": {
        "id": "XuaT6RkJZ9W5",
        "colab_type": "text"
      },
      "source": [
        "# Working on Videos"
      ]
    },
    {
      "cell_type": "code",
      "metadata": {
        "id": "QwCMl4dKpP0k",
        "colab_type": "code",
        "colab": {}
      },
      "source": [
        "Videos1 =  spark.read.csv(\"/content/gdrive/My Drive/Colab Notebooks/GBvideos.csv\", inferSchema=True, header=True)\n",
        "Videos2 =  spark.read.csv(\"/content/gdrive/My Drive/Colab Notebooks/USvideos.csv\", inferSchema=True, header=True)\n",
        "videos = unionAll(Videos1,Videos2)"
      ],
      "execution_count": 0,
      "outputs": []
    },
    {
      "cell_type": "code",
      "metadata": {
        "id": "Pf2b-oUBakjb",
        "colab_type": "code",
        "colab": {
          "base_uri": "https://localhost:8080/",
          "height": 217
        },
        "outputId": "cec2595b-3616-4be6-b186-fa6e46c19fdb"
      },
      "source": [
        "videos.show(5)"
      ],
      "execution_count": 35,
      "outputs": [
        {
          "output_type": "stream",
          "text": [
            "+-----------+--------------------+-----------------+-----------+--------------------+-------+-----+--------+-------------+--------------------+-----+\n",
            "|   video_id|               title|    channel_title|category_id|                tags|  views|likes|dislikes|comment_total|      thumbnail_link| date|\n",
            "+-----------+--------------------+-----------------+-----------+--------------------+-------+-----+--------+-------------+--------------------+-----+\n",
            "|jt2OHQh0HoQ|Live Apple Event ...|      Apple Event|         28|apple events|appl...|7426393|78240|   13548|          705|https://i.ytimg.c...|13.09|\n",
            "|AqokkXoa7uE|Holly and Phillip...|     This Morning|         24|this morning|inte...| 494203| 2651|    1309|            0|https://i.ytimg.c...|13.09|\n",
            "|YPVcg45W0z4|My DNA Test Resul...|     emmablackery|         24|emmablackery|emma...| 142819|13119|     151|         1141|https://i.ytimg.c...|13.09|\n",
            "|T_PuZBdT2iM|getting into a co...|            ProZD|          1|skit|korean|langu...|1580028|65729|    1529|         3598|https://i.ytimg.c...|13.09|\n",
            "|NsjsmgmbCfc|Baby Name Challenge!|Sprinkleofglitter|         26|sprinkleofglitter...|  40592| 5019|      57|          490|https://i.ytimg.c...|13.09|\n",
            "+-----------+--------------------+-----------------+-----------+--------------------+-------+-----+--------+-------------+--------------------+-----+\n",
            "only showing top 5 rows\n",
            "\n"
          ],
          "name": "stdout"
        }
      ]
    },
    {
      "cell_type": "code",
      "metadata": {
        "id": "RaRDsaVGatMJ",
        "colab_type": "code",
        "colab": {
          "base_uri": "https://localhost:8080/",
          "height": 108
        },
        "outputId": "fe1b1bbe-6d3c-4dd9-f5c3-683b927cb410"
      },
      "source": [
        "videos_rdd = videos.select(['title']).rdd.flatMap(lambda x: x)\n",
        "videos_rdd = videos_rdd.filter(lambda x: x is not None).filter(lambda x: x!='')\n",
        "videos_rdd.take(5)"
      ],
      "execution_count": 36,
      "outputs": [
        {
          "output_type": "execute_result",
          "data": {
            "text/plain": [
              "['Live Apple Event - Apple September Event 2017 - iPhone 8, iPhone X, iOS 11 - Apple Keynote',\n",
              " 'Holly and Phillip Meet Samantha the Sex Robot | This Morning',\n",
              " \"My DNA Test Results! I'm WHAT?!\",\n",
              " \"getting into a conversation in a language you don't actually speak that well\",\n",
              " 'Baby Name Challenge!']"
            ]
          },
          "metadata": {
            "tags": []
          },
          "execution_count": 36
        }
      ]
    },
    {
      "cell_type": "code",
      "metadata": {
        "id": "QRWN2kwbbWlO",
        "colab_type": "code",
        "colab": {}
      },
      "source": [
        "header_Vid=videos_rdd.first()"
      ],
      "execution_count": 0,
      "outputs": []
    },
    {
      "cell_type": "code",
      "metadata": {
        "id": "SQ4raTiSbehi",
        "colab_type": "code",
        "colab": {}
      },
      "source": [
        "data_rmv_col_vid = videos_rdd.filter(lambda row: row != header_Vid)"
      ],
      "execution_count": 0,
      "outputs": []
    },
    {
      "cell_type": "code",
      "metadata": {
        "id": "Bd-5bxSnbFko",
        "colab_type": "code",
        "colab": {}
      },
      "source": [
        "lowerCase_VidRDD = data_rmv_col_vid.map(lower)"
      ],
      "execution_count": 0,
      "outputs": []
    },
    {
      "cell_type": "code",
      "metadata": {
        "id": "zhKOhbOObzc7",
        "colab_type": "code",
        "colab": {
          "base_uri": "https://localhost:8080/",
          "height": 108
        },
        "outputId": "53ff0eb4-a22c-4379-9991-9f8f6f53b008"
      },
      "source": [
        "lowerCase_VidRDD.take(5)"
      ],
      "execution_count": 40,
      "outputs": [
        {
          "output_type": "execute_result",
          "data": {
            "text/plain": [
              "['holly and phillip meet samantha the sex robot | this morning',\n",
              " \"my dna test results! i'm what?!\",\n",
              " \"getting into a conversation in a language you don't actually speak that well\",\n",
              " 'baby name challenge!',\n",
              " \"revealed - fifa 18 stats for chelsea's hazard, luiz & christensen!\"]"
            ]
          },
          "metadata": {
            "tags": []
          },
          "execution_count": 40
        }
      ]
    },
    {
      "cell_type": "code",
      "metadata": {
        "id": "K2zIE5tIb8q5",
        "colab_type": "code",
        "colab": {}
      },
      "source": [
        "Vid_sentTokenizeRDD = lowerCase_VidRDD.map(sent_TokenizeFunct)"
      ],
      "execution_count": 0,
      "outputs": []
    },
    {
      "cell_type": "code",
      "metadata": {
        "id": "15_82miKcyvA",
        "colab_type": "code",
        "colab": {
          "base_uri": "https://localhost:8080/",
          "height": 108
        },
        "outputId": "b157351b-787d-4dc4-ad8d-5442d5861eaa"
      },
      "source": [
        "Vid_sentTokenizeRDD.take(5)"
      ],
      "execution_count": 42,
      "outputs": [
        {
          "output_type": "execute_result",
          "data": {
            "text/plain": [
              "['holly phillip meet samantha sex robot morning',\n",
              " 'dna test result',\n",
              " 'get conversation language actually speak',\n",
              " 'baby challenge',\n",
              " 'reveal fifa stat chelsea hazard luiz christensen']"
            ]
          },
          "metadata": {
            "tags": []
          },
          "execution_count": 42
        }
      ]
    },
    {
      "cell_type": "code",
      "metadata": {
        "id": "wSv3Sk6wlUBz",
        "colab_type": "code",
        "colab": {
          "base_uri": "https://localhost:8080/",
          "height": 128
        },
        "outputId": "701e9995-c6d5-4b6f-df8c-e316d6f8e568"
      },
      "source": [
        "tags_rdd=videos.select(['tags']).rdd.flatMap(lambda x:x)\n",
        "tags_rdd.take(5)"
      ],
      "execution_count": 43,
      "outputs": [
        {
          "output_type": "execute_result",
          "data": {
            "text/plain": [
              "['apple events|apple event|iphone 8|iphone x|iphone 8 plus|iphone 7s|iphone 7s plus|ios 11',\n",
              " 'this morning|interview|holly willoughby|phillip schofield|ruth langsford|eamonn holmes|chat shows - topic|chat show - topic|talk shows - topic|sex robot|samantha|real life',\n",
              " 'emmablackery|emma blackery|emma|blackery|british vlogger|british youtuber|female vlogger|birdyboots|dna test|23andme|ancestry',\n",
              " \"skit|korean|language|conversation|esl|japanese|foreign|communication|don't speak|struggle|foreigner|lotte mart|korea|south|weather|good|tutorial\",\n",
              " 'sprinkleofglitter|sprinkle of glitter|baby glitter|Louise Pentland|Louise Pentland Baby Name|Mrs Meldrum|Baby Names|Nice baby names|Unusual baby names']"
            ]
          },
          "metadata": {
            "tags": []
          },
          "execution_count": 43
        }
      ]
    },
    {
      "cell_type": "code",
      "metadata": {
        "id": "9CqP-hs7mCUH",
        "colab_type": "code",
        "colab": {}
      },
      "source": [
        "header_tags = tags_rdd.first()"
      ],
      "execution_count": 0,
      "outputs": []
    },
    {
      "cell_type": "code",
      "metadata": {
        "id": "gZH0uLKJmCYG",
        "colab_type": "code",
        "colab": {}
      },
      "source": [
        "tags_rmv_col = tags_rdd.filter(lambda row: row != header_tags)"
      ],
      "execution_count": 0,
      "outputs": []
    },
    {
      "cell_type": "code",
      "metadata": {
        "id": "1PdZvEp-mCRE",
        "colab_type": "code",
        "colab": {
          "base_uri": "https://localhost:8080/",
          "height": 128
        },
        "outputId": "a4f45505-a0d5-4480-92dc-cfac30ff8fb7"
      },
      "source": [
        "tags_rmv_col.take(5)"
      ],
      "execution_count": 46,
      "outputs": [
        {
          "output_type": "execute_result",
          "data": {
            "text/plain": [
              "['this morning|interview|holly willoughby|phillip schofield|ruth langsford|eamonn holmes|chat shows - topic|chat show - topic|talk shows - topic|sex robot|samantha|real life',\n",
              " 'emmablackery|emma blackery|emma|blackery|british vlogger|british youtuber|female vlogger|birdyboots|dna test|23andme|ancestry',\n",
              " \"skit|korean|language|conversation|esl|japanese|foreign|communication|don't speak|struggle|foreigner|lotte mart|korea|south|weather|good|tutorial\",\n",
              " 'sprinkleofglitter|sprinkle of glitter|baby glitter|Louise Pentland|Louise Pentland Baby Name|Mrs Meldrum|Baby Names|Nice baby names|Unusual baby names',\n",
              " 'Rio Ferdinand|Rio|Ferdinand|5 Magazine|5 Mag|#5|5 Rio Ferdinand|Rio Ferdinand interview|football|soccer|interview|Manchester United|Man United|fifa 18|fut 18|fut|fifa ratings|fifa 18 ratings|chelsea|chelsea fc|chelsea f.c|David Luiz|Eden Hazard|Christensen|Premier League|Champions League|Fifa18|Hazard Fifa 18|David Luiz Fifa 18|Christensen Fifa 18|Chelsea Fifa 18|Pack Opening|Fifa Pack Opening|Fifa 18 Pack Opening|Fifa 18 official Ratings']"
            ]
          },
          "metadata": {
            "tags": []
          },
          "execution_count": 46
        }
      ]
    },
    {
      "cell_type": "code",
      "metadata": {
        "id": "-xSV3GG8c3ry",
        "colab_type": "code",
        "colab": {}
      },
      "source": [
        "def split1(x):\n",
        "  return (x.split(\"|\"))\n",
        "\n",
        "tags_rdd=tags_rmv_col.map(split1)"
      ],
      "execution_count": 0,
      "outputs": []
    },
    {
      "cell_type": "code",
      "metadata": {
        "id": "qyMe4c3bdbBY",
        "colab_type": "code",
        "colab": {}
      },
      "source": [
        ""
      ],
      "execution_count": 0,
      "outputs": []
    },
    {
      "cell_type": "code",
      "metadata": {
        "id": "B_fBqIgCUQTN",
        "colab_type": "code",
        "colab": {}
      },
      "source": [
        "from pyspark.sql import Row\n",
        "from pyspark.sql.functions import monotonically_increasing_id\n",
        "\n",
        "row_title = Row(\"LemmetizeTitle\") # Or some other column name\n",
        "Title_DF = Vid_sentTokenizeRDD.map(row_title).toDF()\n",
        "Title_DF = Title_DF.select(\"*\").withColumn(\"id\", monotonically_increasing_id())\n",
        "\n",
        "row_tags=Row(\"Tokenized_Tags\")\n",
        "Tags_DF=tags_rdd.map(row_tags).toDF()\n",
        "Tags_DF = Tags_DF.select(\"*\").withColumn(\"id\", monotonically_increasing_id())"
      ],
      "execution_count": 0,
      "outputs": []
    },
    {
      "cell_type": "code",
      "metadata": {
        "id": "-K_vana-Ovv6",
        "colab_type": "code",
        "colab": {
          "base_uri": "https://localhost:8080/",
          "height": 217
        },
        "outputId": "ef814f1d-f8c5-4545-b6ca-2c200bae99c5"
      },
      "source": [
        "Title_DF.show(5)"
      ],
      "execution_count": 49,
      "outputs": [
        {
          "output_type": "stream",
          "text": [
            "+--------------------+---+\n",
            "|      LemmetizeTitle| id|\n",
            "+--------------------+---+\n",
            "|holly phillip mee...|  0|\n",
            "|     dna test result|  1|\n",
            "|get conversation ...|  2|\n",
            "|      baby challenge|  3|\n",
            "|reveal fifa stat ...|  4|\n",
            "+--------------------+---+\n",
            "only showing top 5 rows\n",
            "\n"
          ],
          "name": "stdout"
        }
      ]
    },
    {
      "cell_type": "code",
      "metadata": {
        "id": "GJMK8oUla5ri",
        "colab_type": "code",
        "colab": {
          "base_uri": "https://localhost:8080/",
          "height": 217
        },
        "outputId": "f0bb25d5-7b93-474b-ede9-f658c97cfc8e"
      },
      "source": [
        "Tags_DF.show(5)"
      ],
      "execution_count": 50,
      "outputs": [
        {
          "output_type": "stream",
          "text": [
            "+--------------------+---+\n",
            "|      Tokenized_Tags| id|\n",
            "+--------------------+---+\n",
            "|[this morning, in...|  0|\n",
            "|[emmablackery, em...|  1|\n",
            "|[skit, korean, la...|  2|\n",
            "|[sprinkleofglitte...|  3|\n",
            "|[Rio Ferdinand, R...|  4|\n",
            "+--------------------+---+\n",
            "only showing top 5 rows\n",
            "\n"
          ],
          "name": "stdout"
        }
      ]
    },
    {
      "cell_type": "code",
      "metadata": {
        "id": "zpcvH3jl7g_q",
        "colab_type": "code",
        "colab": {}
      },
      "source": [
        ""
      ],
      "execution_count": 0,
      "outputs": []
    },
    {
      "cell_type": "code",
      "metadata": {
        "id": "WTi3c3nG--QD",
        "colab_type": "code",
        "colab": {
          "base_uri": "https://localhost:8080/",
          "height": 35
        },
        "outputId": "aa743e71-f77a-4273-841a-4fc58a567f04"
      },
      "source": [
        "Tags_DF[['Tokenized_Tags']]"
      ],
      "execution_count": 51,
      "outputs": [
        {
          "output_type": "execute_result",
          "data": {
            "text/plain": [
              "DataFrame[Tokenized_Tags: array<string>]"
            ]
          },
          "metadata": {
            "tags": []
          },
          "execution_count": 51
        }
      ]
    },
    {
      "cell_type": "code",
      "metadata": {
        "id": "_J7doODDhdHK",
        "colab_type": "code",
        "colab": {}
      },
      "source": [
        "videos_DF = Title_DF.join(Tags_DF, on=['id'], how='left_outer')"
      ],
      "execution_count": 0,
      "outputs": []
    },
    {
      "cell_type": "code",
      "metadata": {
        "id": "XUVT8qqFfiwK",
        "colab_type": "code",
        "colab": {
          "base_uri": "https://localhost:8080/",
          "height": 217
        },
        "outputId": "fdc590d5-8ca1-413e-bf02-25513e49afbb"
      },
      "source": [
        "videos_DF.show(5)"
      ],
      "execution_count": 53,
      "outputs": [
        {
          "output_type": "stream",
          "text": [
            "+----+--------------------+--------------------+\n",
            "|  id|      LemmetizeTitle|      Tokenized_Tags|\n",
            "+----+--------------------+--------------------+\n",
            "|  26|testing soph x ma...|[grey hair, sophd...|\n",
            "|  29|move vlog pink ho...|[moving vlog, ike...|\n",
            "| 474|doom wolfenstein ...|[PC, IGN, PS4, Do...|\n",
            "| 964|lloyd new lego ni...|[Google, YouTube,...|\n",
            "|1677|project car ceo q...|[Project Cars 2 G...|\n",
            "+----+--------------------+--------------------+\n",
            "only showing top 5 rows\n",
            "\n"
          ],
          "name": "stdout"
        }
      ]
    },
    {
      "cell_type": "code",
      "metadata": {
        "id": "gDBdc5tXfuIO",
        "colab_type": "code",
        "colab": {
          "base_uri": "https://localhost:8080/",
          "height": 35
        },
        "outputId": "6008be9e-995c-47c8-9c89-7e9058598a69"
      },
      "source": [
        "videos_DF.count()"
      ],
      "execution_count": 54,
      "outputs": [
        {
          "output_type": "execute_result",
          "data": {
            "text/plain": [
              "15989"
            ]
          },
          "metadata": {
            "tags": []
          },
          "execution_count": 54
        }
      ]
    },
    {
      "cell_type": "code",
      "metadata": {
        "id": "Pin7HJqsb-BK",
        "colab_type": "code",
        "colab": {
          "base_uri": "https://localhost:8080/",
          "height": 489
        },
        "outputId": "e43bdd55-c35c-405e-b349-1979f3e87eac"
      },
      "source": [
        "from pyspark.ml.feature import HashingTF, IDF, Tokenizer\n",
        "\n",
        "\n",
        "tokenizer = Tokenizer(inputCol=\"LemmetizeTitle\", outputCol=\"words\")\n",
        "wordsData = tokenizer.transform(videos_DF)\n",
        "\n",
        "hashingTF = HashingTF(inputCol=\"words\", outputCol=\"rawFeatures\", numFeatures=5)\n",
        "featurizedData = hashingTF.transform(wordsData)\n",
        "\n",
        "idf = IDF(inputCol=\"rawFeatures\", outputCol=\"features\")\n",
        "idfModel = idf.fit(featurizedData)\n",
        "rescaledData = idfModel.transform(featurizedData)\n",
        "\n",
        "rescaledData.select(\"id\", \"features\").show()"
      ],
      "execution_count": 55,
      "outputs": [
        {
          "output_type": "stream",
          "text": [
            "+----+--------------------+\n",
            "|  id|            features|\n",
            "+----+--------------------+\n",
            "|  26|(5,[0,1,2,3,4],[0...|\n",
            "|  29|(5,[0,1,2,4],[0.3...|\n",
            "| 474|(5,[0,1,2,3],[0.7...|\n",
            "| 964|(5,[0,1,4],[1.419...|\n",
            "|1677|(5,[0,1,2,3,4],[0...|\n",
            "|1697|(5,[0,1,2,4],[0.3...|\n",
            "|1806|(5,[1,2,3,4],[0.3...|\n",
            "|1950|(5,[1,3,4],[0.750...|\n",
            "|2040|(5,[0,1],[1.06440...|\n",
            "|2214|(5,[3,4],[0.45814...|\n",
            "|2250|(5,[0,1,4],[0.354...|\n",
            "|2453|(5,[0,2,3],[0.354...|\n",
            "|2509|(5,[1,3,4],[1.126...|\n",
            "|2529|(5,[0,2,4],[2.128...|\n",
            "|2927|(5,[0,1,3],[0.354...|\n",
            "|3091|(5,[0,1,2,3,4],[0...|\n",
            "|3506|(5,[0,1,2,3,4],[1...|\n",
            "|3764|(5,[0,4],[0.70960...|\n",
            "|4590|(5,[0,1,4],[0.709...|\n",
            "|4823|(5,[0,3,4],[0.354...|\n",
            "+----+--------------------+\n",
            "only showing top 20 rows\n",
            "\n"
          ],
          "name": "stdout"
        }
      ]
    },
    {
      "cell_type": "code",
      "metadata": {
        "id": "Fc6rgEUHh1os",
        "colab_type": "code",
        "colab": {
          "base_uri": "https://localhost:8080/",
          "height": 326
        },
        "outputId": "2474336b-cd96-40a6-dbc9-7b231a818223"
      },
      "source": [
        "rescaledData.select(\"id\", \"features\").show(n=5, truncate=False, vertical=True)"
      ],
      "execution_count": 56,
      "outputs": [
        {
          "output_type": "stream",
          "text": [
            "-RECORD 0------------------------------------------------------------------------------------------------------------------------\n",
            " id       | 26                                                                                                                   \n",
            " features | (5,[0,1,2,3,4],[0.35480052914438215,0.37534179192543426,0.48835740044961995,1.3744254057774885,0.40377797676786836]) \n",
            "-RECORD 1------------------------------------------------------------------------------------------------------------------------\n",
            " id       | 29                                                                                                                   \n",
            " features | (5,[0,1,2,4],[0.35480052914438215,1.1260253757763028,0.48835740044961995,1.211333930303605])                         \n",
            "-RECORD 2------------------------------------------------------------------------------------------------------------------------\n",
            " id       | 474                                                                                                                  \n",
            " features | (5,[0,1,2,3],[0.7096010582887643,0.37534179192543426,0.48835740044961995,0.45814180192582954])                       \n",
            "-RECORD 3------------------------------------------------------------------------------------------------------------------------\n",
            " id       | 964                                                                                                                  \n",
            " features | (5,[0,1,4],[1.4192021165775286,1.1260253757763028,0.8075559535357367])                                               \n",
            "-RECORD 4------------------------------------------------------------------------------------------------------------------------\n",
            " id       | 1677                                                                                                                 \n",
            " features | (5,[0,1,2,3,4],[0.35480052914438215,1.501367167701737,0.48835740044961995,1.8325672077033182,0.40377797676786836])   \n",
            "only showing top 5 rows\n",
            "\n"
          ],
          "name": "stdout"
        }
      ]
    },
    {
      "cell_type": "code",
      "metadata": {
        "id": "2h9oJSUjprqH",
        "colab_type": "code",
        "colab": {}
      },
      "source": [
        "trainSDF,validationSDF,TestSDF=rescaledData.select(\"id\",\"Tokenized_tags\").randomSplit([0.75, 0.2, 0.05])"
      ],
      "execution_count": 0,
      "outputs": []
    },
    {
      "cell_type": "code",
      "metadata": {
        "id": "jtZWhYO4pr6M",
        "colab_type": "code",
        "colab": {
          "base_uri": "https://localhost:8080/",
          "height": 217
        },
        "outputId": "6612b444-2cdc-4216-9dc3-19553401907f"
      },
      "source": [
        "trainSDF.show(5)"
      ],
      "execution_count": 58,
      "outputs": [
        {
          "output_type": "stream",
          "text": [
            "+----+--------------------+\n",
            "|  id|      Tokenized_tags|\n",
            "+----+--------------------+\n",
            "|1697|[Shakira ft. Nick...|\n",
            "|1806|[wwe, world wrest...|\n",
            "|1950|[Norm macdonald, ...|\n",
            "|2040|[Noah Cyrus, Noah...|\n",
            "|2214|[liza, lizza, liz...|\n",
            "+----+--------------------+\n",
            "only showing top 5 rows\n",
            "\n"
          ],
          "name": "stdout"
        }
      ]
    },
    {
      "cell_type": "code",
      "metadata": {
        "id": "8gahxHoTp-kh",
        "colab_type": "code",
        "colab": {
          "base_uri": "https://localhost:8080/",
          "height": 217
        },
        "outputId": "f60e8677-c877-4e02-df59-22b9a58ca260"
      },
      "source": [
        "validationSDF.show(5)"
      ],
      "execution_count": 59,
      "outputs": [
        {
          "output_type": "stream",
          "text": [
            "+----+--------------------+\n",
            "|  id|      Tokenized_tags|\n",
            "+----+--------------------+\n",
            "|  26|[grey hair, sophd...|\n",
            "|  29|[moving vlog, ike...|\n",
            "| 474|[PC, IGN, PS4, Do...|\n",
            "|1677|[Project Cars 2 G...|\n",
            "|2453|[Films, Popular F...|\n",
            "+----+--------------------+\n",
            "only showing top 5 rows\n",
            "\n"
          ],
          "name": "stdout"
        }
      ]
    },
    {
      "cell_type": "code",
      "metadata": {
        "id": "TmIyHMRup-wv",
        "colab_type": "code",
        "colab": {
          "base_uri": "https://localhost:8080/",
          "height": 35
        },
        "outputId": "96810179-e4e4-4922-e62a-858354fdd03a"
      },
      "source": [
        "TestSDF.count()"
      ],
      "execution_count": 60,
      "outputs": [
        {
          "output_type": "execute_result",
          "data": {
            "text/plain": [
              "810"
            ]
          },
          "metadata": {
            "tags": []
          },
          "execution_count": 60
        }
      ]
    },
    {
      "cell_type": "code",
      "metadata": {
        "id": "eeVrgdOIi2Q9",
        "colab_type": "code",
        "colab": {
          "base_uri": "https://localhost:8080/",
          "height": 489
        },
        "outputId": "bf21a02a-742b-41d0-d260-94642b89a3c2"
      },
      "source": [
        "from pyspark.ml import Pipeline\n",
        "from pyspark.ml.feature import HashingTF, MinHashLSH\n",
        "import pyspark.sql.functions as f\n",
        "\n",
        "model = Pipeline(stages=[\n",
        "        HashingTF(inputCol=\"Tokenized_tags\", outputCol=\"vectors\"),\n",
        "        MinHashLSH(inputCol=\"vectors\", outputCol=\"lsh\", numHashTables=10)\n",
        "    ]).fit(TestSDF)\n",
        "\n",
        "db_hashed = model.transform(TestSDF)\n",
        "\n",
        "db_matches = model.stages[-1].approxSimilarityJoin(db_hashed, db_hashed, 0.9)\n",
        "\n",
        "#show all matches (including duplicates)\n",
        "db_matches.select(f.col('datasetA.id').alias('video_id_A'),\n",
        "                 f.col('datasetB.id').alias('video_id_B'),\n",
        "                 f.col('distCol')).show()\n"
      ],
      "execution_count": 61,
      "outputs": [
        {
          "output_type": "stream",
          "text": [
            "+----------+----------+------------------+\n",
            "|video_id_A|video_id_B|           distCol|\n",
            "+----------+----------+------------------+\n",
            "|      4027|      4027|               0.0|\n",
            "|8589938816|8589941458|               0.0|\n",
            "|      6605|8589942558|               0.0|\n",
            "|      6605|      4697|               0.0|\n",
            "|8589937862|      5018|               0.0|\n",
            "|8589938833|8589936239|               0.0|\n",
            "|       761|8589937862|               0.0|\n",
            "|8589942547|      1227|               0.0|\n",
            "|8589942547|8589936875|               0.0|\n",
            "|8589941457|8589938440|               0.0|\n",
            "|8589935026|8589935026|               0.0|\n",
            "|8589939135|8589939135|               0.0|\n",
            "|       646|       646|               0.0|\n",
            "|8589941944|8589941944|               0.0|\n",
            "|      3983|      6176|              0.88|\n",
            "|      1550|8589938968|0.8461538461538461|\n",
            "|8589938624|8589938624|               0.0|\n",
            "|8589937862|8589935002|               0.0|\n",
            "|8589938833|      7109|               0.0|\n",
            "|      4697|8589935722|               0.0|\n",
            "+----------+----------+------------------+\n",
            "only showing top 20 rows\n",
            "\n"
          ],
          "name": "stdout"
        }
      ]
    },
    {
      "cell_type": "code",
      "metadata": {
        "id": "CYJVfIg6b5aG",
        "colab_type": "code",
        "colab": {
          "base_uri": "https://localhost:8080/",
          "height": 489
        },
        "outputId": "c03443f4-5954-40d6-b9fa-ab2525970208"
      },
      "source": [
        "from pyspark.sql.functions import col\n",
        "#show non-duplicate matches\n",
        "ans=db_matches.select(f.col('datasetA.id').alias('video_id_A'),\n",
        "                 f.col('datasetB.id').alias('video_id_B'),\n",
        "                 f.col('distCol')).filter('video_id_A < video_id_B')\n",
        "\n",
        "ans=ans.sort(col(\"distCol\").desc())\n",
        "ans.show()"
      ],
      "execution_count": 62,
      "outputs": [
        {
          "output_type": "stream",
          "text": [
            "+----------+----------+------------------+\n",
            "|video_id_A|video_id_B|           distCol|\n",
            "+----------+----------+------------------+\n",
            "|      1531|8589937619|0.8974358974358975|\n",
            "|      3974|8589941364|0.8974358974358975|\n",
            "|8589935915|8589937619|0.8974358974358975|\n",
            "|      3080|      3931| 0.896551724137931|\n",
            "|8589936046|8589942194|0.8958333333333334|\n",
            "|      1899|      6828|0.8958333333333334|\n",
            "|8589936300|8589942194|0.8958333333333334|\n",
            "|8589935915|8589941406|0.8947368421052632|\n",
            "|8589935227|8589936227|0.8947368421052632|\n",
            "|      1531|8589941406|0.8947368421052632|\n",
            "|       646|8589936227|0.8936170212765957|\n",
            "|      5584|8589938852|0.8928571428571429|\n",
            "|8589938057|8589938126|0.8918918918918919|\n",
            "|       646|8589936814|0.8913043478260869|\n",
            "|      7020|8589940869|          0.890625|\n",
            "|       869|8589940772|0.8888888888888888|\n",
            "|      5140|      7917|0.8888888888888888|\n",
            "|8589935110|8589939534|0.8888888888888888|\n",
            "|       869|8589940277|0.8888888888888888|\n",
            "|      1391|8589938181|0.8888888888888888|\n",
            "+----------+----------+------------------+\n",
            "only showing top 20 rows\n",
            "\n"
          ],
          "name": "stdout"
        }
      ]
    },
    {
      "cell_type": "code",
      "metadata": {
        "id": "GI3-uJqvi3vg",
        "colab_type": "code",
        "colab": {}
      },
      "source": [
        "set1,set2,set3=ans.select(\"video_id_A\",\"video_id_B\",\"distCol\").randomSplit([0.33, 0.33, 0.34])"
      ],
      "execution_count": 0,
      "outputs": []
    },
    {
      "cell_type": "code",
      "metadata": {
        "id": "slvLd3eUi3zb",
        "colab_type": "code",
        "colab": {
          "base_uri": "https://localhost:8080/",
          "height": 489
        },
        "outputId": "2e8687b7-9684-433d-dfa7-33f7fc933e85"
      },
      "source": [
        "set1.show()"
      ],
      "execution_count": 64,
      "outputs": [
        {
          "output_type": "stream",
          "text": [
            "+----------+----------+------------------+\n",
            "|video_id_A|video_id_B|           distCol|\n",
            "+----------+----------+------------------+\n",
            "|       761|8589937862|               0.0|\n",
            "|      3383|8589938733|0.8571428571428572|\n",
            "|       761|      2471|               0.0|\n",
            "|      2796|      3938|               0.0|\n",
            "|      3516|8589936932|0.7647058823529411|\n",
            "|      4276|8589942014|0.7758620689655172|\n",
            "|      6080|8589938594|0.6833333333333333|\n",
            "|      2469|      5077|0.8679245283018868|\n",
            "|       339|      5018|               0.0|\n",
            "|       339|8589935722|               0.0|\n",
            "|8589940913|8589942558|               0.0|\n",
            "|      1586|      5508|0.8235294117647058|\n",
            "|      3043|8589935957|               0.0|\n",
            "|      6630|      7546|               0.0|\n",
            "|      1340|      1559|               0.0|\n",
            "|      2796|      4330|               0.0|\n",
            "|      4545|8589940772|0.8666666666666667|\n",
            "|8589935957|8589941458|               0.0|\n",
            "|      3043|      4697|               0.0|\n",
            "|      5286|8589939474|               0.0|\n",
            "+----------+----------+------------------+\n",
            "only showing top 20 rows\n",
            "\n"
          ],
          "name": "stdout"
        }
      ]
    },
    {
      "cell_type": "code",
      "metadata": {
        "id": "PWt0NS7Gi3tu",
        "colab_type": "code",
        "colab": {
          "base_uri": "https://localhost:8080/",
          "height": 489
        },
        "outputId": "aec783f2-1a02-459c-c513-f491e48e56a1"
      },
      "source": [
        "set2.show()"
      ],
      "execution_count": 65,
      "outputs": [
        {
          "output_type": "stream",
          "text": [
            "+----------+----------+------------------+\n",
            "|video_id_A|video_id_B|           distCol|\n",
            "+----------+----------+------------------+\n",
            "|      1550|8589938968|0.8461538461538461|\n",
            "|      3983|      6176|              0.88|\n",
            "|      2796|8589938833|               0.0|\n",
            "|      4927|      5018|               0.0|\n",
            "|      7965|8589937798|0.5102040816326531|\n",
            "|8589935013|8589939020|             0.875|\n",
            "|8589934648|8589935224|               0.0|\n",
            "|      2160|8589938155|               0.0|\n",
            "|      3985|8589935722|               0.0|\n",
            "|       761|8589935957|               0.0|\n",
            "|      1059|      3985|               0.0|\n",
            "|      1059|8589938816|               0.0|\n",
            "|8589937987|8589938440|               0.0|\n",
            "|      2796|8589942558|               0.0|\n",
            "|      5018|      7210|               0.0|\n",
            "|      6592|      7910|               0.0|\n",
            "|8589934648|8589942558|               0.0|\n",
            "|8589935957|8589942547|               0.0|\n",
            "|      3938|      5018|               0.0|\n",
            "|8589936473|8589942076|0.7638888888888888|\n",
            "+----------+----------+------------------+\n",
            "only showing top 20 rows\n",
            "\n"
          ],
          "name": "stdout"
        }
      ]
    },
    {
      "cell_type": "code",
      "metadata": {
        "id": "m_grFURui2Uj",
        "colab_type": "code",
        "colab": {
          "base_uri": "https://localhost:8080/",
          "height": 489
        },
        "outputId": "2c85658c-bcd3-4067-bc86-ecdc672e1ef3"
      },
      "source": [
        "set3.show()"
      ],
      "execution_count": 66,
      "outputs": [
        {
          "output_type": "stream",
          "text": [
            "+----------+----------+------------------+\n",
            "|video_id_A|video_id_B|           distCol|\n",
            "+----------+----------+------------------+\n",
            "|      6605|8589942558|               0.0|\n",
            "|8589938816|8589941458|               0.0|\n",
            "|      2160|8589935255|               0.0|\n",
            "|      2471|8589934648|               0.0|\n",
            "|      4697|8589935722|               0.0|\n",
            "|      6942|8589938968|0.8222222222222222|\n",
            "|8589940227|8589941364|0.8863636363636364|\n",
            "|       761|8589936239|               0.0|\n",
            "|8589938733|8589940818|               0.0|\n",
            "|      3439|      3667|               0.0|\n",
            "|      4697|8589935255|               0.0|\n",
            "|      1018|      5931|               0.0|\n",
            "|      2519|8589937357|               0.0|\n",
            "|      5286|8589940164|               0.0|\n",
            "|      6605|8589935224|               0.0|\n",
            "|8589938057|8589938126|0.8918918918918919|\n",
            "|      1531|8589935915|               0.0|\n",
            "|      2897|8589934890|0.8333333333333334|\n",
            "|8589935957|8589937862|               0.0|\n",
            "|8589937964|8589942558|               0.0|\n",
            "+----------+----------+------------------+\n",
            "only showing top 20 rows\n",
            "\n"
          ],
          "name": "stdout"
        }
      ]
    },
    {
      "cell_type": "code",
      "metadata": {
        "id": "6TPH4F5ii2OU",
        "colab_type": "code",
        "outputId": "f540cfd1-9d9a-4e8f-8f6c-0913a5f8daeb",
        "colab": {
          "base_uri": "https://localhost:8080/",
          "height": 144
        }
      },
      "source": [
        "ans.select('*').where(col('video_id_A')==\"6942\").show()"
      ],
      "execution_count": 72,
      "outputs": [
        {
          "output_type": "stream",
          "text": [
            "+----------+----------+------------------+\n",
            "|video_id_A|video_id_B|           distCol|\n",
            "+----------+----------+------------------+\n",
            "|      6942|8589938968|0.8222222222222222|\n",
            "|      6942|8589939993|               0.0|\n",
            "+----------+----------+------------------+\n",
            "\n"
          ],
          "name": "stdout"
        }
      ]
    },
    {
      "cell_type": "code",
      "metadata": {
        "id": "0mQlTRy59waS",
        "colab_type": "code",
        "colab": {}
      },
      "source": [
        "ans=ans.filter(ans.distCol>=0.5)"
      ],
      "execution_count": 0,
      "outputs": []
    },
    {
      "cell_type": "code",
      "metadata": {
        "id": "AQPTiPkLFSHn",
        "colab_type": "code",
        "colab": {
          "base_uri": "https://localhost:8080/",
          "height": 489
        },
        "outputId": "7e081011-cde1-4d46-f1ae-bdfc0c0442b5"
      },
      "source": [
        "ans.show()"
      ],
      "execution_count": 74,
      "outputs": [
        {
          "output_type": "stream",
          "text": [
            "+----------+----------+------------------+\n",
            "|video_id_A|video_id_B|           distCol|\n",
            "+----------+----------+------------------+\n",
            "|      1531|8589937619|0.8974358974358975|\n",
            "|      3974|8589941364|0.8974358974358975|\n",
            "|8589935915|8589937619|0.8974358974358975|\n",
            "|      3080|      3931| 0.896551724137931|\n",
            "|8589936300|8589942194|0.8958333333333334|\n",
            "|      1899|      6828|0.8958333333333334|\n",
            "|8589936046|8589942194|0.8958333333333334|\n",
            "|8589935227|8589936227|0.8947368421052632|\n",
            "|      1531|8589941406|0.8947368421052632|\n",
            "|8589935915|8589941406|0.8947368421052632|\n",
            "|       646|8589936227|0.8936170212765957|\n",
            "|      5584|8589938852|0.8928571428571429|\n",
            "|8589938057|8589938126|0.8918918918918919|\n",
            "|       646|8589936814|0.8913043478260869|\n",
            "|      7020|8589940869|          0.890625|\n",
            "|      5140|      7917|0.8888888888888888|\n",
            "|       869|8589940277|0.8888888888888888|\n",
            "|      1391|8589938181|0.8888888888888888|\n",
            "|      2953|8589935620|0.8888888888888888|\n",
            "|8589938786|8589940112|0.8888888888888888|\n",
            "+----------+----------+------------------+\n",
            "only showing top 20 rows\n",
            "\n"
          ],
          "name": "stdout"
        }
      ]
    },
    {
      "cell_type": "code",
      "metadata": {
        "id": "HrpCyxTmoDNQ",
        "colab_type": "code",
        "colab": {}
      },
      "source": [
        "# from pyspark.ml.feature import HashingTF, IDF\n",
        "# hashingTF = HashingTF(inputCol=\"Tokenized_Tags\", outputCol=\"tf\")\n",
        "# tf = hashingTF.transform(TestSDF.select(\"id\",\"Tokenized_Tags\"))\n",
        "\n",
        "# idf = IDF(inputCol=\"tf\", outputCol=\"feature\").fit(tf)\n",
        "# tfidf = idf.transform(tf)"
      ],
      "execution_count": 0,
      "outputs": []
    },
    {
      "cell_type": "code",
      "metadata": {
        "id": "DgiCP62MpAQW",
        "colab_type": "code",
        "colab": {}
      },
      "source": [
        "# #   tf.cache()\n",
        "# #   idf = IDF().fit(tf)\n",
        "# #   tfidf = idf.transform(tf)\n",
        "\n",
        "# from pyspark.ml.feature import Normalizer\n",
        "# normalizer = Normalizer(inputCol=\"feature\", outputCol=\"norm\")\n",
        "# data = normalizer.transform(tfidf)"
      ],
      "execution_count": 0,
      "outputs": []
    },
    {
      "cell_type": "code",
      "metadata": {
        "id": "V7KiLWi35K4z",
        "colab_type": "code",
        "outputId": "e208de5f-de4a-4a4f-86ec-264ba34ab413",
        "colab": {
          "base_uri": "https://localhost:8080/",
          "height": 217
        }
      },
      "source": [
        "# data.show(5)"
      ],
      "execution_count": 0,
      "outputs": [
        {
          "output_type": "stream",
          "text": [
            "+----------+--------------------+--------------------+--------------------+--------------------+\n",
            "|        id|      Tokenized_Tags|                  tf|             feature|                norm|\n",
            "+----------+--------------------+--------------------+--------------------+--------------------+\n",
            "|      3091|[affordable makeu...|(262144,[5262,199...|(262144,[5262,199...|(262144,[5262,199...|\n",
            "|      4894|[Linkin Park, One...|(262144,[21656,84...|(262144,[21656,84...|(262144,[21656,84...|\n",
            "|      7279|[carlibel55, carl...|(262144,[10116,37...|(262144,[10116,37...|(262144,[10116,37...|\n",
            "|8589938024|[Full Frontal wit...|(262144,[27323,66...|(262144,[27323,66...|(262144,[27323,66...|\n",
            "|8589942265|        [nerdwriter]|(262144,[109605],...|(262144,[109605],...|(262144,[109605],...|\n",
            "+----------+--------------------+--------------------+--------------------+--------------------+\n",
            "only showing top 5 rows\n",
            "\n"
          ],
          "name": "stdout"
        }
      ]
    },
    {
      "cell_type": "code",
      "metadata": {
        "id": "5AAvbPSjTxc4",
        "colab_type": "code",
        "colab": {}
      },
      "source": [
        "\n",
        "# from pyspark.sql.types import DoubleType"
      ],
      "execution_count": 0,
      "outputs": []
    },
    {
      "cell_type": "code",
      "metadata": {
        "id": "R-BPAgpg6pKz",
        "colab_type": "code",
        "outputId": "3fe0033a-3f2e-49b5-daf3-13601d7adddd",
        "colab": {
          "base_uri": "https://localhost:8080/",
          "height": 489
        }
      },
      "source": [
        "# import pyspark.sql.functions as psf\n",
        "# from pyspark.sql.functions import col\n",
        "# dot_udf = psf.udf(lambda x,y: float(x.dot(y)), DoubleType())\n",
        "# result=data.alias(\"i\").join(data.alias(\"j\"), psf.col(\"i.ID\") < psf.col(\"j.ID\"))\n",
        "# result=result.select(\n",
        "#         psf.col(\"i.ID\").alias(\"i\"), \n",
        "#         psf.col(\"j.ID\").alias(\"j\"), \n",
        "#         dot_udf(\"i.norm\", \"j.norm\").alias(\"dot\"))\n",
        "    \n",
        "# # result=result.sort(\"i\", \"j\")\n",
        "\n",
        "# result=result.sort(col(\"dot\").desc())\n",
        "# result.show()"
      ],
      "execution_count": 0,
      "outputs": [
        {
          "output_type": "stream",
          "text": [
            "+----------+----------+------------------+\n",
            "|         i|         j|               dot|\n",
            "+----------+----------+------------------+\n",
            "|      2727|8589936472|1.0000000000000007|\n",
            "|      5060|      5738|1.0000000000000007|\n",
            "|      7260|      7741|1.0000000000000004|\n",
            "|      1652|      2366|1.0000000000000004|\n",
            "|       610|      1262|1.0000000000000002|\n",
            "|      2759|8589936482|1.0000000000000002|\n",
            "|      6152|8589939207|1.0000000000000002|\n",
            "|      4116|8589938314|1.0000000000000002|\n",
            "|8589938210|8589938672|1.0000000000000002|\n",
            "|      4135|      4383|1.0000000000000002|\n",
            "|      5459|8589939207|1.0000000000000002|\n",
            "|      4417|      5312|1.0000000000000002|\n",
            "|      7402|8589942486|1.0000000000000002|\n",
            "|      6015|      7097|1.0000000000000002|\n",
            "|8589940276|8589940529|1.0000000000000002|\n",
            "|8589936018|8589936775|1.0000000000000002|\n",
            "|      5750|      6418|1.0000000000000002|\n",
            "|      5459|      6152|1.0000000000000002|\n",
            "|      5213|      6172|1.0000000000000002|\n",
            "|      7402|8589941791|1.0000000000000002|\n",
            "+----------+----------+------------------+\n",
            "only showing top 20 rows\n",
            "\n"
          ],
          "name": "stdout"
        }
      ]
    },
    {
      "cell_type": "code",
      "metadata": {
        "id": "tbfu2VUWu7TC",
        "colab_type": "code",
        "colab": {}
      },
      "source": [
        "\n",
        "# result.sort(col(\"dot\").desc())"
      ],
      "execution_count": 0,
      "outputs": []
    },
    {
      "cell_type": "code",
      "metadata": {
        "id": "I55uxBSmfK8i",
        "colab_type": "code",
        "colab": {}
      },
      "source": [
        "# content based recommender system\n",
        "# steps: \n",
        "# 1) lower case whole dataset\n",
        "# 2) remove stopwords\n",
        "# 3) create bag of words vectors in binary format 1/0\n",
        "# 4) calc cosine sim for all articles and find top 3 closest articles\n",
        "# 5) sort article ids with descen simi and removing same article id\n",
        "# 6) created recommendation column with top 3 article id's"
      ],
      "execution_count": 0,
      "outputs": []
    },
    {
      "cell_type": "code",
      "metadata": {
        "id": "WYDWzAyVrcve",
        "colab_type": "code",
        "colab": {}
      },
      "source": [
        ""
      ],
      "execution_count": 0,
      "outputs": []
    },
    {
      "cell_type": "code",
      "metadata": {
        "id": "ooS4clQAM0Tc",
        "colab_type": "code",
        "colab": {}
      },
      "source": [
        ""
      ],
      "execution_count": 0,
      "outputs": []
    },
    {
      "cell_type": "code",
      "metadata": {
        "id": "idEM-s0sqprn",
        "colab_type": "code",
        "colab": {}
      },
      "source": [
        ""
      ],
      "execution_count": 0,
      "outputs": []
    }
  ]
}