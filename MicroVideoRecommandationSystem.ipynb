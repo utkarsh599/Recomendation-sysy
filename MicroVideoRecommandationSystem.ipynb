{
  "nbformat": 4,
  "nbformat_minor": 0,
  "metadata": {
    "colab": {
      "name": "MicroVideoRecommandationSystem.ipynb",
      "provenance": [],
      "collapsed_sections": [],
      "authorship_tag": "ABX9TyMk9TFX3+1hrPc4mRbzwTRv",
      "include_colab_link": true
    },
    "kernelspec": {
      "name": "python3",
      "display_name": "Python 3"
    }
  },
  "cells": [
    {
      "cell_type": "markdown",
      "metadata": {
        "id": "view-in-github",
        "colab_type": "text"
      },
      "source": [
        "<a href=\"https://colab.research.google.com/github/utkarsh599/Recomendation-sysy/blob/master/MicroVideoRecommandationSystem.ipynb\" target=\"_parent\"><img src=\"https://colab.research.google.com/assets/colab-badge.svg\" alt=\"Open In Colab\"/></a>"
      ]
    },
    {
      "cell_type": "code",
      "metadata": {
        "id": "qdOTL3avyNwy",
        "colab_type": "code",
        "colab": {}
      },
      "source": [
        "!apt-get install openjdk-8-jdk-headless -qq > /dev/null\n",
        "!wget -q http://www-eu.apache.org/dist/spark/spark-2.4.5/spark-2.4.5-bin-hadoop2.7.tgz\n",
        "!tar xf spark-2.4.5-bin-hadoop2.7.tgz\n",
        "!pip install -q findspark"
      ],
      "execution_count": 0,
      "outputs": []
    },
    {
      "cell_type": "code",
      "metadata": {
        "id": "NmnWa5njyZ6U",
        "colab_type": "code",
        "outputId": "b8ba778c-53c0-4514-aa6c-149c4a686fcc",
        "colab": {
          "base_uri": "https://localhost:8080/",
          "height": 34
        }
      },
      "source": [
        "!pip install py4j"
      ],
      "execution_count": 7,
      "outputs": [
        {
          "output_type": "stream",
          "text": [
            "Requirement already satisfied: py4j in /usr/local/lib/python3.6/dist-packages (0.10.9)\n"
          ],
          "name": "stdout"
        }
      ]
    },
    {
      "cell_type": "code",
      "metadata": {
        "id": "iVqjjiS2ydog",
        "colab_type": "code",
        "colab": {}
      },
      "source": [
        "import os\n",
        "os.environ[\"JAVA_HOME\"] = \"/usr/lib/jvm/java-8-openjdk-amd64\"\n",
        "os.environ[\"SPARK_HOME\"] = \"/content/spark-2.4.5-bin-hadoop2.7\""
      ],
      "execution_count": 0,
      "outputs": []
    },
    {
      "cell_type": "code",
      "metadata": {
        "id": "BPwkAidKy5As",
        "colab_type": "code",
        "colab": {}
      },
      "source": [
        "import findspark\n",
        "findspark.init()"
      ],
      "execution_count": 0,
      "outputs": []
    },
    {
      "cell_type": "code",
      "metadata": {
        "id": "tZPQOsHFy92W",
        "colab_type": "code",
        "colab": {}
      },
      "source": [
        "import pyspark"
      ],
      "execution_count": 0,
      "outputs": []
    },
    {
      "cell_type": "code",
      "metadata": {
        "id": "OUFY-pYcy-kE",
        "colab_type": "code",
        "outputId": "f28c8bf9-c1aa-45ed-dc00-ad8168954e18",
        "colab": {
          "base_uri": "https://localhost:8080/",
          "height": 121
        }
      },
      "source": [
        "from google.colab import drive\n",
        "drive.mount('/content/gdrive')"
      ],
      "execution_count": 11,
      "outputs": [
        {
          "output_type": "stream",
          "text": [
            "Go to this URL in a browser: https://accounts.google.com/o/oauth2/auth?client_id=947318989803-6bn6qk8qdgf4n4g3pfee6491hc0brc4i.apps.googleusercontent.com&redirect_uri=urn%3aietf%3awg%3aoauth%3a2.0%3aoob&response_type=code&scope=email%20https%3a%2f%2fwww.googleapis.com%2fauth%2fdocs.test%20https%3a%2f%2fwww.googleapis.com%2fauth%2fdrive%20https%3a%2f%2fwww.googleapis.com%2fauth%2fdrive.photos.readonly%20https%3a%2f%2fwww.googleapis.com%2fauth%2fpeopleapi.readonly\n",
            "\n",
            "Enter your authorization code:\n",
            "··········\n",
            "Mounted at /content/gdrive\n"
          ],
          "name": "stdout"
        }
      ]
    },
    {
      "cell_type": "code",
      "metadata": {
        "id": "Yr9kCMOczBbY",
        "colab_type": "code",
        "colab": {}
      },
      "source": [
        "from pyspark.sql import SparkSession\n"
      ],
      "execution_count": 0,
      "outputs": []
    },
    {
      "cell_type": "code",
      "metadata": {
        "id": "JtRuqQ3XzkBV",
        "colab_type": "code",
        "colab": {}
      },
      "source": [
        "spark = SparkSession.builder.master(\"local[*]\").getOrCreate()"
      ],
      "execution_count": 0,
      "outputs": []
    },
    {
      "cell_type": "code",
      "metadata": {
        "id": "0T-7p-akSXbc",
        "colab_type": "code",
        "colab": {}
      },
      "source": [
        "videos1 =  spark.read.csv(\"/content/gdrive/My Drive/Colab Notebooks/GBvideos.csv\", inferSchema=True, header=True)\n",
        "videos2 =  spark.read.csv(\"/content/gdrive/My Drive/Colab Notebooks/USvideos.csv\", inferSchema=True, header=True)"
      ],
      "execution_count": 0,
      "outputs": []
    },
    {
      "cell_type": "code",
      "metadata": {
        "id": "ol9UIcClSsJ1",
        "colab_type": "code",
        "colab": {
          "base_uri": "https://localhost:8080/",
          "height": 202
        },
        "outputId": "c4002ee5-29d2-440d-92d8-f5e50cfe2c02"
      },
      "source": [
        "videos1.show(5)"
      ],
      "execution_count": 22,
      "outputs": [
        {
          "output_type": "stream",
          "text": [
            "+-----------+--------------------+-----------------+-----------+--------------------+-------+-----+--------+-------------+--------------------+-----+\n",
            "|   video_id|               title|    channel_title|category_id|                tags|  views|likes|dislikes|comment_total|      thumbnail_link| date|\n",
            "+-----------+--------------------+-----------------+-----------+--------------------+-------+-----+--------+-------------+--------------------+-----+\n",
            "|jt2OHQh0HoQ|Live Apple Event ...|      Apple Event|         28|apple events|appl...|7426393|78240|   13548|          705|https://i.ytimg.c...|13.09|\n",
            "|AqokkXoa7uE|Holly and Phillip...|     This Morning|         24|this morning|inte...| 494203| 2651|    1309|            0|https://i.ytimg.c...|13.09|\n",
            "|YPVcg45W0z4|My DNA Test Resul...|     emmablackery|         24|emmablackery|emma...| 142819|13119|     151|         1141|https://i.ytimg.c...|13.09|\n",
            "|T_PuZBdT2iM|getting into a co...|            ProZD|          1|skit|korean|langu...|1580028|65729|    1529|         3598|https://i.ytimg.c...|13.09|\n",
            "|NsjsmgmbCfc|Baby Name Challenge!|Sprinkleofglitter|         26|sprinkleofglitter...|  40592| 5019|      57|          490|https://i.ytimg.c...|13.09|\n",
            "+-----------+--------------------+-----------------+-----------+--------------------+-------+-----+--------+-------------+--------------------+-----+\n",
            "only showing top 5 rows\n",
            "\n"
          ],
          "name": "stdout"
        }
      ]
    },
    {
      "cell_type": "code",
      "metadata": {
        "id": "D2izg3arSwxi",
        "colab_type": "code",
        "colab": {
          "base_uri": "https://localhost:8080/",
          "height": 101
        },
        "outputId": "dbfa5403-2ded-43bc-fd2d-3e31c14f41cd"
      },
      "source": [
        "videos1_rdd = videos1.select(['title']).rdd.flatMap(lambda x: x)\n",
        "videos1_rdd = videos1_rdd.filter(lambda x: x is not None).filter(lambda x: x!='')\n",
        "videos1_rdd.take(5)\n",
        "\n",
        "\n",
        "videos2_rdd = videos2.select(['title']).rdd.flatMap(lambda x: x)\n",
        "videos2_rdd = videos2_rdd.filter(lambda x: x is not None).filter(lambda x: x!='')\n",
        "videos2_rdd.take(5)"
      ],
      "execution_count": 25,
      "outputs": [
        {
          "output_type": "execute_result",
          "data": {
            "text/plain": [
              "['1 YEAR OF VLOGGING -- HOW LOGAN PAUL CHANGED YOUTUBE FOREVER!',\n",
              " 'iPhone X — Introducing iPhone X — Apple',\n",
              " 'My Response',\n",
              " 'Apple iPhone X first look',\n",
              " 'iPhone X (parody)']"
            ]
          },
          "metadata": {
            "tags": []
          },
          "execution_count": 25
        }
      ]
    },
    {
      "cell_type": "code",
      "metadata": {
        "id": "6B4r8VigS9wc",
        "colab_type": "code",
        "colab": {}
      },
      "source": [
        "header1_Vid=videos1_rdd.first()\n",
        "\n",
        "header2_Vid=videos2_rdd.first()"
      ],
      "execution_count": 0,
      "outputs": []
    },
    {
      "cell_type": "code",
      "metadata": {
        "id": "A2YU5su5TFt6",
        "colab_type": "code",
        "colab": {}
      },
      "source": [
        "data_rmv_col_vid1 = videos1_rdd.filter(lambda row: row != header1_Vid)\n",
        "\n",
        "data_rmv_col_vid2 = videos2_rdd.filter(lambda row: row != header2_Vid)"
      ],
      "execution_count": 0,
      "outputs": []
    },
    {
      "cell_type": "code",
      "metadata": {
        "id": "D4vRltCaTNaU",
        "colab_type": "code",
        "colab": {}
      },
      "source": [
        "def lower(x):\n",
        "  return x.lower()\n",
        "\n",
        "\n",
        "lowerCase1_VidRDD = data_rmv_col_vid1.map(lower)\n",
        "\n",
        "lowerCase2_VidRDD = data_rmv_col_vid2.map(lower)"
      ],
      "execution_count": 0,
      "outputs": []
    },
    {
      "cell_type": "code",
      "metadata": {
        "id": "d1mw7s6TTV5p",
        "colab_type": "code",
        "colab": {
          "base_uri": "https://localhost:8080/",
          "height": 101
        },
        "outputId": "206c5024-776f-4541-dc10-9e51a0fc5759"
      },
      "source": [
        "lowerCase1_VidRDD.take(5)\n",
        "\n",
        "lowerCase2_VidRDD.take(5)"
      ],
      "execution_count": 33,
      "outputs": [
        {
          "output_type": "execute_result",
          "data": {
            "text/plain": [
              "['iphone x — introducing iphone x — apple',\n",
              " 'my response',\n",
              " 'apple iphone x first look',\n",
              " 'iphone x (parody)',\n",
              " 'the disaster artist | official trailer hd | a24']"
            ]
          },
          "metadata": {
            "tags": []
          },
          "execution_count": 33
        }
      ]
    },
    {
      "cell_type": "code",
      "metadata": {
        "id": "-OqYB-zTVIV9",
        "colab_type": "code",
        "colab": {}
      },
      "source": [
        "import spacy\n",
        "nlp = spacy.load(\"en_core_web_sm\")"
      ],
      "execution_count": 0,
      "outputs": []
    },
    {
      "cell_type": "code",
      "metadata": {
        "id": "WazwF2Y4Tcu7",
        "colab_type": "code",
        "colab": {}
      },
      "source": [
        "def sent_TokenizeFunct(x):\n",
        "    doc=nlp(x)\n",
        "    #return doc\n",
        "    tokens=[]\n",
        "    for token in doc:\n",
        "      if((token.is_stop==False and token.is_punct==False) and token.is_alpha==True):\n",
        "        tokens.append(token.lemma_)\n",
        "    return ' '.join(tokens)\n",
        "\n",
        "Vid_sentTokenizeRDD1 = lowerCase1_VidRDD.map(sent_TokenizeFunct)\n",
        "\n",
        "Vid_sentTokenizeRDD2 = lowerCase2_VidRDD.map(sent_TokenizeFunct)"
      ],
      "execution_count": 0,
      "outputs": []
    },
    {
      "cell_type": "code",
      "metadata": {
        "id": "elw4sjUbU_It",
        "colab_type": "code",
        "colab": {
          "base_uri": "https://localhost:8080/",
          "height": 101
        },
        "outputId": "32cb80d9-f64c-4b8b-dc73-9fd84bc1dae7"
      },
      "source": [
        "Vid_sentTokenizeRDD1.take(5)"
      ],
      "execution_count": 38,
      "outputs": [
        {
          "output_type": "execute_result",
          "data": {
            "text/plain": [
              "['holly phillip meet samantha sex robot morning',\n",
              " 'dna test result',\n",
              " 'get conversation language actually speak',\n",
              " 'baby challenge',\n",
              " 'reveal fifa stat chelsea hazard luiz christensen']"
            ]
          },
          "metadata": {
            "tags": []
          },
          "execution_count": 38
        }
      ]
    },
    {
      "cell_type": "code",
      "metadata": {
        "id": "XM3Nh-ybVEwT",
        "colab_type": "code",
        "colab": {
          "base_uri": "https://localhost:8080/",
          "height": 101
        },
        "outputId": "056981a7-650b-4f1a-de56-0ee29dbda8c1"
      },
      "source": [
        "Vid_sentTokenizeRDD2.take(5)"
      ],
      "execution_count": 45,
      "outputs": [
        {
          "output_type": "execute_result",
          "data": {
            "text/plain": [
              "['iphone x introduce iphone x apple',\n",
              " 'response',\n",
              " 'apple iphone x look',\n",
              " 'iphone x parody',\n",
              " 'disaster artist official trailer hd']"
            ]
          },
          "metadata": {
            "tags": []
          },
          "execution_count": 45
        }
      ]
    },
    {
      "cell_type": "code",
      "metadata": {
        "id": "zFjNkAe7VSh7",
        "colab_type": "code",
        "colab": {}
      },
      "source": [
        "tags_rdd1=videos1.select(['tags']).rdd.flatMap(lambda x:x)\n",
        "tags_rdd2=videos2.select(['tags']).rdd.flatMap(lambda x:x)"
      ],
      "execution_count": 0,
      "outputs": []
    },
    {
      "cell_type": "code",
      "metadata": {
        "id": "yj3kdn8ZYK-8",
        "colab_type": "code",
        "colab": {}
      },
      "source": [
        "header_tags1 = tags_rdd1.first()"
      ],
      "execution_count": 0,
      "outputs": []
    },
    {
      "cell_type": "code",
      "metadata": {
        "id": "UCJbDGTfVhkp",
        "colab_type": "code",
        "colab": {}
      },
      "source": [
        "tags_rmv_col1 = tags_rdd1.filter(lambda row: row != header_tags1)"
      ],
      "execution_count": 0,
      "outputs": []
    },
    {
      "cell_type": "code",
      "metadata": {
        "id": "iyMEJH0LVheq",
        "colab_type": "code",
        "colab": {}
      },
      "source": [
        "def split1(x):\n",
        "  return (x.split(\"|\"))"
      ],
      "execution_count": 0,
      "outputs": []
    },
    {
      "cell_type": "code",
      "metadata": {
        "id": "5Zn5tcWyVhXU",
        "colab_type": "code",
        "colab": {}
      },
      "source": [
        "tags_rdd1=tags_rmv_col1.map(split1)"
      ],
      "execution_count": 0,
      "outputs": []
    },
    {
      "cell_type": "code",
      "metadata": {
        "id": "q9sQmvVRY83p",
        "colab_type": "code",
        "colab": {}
      },
      "source": [
        "from pyspark.sql import Row\n",
        "from pyspark.sql.functions import monotonically_increasing_id\n",
        "\n",
        "row_title1 = Row(\"LemmetizeTitle\") # Or some other column name\n",
        "Title_DF1 = Vid_sentTokenizeRDD1.map(row_title1).toDF()\n",
        "Title_DF1 = Title_DF1.select(\"*\").withColumn(\"id\", monotonically_increasing_id())\n",
        "\n",
        "row_tags1=Row(\"Tokenized_Tags\")\n",
        "Tags_DF1=tags_rdd1.map(row_tags1).toDF()\n",
        "Tags_DF1 = Tags_DF1.select(\"*\").withColumn(\"id\", monotonically_increasing_id())"
      ],
      "execution_count": 0,
      "outputs": []
    },
    {
      "cell_type": "code",
      "metadata": {
        "id": "TOA6Vpo0t1vc",
        "colab_type": "code",
        "colab": {}
      },
      "source": [
        "row_title2 = Row(\"LemmetizeTitle\") # Or some other column name\n",
        "Title_DF2 = Vid_sentTokenizeRDD2.map(row_title1).toDF()\n",
        "Title_DF2 = Title_DF2.select(\"*\").withColumn(\"id\", monotonically_increasing_id())\n",
        "\n",
        "row_tags2=Row(\"Tokenized_Tags\")\n",
        "Tags_DF2=tags_rdd2.map(row_tags2).toDF()\n",
        "Tags_DF2 = Tags_DF2.select(\"*\").withColumn(\"id\", monotonically_increasing_id())"
      ],
      "execution_count": 0,
      "outputs": []
    },
    {
      "cell_type": "code",
      "metadata": {
        "id": "xLsBKukRwaz1",
        "colab_type": "code",
        "colab": {
          "base_uri": "https://localhost:8080/",
          "height": 202
        },
        "outputId": "fab97ca0-30cd-4ca0-9677-abcd956049e1"
      },
      "source": [
        "Title_DF2.show(5)"
      ],
      "execution_count": 62,
      "outputs": [
        {
          "output_type": "stream",
          "text": [
            "+--------------------+---+\n",
            "|      LemmetizeTitle| id|\n",
            "+--------------------+---+\n",
            "|iphone x introduc...|  0|\n",
            "|            response|  1|\n",
            "| apple iphone x look|  2|\n",
            "|     iphone x parody|  3|\n",
            "|disaster artist o...|  4|\n",
            "+--------------------+---+\n",
            "only showing top 5 rows\n",
            "\n"
          ],
          "name": "stdout"
        }
      ]
    },
    {
      "cell_type": "code",
      "metadata": {
        "id": "nkRZMVA9ila9",
        "colab_type": "code",
        "colab": {
          "base_uri": "https://localhost:8080/",
          "height": 202
        },
        "outputId": "2a2caa12-fdbc-48f8-d0a4-3ac85c0b1740"
      },
      "source": [
        "Title_DF1.show(5)"
      ],
      "execution_count": 54,
      "outputs": [
        {
          "output_type": "stream",
          "text": [
            "+--------------------+---+\n",
            "|      LemmetizeTitle| id|\n",
            "+--------------------+---+\n",
            "|holly phillip mee...|  0|\n",
            "|     dna test result|  1|\n",
            "|get conversation ...|  2|\n",
            "|      baby challenge|  3|\n",
            "|reveal fifa stat ...|  4|\n",
            "+--------------------+---+\n",
            "only showing top 5 rows\n",
            "\n"
          ],
          "name": "stdout"
        }
      ]
    },
    {
      "cell_type": "code",
      "metadata": {
        "id": "8msneWu4jelb",
        "colab_type": "code",
        "colab": {
          "base_uri": "https://localhost:8080/",
          "height": 202
        },
        "outputId": "178c940b-a55e-47a2-91bd-67f7af8ac542"
      },
      "source": [
        "Tags_DF1.show(5)"
      ],
      "execution_count": 55,
      "outputs": [
        {
          "output_type": "stream",
          "text": [
            "+--------------------+---+\n",
            "|      Tokenized_Tags| id|\n",
            "+--------------------+---+\n",
            "|[this morning, in...|  0|\n",
            "|[emmablackery, em...|  1|\n",
            "|[skit, korean, la...|  2|\n",
            "|[sprinkleofglitte...|  3|\n",
            "|[Rio Ferdinand, R...|  4|\n",
            "+--------------------+---+\n",
            "only showing top 5 rows\n",
            "\n"
          ],
          "name": "stdout"
        }
      ]
    },
    {
      "cell_type": "code",
      "metadata": {
        "id": "XoZi3lPvjjDP",
        "colab_type": "code",
        "colab": {}
      },
      "source": [
        "videos_DF1 = Title_DF1.join(Tags_DF1, on=['id'], how='left_outer')"
      ],
      "execution_count": 0,
      "outputs": []
    },
    {
      "cell_type": "code",
      "metadata": {
        "id": "yiqK4-TaxjsX",
        "colab_type": "code",
        "colab": {}
      },
      "source": [
        "videos_DF2 = Title_DF2.join(Tags_DF2, on=['id'], how='left_outer')"
      ],
      "execution_count": 0,
      "outputs": []
    },
    {
      "cell_type": "code",
      "metadata": {
        "id": "TxHML3bpoun0",
        "colab_type": "code",
        "colab": {
          "base_uri": "https://localhost:8080/",
          "height": 202
        },
        "outputId": "0994b28b-df1a-4358-ced4-5c8f13758079"
      },
      "source": [
        "videos_DF1.show(5)"
      ],
      "execution_count": 57,
      "outputs": [
        {
          "output_type": "stream",
          "text": [
            "+----+--------------------+--------------------+\n",
            "|  id|      LemmetizeTitle|      Tokenized_Tags|\n",
            "+----+--------------------+--------------------+\n",
            "|  26|testing soph x ma...|[grey hair, sophd...|\n",
            "|  29|move vlog pink ho...|[moving vlog, ike...|\n",
            "| 474|doom wolfenstein ...|[PC, IGN, PS4, Do...|\n",
            "| 964|lloyd new lego ni...|[Google, YouTube,...|\n",
            "|1677|project car ceo q...|[Project Cars 2 G...|\n",
            "+----+--------------------+--------------------+\n",
            "only showing top 5 rows\n",
            "\n"
          ],
          "name": "stdout"
        }
      ]
    },
    {
      "cell_type": "code",
      "metadata": {
        "id": "zBHSnfOso9NW",
        "colab_type": "code",
        "colab": {
          "base_uri": "https://localhost:8080/",
          "height": 454
        },
        "outputId": "54ec4fe4-7001-46a5-e713-3d5bd352ba52"
      },
      "source": [
        "from pyspark.ml.feature import HashingTF, IDF, Tokenizer\n",
        "\n",
        "\n",
        "tokenizer = Tokenizer(inputCol=\"LemmetizeTitle\", outputCol=\"words\")\n",
        "wordsData = tokenizer.transform(videos_DF1)\n",
        "\n",
        "hashingTF = HashingTF(inputCol=\"words\", outputCol=\"rawFeatures\", numFeatures=5)\n",
        "featurizedData = hashingTF.transform(wordsData)\n",
        "\n",
        "idf = IDF(inputCol=\"rawFeatures\", outputCol=\"features\")\n",
        "idfModel = idf.fit(featurizedData)\n",
        "rescaledData1 = idfModel.transform(featurizedData)\n",
        "\n",
        "rescaledData1.select(\"id\", \"features\").show()"
      ],
      "execution_count": 58,
      "outputs": [
        {
          "output_type": "stream",
          "text": [
            "+----+--------------------+\n",
            "|  id|            features|\n",
            "+----+--------------------+\n",
            "|  26|(5,[0,1,2,3,4],[0...|\n",
            "|  29|(5,[0,1,2,4],[0.3...|\n",
            "| 474|(5,[0,1,2,3],[0.7...|\n",
            "| 964|(5,[0,1,4],[1.416...|\n",
            "|1677|(5,[0,1,2,3,4],[0...|\n",
            "|1697|(5,[0,1,2,4],[0.3...|\n",
            "|1806|(5,[1,2,3,4],[0.3...|\n",
            "|1950|(5,[1,3,4],[0.761...|\n",
            "|2040|(5,[0,1],[1.06220...|\n",
            "|2214|(5,[3,4],[0.44548...|\n",
            "|2250|(5,[0,1,4],[0.354...|\n",
            "|2453|(5,[0,2,3],[0.354...|\n",
            "|2509|(5,[1,3,4],[1.142...|\n",
            "|2529|(5,[0,2,4],[2.124...|\n",
            "|2927|(5,[0,1,3],[0.354...|\n",
            "|3091|(5,[0,1,2,3,4],[0...|\n",
            "|3506|(5,[0,1,2,3,4],[1...|\n",
            "|3764|(5,[0,4],[0.70813...|\n",
            "|4590|(5,[0,1,4],[0.708...|\n",
            "|4823|(5,[0,3,4],[0.354...|\n",
            "+----+--------------------+\n",
            "only showing top 20 rows\n",
            "\n"
          ],
          "name": "stdout"
        }
      ]
    },
    {
      "cell_type": "code",
      "metadata": {
        "id": "Gf4t4c9itrfm",
        "colab_type": "code",
        "colab": {
          "base_uri": "https://localhost:8080/",
          "height": 454
        },
        "outputId": "a64d3d3e-3f25-4783-ee81-236cf0e19093"
      },
      "source": [
        "tokenizer = Tokenizer(inputCol=\"LemmetizeTitle\", outputCol=\"words\")\n",
        "wordsData = tokenizer.transform(videos_DF2)\n",
        "\n",
        "hashingTF = HashingTF(inputCol=\"words\", outputCol=\"rawFeatures\", numFeatures=5)\n",
        "featurizedData = hashingTF.transform(wordsData)\n",
        "\n",
        "idf = IDF(inputCol=\"rawFeatures\", outputCol=\"features\")\n",
        "idfModel = idf.fit(featurizedData)\n",
        "rescaledData2 = idfModel.transform(featurizedData)\n",
        "\n",
        "rescaledData2.select(\"id\", \"features\").show()"
      ],
      "execution_count": 66,
      "outputs": [
        {
          "output_type": "stream",
          "text": [
            "+----+--------------------+\n",
            "|  id|            features|\n",
            "+----+--------------------+\n",
            "|  26|(5,[0,1,2,3,4],[0...|\n",
            "|  29|(5,[3,4],[0.47140...|\n",
            "| 474|(5,[0,1,2,4],[0.7...|\n",
            "| 964|(5,[0,1,3,4],[0.7...|\n",
            "|1677|(5,[0,1],[0.35585...|\n",
            "|1697|(5,[1,2,3,4],[0.3...|\n",
            "|1806|(5,[0,3],[0.71170...|\n",
            "|1950|(5,[1,2,4],[1.110...|\n",
            "|2040|(5,[0,1,2,4],[0.7...|\n",
            "|2214|(5,[0,1],[0.71170...|\n",
            "|2250|(5,[0,3,4],[1.423...|\n",
            "|2453|(5,[0,1,3,4],[0.3...|\n",
            "|2509|(5,[0,4],[0.35585...|\n",
            "|2529|(5,[0,1,4],[0.355...|\n",
            "|2927|(5,[0,1,2,4],[0.7...|\n",
            "|3091|(5,[0,1,2,3,4],[0...|\n",
            "|3506|(5,[0,1,2],[0.711...|\n",
            "|3764|(5,[0,1,2,3,4],[0...|\n",
            "|4590|(5,[1,3,4],[0.370...|\n",
            "|4823|(5,[1,2,3,4],[0.3...|\n",
            "+----+--------------------+\n",
            "only showing top 20 rows\n",
            "\n"
          ],
          "name": "stdout"
        }
      ]
    },
    {
      "cell_type": "code",
      "metadata": {
        "id": "i4LiBzhwrq_k",
        "colab_type": "code",
        "colab": {
          "base_uri": "https://localhost:8080/",
          "height": 454
        },
        "outputId": "ef67f6d0-be1e-4d11-e430-9481cc52c20e"
      },
      "source": [
        "from pyspark.ml.feature import MinHashLSH\n",
        "\n",
        "MHL=MinHashLSH(inputCol=\"features\", outputCol=\"lsh\", numHashTables=5).fit(rescaledData1)\n",
        "MHL.transform(rescaledData1).show()"
      ],
      "execution_count": 70,
      "outputs": [
        {
          "output_type": "stream",
          "text": [
            "+----+--------------------+--------------------+--------------------+--------------------+--------------------+--------------------+\n",
            "|  id|      LemmetizeTitle|      Tokenized_Tags|               words|         rawFeatures|            features|                 lsh|\n",
            "+----+--------------------+--------------------+--------------------+--------------------+--------------------+--------------------+\n",
            "|  26|testing soph x ma...|[grey hair, sophd...|[testing, soph, x...|(5,[0,1,2,3,4],[1...|(5,[0,1,2,3,4],[0...|[[1.692739828E9],...|\n",
            "|  29|move vlog pink ho...|[moving vlog, ike...|[move, vlog, pink...|(5,[0,1,2,4],[1.0...|(5,[0,1,2,4],[0.3...|[[1.692739828E9],...|\n",
            "| 474|doom wolfenstein ...|[PC, IGN, PS4, Do...|[doom, wolfenstei...|(5,[0,1,2,3],[2.0...|(5,[0,1,2,3],[0.7...|[[1.742470823E9],...|\n",
            "| 964|lloyd new lego ni...|[Google, YouTube,...|[lloyd, new, lego...|(5,[0,1,4],[4.0,3...|(5,[0,1,4],[1.416...|[[1.692739828E9],...|\n",
            "|1677|project car ceo q...|[Project Cars 2 G...|[project, car, ce...|(5,[0,1,2,3,4],[1...|(5,[0,1,2,3,4],[0...|[[1.692739828E9],...|\n",
            "|1697|shakira perro fie...|[Shakira ft. Nick...|[shakira, perro, ...|(5,[0,1,2,4],[1.0...|(5,[0,1,2,4],[0.3...|[[1.692739828E9],...|\n",
            "|1806|shane mcmahon pro...|[wwe, world wrest...|[shane, mcmahon, ...|(5,[1,2,3,4],[1.0...|(5,[1,2,3,4],[0.3...|[[1.692739828E9],...|\n",
            "|1950|norm macdonald co...|[Norm macdonald, ...|[norm, macdonald,...|(5,[1,3,4],[2.0,1...|(5,[1,3,4],[0.761...|[[1.692739828E9],...|\n",
            "|2040|noah cyrus ft xxx...|[Noah Cyrus, Noah...|[noah, cyrus, ft,...| (5,[0,1],[3.0,1.0])|(5,[0,1],[1.06220...|[[1.841932813E9],...|\n",
            "|2214|  hit run drive liza|[liza, lizza, liz...|[hit, run, drive,...| (5,[3,4],[1.0,3.0])|(5,[3,4],[0.44548...|[[1.692739828E9],...|\n",
            "|2250|jumanji welcome j...|[The Rock, The Ro...|[jumanji, welcome...|(5,[0,1,4],[1.0,1...|(5,[0,1,4],[0.354...|[[1.692739828E9],...|\n",
            "|2453|   popular film love|[Films, Popular F...|[popular, film, l...|(5,[0,2,3],[1.0,1...|(5,[0,2,3],[0.354...|[[1.742470823E9],...|\n",
            "|2509|good goodbye sam ...|[too good at good...|[good, goodbye, s...|(5,[1,3,4],[3.0,2...|(5,[1,3,4],[1.142...|[[1.692739828E9],...|\n",
            "|2529|england woman rus...|[FATV, England, E...|[england, woman, ...|(5,[0,2,4],[6.0,1...|(5,[0,2,4],[2.124...|[[1.692739828E9],...|\n",
            "|2927|       find bad book|            [[none]]|   [find, bad, book]|(5,[0,1,3],[1.0,1...|(5,[0,1,3],[0.354...|[[1.742470823E9],...|\n",
            "|3091|drugstore afforda...|[affordable makeu...|[drugstore, affor...|(5,[0,1,2,3,4],[2...|(5,[0,1,2,3,4],[0...|[[1.692739828E9],...|\n",
            "|3506|people freak trum...|[sxephil, DeFranc...|[people, freak, t...|(5,[0,1,2,3,4],[4...|(5,[0,1,2,3,4],[1...|[[1.692739828E9],...|\n",
            "|3764|highlight town su...|[Football League,...|[highlight, town,...| (5,[0,4],[2.0,1.0])|(5,[0,4],[0.70813...|[[1.692739828E9],...|\n",
            "|4590|thing learn year ...|[itsgrace, funny,...|[thing, learn, ye...|(5,[0,1,4],[2.0,1...|(5,[0,1,4],[0.708...|[[1.692739828E9],...|\n",
            "|4823|buy boyfriend outfit|[jenna, marbles, ...|[buy, boyfriend, ...|(5,[0,3,4],[1.0,1...|(5,[0,3,4],[0.354...|[[1.692739828E9],...|\n",
            "+----+--------------------+--------------------+--------------------+--------------------+--------------------+--------------------+\n",
            "only showing top 20 rows\n",
            "\n"
          ],
          "name": "stdout"
        }
      ]
    },
    {
      "cell_type": "code",
      "metadata": {
        "id": "n2Py3Q2p3qTg",
        "colab_type": "code",
        "colab": {}
      },
      "source": [
        "from pyspark.sql.functions import col"
      ],
      "execution_count": 0,
      "outputs": []
    },
    {
      "cell_type": "code",
      "metadata": {
        "id": "ulx3yKat1LB5",
        "colab_type": "code",
        "colab": {
          "base_uri": "https://localhost:8080/",
          "height": 34
        },
        "outputId": "ece06aa3-ce91-4d30-bcc2-cf0b8e75ffb4"
      },
      "source": [
        "print(\"Approximately joining dfA and dfB on distance smaller than 0.6:\")\n",
        "result=MHL.approxSimilarityJoin(rescaledData1, rescaledData2, 0.6, distCol=\"JaccardDistance\")\\\n",
        "    .select(col(\"datasetA.id\").alias(\"idA\"),\n",
        "            col(\"datasetB.id\").alias(\"idB\"),\n",
        "            col(\"JaccardDistance\"))"
      ],
      "execution_count": 90,
      "outputs": [
        {
          "output_type": "stream",
          "text": [
            "Approximately joining dfA and dfB on distance smaller than 0.6:\n"
          ],
          "name": "stdout"
        }
      ]
    },
    {
      "cell_type": "code",
      "metadata": {
        "id": "32Uo8ueQ2ugI",
        "colab_type": "code",
        "colab": {
          "base_uri": "https://localhost:8080/",
          "height": 454
        },
        "outputId": "080c96b8-72f0-4ff4-9dc9-fb3382c98f07"
      },
      "source": [
        "result.show()"
      ],
      "execution_count": 91,
      "outputs": [
        {
          "output_type": "stream",
          "text": [
            "+---+----+-------------------+\n",
            "|idA| idB|    JaccardDistance|\n",
            "+---+----+-------------------+\n",
            "| 26|  89|0.19999999999999996|\n",
            "| 26| 194|0.19999999999999996|\n",
            "| 26| 369|0.19999999999999996|\n",
            "| 26|1032|0.19999999999999996|\n",
            "| 26|2662|                0.4|\n",
            "| 26|2665|                0.4|\n",
            "| 26|3223|0.19999999999999996|\n",
            "| 26|3430|                0.4|\n",
            "| 26|3790|                0.4|\n",
            "| 26|3987|                0.0|\n",
            "| 26|4687|                0.4|\n",
            "| 26|5484|0.19999999999999996|\n",
            "| 26|5916|0.19999999999999996|\n",
            "| 26|6807|                0.4|\n",
            "| 26|7275|                0.4|\n",
            "| 26|7503|                0.4|\n",
            "| 26|7552|0.19999999999999996|\n",
            "| 26|7646|                0.4|\n",
            "| 26|7780|0.19999999999999996|\n",
            "| 29| 298|                0.4|\n",
            "+---+----+-------------------+\n",
            "only showing top 20 rows\n",
            "\n"
          ],
          "name": "stdout"
        }
      ]
    },
    {
      "cell_type": "code",
      "metadata": {
        "id": "1DbCh80SA2eW",
        "colab_type": "code",
        "colab": {}
      },
      "source": [
        "from pyspark.sql.functions import countDistinct"
      ],
      "execution_count": 0,
      "outputs": []
    },
    {
      "cell_type": "code",
      "metadata": {
        "id": "zHiSQZrY8pf4",
        "colab_type": "code",
        "colab": {
          "base_uri": "https://localhost:8080/",
          "height": 454
        },
        "outputId": "2dd643eb-670a-4542-9e09-5e082a0873ba"
      },
      "source": [
        "from pyspark.sql.functions import rand\n",
        "#df.agg(*(countDistinct(col(c)).alias(c) for c in df.columns))\n",
        "result.orderBy(rand()).limit(120).show()"
      ],
      "execution_count": 99,
      "outputs": [
        {
          "output_type": "stream",
          "text": [
            "+----+----+-------------------+\n",
            "| idA| idB|    JaccardDistance|\n",
            "+----+----+-------------------+\n",
            "|2927|2453|               0.25|\n",
            "|4300|7151|                0.0|\n",
            "|2281| 270|                0.0|\n",
            "|6951|1015|0.33333333333333337|\n",
            "|3845|4923|                0.0|\n",
            "|6721|7382|                0.4|\n",
            "|1280|2518|                0.0|\n",
            "|1697|7310|                0.5|\n",
            "| 130|5280|               0.25|\n",
            "|3854|6440|0.33333333333333337|\n",
            "|7358| 716|                0.5|\n",
            "|3787|2691|                0.0|\n",
            "| 185|6475|                0.5|\n",
            "|4590|3310|                0.0|\n",
            "|4072|7259|                0.5|\n",
            "|7949| 413|                0.0|\n",
            "| 558|1240|                0.4|\n",
            "|3845|7900|                0.5|\n",
            "|3280| 234|               0.25|\n",
            "|3162|3017|                0.0|\n",
            "+----+----+-------------------+\n",
            "only showing top 20 rows\n",
            "\n"
          ],
          "name": "stdout"
        }
      ]
    },
    {
      "cell_type": "code",
      "metadata": {
        "id": "6uHCgT6S_q0w",
        "colab_type": "code",
        "colab": {}
      },
      "source": [
        " "
      ],
      "execution_count": 0,
      "outputs": []
    }
  ]
}