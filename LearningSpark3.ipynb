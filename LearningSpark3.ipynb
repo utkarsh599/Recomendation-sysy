{
  "nbformat": 4,
  "nbformat_minor": 0,
  "metadata": {
    "colab": {
      "name": "LearningSpark3.ipynb",
      "provenance": [],
      "collapsed_sections": [],
      "authorship_tag": "ABX9TyOcu4+OtGcC/n7GIvrCGw6c",
      "include_colab_link": true
    },
    "kernelspec": {
      "name": "python3",
      "display_name": "Python 3"
    }
  },
  "cells": [
    {
      "cell_type": "markdown",
      "metadata": {
        "id": "view-in-github",
        "colab_type": "text"
      },
      "source": [
        "<a href=\"https://colab.research.google.com/github/utkarsh599/Recomendation-sysy/blob/Abhijeet/LearningSpark3.ipynb\" target=\"_parent\"><img src=\"https://colab.research.google.com/assets/colab-badge.svg\" alt=\"Open In Colab\"/></a>"
      ]
    },
    {
      "cell_type": "code",
      "metadata": {
        "id": "RdwTbRskc7_P",
        "colab_type": "code",
        "colab": {}
      },
      "source": [
        "import pandas as pd"
      ],
      "execution_count": 0,
      "outputs": []
    },
    {
      "cell_type": "code",
      "metadata": {
        "id": "D9pVN-FPdBxa",
        "colab_type": "code",
        "outputId": "3842242e-946b-483b-ce6e-881618a83c9c",
        "colab": {
          "base_uri": "https://localhost:8080/",
          "height": 36
        }
      },
      "source": [
        "from google.colab import drive\n",
        "drive.mount('/content/gdrive')"
      ],
      "execution_count": 0,
      "outputs": [
        {
          "output_type": "stream",
          "text": [
            "Drive already mounted at /content/gdrive; to attempt to forcibly remount, call drive.mount(\"/content/gdrive\", force_remount=True).\n"
          ],
          "name": "stdout"
        }
      ]
    },
    {
      "cell_type": "code",
      "metadata": {
        "id": "A7QoVT79dEAW",
        "colab_type": "code",
        "outputId": "d0d54d00-9d51-4c97-b1bc-bc88a365bd9c",
        "colab": {
          "base_uri": "https://localhost:8080/",
          "height": 224
        }
      },
      "source": [
        "GB_category_id=pd.read_csv(\"/content/gdrive/My Drive/Colab Notebooks/GB_category_id.json\")\n",
        "GBcomments=pd.read_csv(\"/content/gdrive/My Drive/Colab Notebooks/GBcomments.csv\",error_bad_lines=False)\n",
        "GBvideos=pd.read_csv(\"/content/gdrive/My Drive/Colab Notebooks/GBvideos.csv\",error_bad_lines=False)\n",
        "US_category=pd.read_csv(\"/content/gdrive/My Drive/Colab Notebooks/US_category_id.json\")\n",
        "UScomments=pd.read_csv(\"/content/gdrive/My Drive/Colab Notebooks/UScomments.csv\",error_bad_lines=False)\n",
        "USvideos=pd.read_csv(\"/content/gdrive/My Drive/Colab Notebooks/USvideos.csv\",error_bad_lines=False)"
      ],
      "execution_count": 0,
      "outputs": [
        {
          "output_type": "stream",
          "text": [
            "b'Skipping line 113225: expected 4 fields, saw 5\\n'\n",
            "b'Skipping line 158379: expected 4 fields, saw 7\\nSkipping line 241590: expected 4 fields, saw 5\\nSkipping line 245637: expected 4 fields, saw 7\\n'\n",
            "b'Skipping line 521402: expected 4 fields, saw 5\\n'\n",
            "b'Skipping line 2398: expected 11 fields, saw 21\\nSkipping line 2797: expected 11 fields, saw 21\\n'\n",
            "b'Skipping line 41589: expected 4 fields, saw 11\\nSkipping line 51628: expected 4 fields, saw 7\\nSkipping line 114465: expected 4 fields, saw 5\\n'\n",
            "b'Skipping line 142496: expected 4 fields, saw 8\\nSkipping line 189732: expected 4 fields, saw 6\\nSkipping line 245218: expected 4 fields, saw 7\\n'\n",
            "b'Skipping line 388430: expected 4 fields, saw 5\\n'\n",
            "/usr/local/lib/python3.6/dist-packages/IPython/core/interactiveshell.py:2718: DtypeWarning: Columns (2,3) have mixed types. Specify dtype option on import or set low_memory=False.\n",
            "  interactivity=interactivity, compiler=compiler, result=result)\n",
            "b'Skipping line 2401: expected 11 fields, saw 21\\nSkipping line 2800: expected 11 fields, saw 21\\nSkipping line 5297: expected 11 fields, saw 12\\nSkipping line 5299: expected 11 fields, saw 12\\nSkipping line 5300: expected 11 fields, saw 12\\nSkipping line 5301: expected 11 fields, saw 12\\n'\n"
          ],
          "name": "stderr"
        }
      ]
    },
    {
      "cell_type": "code",
      "metadata": {
        "id": "MCO6OAqndL0_",
        "colab_type": "code",
        "colab": {}
      },
      "source": [
        "Comments=pd.concat([GBcomments,UScomments],ignore_index=True)\n",
        "Videos=pd.concat([GBvideos,USvideos],ignore_index=True)"
      ],
      "execution_count": 0,
      "outputs": []
    },
    {
      "cell_type": "code",
      "metadata": {
        "id": "hrWv1kp0dOX4",
        "colab_type": "code",
        "colab": {}
      },
      "source": [
        "Comments.comment_text=Comments.comment_text.astype(str)\n",
        "Comments.likes=Comments.likes.astype(str)\n",
        "Comments.replies=Comments.replies.astype(str)"
      ],
      "execution_count": 0,
      "outputs": []
    },
    {
      "cell_type": "code",
      "metadata": {
        "id": "9oBUQ4DQD659",
        "colab_type": "code",
        "colab": {}
      },
      "source": [
        "Comments['comment_text']=Comments['comment_text'].apply(lambda x: x.lower())"
      ],
      "execution_count": 0,
      "outputs": []
    },
    {
      "cell_type": "code",
      "metadata": {
        "id": "GtKHG4Y8Ebr-",
        "colab_type": "code",
        "outputId": "a76ed2ff-6e69-47ea-c1a8-b88d6320ce84",
        "colab": {
          "base_uri": "https://localhost:8080/",
          "height": 206
        }
      },
      "source": [
        "Comments.head(5)"
      ],
      "execution_count": 0,
      "outputs": [
        {
          "output_type": "execute_result",
          "data": {
            "text/html": [
              "<div>\n",
              "<style scoped>\n",
              "    .dataframe tbody tr th:only-of-type {\n",
              "        vertical-align: middle;\n",
              "    }\n",
              "\n",
              "    .dataframe tbody tr th {\n",
              "        vertical-align: top;\n",
              "    }\n",
              "\n",
              "    .dataframe thead th {\n",
              "        text-align: right;\n",
              "    }\n",
              "</style>\n",
              "<table border=\"1\" class=\"dataframe\">\n",
              "  <thead>\n",
              "    <tr style=\"text-align: right;\">\n",
              "      <th></th>\n",
              "      <th>video_id</th>\n",
              "      <th>comment_text</th>\n",
              "      <th>likes</th>\n",
              "      <th>replies</th>\n",
              "    </tr>\n",
              "  </thead>\n",
              "  <tbody>\n",
              "    <tr>\n",
              "      <th>0</th>\n",
              "      <td>jt2OHQh0HoQ</td>\n",
              "      <td>it's more accurate to call it the m+ (1000) be...</td>\n",
              "      <td>0</td>\n",
              "      <td>0</td>\n",
              "    </tr>\n",
              "    <tr>\n",
              "      <th>1</th>\n",
              "      <td>jt2OHQh0HoQ</td>\n",
              "      <td>to be there with a samsung phone\\n😂😂😂</td>\n",
              "      <td>1</td>\n",
              "      <td>0</td>\n",
              "    </tr>\n",
              "    <tr>\n",
              "      <th>2</th>\n",
              "      <td>jt2OHQh0HoQ</td>\n",
              "      <td>thank gosh, a place i can watch it without hav...</td>\n",
              "      <td>0</td>\n",
              "      <td>0</td>\n",
              "    </tr>\n",
              "    <tr>\n",
              "      <th>3</th>\n",
              "      <td>jt2OHQh0HoQ</td>\n",
              "      <td>what happened to the home button on the iphone...</td>\n",
              "      <td>0</td>\n",
              "      <td>0</td>\n",
              "    </tr>\n",
              "    <tr>\n",
              "      <th>4</th>\n",
              "      <td>jt2OHQh0HoQ</td>\n",
              "      <td>power is the disease.  care is the cure.  keep...</td>\n",
              "      <td>0</td>\n",
              "      <td>0</td>\n",
              "    </tr>\n",
              "  </tbody>\n",
              "</table>\n",
              "</div>"
            ],
            "text/plain": [
              "      video_id                                       comment_text likes replies\n",
              "0  jt2OHQh0HoQ  it's more accurate to call it the m+ (1000) be...     0       0\n",
              "1  jt2OHQh0HoQ              to be there with a samsung phone\\n😂😂😂     1       0\n",
              "2  jt2OHQh0HoQ  thank gosh, a place i can watch it without hav...     0       0\n",
              "3  jt2OHQh0HoQ  what happened to the home button on the iphone...     0       0\n",
              "4  jt2OHQh0HoQ  power is the disease.  care is the cure.  keep...     0       0"
            ]
          },
          "metadata": {
            "tags": []
          },
          "execution_count": 15
        }
      ]
    },
    {
      "cell_type": "code",
      "metadata": {
        "id": "jMNsYsRldQiw",
        "colab_type": "code",
        "outputId": "e29d0569-376f-4912-f176-d0bf33469bcb",
        "colab": {
          "base_uri": "https://localhost:8080/",
          "height": 54
        }
      },
      "source": [
        "pip install pyspark"
      ],
      "execution_count": 0,
      "outputs": [
        {
          "output_type": "stream",
          "text": [
            "Requirement already satisfied: pyspark in /usr/local/lib/python3.6/dist-packages (2.4.4)\n",
            "Requirement already satisfied: py4j==0.10.7 in /usr/local/lib/python3.6/dist-packages (from pyspark) (0.10.7)\n"
          ],
          "name": "stdout"
        }
      ]
    },
    {
      "cell_type": "code",
      "metadata": {
        "id": "6dP8xHkHdSr2",
        "colab_type": "code",
        "outputId": "15085474-c159-4847-f2be-ad39d42acdbb",
        "colab": {
          "base_uri": "https://localhost:8080/",
          "height": 223
        }
      },
      "source": [
        "from pyspark import SparkConf, SparkContext\n",
        "from pyspark.sql import SQLContext\n",
        "\n",
        "conf = SparkConf().setAppName(\"Pyspark basics\")\n",
        "sc = SparkContext(conf=conf)\n",
        "sqlCtx = SQLContext(sc)\n",
        "\n",
        "sdf=sqlCtx.createDataFrame(Comments) \n",
        "\n",
        "sdf.show(5)\n"
      ],
      "execution_count": 0,
      "outputs": [
        {
          "output_type": "stream",
          "text": [
            "+-----------+--------------------+-----+-------+\n",
            "|   video_id|        comment_text|likes|replies|\n",
            "+-----------+--------------------+-----+-------+\n",
            "|jt2OHQh0HoQ|it's more accurat...|    0|      0|\n",
            "|jt2OHQh0HoQ|to be there with ...|    1|      0|\n",
            "|jt2OHQh0HoQ|thank gosh, a pla...|    0|      0|\n",
            "|jt2OHQh0HoQ|what happened to ...|    0|      0|\n",
            "|jt2OHQh0HoQ|power is the dise...|    0|      0|\n",
            "+-----------+--------------------+-----+-------+\n",
            "only showing top 5 rows\n",
            "\n"
          ],
          "name": "stdout"
        }
      ]
    },
    {
      "cell_type": "code",
      "metadata": {
        "id": "SkqmfrvndZjY",
        "colab_type": "code",
        "outputId": "f34cbc90-ea61-46f3-cf7a-50117a4672f4",
        "colab": {
          "base_uri": "https://localhost:8080/",
          "height": 223
        }
      },
      "source": [
        "sdf=sqlCtx.createDataFrame(Comments) \n",
        "\n",
        "sdf.show(5)"
      ],
      "execution_count": 0,
      "outputs": [
        {
          "output_type": "stream",
          "text": [
            "+-----------+--------------------+-----+-------+\n",
            "|   video_id|        comment_text|likes|replies|\n",
            "+-----------+--------------------+-----+-------+\n",
            "|jt2OHQh0HoQ|it's more accurat...|    0|      0|\n",
            "|jt2OHQh0HoQ|to be there with ...|    1|      0|\n",
            "|jt2OHQh0HoQ|thank gosh, a pla...|    0|      0|\n",
            "|jt2OHQh0HoQ|what happened to ...|    0|      0|\n",
            "|jt2OHQh0HoQ|power is the dise...|    0|      0|\n",
            "+-----------+--------------------+-----+-------+\n",
            "only showing top 5 rows\n",
            "\n"
          ],
          "name": "stdout"
        }
      ]
    },
    {
      "cell_type": "code",
      "metadata": {
        "id": "ishY8ZlgeEH_",
        "colab_type": "code",
        "outputId": "3cbc407d-8541-47e9-85cb-b38c9b392406",
        "colab": {
          "base_uri": "https://localhost:8080/",
          "height": 36
        }
      },
      "source": [
        "type(sdf)"
      ],
      "execution_count": 0,
      "outputs": [
        {
          "output_type": "execute_result",
          "data": {
            "text/plain": [
              "pyspark.sql.dataframe.DataFrame"
            ]
          },
          "metadata": {
            "tags": []
          },
          "execution_count": 10
        }
      ]
    },
    {
      "cell_type": "code",
      "metadata": {
        "id": "NPlfy32tWT2-",
        "colab_type": "code",
        "colab": {}
      },
      "source": [
        "#from pyspark.sql import SparkSession"
      ],
      "execution_count": 0,
      "outputs": []
    },
    {
      "cell_type": "code",
      "metadata": {
        "id": "zAUJTVXQe7xx",
        "colab_type": "code",
        "colab": {}
      },
      "source": [
        "#spark = SparkSession.builder.master(\"local\").appName(\"Tokenization\").config(conf=SparkConf()).getOrCreate()"
      ],
      "execution_count": 0,
      "outputs": []
    },
    {
      "cell_type": "code",
      "metadata": {
        "id": "eI-w1fxRiDMk",
        "colab_type": "code",
        "colab": {}
      },
      "source": [
        "from pyspark.ml.feature import HashingTF, Tokenizer\n",
        "from pyspark.ml import Pipeline"
      ],
      "execution_count": 0,
      "outputs": []
    },
    {
      "cell_type": "code",
      "metadata": {
        "id": "AGjcZI4uGn8t",
        "colab_type": "code",
        "colab": {}
      },
      "source": [
        "tokenizer = Tokenizer(inputCol=\"comment_text\", outputCol=\"Tokenized_comments\")"
      ],
      "execution_count": 0,
      "outputs": []
    },
    {
      "cell_type": "code",
      "metadata": {
        "id": "evX9CrvuGhSk",
        "colab_type": "code",
        "colab": {}
      },
      "source": [
        "sdf_1=tokenizer.transform(sdf)"
      ],
      "execution_count": 0,
      "outputs": []
    },
    {
      "cell_type": "code",
      "metadata": {
        "id": "GA85uv4SICRN",
        "colab_type": "code",
        "outputId": "c380d5c3-8315-4060-825a-97d46cdd3144",
        "colab": {
          "base_uri": "https://localhost:8080/",
          "height": 56
        }
      },
      "source": [
        "sdf_1.show()"
      ],
      "execution_count": 0,
      "outputs": [
        {
          "output_type": "execute_result",
          "data": {
            "text/plain": [
              "Row(video_id='jt2OHQh0HoQ', comment_text=\"it's more accurate to call it the m+ (1000) because the price is closer than calling it the x (10).\", likes='0', replies='0', Tokenized_comments=[\"it's\", 'more', 'accurate', 'to', 'call', 'it', 'the', 'm+', '(1000)', 'because', 'the', 'price', 'is', 'closer', 'than', 'calling', 'it', 'the', 'x', '(10).'])"
            ]
          },
          "metadata": {
            "tags": []
          },
          "execution_count": 43
        }
      ]
    },
    {
      "cell_type": "code",
      "metadata": {
        "id": "iF-DMgQiiXgF",
        "colab_type": "code",
        "colab": {}
      },
      "source": [
        "\n",
        "# hashingTF = HashingTF(inputCol=tokenizer.getOutputCol(), outputCol=\"features\")\n",
        "# pipeline = Pipeline(stages=[tokenizer, hashingTF])"
      ],
      "execution_count": 0,
      "outputs": []
    },
    {
      "cell_type": "code",
      "metadata": {
        "id": "Qmm-9CeIFpqu",
        "colab_type": "code",
        "colab": {}
      },
      "source": [
        "# model = pipeline.fit(Comments)"
      ],
      "execution_count": 0,
      "outputs": []
    },
    {
      "cell_type": "code",
      "metadata": {
        "id": "yPbffp37oXxW",
        "colab_type": "code",
        "outputId": "5c784d6d-dc5b-4515-e128-0c6c8a118966",
        "colab": {
          "base_uri": "https://localhost:8080/",
          "height": 223
        }
      },
      "source": [
        "#sdf.show(5)"
      ],
      "execution_count": 0,
      "outputs": [
        {
          "output_type": "stream",
          "text": [
            "+-----------+--------------------+-----+-------+\n",
            "|   video_id|        comment_text|likes|replies|\n",
            "+-----------+--------------------+-----+-------+\n",
            "|jt2OHQh0HoQ|it's more accurat...|    0|      0|\n",
            "|jt2OHQh0HoQ|to be there with ...|    1|      0|\n",
            "|jt2OHQh0HoQ|thank gosh, a pla...|    0|      0|\n",
            "|jt2OHQh0HoQ|what happened to ...|    0|      0|\n",
            "|jt2OHQh0HoQ|power is the dise...|    0|      0|\n",
            "+-----------+--------------------+-----+-------+\n",
            "only showing top 5 rows\n",
            "\n"
          ],
          "name": "stdout"
        }
      ]
    },
    {
      "cell_type": "code",
      "metadata": {
        "id": "4adf_sq3leCS",
        "colab_type": "code",
        "colab": {}
      },
      "source": [
        ""
      ],
      "execution_count": 0,
      "outputs": []
    }
  ]
}